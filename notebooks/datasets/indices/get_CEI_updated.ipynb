{
 "cells": [
  {
   "cell_type": "markdown",
   "metadata": {},
   "source": [
    "# calculates the CEI and determine the category of each season (3m running averages for the SOI, 5m running averages for NINO3.4)"
   ]
  },
  {
   "cell_type": "markdown",
   "metadata": {},
   "source": [
    "### [Nicolas Fauchereau](mailto:Nicolas.Fauchereau@niwa.co.nz)"
   ]
  },
  {
   "cell_type": "code",
   "execution_count": 70,
   "metadata": {},
   "outputs": [],
   "source": [
    "%matplotlib inline\n",
    "from matplotlib import pyplot as plt"
   ]
  },
  {
   "cell_type": "code",
   "execution_count": 71,
   "metadata": {},
   "outputs": [],
   "source": [
    "import sys"
   ]
  },
  {
   "cell_type": "code",
   "execution_count": 72,
   "metadata": {},
   "outputs": [],
   "source": [
    "import pandas as pd\n",
    "import numpy as np\n",
    "import requests\n",
    "import urllib.request, urllib.error, urllib.parse\n",
    "from dateutil import parser as dparser\n",
    "from datetime import datetime, timedelta\n",
    "import subprocess"
   ]
  },
  {
   "cell_type": "code",
   "execution_count": 73,
   "metadata": {},
   "outputs": [],
   "source": [
    "clim_start = 1981\n",
    "clim_end = 2010"
   ]
  },
  {
   "cell_type": "code",
   "execution_count": 74,
   "metadata": {},
   "outputs": [],
   "source": [
    "def get_BOM_MSLP(station='tahiti'):\n",
    "    url = \"ftp://ftp.bom.gov.au/anon/home/ncc/www/sco/soi/{}mslp.html\".format(station)\n",
    "    req = urllib.request.Request(url)\n",
    "\n",
    "    r = urllib.request.urlopen(req)\n",
    "\n",
    "    data = r.read()\n",
    "\n",
    "    data = data.splitlines()\n",
    "\n",
    "    fout = open('./{}_text'.format(station), 'w')\n",
    "    if station == 'tahiti':\n",
    "        data = data[15:-1]\n",
    "    else:\n",
    "        data = data[14:-1]\n",
    "    data = [x.decode('utf-8') for x in data]\n",
    "    data = [x+'\\n' for x in data]\n",
    "    fout.writelines(data)\n",
    "    fout.close()\n",
    "    data = pd.read_table('./{}_text'.format(station),sep='\\s+', engine='python', na_values='*', index_col=['Year'])\n",
    "    subprocess.Popen([\"rm {}*\".format(station)], shell=True, stdout=True).communicate()\n",
    "    return(data)"
   ]
  },
  {
   "cell_type": "code",
   "execution_count": 75,
   "metadata": {},
   "outputs": [],
   "source": [
    "# urllib2proxy = urllib.request.ProxyHandler(proxies)\n",
    "# opener = urllib.request.build_opener(urllib2proxy)\n",
    "# urllib.request.install_opener(opener)"
   ]
  },
  {
   "cell_type": "markdown",
   "metadata": {},
   "source": [
    "### get TAHITI MSLP"
   ]
  },
  {
   "cell_type": "code",
   "execution_count": 76,
   "metadata": {},
   "outputs": [],
   "source": [
    "tahitidf = get_BOM_MSLP(station='tahiti')"
   ]
  },
  {
   "cell_type": "code",
   "execution_count": 77,
   "metadata": {},
   "outputs": [
    {
     "data": {
      "text/html": [
       "<div>\n",
       "<style scoped>\n",
       "    .dataframe tbody tr th:only-of-type {\n",
       "        vertical-align: middle;\n",
       "    }\n",
       "\n",
       "    .dataframe tbody tr th {\n",
       "        vertical-align: top;\n",
       "    }\n",
       "\n",
       "    .dataframe thead th {\n",
       "        text-align: right;\n",
       "    }\n",
       "</style>\n",
       "<table border=\"1\" class=\"dataframe\">\n",
       "  <thead>\n",
       "    <tr style=\"text-align: right;\">\n",
       "      <th></th>\n",
       "      <th>Jan</th>\n",
       "      <th>Feb</th>\n",
       "      <th>Mar</th>\n",
       "      <th>Apr</th>\n",
       "      <th>May</th>\n",
       "      <th>Jun</th>\n",
       "      <th>Jul</th>\n",
       "      <th>Aug</th>\n",
       "      <th>Sep</th>\n",
       "      <th>Oct</th>\n",
       "      <th>Nov</th>\n",
       "      <th>Dec</th>\n",
       "    </tr>\n",
       "    <tr>\n",
       "      <th>Year</th>\n",
       "      <th></th>\n",
       "      <th></th>\n",
       "      <th></th>\n",
       "      <th></th>\n",
       "      <th></th>\n",
       "      <th></th>\n",
       "      <th></th>\n",
       "      <th></th>\n",
       "      <th></th>\n",
       "      <th></th>\n",
       "      <th></th>\n",
       "      <th></th>\n",
       "    </tr>\n",
       "  </thead>\n",
       "  <tbody>\n",
       "    <tr>\n",
       "      <th>2019</th>\n",
       "      <td>1011.1</td>\n",
       "      <td>1010.7</td>\n",
       "      <td>1011.1</td>\n",
       "      <td>1012.3</td>\n",
       "      <td>1012.8</td>\n",
       "      <td>1013.7</td>\n",
       "      <td>1014.3</td>\n",
       "      <td>1015.3</td>\n",
       "      <td>1014.8</td>\n",
       "      <td>1013.4</td>\n",
       "      <td>1011.2</td>\n",
       "      <td>1010.8</td>\n",
       "    </tr>\n",
       "    <tr>\n",
       "      <th>2020</th>\n",
       "      <td>1011.9</td>\n",
       "      <td>1011.5</td>\n",
       "      <td>1012.1</td>\n",
       "      <td>1012.8</td>\n",
       "      <td>1014.4</td>\n",
       "      <td>1012.9</td>\n",
       "      <td>1014.3</td>\n",
       "      <td>1015.7</td>\n",
       "      <td>1015.7</td>\n",
       "      <td>1013.6</td>\n",
       "      <td>1013.3</td>\n",
       "      <td>1013.3</td>\n",
       "    </tr>\n",
       "    <tr>\n",
       "      <th>2021</th>\n",
       "      <td>1013.5</td>\n",
       "      <td>1012.0</td>\n",
       "      <td>1012.0</td>\n",
       "      <td>1012.3</td>\n",
       "      <td>1013.4</td>\n",
       "      <td>1014.6</td>\n",
       "      <td>1015.7</td>\n",
       "      <td>1015.7</td>\n",
       "      <td>1015.9</td>\n",
       "      <td>1013.7</td>\n",
       "      <td>1013.1</td>\n",
       "      <td>1012.7</td>\n",
       "    </tr>\n",
       "    <tr>\n",
       "      <th>2022</th>\n",
       "      <td>1011.8</td>\n",
       "      <td>1013.2</td>\n",
       "      <td>1014.0</td>\n",
       "      <td>1013.6</td>\n",
       "      <td>1014.3</td>\n",
       "      <td>1015.5</td>\n",
       "      <td>1015.4</td>\n",
       "      <td>1015.3</td>\n",
       "      <td>1016.7</td>\n",
       "      <td>1015.1</td>\n",
       "      <td>1012.2</td>\n",
       "      <td>1013.0</td>\n",
       "    </tr>\n",
       "    <tr>\n",
       "      <th>2023</th>\n",
       "      <td>1012.9</td>\n",
       "      <td>1012.1</td>\n",
       "      <td>1012.0</td>\n",
       "      <td>1011.5</td>\n",
       "      <td>1012.4</td>\n",
       "      <td>NaN</td>\n",
       "      <td>NaN</td>\n",
       "      <td>NaN</td>\n",
       "      <td>NaN</td>\n",
       "      <td>NaN</td>\n",
       "      <td>NaN</td>\n",
       "      <td>NaN</td>\n",
       "    </tr>\n",
       "  </tbody>\n",
       "</table>\n",
       "</div>"
      ],
      "text/plain": [
       "         Jan     Feb     Mar     Apr     May     Jun     Jul     Aug     Sep  \\\n",
       "Year                                                                           \n",
       "2019  1011.1  1010.7  1011.1  1012.3  1012.8  1013.7  1014.3  1015.3  1014.8   \n",
       "2020  1011.9  1011.5  1012.1  1012.8  1014.4  1012.9  1014.3  1015.7  1015.7   \n",
       "2021  1013.5  1012.0  1012.0  1012.3  1013.4  1014.6  1015.7  1015.7  1015.9   \n",
       "2022  1011.8  1013.2  1014.0  1013.6  1014.3  1015.5  1015.4  1015.3  1016.7   \n",
       "2023  1012.9  1012.1  1012.0  1011.5  1012.4     NaN     NaN     NaN     NaN   \n",
       "\n",
       "         Oct     Nov     Dec  \n",
       "Year                          \n",
       "2019  1013.4  1011.2  1010.8  \n",
       "2020  1013.6  1013.3  1013.3  \n",
       "2021  1013.7  1013.1  1012.7  \n",
       "2022  1015.1  1012.2  1013.0  \n",
       "2023     NaN     NaN     NaN  "
      ]
     },
     "execution_count": 77,
     "metadata": {},
     "output_type": "execute_result"
    }
   ],
   "source": [
    "tahitidf.tail()"
   ]
  },
  {
   "cell_type": "markdown",
   "metadata": {},
   "source": [
    "### get DARWIN MSLP"
   ]
  },
  {
   "cell_type": "code",
   "execution_count": 78,
   "metadata": {},
   "outputs": [],
   "source": [
    "darwindf = get_BOM_MSLP(station='darwin')"
   ]
  },
  {
   "cell_type": "code",
   "execution_count": 79,
   "metadata": {},
   "outputs": [
    {
     "data": {
      "text/html": [
       "<div>\n",
       "<style scoped>\n",
       "    .dataframe tbody tr th:only-of-type {\n",
       "        vertical-align: middle;\n",
       "    }\n",
       "\n",
       "    .dataframe tbody tr th {\n",
       "        vertical-align: top;\n",
       "    }\n",
       "\n",
       "    .dataframe thead th {\n",
       "        text-align: right;\n",
       "    }\n",
       "</style>\n",
       "<table border=\"1\" class=\"dataframe\">\n",
       "  <thead>\n",
       "    <tr style=\"text-align: right;\">\n",
       "      <th></th>\n",
       "      <th>Jan</th>\n",
       "      <th>Feb</th>\n",
       "      <th>Mar</th>\n",
       "      <th>Apr</th>\n",
       "      <th>May</th>\n",
       "      <th>Jun</th>\n",
       "      <th>Jul</th>\n",
       "      <th>Aug</th>\n",
       "      <th>Sep</th>\n",
       "      <th>Oct</th>\n",
       "      <th>Nov</th>\n",
       "      <th>Dec</th>\n",
       "    </tr>\n",
       "    <tr>\n",
       "      <th>Year</th>\n",
       "      <th></th>\n",
       "      <th></th>\n",
       "      <th></th>\n",
       "      <th></th>\n",
       "      <th></th>\n",
       "      <th></th>\n",
       "      <th></th>\n",
       "      <th></th>\n",
       "      <th></th>\n",
       "      <th></th>\n",
       "      <th></th>\n",
       "      <th></th>\n",
       "    </tr>\n",
       "  </thead>\n",
       "  <tbody>\n",
       "    <tr>\n",
       "      <th>2019</th>\n",
       "      <td>1006.8</td>\n",
       "      <td>1009.0</td>\n",
       "      <td>1008.4</td>\n",
       "      <td>1010.1</td>\n",
       "      <td>1012.3</td>\n",
       "      <td>1013.8</td>\n",
       "      <td>1014.2</td>\n",
       "      <td>1014.3</td>\n",
       "      <td>1014.5</td>\n",
       "      <td>1011.4</td>\n",
       "      <td>1009.7</td>\n",
       "      <td>1008.4</td>\n",
       "    </tr>\n",
       "    <tr>\n",
       "      <th>2020</th>\n",
       "      <td>1007.2</td>\n",
       "      <td>1007.4</td>\n",
       "      <td>1009.1</td>\n",
       "      <td>1010.5</td>\n",
       "      <td>1012.4</td>\n",
       "      <td>1012.9</td>\n",
       "      <td>1012.7</td>\n",
       "      <td>1012.5</td>\n",
       "      <td>1011.6</td>\n",
       "      <td>1010.0</td>\n",
       "      <td>1009.0</td>\n",
       "      <td>1006.5</td>\n",
       "    </tr>\n",
       "    <tr>\n",
       "      <th>2021</th>\n",
       "      <td>1005.6</td>\n",
       "      <td>1005.0</td>\n",
       "      <td>1008.1</td>\n",
       "      <td>1009.7</td>\n",
       "      <td>1011.3</td>\n",
       "      <td>1013.1</td>\n",
       "      <td>1012.3</td>\n",
       "      <td>1013.3</td>\n",
       "      <td>1012.0</td>\n",
       "      <td>1009.7</td>\n",
       "      <td>1008.3</td>\n",
       "      <td>1006.5</td>\n",
       "    </tr>\n",
       "    <tr>\n",
       "      <th>2022</th>\n",
       "      <td>1006.5</td>\n",
       "      <td>1006.9</td>\n",
       "      <td>1007.5</td>\n",
       "      <td>1008.5</td>\n",
       "      <td>1010.4</td>\n",
       "      <td>1011.7</td>\n",
       "      <td>1013.1</td>\n",
       "      <td>1012.2</td>\n",
       "      <td>1011.3</td>\n",
       "      <td>1009.3</td>\n",
       "      <td>1008.6</td>\n",
       "      <td>1005.6</td>\n",
       "    </tr>\n",
       "    <tr>\n",
       "      <th>2023</th>\n",
       "      <td>1006.0</td>\n",
       "      <td>1005.3</td>\n",
       "      <td>1008.4</td>\n",
       "      <td>1009.1</td>\n",
       "      <td>1013.1</td>\n",
       "      <td>NaN</td>\n",
       "      <td>NaN</td>\n",
       "      <td>NaN</td>\n",
       "      <td>NaN</td>\n",
       "      <td>NaN</td>\n",
       "      <td>NaN</td>\n",
       "      <td>NaN</td>\n",
       "    </tr>\n",
       "  </tbody>\n",
       "</table>\n",
       "</div>"
      ],
      "text/plain": [
       "         Jan     Feb     Mar     Apr     May     Jun     Jul     Aug     Sep  \\\n",
       "Year                                                                           \n",
       "2019  1006.8  1009.0  1008.4  1010.1  1012.3  1013.8  1014.2  1014.3  1014.5   \n",
       "2020  1007.2  1007.4  1009.1  1010.5  1012.4  1012.9  1012.7  1012.5  1011.6   \n",
       "2021  1005.6  1005.0  1008.1  1009.7  1011.3  1013.1  1012.3  1013.3  1012.0   \n",
       "2022  1006.5  1006.9  1007.5  1008.5  1010.4  1011.7  1013.1  1012.2  1011.3   \n",
       "2023  1006.0  1005.3  1008.4  1009.1  1013.1     NaN     NaN     NaN     NaN   \n",
       "\n",
       "         Oct     Nov     Dec  \n",
       "Year                          \n",
       "2019  1011.4  1009.7  1008.4  \n",
       "2020  1010.0  1009.0  1006.5  \n",
       "2021  1009.7  1008.3  1006.5  \n",
       "2022  1009.3  1008.6  1005.6  \n",
       "2023     NaN     NaN     NaN  "
      ]
     },
     "execution_count": 79,
     "metadata": {},
     "output_type": "execute_result"
    }
   ],
   "source": [
    "darwindf.tail()"
   ]
  },
  {
   "cell_type": "code",
   "execution_count": 80,
   "metadata": {},
   "outputs": [],
   "source": [
    "\"\"\"\n",
    "climatological period\n",
    "\"\"\"\n",
    "clim_start = clim_start\n",
    "clim_end = clim_end\n",
    "clim = \"{}_{}\".format(clim_start, clim_end)"
   ]
  },
  {
   "cell_type": "markdown",
   "metadata": {},
   "source": [
    "### calculates the SOI according to the Troup (1965) method"
   ]
  },
  {
   "cell_type": "markdown",
   "metadata": {},
   "source": [
    "If T and D are the monthly pressures at Tahiti and Darwin, respectively, and Tc and Dc the climatological monthly pressures, then: \n",
    "```\n",
    "SOI    =   [ (T – Tc) – (D – Dc) ]  /  [ StDev (T – D)  ]\n",
    "```\n",
    "\n",
    "The reference is: \n",
    "\n",
    "**Troup, A.J,, 1965: The Southern Oscillation. Quarterly Journal of Royal Meteorological\n",
    "Society 91, 490-506.**"
   ]
  },
  {
   "cell_type": "code",
   "execution_count": 81,
   "metadata": {},
   "outputs": [],
   "source": [
    "### ==============================================================================================================\n",
    "tahiti_cli = tahitidf.loc[clim_start:clim_end,:]\n",
    "darwin_cli = darwindf.loc[clim_start:clim_end,:]\n",
    "\n",
    "tahiti_mean = tahiti_cli.mean(0)\n",
    "darwin_mean = darwin_cli.mean(0)\n",
    "### ==============================================================================================================\n",
    "\n",
    "### ==============================================================================================================\n",
    "### Step 3: calculate the SOI\n",
    "soi = ((tahitidf - tahiti_mean) - (darwindf - darwin_mean)) / ((tahiti_cli -  darwin_cli).std(0))"
   ]
  },
  {
   "cell_type": "code",
   "execution_count": 82,
   "metadata": {},
   "outputs": [
    {
     "data": {
      "text/html": [
       "<div>\n",
       "<style scoped>\n",
       "    .dataframe tbody tr th:only-of-type {\n",
       "        vertical-align: middle;\n",
       "    }\n",
       "\n",
       "    .dataframe tbody tr th {\n",
       "        vertical-align: top;\n",
       "    }\n",
       "\n",
       "    .dataframe thead th {\n",
       "        text-align: right;\n",
       "    }\n",
       "</style>\n",
       "<table border=\"1\" class=\"dataframe\">\n",
       "  <thead>\n",
       "    <tr style=\"text-align: right;\">\n",
       "      <th></th>\n",
       "      <th>Jan</th>\n",
       "      <th>Feb</th>\n",
       "      <th>Mar</th>\n",
       "      <th>Apr</th>\n",
       "      <th>May</th>\n",
       "      <th>Jun</th>\n",
       "      <th>Jul</th>\n",
       "      <th>Aug</th>\n",
       "      <th>Sep</th>\n",
       "      <th>Oct</th>\n",
       "      <th>Nov</th>\n",
       "      <th>Dec</th>\n",
       "    </tr>\n",
       "    <tr>\n",
       "      <th>Year</th>\n",
       "      <th></th>\n",
       "      <th></th>\n",
       "      <th></th>\n",
       "      <th></th>\n",
       "      <th></th>\n",
       "      <th></th>\n",
       "      <th></th>\n",
       "      <th></th>\n",
       "      <th></th>\n",
       "      <th></th>\n",
       "      <th></th>\n",
       "      <th></th>\n",
       "    </tr>\n",
       "  </thead>\n",
       "  <tbody>\n",
       "    <tr>\n",
       "      <th>1876</th>\n",
       "      <td>1.022749</td>\n",
       "      <td>0.989125</td>\n",
       "      <td>0.377561</td>\n",
       "      <td>0.927624</td>\n",
       "      <td>0.963654</td>\n",
       "      <td>2.121875</td>\n",
       "      <td>-0.481909</td>\n",
       "      <td>1.461516</td>\n",
       "      <td>0.961180</td>\n",
       "      <td>-0.591596</td>\n",
       "      <td>-0.259023</td>\n",
       "      <td>-0.246954</td>\n",
       "    </tr>\n",
       "    <tr>\n",
       "      <th>1877</th>\n",
       "      <td>-0.799152</td>\n",
       "      <td>-0.369698</td>\n",
       "      <td>-0.059956</td>\n",
       "      <td>-0.454796</td>\n",
       "      <td>0.655285</td>\n",
       "      <td>-1.314581</td>\n",
       "      <td>-0.959272</td>\n",
       "      <td>-0.498059</td>\n",
       "      <td>-1.624450</td>\n",
       "      <td>-1.321730</td>\n",
       "      <td>-1.135417</td>\n",
       "      <td>-1.143538</td>\n",
       "    </tr>\n",
       "    <tr>\n",
       "      <th>1878</th>\n",
       "      <td>-0.716338</td>\n",
       "      <td>-1.508170</td>\n",
       "      <td>-1.032216</td>\n",
       "      <td>-0.394691</td>\n",
       "      <td>0.501100</td>\n",
       "      <td>0.076366</td>\n",
       "      <td>1.768516</td>\n",
       "      <td>1.522753</td>\n",
       "      <td>1.635692</td>\n",
       "      <td>1.149493</td>\n",
       "      <td>1.318485</td>\n",
       "      <td>1.687780</td>\n",
       "    </tr>\n",
       "    <tr>\n",
       "      <th>1879</th>\n",
       "      <td>1.146969</td>\n",
       "      <td>1.246199</td>\n",
       "      <td>1.544273</td>\n",
       "      <td>1.168045</td>\n",
       "      <td>0.501100</td>\n",
       "      <td>2.040055</td>\n",
       "      <td>2.382268</td>\n",
       "      <td>2.441304</td>\n",
       "      <td>1.748110</td>\n",
       "      <td>1.542643</td>\n",
       "      <td>0.851076</td>\n",
       "      <td>-0.482897</td>\n",
       "    </tr>\n",
       "    <tr>\n",
       "      <th>1880</th>\n",
       "      <td>0.981342</td>\n",
       "      <td>0.732050</td>\n",
       "      <td>1.641499</td>\n",
       "      <td>0.627098</td>\n",
       "      <td>1.503301</td>\n",
       "      <td>1.303671</td>\n",
       "      <td>0.268232</td>\n",
       "      <td>1.645226</td>\n",
       "      <td>0.736342</td>\n",
       "      <td>0.587852</td>\n",
       "      <td>0.617371</td>\n",
       "      <td>-0.152577</td>\n",
       "    </tr>\n",
       "  </tbody>\n",
       "</table>\n",
       "</div>"
      ],
      "text/plain": [
       "           Jan       Feb       Mar       Apr       May       Jun       Jul  \\\n",
       "Year                                                                         \n",
       "1876  1.022749  0.989125  0.377561  0.927624  0.963654  2.121875 -0.481909   \n",
       "1877 -0.799152 -0.369698 -0.059956 -0.454796  0.655285 -1.314581 -0.959272   \n",
       "1878 -0.716338 -1.508170 -1.032216 -0.394691  0.501100  0.076366  1.768516   \n",
       "1879  1.146969  1.246199  1.544273  1.168045  0.501100  2.040055  2.382268   \n",
       "1880  0.981342  0.732050  1.641499  0.627098  1.503301  1.303671  0.268232   \n",
       "\n",
       "           Aug       Sep       Oct       Nov       Dec  \n",
       "Year                                                    \n",
       "1876  1.461516  0.961180 -0.591596 -0.259023 -0.246954  \n",
       "1877 -0.498059 -1.624450 -1.321730 -1.135417 -1.143538  \n",
       "1878  1.522753  1.635692  1.149493  1.318485  1.687780  \n",
       "1879  2.441304  1.748110  1.542643  0.851076 -0.482897  \n",
       "1880  1.645226  0.736342  0.587852  0.617371 -0.152577  "
      ]
     },
     "execution_count": 82,
     "metadata": {},
     "output_type": "execute_result"
    }
   ],
   "source": [
    "soi.head()"
   ]
  },
  {
   "cell_type": "code",
   "execution_count": 83,
   "metadata": {},
   "outputs": [],
   "source": [
    "### stack everything vertically and add a proper datetime index\n",
    "ts_soi = pd.DataFrame(soi.stack())\n",
    "\n",
    "dates = []\n",
    "for i in range(len(ts_soi)):\n",
    "    dates.append(dparser.parse(\"{}-{}-1\".format(ts_soi.index.get_level_values(0)[i], ts_soi.index.get_level_values(1)[i])))\n",
    "\n",
    "ts_soi.index = dates\n",
    "ts_soi.columns = ['soi']"
   ]
  },
  {
   "cell_type": "code",
   "execution_count": 84,
   "metadata": {},
   "outputs": [
    {
     "data": {
      "text/html": [
       "<div>\n",
       "<style scoped>\n",
       "    .dataframe tbody tr th:only-of-type {\n",
       "        vertical-align: middle;\n",
       "    }\n",
       "\n",
       "    .dataframe tbody tr th {\n",
       "        vertical-align: top;\n",
       "    }\n",
       "\n",
       "    .dataframe thead th {\n",
       "        text-align: right;\n",
       "    }\n",
       "</style>\n",
       "<table border=\"1\" class=\"dataframe\">\n",
       "  <thead>\n",
       "    <tr style=\"text-align: right;\">\n",
       "      <th></th>\n",
       "      <th>soi</th>\n",
       "    </tr>\n",
       "  </thead>\n",
       "  <tbody>\n",
       "    <tr>\n",
       "      <th>2023-01-01</th>\n",
       "      <td>1.064156</td>\n",
       "    </tr>\n",
       "    <tr>\n",
       "      <th>2023-02-01</th>\n",
       "      <td>0.952400</td>\n",
       "    </tr>\n",
       "    <tr>\n",
       "      <th>2023-03-01</th>\n",
       "      <td>0.183109</td>\n",
       "    </tr>\n",
       "    <tr>\n",
       "      <th>2023-04-01</th>\n",
       "      <td>0.266467</td>\n",
       "    </tr>\n",
       "    <tr>\n",
       "      <th>2023-05-01</th>\n",
       "      <td>-1.503301</td>\n",
       "    </tr>\n",
       "  </tbody>\n",
       "</table>\n",
       "</div>"
      ],
      "text/plain": [
       "                 soi\n",
       "2023-01-01  1.064156\n",
       "2023-02-01  0.952400\n",
       "2023-03-01  0.183109\n",
       "2023-04-01  0.266467\n",
       "2023-05-01 -1.503301"
      ]
     },
     "execution_count": 84,
     "metadata": {},
     "output_type": "execute_result"
    }
   ],
   "source": [
    "ts_soi.tail()"
   ]
  },
  {
   "cell_type": "markdown",
   "metadata": {},
   "source": [
    "### keep 1950 onwards only"
   ]
  },
  {
   "cell_type": "code",
   "execution_count": 85,
   "metadata": {},
   "outputs": [],
   "source": [
    "ts_soi = ts_soi.loc['1948':]"
   ]
  },
  {
   "cell_type": "code",
   "execution_count": 86,
   "metadata": {},
   "outputs": [
    {
     "data": {
      "text/html": [
       "<div>\n",
       "<style scoped>\n",
       "    .dataframe tbody tr th:only-of-type {\n",
       "        vertical-align: middle;\n",
       "    }\n",
       "\n",
       "    .dataframe tbody tr th {\n",
       "        vertical-align: top;\n",
       "    }\n",
       "\n",
       "    .dataframe thead th {\n",
       "        text-align: right;\n",
       "    }\n",
       "</style>\n",
       "<table border=\"1\" class=\"dataframe\">\n",
       "  <thead>\n",
       "    <tr style=\"text-align: right;\">\n",
       "      <th></th>\n",
       "      <th>soi</th>\n",
       "    </tr>\n",
       "  </thead>\n",
       "  <tbody>\n",
       "    <tr>\n",
       "      <th>1948-01-01</th>\n",
       "      <td>-0.219456</td>\n",
       "    </tr>\n",
       "    <tr>\n",
       "      <th>1948-02-01</th>\n",
       "      <td>-0.075898</td>\n",
       "    </tr>\n",
       "    <tr>\n",
       "      <th>1948-03-01</th>\n",
       "      <td>-0.011343</td>\n",
       "    </tr>\n",
       "    <tr>\n",
       "      <th>1948-04-01</th>\n",
       "      <td>0.446782</td>\n",
       "    </tr>\n",
       "    <tr>\n",
       "      <th>1948-05-01</th>\n",
       "      <td>0.655285</td>\n",
       "    </tr>\n",
       "  </tbody>\n",
       "</table>\n",
       "</div>"
      ],
      "text/plain": [
       "                 soi\n",
       "1948-01-01 -0.219456\n",
       "1948-02-01 -0.075898\n",
       "1948-03-01 -0.011343\n",
       "1948-04-01  0.446782\n",
       "1948-05-01  0.655285"
      ]
     },
     "execution_count": 86,
     "metadata": {},
     "output_type": "execute_result"
    }
   ],
   "source": [
    "ts_soi.head()"
   ]
  },
  {
   "cell_type": "code",
   "execution_count": 87,
   "metadata": {},
   "outputs": [],
   "source": [
    "ts_soi.loc[:,'soi3m'] = ts_soi.rolling(window=3, min_periods=3).mean()"
   ]
  },
  {
   "cell_type": "code",
   "execution_count": 35,
   "metadata": {},
   "outputs": [
    {
     "data": {
      "text/html": [
       "<div>\n",
       "<style scoped>\n",
       "    .dataframe tbody tr th:only-of-type {\n",
       "        vertical-align: middle;\n",
       "    }\n",
       "\n",
       "    .dataframe tbody tr th {\n",
       "        vertical-align: top;\n",
       "    }\n",
       "\n",
       "    .dataframe thead th {\n",
       "        text-align: right;\n",
       "    }\n",
       "</style>\n",
       "<table border=\"1\" class=\"dataframe\">\n",
       "  <thead>\n",
       "    <tr style=\"text-align: right;\">\n",
       "      <th></th>\n",
       "      <th>soi</th>\n",
       "      <th>soi3m</th>\n",
       "    </tr>\n",
       "  </thead>\n",
       "  <tbody>\n",
       "    <tr>\n",
       "      <th>1948-01-01</th>\n",
       "      <td>-0.219456</td>\n",
       "      <td>NaN</td>\n",
       "    </tr>\n",
       "    <tr>\n",
       "      <th>1948-02-01</th>\n",
       "      <td>-0.075898</td>\n",
       "      <td>NaN</td>\n",
       "    </tr>\n",
       "    <tr>\n",
       "      <th>1948-03-01</th>\n",
       "      <td>-0.011343</td>\n",
       "      <td>-0.102232</td>\n",
       "    </tr>\n",
       "    <tr>\n",
       "      <th>1948-04-01</th>\n",
       "      <td>0.446782</td>\n",
       "      <td>0.119847</td>\n",
       "    </tr>\n",
       "    <tr>\n",
       "      <th>1948-05-01</th>\n",
       "      <td>0.655285</td>\n",
       "      <td>0.363575</td>\n",
       "    </tr>\n",
       "  </tbody>\n",
       "</table>\n",
       "</div>"
      ],
      "text/plain": [
       "                 soi     soi3m\n",
       "1948-01-01 -0.219456       NaN\n",
       "1948-02-01 -0.075898       NaN\n",
       "1948-03-01 -0.011343 -0.102232\n",
       "1948-04-01  0.446782  0.119847\n",
       "1948-05-01  0.655285  0.363575"
      ]
     },
     "execution_count": 35,
     "metadata": {},
     "output_type": "execute_result"
    }
   ],
   "source": [
    "ts_soi.head()"
   ]
  },
  {
   "cell_type": "code",
   "execution_count": 36,
   "metadata": {},
   "outputs": [
    {
     "data": {
      "text/html": [
       "<div>\n",
       "<style scoped>\n",
       "    .dataframe tbody tr th:only-of-type {\n",
       "        vertical-align: middle;\n",
       "    }\n",
       "\n",
       "    .dataframe tbody tr th {\n",
       "        vertical-align: top;\n",
       "    }\n",
       "\n",
       "    .dataframe thead th {\n",
       "        text-align: right;\n",
       "    }\n",
       "</style>\n",
       "<table border=\"1\" class=\"dataframe\">\n",
       "  <thead>\n",
       "    <tr style=\"text-align: right;\">\n",
       "      <th></th>\n",
       "      <th>soi</th>\n",
       "      <th>soi3m</th>\n",
       "    </tr>\n",
       "  </thead>\n",
       "  <tbody>\n",
       "    <tr>\n",
       "      <th>2023-01-01</th>\n",
       "      <td>1.064156</td>\n",
       "      <td>1.108119</td>\n",
       "    </tr>\n",
       "    <tr>\n",
       "      <th>2023-02-01</th>\n",
       "      <td>0.952400</td>\n",
       "      <td>1.297697</td>\n",
       "    </tr>\n",
       "    <tr>\n",
       "      <th>2023-03-01</th>\n",
       "      <td>0.183109</td>\n",
       "      <td>0.733221</td>\n",
       "    </tr>\n",
       "    <tr>\n",
       "      <th>2023-04-01</th>\n",
       "      <td>0.266467</td>\n",
       "      <td>0.467325</td>\n",
       "    </tr>\n",
       "    <tr>\n",
       "      <th>2023-05-01</th>\n",
       "      <td>-1.503301</td>\n",
       "      <td>-0.351242</td>\n",
       "    </tr>\n",
       "  </tbody>\n",
       "</table>\n",
       "</div>"
      ],
      "text/plain": [
       "                 soi     soi3m\n",
       "2023-01-01  1.064156  1.108119\n",
       "2023-02-01  0.952400  1.297697\n",
       "2023-03-01  0.183109  0.733221\n",
       "2023-04-01  0.266467  0.467325\n",
       "2023-05-01 -1.503301 -0.351242"
      ]
     },
     "execution_count": 36,
     "metadata": {},
     "output_type": "execute_result"
    }
   ],
   "source": [
    "ts_soi.tail()"
   ]
  },
  {
   "cell_type": "markdown",
   "metadata": {},
   "source": [
    "### Get the NINO 3.4 INDEX, based on the ERSST V5 SST dataset "
   ]
  },
  {
   "cell_type": "code",
   "execution_count": 37,
   "metadata": {},
   "outputs": [],
   "source": [
    "NINO_url = 'http://www.cpc.ncep.noaa.gov/data/indices/ersst5.nino.mth.91-20.ascii'"
   ]
  },
  {
   "cell_type": "code",
   "execution_count": 38,
   "metadata": {},
   "outputs": [],
   "source": [
    "nino = pd.read_csv(NINO_url, sep='\\s+', engine='python')"
   ]
  },
  {
   "cell_type": "code",
   "execution_count": 39,
   "metadata": {},
   "outputs": [
    {
     "data": {
      "text/plain": [
       "Index(['YR', 'MON', 'NINO1+2', 'ANOM', 'NINO3', 'ANOM.1', 'NINO4', 'ANOM.2',\n",
       "       'NINO3.4', 'ANOM.3'],\n",
       "      dtype='object')"
      ]
     },
     "execution_count": 39,
     "metadata": {},
     "output_type": "execute_result"
    }
   ],
   "source": [
    "nino.columns"
   ]
  },
  {
   "cell_type": "code",
   "execution_count": 40,
   "metadata": {},
   "outputs": [
    {
     "data": {
      "text/html": [
       "<div>\n",
       "<style scoped>\n",
       "    .dataframe tbody tr th:only-of-type {\n",
       "        vertical-align: middle;\n",
       "    }\n",
       "\n",
       "    .dataframe tbody tr th {\n",
       "        vertical-align: top;\n",
       "    }\n",
       "\n",
       "    .dataframe thead th {\n",
       "        text-align: right;\n",
       "    }\n",
       "</style>\n",
       "<table border=\"1\" class=\"dataframe\">\n",
       "  <thead>\n",
       "    <tr style=\"text-align: right;\">\n",
       "      <th></th>\n",
       "      <th>YR</th>\n",
       "      <th>MON</th>\n",
       "      <th>NINO1+2</th>\n",
       "      <th>ANOM</th>\n",
       "      <th>NINO3</th>\n",
       "      <th>ANOM.1</th>\n",
       "      <th>NINO4</th>\n",
       "      <th>ANOM.2</th>\n",
       "      <th>NINO3.4</th>\n",
       "      <th>ANOM.3</th>\n",
       "    </tr>\n",
       "  </thead>\n",
       "  <tbody>\n",
       "    <tr>\n",
       "      <th>847</th>\n",
       "      <td>2020</td>\n",
       "      <td>8</td>\n",
       "      <td>19.96</td>\n",
       "      <td>-1.05</td>\n",
       "      <td>24.50</td>\n",
       "      <td>-0.60</td>\n",
       "      <td>28.48</td>\n",
       "      <td>-0.17</td>\n",
       "      <td>26.27</td>\n",
       "      <td>-0.57</td>\n",
       "    </tr>\n",
       "    <tr>\n",
       "      <th>848</th>\n",
       "      <td>2020</td>\n",
       "      <td>9</td>\n",
       "      <td>19.50</td>\n",
       "      <td>-1.23</td>\n",
       "      <td>23.91</td>\n",
       "      <td>-1.02</td>\n",
       "      <td>28.21</td>\n",
       "      <td>-0.45</td>\n",
       "      <td>25.89</td>\n",
       "      <td>-0.84</td>\n",
       "    </tr>\n",
       "    <tr>\n",
       "      <th>849</th>\n",
       "      <td>2020</td>\n",
       "      <td>10</td>\n",
       "      <td>20.25</td>\n",
       "      <td>-0.80</td>\n",
       "      <td>23.85</td>\n",
       "      <td>-1.10</td>\n",
       "      <td>27.96</td>\n",
       "      <td>-0.68</td>\n",
       "      <td>25.46</td>\n",
       "      <td>-1.21</td>\n",
       "    </tr>\n",
       "    <tr>\n",
       "      <th>850</th>\n",
       "      <td>2020</td>\n",
       "      <td>11</td>\n",
       "      <td>20.95</td>\n",
       "      <td>-0.75</td>\n",
       "      <td>23.89</td>\n",
       "      <td>-1.15</td>\n",
       "      <td>27.81</td>\n",
       "      <td>-0.75</td>\n",
       "      <td>25.29</td>\n",
       "      <td>-1.33</td>\n",
       "    </tr>\n",
       "    <tr>\n",
       "      <th>851</th>\n",
       "      <td>2020</td>\n",
       "      <td>12</td>\n",
       "      <td>22.03</td>\n",
       "      <td>-0.86</td>\n",
       "      <td>24.33</td>\n",
       "      <td>-0.87</td>\n",
       "      <td>27.55</td>\n",
       "      <td>-0.89</td>\n",
       "      <td>25.42</td>\n",
       "      <td>-1.14</td>\n",
       "    </tr>\n",
       "  </tbody>\n",
       "</table>\n",
       "</div>"
      ],
      "text/plain": [
       "       YR  MON  NINO1+2  ANOM  NINO3  ANOM.1  NINO4  ANOM.2  NINO3.4  ANOM.3\n",
       "847  2020    8    19.96 -1.05  24.50   -0.60  28.48   -0.17    26.27   -0.57\n",
       "848  2020    9    19.50 -1.23  23.91   -1.02  28.21   -0.45    25.89   -0.84\n",
       "849  2020   10    20.25 -0.80  23.85   -1.10  27.96   -0.68    25.46   -1.21\n",
       "850  2020   11    20.95 -0.75  23.89   -1.15  27.81   -0.75    25.29   -1.33\n",
       "851  2020   12    22.03 -0.86  24.33   -0.87  27.55   -0.89    25.42   -1.14"
      ]
     },
     "execution_count": 40,
     "metadata": {},
     "output_type": "execute_result"
    }
   ],
   "source": [
    "nino.tail()"
   ]
  },
  {
   "cell_type": "code",
   "execution_count": 41,
   "metadata": {},
   "outputs": [],
   "source": [
    "nino = nino[['YR','MON','NINO3.4']]"
   ]
  },
  {
   "cell_type": "code",
   "execution_count": 42,
   "metadata": {},
   "outputs": [
    {
     "data": {
      "text/html": [
       "<div>\n",
       "<style scoped>\n",
       "    .dataframe tbody tr th:only-of-type {\n",
       "        vertical-align: middle;\n",
       "    }\n",
       "\n",
       "    .dataframe tbody tr th {\n",
       "        vertical-align: top;\n",
       "    }\n",
       "\n",
       "    .dataframe thead th {\n",
       "        text-align: right;\n",
       "    }\n",
       "</style>\n",
       "<table border=\"1\" class=\"dataframe\">\n",
       "  <thead>\n",
       "    <tr style=\"text-align: right;\">\n",
       "      <th></th>\n",
       "      <th>YR</th>\n",
       "      <th>MON</th>\n",
       "      <th>NINO3.4</th>\n",
       "    </tr>\n",
       "  </thead>\n",
       "  <tbody>\n",
       "    <tr>\n",
       "      <th>847</th>\n",
       "      <td>2020</td>\n",
       "      <td>8</td>\n",
       "      <td>26.27</td>\n",
       "    </tr>\n",
       "    <tr>\n",
       "      <th>848</th>\n",
       "      <td>2020</td>\n",
       "      <td>9</td>\n",
       "      <td>25.89</td>\n",
       "    </tr>\n",
       "    <tr>\n",
       "      <th>849</th>\n",
       "      <td>2020</td>\n",
       "      <td>10</td>\n",
       "      <td>25.46</td>\n",
       "    </tr>\n",
       "    <tr>\n",
       "      <th>850</th>\n",
       "      <td>2020</td>\n",
       "      <td>11</td>\n",
       "      <td>25.29</td>\n",
       "    </tr>\n",
       "    <tr>\n",
       "      <th>851</th>\n",
       "      <td>2020</td>\n",
       "      <td>12</td>\n",
       "      <td>25.42</td>\n",
       "    </tr>\n",
       "  </tbody>\n",
       "</table>\n",
       "</div>"
      ],
      "text/plain": [
       "       YR  MON  NINO3.4\n",
       "847  2020    8    26.27\n",
       "848  2020    9    25.89\n",
       "849  2020   10    25.46\n",
       "850  2020   11    25.29\n",
       "851  2020   12    25.42"
      ]
     },
     "execution_count": 42,
     "metadata": {},
     "output_type": "execute_result"
    }
   ],
   "source": [
    "nino.tail()"
   ]
  },
  {
   "cell_type": "code",
   "execution_count": 43,
   "metadata": {},
   "outputs": [],
   "source": [
    "nino.loc[:,'DAY'] = 1"
   ]
  },
  {
   "cell_type": "code",
   "execution_count": 44,
   "metadata": {},
   "outputs": [],
   "source": [
    "nino_clim = nino.copy()"
   ]
  },
  {
   "cell_type": "code",
   "execution_count": 45,
   "metadata": {},
   "outputs": [],
   "source": [
    "nino_clim.index = nino_clim.YR"
   ]
  },
  {
   "cell_type": "code",
   "execution_count": 46,
   "metadata": {},
   "outputs": [],
   "source": [
    "nino_clim = nino_clim.loc[1981:2010,:]"
   ]
  },
  {
   "cell_type": "code",
   "execution_count": 47,
   "metadata": {},
   "outputs": [],
   "source": [
    "nino_clim = nino_clim.groupby(nino_clim.MON).mean()"
   ]
  },
  {
   "cell_type": "markdown",
   "metadata": {},
   "source": [
    "### get a proper datetime index from the `[['YR', 'MON', 'DAY']]` columns"
   ]
  },
  {
   "cell_type": "code",
   "execution_count": 48,
   "metadata": {},
   "outputs": [],
   "source": [
    "nino.index = nino[['YR', 'MON', 'DAY']].apply(lambda d : datetime(*d), axis = 1)"
   ]
  },
  {
   "cell_type": "code",
   "execution_count": 49,
   "metadata": {},
   "outputs": [
    {
     "data": {
      "text/html": [
       "<div>\n",
       "<style scoped>\n",
       "    .dataframe tbody tr th:only-of-type {\n",
       "        vertical-align: middle;\n",
       "    }\n",
       "\n",
       "    .dataframe tbody tr th {\n",
       "        vertical-align: top;\n",
       "    }\n",
       "\n",
       "    .dataframe thead th {\n",
       "        text-align: right;\n",
       "    }\n",
       "</style>\n",
       "<table border=\"1\" class=\"dataframe\">\n",
       "  <thead>\n",
       "    <tr style=\"text-align: right;\">\n",
       "      <th></th>\n",
       "      <th>YR</th>\n",
       "      <th>MON</th>\n",
       "      <th>NINO3.4</th>\n",
       "      <th>DAY</th>\n",
       "    </tr>\n",
       "  </thead>\n",
       "  <tbody>\n",
       "    <tr>\n",
       "      <th>2020-08-01</th>\n",
       "      <td>2020</td>\n",
       "      <td>8</td>\n",
       "      <td>26.27</td>\n",
       "      <td>1</td>\n",
       "    </tr>\n",
       "    <tr>\n",
       "      <th>2020-09-01</th>\n",
       "      <td>2020</td>\n",
       "      <td>9</td>\n",
       "      <td>25.89</td>\n",
       "      <td>1</td>\n",
       "    </tr>\n",
       "    <tr>\n",
       "      <th>2020-10-01</th>\n",
       "      <td>2020</td>\n",
       "      <td>10</td>\n",
       "      <td>25.46</td>\n",
       "      <td>1</td>\n",
       "    </tr>\n",
       "    <tr>\n",
       "      <th>2020-11-01</th>\n",
       "      <td>2020</td>\n",
       "      <td>11</td>\n",
       "      <td>25.29</td>\n",
       "      <td>1</td>\n",
       "    </tr>\n",
       "    <tr>\n",
       "      <th>2020-12-01</th>\n",
       "      <td>2020</td>\n",
       "      <td>12</td>\n",
       "      <td>25.42</td>\n",
       "      <td>1</td>\n",
       "    </tr>\n",
       "  </tbody>\n",
       "</table>\n",
       "</div>"
      ],
      "text/plain": [
       "              YR  MON  NINO3.4  DAY\n",
       "2020-08-01  2020    8    26.27    1\n",
       "2020-09-01  2020    9    25.89    1\n",
       "2020-10-01  2020   10    25.46    1\n",
       "2020-11-01  2020   11    25.29    1\n",
       "2020-12-01  2020   12    25.42    1"
      ]
     },
     "execution_count": 49,
     "metadata": {},
     "output_type": "execute_result"
    }
   ],
   "source": [
    "nino.tail()"
   ]
  },
  {
   "cell_type": "markdown",
   "metadata": {},
   "source": [
    "### anomalies WRT to the climatology defined above (1981 - 2010)"
   ]
  },
  {
   "cell_type": "code",
   "execution_count": 50,
   "metadata": {},
   "outputs": [],
   "source": [
    "def demean(x): \n",
    "    return x - x.loc[str(clim_start):str(clim_end)].mean()"
   ]
  },
  {
   "cell_type": "code",
   "execution_count": 51,
   "metadata": {},
   "outputs": [],
   "source": [
    "nino['anoms'] = nino.groupby(nino.MON)[['NINO3.4']].transform(demean)"
   ]
  },
  {
   "cell_type": "code",
   "execution_count": 52,
   "metadata": {},
   "outputs": [
    {
     "data": {
      "text/plain": [
       "<AxesSubplot:>"
      ]
     },
     "execution_count": 52,
     "metadata": {},
     "output_type": "execute_result"
    },
    {
     "data": {
      "image/png": "[encoded data removed]",
      "text/plain": [
       "<Figure size 640x480 with 1 Axes>"
      ]
     },
     "metadata": {},
     "output_type": "display_data"
    }
   ],
   "source": [
    "nino.anoms.plot()"
   ]
  },
  {
   "cell_type": "code",
   "execution_count": 53,
   "metadata": {},
   "outputs": [],
   "source": [
    "ninos = nino[['anoms']]\n",
    "ninos.columns = ['NINO34']"
   ]
  },
  {
   "cell_type": "code",
   "execution_count": 54,
   "metadata": {},
   "outputs": [
    {
     "data": {
      "text/html": [
       "<div>\n",
       "<style scoped>\n",
       "    .dataframe tbody tr th:only-of-type {\n",
       "        vertical-align: middle;\n",
       "    }\n",
       "\n",
       "    .dataframe tbody tr th {\n",
       "        vertical-align: top;\n",
       "    }\n",
       "\n",
       "    .dataframe thead th {\n",
       "        text-align: right;\n",
       "    }\n",
       "</style>\n",
       "<table border=\"1\" class=\"dataframe\">\n",
       "  <thead>\n",
       "    <tr style=\"text-align: right;\">\n",
       "      <th></th>\n",
       "      <th>YR</th>\n",
       "      <th>MON</th>\n",
       "      <th>NINO3.4</th>\n",
       "      <th>DAY</th>\n",
       "      <th>anoms</th>\n",
       "    </tr>\n",
       "  </thead>\n",
       "  <tbody>\n",
       "    <tr>\n",
       "      <th>2020-08-01</th>\n",
       "      <td>2020</td>\n",
       "      <td>8</td>\n",
       "      <td>26.27</td>\n",
       "      <td>1</td>\n",
       "      <td>-0.564000</td>\n",
       "    </tr>\n",
       "    <tr>\n",
       "      <th>2020-09-01</th>\n",
       "      <td>2020</td>\n",
       "      <td>9</td>\n",
       "      <td>25.89</td>\n",
       "      <td>1</td>\n",
       "      <td>-0.837333</td>\n",
       "    </tr>\n",
       "    <tr>\n",
       "      <th>2020-10-01</th>\n",
       "      <td>2020</td>\n",
       "      <td>10</td>\n",
       "      <td>25.46</td>\n",
       "      <td>1</td>\n",
       "      <td>-1.213000</td>\n",
       "    </tr>\n",
       "    <tr>\n",
       "      <th>2020-11-01</th>\n",
       "      <td>2020</td>\n",
       "      <td>11</td>\n",
       "      <td>25.29</td>\n",
       "      <td>1</td>\n",
       "      <td>-1.337667</td>\n",
       "    </tr>\n",
       "    <tr>\n",
       "      <th>2020-12-01</th>\n",
       "      <td>2020</td>\n",
       "      <td>12</td>\n",
       "      <td>25.42</td>\n",
       "      <td>1</td>\n",
       "      <td>-1.141000</td>\n",
       "    </tr>\n",
       "  </tbody>\n",
       "</table>\n",
       "</div>"
      ],
      "text/plain": [
       "              YR  MON  NINO3.4  DAY     anoms\n",
       "2020-08-01  2020    8    26.27    1 -0.564000\n",
       "2020-09-01  2020    9    25.89    1 -0.837333\n",
       "2020-10-01  2020   10    25.46    1 -1.213000\n",
       "2020-11-01  2020   11    25.29    1 -1.337667\n",
       "2020-12-01  2020   12    25.42    1 -1.141000"
      ]
     },
     "execution_count": 54,
     "metadata": {},
     "output_type": "execute_result"
    }
   ],
   "source": [
    "nino.tail()"
   ]
  },
  {
   "cell_type": "code",
   "execution_count": 55,
   "metadata": {},
   "outputs": [],
   "source": [
    "nino['anoms5m'] = nino['anoms'].rolling(window=5, min_periods=5).mean()"
   ]
  },
  {
   "cell_type": "code",
   "execution_count": 56,
   "metadata": {},
   "outputs": [
    {
     "data": {
      "text/plain": [
       "<AxesSubplot:>"
      ]
     },
     "execution_count": 56,
     "metadata": {},
     "output_type": "execute_result"
    },
    {
     "data": {
      "image/png": "[encoded data removed]",
      "text/plain": [
       "<Figure size 640x480 with 1 Axes>"
      ]
     },
     "metadata": {},
     "output_type": "display_data"
    }
   ],
   "source": [
    "nino.anoms5m.plot()"
   ]
  },
  {
   "cell_type": "markdown",
   "metadata": {},
   "source": [
    "## Putting it all together "
   ]
  },
  {
   "cell_type": "code",
   "execution_count": 57,
   "metadata": {},
   "outputs": [],
   "source": [
    "data = ts_soi[['soi3m']]"
   ]
  },
  {
   "cell_type": "code",
   "execution_count": 58,
   "metadata": {},
   "outputs": [
    {
     "data": {
      "text/html": [
       "<div>\n",
       "<style scoped>\n",
       "    .dataframe tbody tr th:only-of-type {\n",
       "        vertical-align: middle;\n",
       "    }\n",
       "\n",
       "    .dataframe tbody tr th {\n",
       "        vertical-align: top;\n",
       "    }\n",
       "\n",
       "    .dataframe thead th {\n",
       "        text-align: right;\n",
       "    }\n",
       "</style>\n",
       "<table border=\"1\" class=\"dataframe\">\n",
       "  <thead>\n",
       "    <tr style=\"text-align: right;\">\n",
       "      <th></th>\n",
       "      <th>soi3m</th>\n",
       "    </tr>\n",
       "  </thead>\n",
       "  <tbody>\n",
       "    <tr>\n",
       "      <th>1948-01-01</th>\n",
       "      <td>NaN</td>\n",
       "    </tr>\n",
       "    <tr>\n",
       "      <th>1948-02-01</th>\n",
       "      <td>NaN</td>\n",
       "    </tr>\n",
       "    <tr>\n",
       "      <th>1948-03-01</th>\n",
       "      <td>-0.102232</td>\n",
       "    </tr>\n",
       "    <tr>\n",
       "      <th>1948-04-01</th>\n",
       "      <td>0.119847</td>\n",
       "    </tr>\n",
       "    <tr>\n",
       "      <th>1948-05-01</th>\n",
       "      <td>0.363575</td>\n",
       "    </tr>\n",
       "  </tbody>\n",
       "</table>\n",
       "</div>"
      ],
      "text/plain": [
       "               soi3m\n",
       "1948-01-01       NaN\n",
       "1948-02-01       NaN\n",
       "1948-03-01 -0.102232\n",
       "1948-04-01  0.119847\n",
       "1948-05-01  0.363575"
      ]
     },
     "execution_count": 58,
     "metadata": {},
     "output_type": "execute_result"
    }
   ],
   "source": [
    "data.head()"
   ]
  },
  {
   "cell_type": "code",
   "execution_count": 59,
   "metadata": {},
   "outputs": [
    {
     "data": {
      "text/html": [
       "<div>\n",
       "<style scoped>\n",
       "    .dataframe tbody tr th:only-of-type {\n",
       "        vertical-align: middle;\n",
       "    }\n",
       "\n",
       "    .dataframe tbody tr th {\n",
       "        vertical-align: top;\n",
       "    }\n",
       "\n",
       "    .dataframe thead th {\n",
       "        text-align: right;\n",
       "    }\n",
       "</style>\n",
       "<table border=\"1\" class=\"dataframe\">\n",
       "  <thead>\n",
       "    <tr style=\"text-align: right;\">\n",
       "      <th></th>\n",
       "      <th>YR</th>\n",
       "      <th>MON</th>\n",
       "      <th>NINO3.4</th>\n",
       "      <th>DAY</th>\n",
       "      <th>anoms</th>\n",
       "      <th>anoms5m</th>\n",
       "    </tr>\n",
       "  </thead>\n",
       "  <tbody>\n",
       "    <tr>\n",
       "      <th>1950-01-01</th>\n",
       "      <td>1950</td>\n",
       "      <td>1</td>\n",
       "      <td>24.55</td>\n",
       "      <td>1</td>\n",
       "      <td>-2.002333</td>\n",
       "      <td>NaN</td>\n",
       "    </tr>\n",
       "    <tr>\n",
       "      <th>1950-02-01</th>\n",
       "      <td>1950</td>\n",
       "      <td>2</td>\n",
       "      <td>25.06</td>\n",
       "      <td>1</td>\n",
       "      <td>-1.681667</td>\n",
       "      <td>NaN</td>\n",
       "    </tr>\n",
       "    <tr>\n",
       "      <th>1950-03-01</th>\n",
       "      <td>1950</td>\n",
       "      <td>3</td>\n",
       "      <td>25.87</td>\n",
       "      <td>1</td>\n",
       "      <td>-1.364667</td>\n",
       "      <td>NaN</td>\n",
       "    </tr>\n",
       "    <tr>\n",
       "      <th>1950-04-01</th>\n",
       "      <td>1950</td>\n",
       "      <td>4</td>\n",
       "      <td>26.28</td>\n",
       "      <td>1</td>\n",
       "      <td>-1.429667</td>\n",
       "      <td>NaN</td>\n",
       "    </tr>\n",
       "    <tr>\n",
       "      <th>1950-05-01</th>\n",
       "      <td>1950</td>\n",
       "      <td>5</td>\n",
       "      <td>26.18</td>\n",
       "      <td>1</td>\n",
       "      <td>-1.632000</td>\n",
       "      <td>-1.622067</td>\n",
       "    </tr>\n",
       "  </tbody>\n",
       "</table>\n",
       "</div>"
      ],
      "text/plain": [
       "              YR  MON  NINO3.4  DAY     anoms   anoms5m\n",
       "1950-01-01  1950    1    24.55    1 -2.002333       NaN\n",
       "1950-02-01  1950    2    25.06    1 -1.681667       NaN\n",
       "1950-03-01  1950    3    25.87    1 -1.364667       NaN\n",
       "1950-04-01  1950    4    26.28    1 -1.429667       NaN\n",
       "1950-05-01  1950    5    26.18    1 -1.632000 -1.622067"
      ]
     },
     "execution_count": 59,
     "metadata": {},
     "output_type": "execute_result"
    }
   ],
   "source": [
    "nino.head()"
   ]
  },
  {
   "cell_type": "code",
   "execution_count": 60,
   "metadata": {},
   "outputs": [],
   "source": [
    "data['nino5m'] = nino.loc[:,'anoms5m'].copy()"
   ]
  },
  {
   "cell_type": "code",
   "execution_count": 61,
   "metadata": {},
   "outputs": [
    {
     "data": {
      "text/html": [
       "<div>\n",
       "<style scoped>\n",
       "    .dataframe tbody tr th:only-of-type {\n",
       "        vertical-align: middle;\n",
       "    }\n",
       "\n",
       "    .dataframe tbody tr th {\n",
       "        vertical-align: top;\n",
       "    }\n",
       "\n",
       "    .dataframe thead th {\n",
       "        text-align: right;\n",
       "    }\n",
       "</style>\n",
       "<table border=\"1\" class=\"dataframe\">\n",
       "  <thead>\n",
       "    <tr style=\"text-align: right;\">\n",
       "      <th></th>\n",
       "      <th>soi3m</th>\n",
       "      <th>nino5m</th>\n",
       "    </tr>\n",
       "  </thead>\n",
       "  <tbody>\n",
       "    <tr>\n",
       "      <th>1948-01-01</th>\n",
       "      <td>NaN</td>\n",
       "      <td>NaN</td>\n",
       "    </tr>\n",
       "    <tr>\n",
       "      <th>1948-02-01</th>\n",
       "      <td>NaN</td>\n",
       "      <td>NaN</td>\n",
       "    </tr>\n",
       "    <tr>\n",
       "      <th>1948-03-01</th>\n",
       "      <td>-0.102232</td>\n",
       "      <td>NaN</td>\n",
       "    </tr>\n",
       "    <tr>\n",
       "      <th>1948-04-01</th>\n",
       "      <td>0.119847</td>\n",
       "      <td>NaN</td>\n",
       "    </tr>\n",
       "    <tr>\n",
       "      <th>1948-05-01</th>\n",
       "      <td>0.363575</td>\n",
       "      <td>NaN</td>\n",
       "    </tr>\n",
       "  </tbody>\n",
       "</table>\n",
       "</div>"
      ],
      "text/plain": [
       "               soi3m  nino5m\n",
       "1948-01-01       NaN     NaN\n",
       "1948-02-01       NaN     NaN\n",
       "1948-03-01 -0.102232     NaN\n",
       "1948-04-01  0.119847     NaN\n",
       "1948-05-01  0.363575     NaN"
      ]
     },
     "execution_count": 61,
     "metadata": {},
     "output_type": "execute_result"
    }
   ],
   "source": [
    "data.head()"
   ]
  },
  {
   "cell_type": "code",
   "execution_count": 62,
   "metadata": {},
   "outputs": [],
   "source": [
    "def zscore(x):\n",
    "    return (x - x.loc[str(clim_start):str(clim_end)].mean()) / x.loc[str(clim_start):str(clim_end)].std()"
   ]
  },
  {
   "cell_type": "code",
   "execution_count": 63,
   "metadata": {},
   "outputs": [],
   "source": [
    "data = data.apply(zscore)"
   ]
  },
  {
   "cell_type": "code",
   "execution_count": 64,
   "metadata": {},
   "outputs": [
    {
     "data": {
      "text/plain": [
       "<AxesSubplot:>"
      ]
     },
     "execution_count": 64,
     "metadata": {},
     "output_type": "execute_result"
    },
    {
     "data": {
      "image/png": "[encoded data removed]",
      "text/plain": [
       "<Figure size 1200x800 with 1 Axes>"
      ]
     },
     "metadata": {},
     "output_type": "display_data"
    }
   ],
   "source": [
    "f, ax = plt.subplots(figsize=(12,8))\n",
    "data.plot(ax=ax)"
   ]
  },
  {
   "cell_type": "code",
   "execution_count": 65,
   "metadata": {},
   "outputs": [
    {
     "data": {
      "text/html": [
       "<div>\n",
       "<style scoped>\n",
       "    .dataframe tbody tr th:only-of-type {\n",
       "        vertical-align: middle;\n",
       "    }\n",
       "\n",
       "    .dataframe tbody tr th {\n",
       "        vertical-align: top;\n",
       "    }\n",
       "\n",
       "    .dataframe thead th {\n",
       "        text-align: right;\n",
       "    }\n",
       "</style>\n",
       "<table border=\"1\" class=\"dataframe\">\n",
       "  <thead>\n",
       "    <tr style=\"text-align: right;\">\n",
       "      <th></th>\n",
       "      <th>soi3m</th>\n",
       "      <th>nino5m</th>\n",
       "    </tr>\n",
       "  </thead>\n",
       "  <tbody>\n",
       "    <tr>\n",
       "      <th>2023-01-01</th>\n",
       "      <td>1.300052</td>\n",
       "      <td>NaN</td>\n",
       "    </tr>\n",
       "    <tr>\n",
       "      <th>2023-02-01</th>\n",
       "      <td>1.521183</td>\n",
       "      <td>NaN</td>\n",
       "    </tr>\n",
       "    <tr>\n",
       "      <th>2023-03-01</th>\n",
       "      <td>0.862757</td>\n",
       "      <td>NaN</td>\n",
       "    </tr>\n",
       "    <tr>\n",
       "      <th>2023-04-01</th>\n",
       "      <td>0.552606</td>\n",
       "      <td>NaN</td>\n",
       "    </tr>\n",
       "    <tr>\n",
       "      <th>2023-05-01</th>\n",
       "      <td>-0.402203</td>\n",
       "      <td>NaN</td>\n",
       "    </tr>\n",
       "  </tbody>\n",
       "</table>\n",
       "</div>"
      ],
      "text/plain": [
       "               soi3m  nino5m\n",
       "2023-01-01  1.300052     NaN\n",
       "2023-02-01  1.521183     NaN\n",
       "2023-03-01  0.862757     NaN\n",
       "2023-04-01  0.552606     NaN\n",
       "2023-05-01 -0.402203     NaN"
      ]
     },
     "execution_count": 65,
     "metadata": {},
     "output_type": "execute_result"
    }
   ],
   "source": [
    "data.tail()"
   ]
  },
  {
   "cell_type": "code",
   "execution_count": 66,
   "metadata": {},
   "outputs": [],
   "source": [
    "dates  = data.index.to_pydatetime()"
   ]
  },
  {
   "cell_type": "code",
   "execution_count": 67,
   "metadata": {},
   "outputs": [],
   "source": [
    "dates = [d.toordinal() for d in dates]"
   ]
  },
  {
   "cell_type": "markdown",
   "metadata": {},
   "source": [
    "### Scatter plot of the SOI values as a function of NINO3.4"
   ]
  },
  {
   "cell_type": "code",
   "execution_count": 68,
   "metadata": {},
   "outputs": [],
   "source": [
    "# f, ax = plt.subplots()\n",
    "# ax.scatter(data.nino5m.values, data.soi3m.values, c=dates, edgecolors='none', alpha=0.5)\n",
    "# ax.axhline(1, c='k', ls=':')\n",
    "# ax.axhline(-1, c='k', ls=':')\n",
    "# ax.axvline(0.5, c='k', ls=':')\n",
    "# ax.axvline(-0.5, c='k', ls=':')\n",
    "# ax.set_xlim(-4,4)\n",
    "# ax.set_ylim(-4,4)\n",
    "# ax.set_xlabel('NINO3.4')\n",
    "# ax.set_ylabel('SOI')"
   ]
  },
  {
   "cell_type": "markdown",
   "metadata": {},
   "source": [
    "### CEI calculation:   multiply SOI by -1 and add nino3.4"
   ]
  },
  {
   "cell_type": "code",
   "execution_count": 69,
   "metadata": {},
   "outputs": [
    {
     "data": {
      "text/html": [
       "<div>\n",
       "<style scoped>\n",
       "    .dataframe tbody tr th:only-of-type {\n",
       "        vertical-align: middle;\n",
       "    }\n",
       "\n",
       "    .dataframe tbody tr th {\n",
       "        vertical-align: top;\n",
       "    }\n",
       "\n",
       "    .dataframe thead th {\n",
       "        text-align: right;\n",
       "    }\n",
       "</style>\n",
       "<table border=\"1\" class=\"dataframe\">\n",
       "  <thead>\n",
       "    <tr style=\"text-align: right;\">\n",
       "      <th></th>\n",
       "      <th>soi3m</th>\n",
       "      <th>nino5m</th>\n",
       "    </tr>\n",
       "  </thead>\n",
       "  <tbody>\n",
       "    <tr>\n",
       "      <th>1948-01-01</th>\n",
       "      <td>NaN</td>\n",
       "      <td>NaN</td>\n",
       "    </tr>\n",
       "    <tr>\n",
       "      <th>1948-02-01</th>\n",
       "      <td>NaN</td>\n",
       "      <td>NaN</td>\n",
       "    </tr>\n",
       "    <tr>\n",
       "      <th>1948-03-01</th>\n",
       "      <td>-0.111749</td>\n",
       "      <td>NaN</td>\n",
       "    </tr>\n",
       "    <tr>\n",
       "      <th>1948-04-01</th>\n",
       "      <td>0.147294</td>\n",
       "      <td>NaN</td>\n",
       "    </tr>\n",
       "    <tr>\n",
       "      <th>1948-05-01</th>\n",
       "      <td>0.431587</td>\n",
       "      <td>NaN</td>\n",
       "    </tr>\n",
       "  </tbody>\n",
       "</table>\n",
       "</div>"
      ],
      "text/plain": [
       "               soi3m  nino5m\n",
       "1948-01-01       NaN     NaN\n",
       "1948-02-01       NaN     NaN\n",
       "1948-03-01 -0.111749     NaN\n",
       "1948-04-01  0.147294     NaN\n",
       "1948-05-01  0.431587     NaN"
      ]
     },
     "execution_count": 69,
     "metadata": {},
     "output_type": "execute_result"
    }
   ],
   "source": [
    "data.head()"
   ]
  },
  {
   "cell_type": "code",
   "execution_count": 54,
   "metadata": {},
   "outputs": [],
   "source": [
    "data.loc[:,'CEI'] = (data.loc[:,'soi3m'].values * -1) + data.loc[:,'nino5m'].values"
   ]
  },
  {
   "cell_type": "code",
   "execution_count": 55,
   "metadata": {},
   "outputs": [
    {
     "data": {
      "text/html": [
       "<div>\n",
       "<style scoped>\n",
       "    .dataframe tbody tr th:only-of-type {\n",
       "        vertical-align: middle;\n",
       "    }\n",
       "\n",
       "    .dataframe tbody tr th {\n",
       "        vertical-align: top;\n",
       "    }\n",
       "\n",
       "    .dataframe thead th {\n",
       "        text-align: right;\n",
       "    }\n",
       "</style>\n",
       "<table border=\"1\" class=\"dataframe\">\n",
       "  <thead>\n",
       "    <tr style=\"text-align: right;\">\n",
       "      <th></th>\n",
       "      <th>soi3m</th>\n",
       "      <th>nino5m</th>\n",
       "      <th>CEI</th>\n",
       "    </tr>\n",
       "  </thead>\n",
       "  <tbody>\n",
       "    <tr>\n",
       "      <th>1950-01-01</th>\n",
       "      <td>NaN</td>\n",
       "      <td>NaN</td>\n",
       "      <td>NaN</td>\n",
       "    </tr>\n",
       "    <tr>\n",
       "      <th>1950-02-01</th>\n",
       "      <td>NaN</td>\n",
       "      <td>NaN</td>\n",
       "      <td>NaN</td>\n",
       "    </tr>\n",
       "    <tr>\n",
       "      <th>1950-03-01</th>\n",
       "      <td>1.532001</td>\n",
       "      <td>NaN</td>\n",
       "      <td>NaN</td>\n",
       "    </tr>\n",
       "    <tr>\n",
       "      <th>1950-04-01</th>\n",
       "      <td>1.914636</td>\n",
       "      <td>NaN</td>\n",
       "      <td>NaN</td>\n",
       "    </tr>\n",
       "    <tr>\n",
       "      <th>1950-05-01</th>\n",
       "      <td>1.734800</td>\n",
       "      <td>-1.928042</td>\n",
       "      <td>-3.662842</td>\n",
       "    </tr>\n",
       "  </tbody>\n",
       "</table>\n",
       "</div>"
      ],
      "text/plain": [
       "               soi3m    nino5m       CEI\n",
       "1950-01-01       NaN       NaN       NaN\n",
       "1950-02-01       NaN       NaN       NaN\n",
       "1950-03-01  1.532001       NaN       NaN\n",
       "1950-04-01  1.914636       NaN       NaN\n",
       "1950-05-01  1.734800 -1.928042 -3.662842"
      ]
     },
     "execution_count": 55,
     "metadata": {},
     "output_type": "execute_result"
    }
   ],
   "source": [
    "data.head()"
   ]
  },
  {
   "cell_type": "code",
   "execution_count": 56,
   "metadata": {},
   "outputs": [
    {
     "data": {
      "text/plain": [
       "<AxesSubplot:>"
      ]
     },
     "execution_count": 56,
     "metadata": {},
     "output_type": "execute_result"
    },
    {
     "data": {
      "image/png": "[encoded data removed]",
      "text/plain": [
       "<Figure size 1008x576 with 1 Axes>"
      ]
     },
     "metadata": {
      "needs_background": "light"
     },
     "output_type": "display_data"
    }
   ],
   "source": [
    "f, ax = plt.subplots(figsize=(14, 8))\n",
    "data.CEI.plot(ax=ax)"
   ]
  },
  {
   "cell_type": "markdown",
   "metadata": {},
   "source": [
    "### defines the categories below: 'CEI NINA', 'NINO3.4 NINA', 'Neutral', 'NINO3.4 NINO',        'SOI NINO', 'CEI NINO', 'SOI NINA'"
   ]
  },
  {
   "cell_type": "code",
   "execution_count": 57,
   "metadata": {},
   "outputs": [],
   "source": [
    "data['category'] = 'Neutral'"
   ]
  },
  {
   "cell_type": "code",
   "execution_count": 58,
   "metadata": {},
   "outputs": [
    {
     "data": {
      "text/html": [
       "<div>\n",
       "<style scoped>\n",
       "    .dataframe tbody tr th:only-of-type {\n",
       "        vertical-align: middle;\n",
       "    }\n",
       "\n",
       "    .dataframe tbody tr th {\n",
       "        vertical-align: top;\n",
       "    }\n",
       "\n",
       "    .dataframe thead th {\n",
       "        text-align: right;\n",
       "    }\n",
       "</style>\n",
       "<table border=\"1\" class=\"dataframe\">\n",
       "  <thead>\n",
       "    <tr style=\"text-align: right;\">\n",
       "      <th></th>\n",
       "      <th>soi3m</th>\n",
       "      <th>nino5m</th>\n",
       "      <th>CEI</th>\n",
       "      <th>category</th>\n",
       "    </tr>\n",
       "  </thead>\n",
       "  <tbody>\n",
       "    <tr>\n",
       "      <th>1950-01-01</th>\n",
       "      <td>NaN</td>\n",
       "      <td>NaN</td>\n",
       "      <td>NaN</td>\n",
       "      <td>Neutral</td>\n",
       "    </tr>\n",
       "    <tr>\n",
       "      <th>1950-02-01</th>\n",
       "      <td>NaN</td>\n",
       "      <td>NaN</td>\n",
       "      <td>NaN</td>\n",
       "      <td>Neutral</td>\n",
       "    </tr>\n",
       "    <tr>\n",
       "      <th>1950-03-01</th>\n",
       "      <td>1.532001</td>\n",
       "      <td>NaN</td>\n",
       "      <td>NaN</td>\n",
       "      <td>Neutral</td>\n",
       "    </tr>\n",
       "    <tr>\n",
       "      <th>1950-04-01</th>\n",
       "      <td>1.914636</td>\n",
       "      <td>NaN</td>\n",
       "      <td>NaN</td>\n",
       "      <td>Neutral</td>\n",
       "    </tr>\n",
       "    <tr>\n",
       "      <th>1950-05-01</th>\n",
       "      <td>1.734800</td>\n",
       "      <td>-1.928042</td>\n",
       "      <td>-3.662842</td>\n",
       "      <td>Neutral</td>\n",
       "    </tr>\n",
       "  </tbody>\n",
       "</table>\n",
       "</div>"
      ],
      "text/plain": [
       "               soi3m    nino5m       CEI category\n",
       "1950-01-01       NaN       NaN       NaN  Neutral\n",
       "1950-02-01       NaN       NaN       NaN  Neutral\n",
       "1950-03-01  1.532001       NaN       NaN  Neutral\n",
       "1950-04-01  1.914636       NaN       NaN  Neutral\n",
       "1950-05-01  1.734800 -1.928042 -3.662842  Neutral"
      ]
     },
     "execution_count": 58,
     "metadata": {},
     "output_type": "execute_result"
    }
   ],
   "source": [
    "data.head()"
   ]
  },
  {
   "cell_type": "markdown",
   "metadata": {},
   "source": [
    "#### if the CEI is not defined, set to NaN"
   ]
  },
  {
   "cell_type": "code",
   "execution_count": 59,
   "metadata": {},
   "outputs": [],
   "source": [
    "data.loc[pd.isnull(data.CEI).values.flatten(),'category'] = np.nan"
   ]
  },
  {
   "cell_type": "markdown",
   "metadata": {},
   "source": [
    "#### Now populates everything according to the thresholds"
   ]
  },
  {
   "cell_type": "code",
   "execution_count": 60,
   "metadata": {},
   "outputs": [],
   "source": [
    "data.dropna(inplace=True)"
   ]
  },
  {
   "cell_type": "code",
   "execution_count": 61,
   "metadata": {},
   "outputs": [
    {
     "data": {
      "text/html": [
       "<div>\n",
       "<style scoped>\n",
       "    .dataframe tbody tr th:only-of-type {\n",
       "        vertical-align: middle;\n",
       "    }\n",
       "\n",
       "    .dataframe tbody tr th {\n",
       "        vertical-align: top;\n",
       "    }\n",
       "\n",
       "    .dataframe thead th {\n",
       "        text-align: right;\n",
       "    }\n",
       "</style>\n",
       "<table border=\"1\" class=\"dataframe\">\n",
       "  <thead>\n",
       "    <tr style=\"text-align: right;\">\n",
       "      <th></th>\n",
       "      <th>soi3m</th>\n",
       "      <th>nino5m</th>\n",
       "      <th>CEI</th>\n",
       "      <th>category</th>\n",
       "    </tr>\n",
       "  </thead>\n",
       "  <tbody>\n",
       "    <tr>\n",
       "      <th>1950-05-01</th>\n",
       "      <td>1.734800</td>\n",
       "      <td>-1.928042</td>\n",
       "      <td>-3.662842</td>\n",
       "      <td>Neutral</td>\n",
       "    </tr>\n",
       "    <tr>\n",
       "      <th>1950-06-01</th>\n",
       "      <td>2.189922</td>\n",
       "      <td>-1.721990</td>\n",
       "      <td>-3.911912</td>\n",
       "      <td>Neutral</td>\n",
       "    </tr>\n",
       "    <tr>\n",
       "      <th>1950-07-01</th>\n",
       "      <td>2.518664</td>\n",
       "      <td>-1.534462</td>\n",
       "      <td>-4.053126</td>\n",
       "      <td>Neutral</td>\n",
       "    </tr>\n",
       "    <tr>\n",
       "      <th>1950-08-01</th>\n",
       "      <td>2.682265</td>\n",
       "      <td>-1.437348</td>\n",
       "      <td>-4.119612</td>\n",
       "      <td>Neutral</td>\n",
       "    </tr>\n",
       "    <tr>\n",
       "      <th>1950-09-01</th>\n",
       "      <td>1.718087</td>\n",
       "      <td>-1.332745</td>\n",
       "      <td>-3.050832</td>\n",
       "      <td>Neutral</td>\n",
       "    </tr>\n",
       "  </tbody>\n",
       "</table>\n",
       "</div>"
      ],
      "text/plain": [
       "               soi3m    nino5m       CEI category\n",
       "1950-05-01  1.734800 -1.928042 -3.662842  Neutral\n",
       "1950-06-01  2.189922 -1.721990 -3.911912  Neutral\n",
       "1950-07-01  2.518664 -1.534462 -4.053126  Neutral\n",
       "1950-08-01  2.682265 -1.437348 -4.119612  Neutral\n",
       "1950-09-01  1.718087 -1.332745 -3.050832  Neutral"
      ]
     },
     "execution_count": 61,
     "metadata": {},
     "output_type": "execute_result"
    }
   ],
   "source": [
    "data.head()"
   ]
  },
  {
   "cell_type": "code",
   "execution_count": 62,
   "metadata": {},
   "outputs": [
    {
     "name": "stdout",
     "output_type": "stream",
     "text": [
      "<class 'pandas.core.frame.DataFrame'>\n",
      "DatetimeIndex: 848 entries, 1950-05-01 to 2020-12-01\n",
      "Data columns (total 4 columns):\n",
      " #   Column    Non-Null Count  Dtype  \n",
      "---  ------    --------------  -----  \n",
      " 0   soi3m     848 non-null    float64\n",
      " 1   nino5m    848 non-null    float64\n",
      " 2   CEI       848 non-null    float64\n",
      " 3   category  848 non-null    object \n",
      "dtypes: float64(3), object(1)\n",
      "memory usage: 33.1+ KB\n"
     ]
    }
   ],
   "source": [
    "data.info()"
   ]
  },
  {
   "cell_type": "code",
   "execution_count": 63,
   "metadata": {},
   "outputs": [
    {
     "data": {
      "text/html": [
       "<div>\n",
       "<style scoped>\n",
       "    .dataframe tbody tr th:only-of-type {\n",
       "        vertical-align: middle;\n",
       "    }\n",
       "\n",
       "    .dataframe tbody tr th {\n",
       "        vertical-align: top;\n",
       "    }\n",
       "\n",
       "    .dataframe thead th {\n",
       "        text-align: right;\n",
       "    }\n",
       "</style>\n",
       "<table border=\"1\" class=\"dataframe\">\n",
       "  <thead>\n",
       "    <tr style=\"text-align: right;\">\n",
       "      <th></th>\n",
       "      <th>soi3m</th>\n",
       "      <th>nino5m</th>\n",
       "      <th>CEI</th>\n",
       "      <th>category</th>\n",
       "    </tr>\n",
       "  </thead>\n",
       "  <tbody>\n",
       "    <tr>\n",
       "      <th>1950-05-01</th>\n",
       "      <td>1.734800</td>\n",
       "      <td>-1.928042</td>\n",
       "      <td>-3.662842</td>\n",
       "      <td>Neutral</td>\n",
       "    </tr>\n",
       "    <tr>\n",
       "      <th>1950-06-01</th>\n",
       "      <td>2.189922</td>\n",
       "      <td>-1.721990</td>\n",
       "      <td>-3.911912</td>\n",
       "      <td>Neutral</td>\n",
       "    </tr>\n",
       "    <tr>\n",
       "      <th>1950-07-01</th>\n",
       "      <td>2.518664</td>\n",
       "      <td>-1.534462</td>\n",
       "      <td>-4.053126</td>\n",
       "      <td>Neutral</td>\n",
       "    </tr>\n",
       "    <tr>\n",
       "      <th>1950-08-01</th>\n",
       "      <td>2.682265</td>\n",
       "      <td>-1.437348</td>\n",
       "      <td>-4.119612</td>\n",
       "      <td>Neutral</td>\n",
       "    </tr>\n",
       "    <tr>\n",
       "      <th>1950-09-01</th>\n",
       "      <td>1.718087</td>\n",
       "      <td>-1.332745</td>\n",
       "      <td>-3.050832</td>\n",
       "      <td>Neutral</td>\n",
       "    </tr>\n",
       "  </tbody>\n",
       "</table>\n",
       "</div>"
      ],
      "text/plain": [
       "               soi3m    nino5m       CEI category\n",
       "1950-05-01  1.734800 -1.928042 -3.662842  Neutral\n",
       "1950-06-01  2.189922 -1.721990 -3.911912  Neutral\n",
       "1950-07-01  2.518664 -1.534462 -4.053126  Neutral\n",
       "1950-08-01  2.682265 -1.437348 -4.119612  Neutral\n",
       "1950-09-01  1.718087 -1.332745 -3.050832  Neutral"
      ]
     },
     "execution_count": 63,
     "metadata": {},
     "output_type": "execute_result"
    }
   ],
   "source": [
    "data.head()"
   ]
  },
  {
   "cell_type": "code",
   "execution_count": 64,
   "metadata": {},
   "outputs": [],
   "source": [
    "data.columns = ['soi3m', 'nino5m', 'CEI', 'category']"
   ]
  },
  {
   "cell_type": "code",
   "execution_count": 65,
   "metadata": {},
   "outputs": [],
   "source": [
    "data.loc[((data.soi3m >= +1) & (data.nino5m <= -0.5)),'category'] = 'CEI NINA'\n",
    "data.loc[((data.soi3m >= +1) & (data.nino5m < 0.5) & ( data.nino5m > -0.5)), 'category'] = 'SOI NINA'\n",
    "data.loc[((data.nino5m <= -0.5) & (data.soi3m > -1) & ( data.soi3m < 1)), 'category'] = 'NINO3.4 NINA'\n",
    "data.loc[((data.nino5m >= 0.5) & (data.soi3m < 1) & ( data.soi3m > -1)), 'category'] = 'NINO3.4 NINO'\n",
    "data.loc[((data.soi3m <= -1) & (data.nino5m < 0.5) & ( data.nino5m > -0.5)), 'category'] = 'SOI NINO'\n",
    "data.loc[((data.soi3m <= -1) & (data.nino5m >= 0.5)), 'category'] = 'CEI NINO'"
   ]
  },
  {
   "cell_type": "code",
   "execution_count": 66,
   "metadata": {},
   "outputs": [],
   "source": [
    "data['code'] = 0\n",
    "data.loc[pd.isnull(data.CEI),'code'] = np.nan"
   ]
  },
  {
   "cell_type": "code",
   "execution_count": 67,
   "metadata": {},
   "outputs": [],
   "source": [
    "data.loc[((data.soi3m >= +1) & (data.nino5m <= -0.5)),'code'] = -3\n",
    "data.loc[((data.soi3m >= +1) & (data.nino5m < 0.5) & ( data.nino5m > -0.5)), 'code'] = -2\n",
    "data.loc[((data.nino5m <= -0.5) & (data.soi3m > -1) & ( data.soi3m < 1)), 'code'] = -1\n",
    "data.loc[((data.nino5m >= 0.5) & (data.soi3m < 1) & ( data.soi3m > -1)), 'code'] = 1\n",
    "data.loc[((data.soi3m <= -1) & (data.nino5m < 0.5) & ( data.nino5m > -0.5)), 'code'] = 2\n",
    "data.loc[((data.soi3m <= -1) & (data.nino5m >= 0.5)), 'code'] = 3"
   ]
  },
  {
   "cell_type": "code",
   "execution_count": 68,
   "metadata": {},
   "outputs": [
    {
     "data": {
      "text/html": [
       "<div>\n",
       "<style scoped>\n",
       "    .dataframe tbody tr th:only-of-type {\n",
       "        vertical-align: middle;\n",
       "    }\n",
       "\n",
       "    .dataframe tbody tr th {\n",
       "        vertical-align: top;\n",
       "    }\n",
       "\n",
       "    .dataframe thead th {\n",
       "        text-align: right;\n",
       "    }\n",
       "</style>\n",
       "<table border=\"1\" class=\"dataframe\">\n",
       "  <thead>\n",
       "    <tr style=\"text-align: right;\">\n",
       "      <th></th>\n",
       "      <th>soi3m</th>\n",
       "      <th>nino5m</th>\n",
       "      <th>CEI</th>\n",
       "      <th>category</th>\n",
       "      <th>code</th>\n",
       "    </tr>\n",
       "  </thead>\n",
       "  <tbody>\n",
       "    <tr>\n",
       "      <th>1950-05-01</th>\n",
       "      <td>1.734800</td>\n",
       "      <td>-1.928042</td>\n",
       "      <td>-3.662842</td>\n",
       "      <td>CEI NINA</td>\n",
       "      <td>-3.0</td>\n",
       "    </tr>\n",
       "    <tr>\n",
       "      <th>1950-06-01</th>\n",
       "      <td>2.189922</td>\n",
       "      <td>-1.721990</td>\n",
       "      <td>-3.911912</td>\n",
       "      <td>CEI NINA</td>\n",
       "      <td>-3.0</td>\n",
       "    </tr>\n",
       "    <tr>\n",
       "      <th>1950-07-01</th>\n",
       "      <td>2.518664</td>\n",
       "      <td>-1.534462</td>\n",
       "      <td>-4.053126</td>\n",
       "      <td>CEI NINA</td>\n",
       "      <td>-3.0</td>\n",
       "    </tr>\n",
       "    <tr>\n",
       "      <th>1950-08-01</th>\n",
       "      <td>2.682265</td>\n",
       "      <td>-1.437348</td>\n",
       "      <td>-4.119612</td>\n",
       "      <td>CEI NINA</td>\n",
       "      <td>-3.0</td>\n",
       "    </tr>\n",
       "    <tr>\n",
       "      <th>1950-09-01</th>\n",
       "      <td>1.718087</td>\n",
       "      <td>-1.332745</td>\n",
       "      <td>-3.050832</td>\n",
       "      <td>CEI NINA</td>\n",
       "      <td>-3.0</td>\n",
       "    </tr>\n",
       "  </tbody>\n",
       "</table>\n",
       "</div>"
      ],
      "text/plain": [
       "               soi3m    nino5m       CEI  category  code\n",
       "1950-05-01  1.734800 -1.928042 -3.662842  CEI NINA  -3.0\n",
       "1950-06-01  2.189922 -1.721990 -3.911912  CEI NINA  -3.0\n",
       "1950-07-01  2.518664 -1.534462 -4.053126  CEI NINA  -3.0\n",
       "1950-08-01  2.682265 -1.437348 -4.119612  CEI NINA  -3.0\n",
       "1950-09-01  1.718087 -1.332745 -3.050832  CEI NINA  -3.0"
      ]
     },
     "execution_count": 68,
     "metadata": {},
     "output_type": "execute_result"
    }
   ],
   "source": [
    "data.head()"
   ]
  },
  {
   "cell_type": "code",
   "execution_count": 69,
   "metadata": {},
   "outputs": [],
   "source": [
    "# pd.value_counts(data[['category']])"
   ]
  },
  {
   "cell_type": "code",
   "execution_count": 70,
   "metadata": {},
   "outputs": [],
   "source": [
    "from matplotlib import style; style.use('ggplot')"
   ]
  },
  {
   "cell_type": "code",
   "execution_count": 71,
   "metadata": {},
   "outputs": [
    {
     "data": {
      "image/png": "[encoded data removed]",
      "text/plain": [
       "<Figure size 1152x576 with 1 Axes>"
      ]
     },
     "metadata": {},
     "output_type": "display_data"
    }
   ],
   "source": [
    "f, ax = plt.subplots(figsize=(16,8))\n",
    "ax.plot(data.index, data.CEI, 'k-', lw=2)\n",
    "\n",
    "ax.plot(data.index[data['category'] == 'CEI NINA'], data.CEI[data['category'] == 'CEI NINA'], 'b*', markersize=12, label='CEI NINA')\n",
    "ax.plot(data.index[data['category'] == 'CEI NINO'], data.CEI[data['category'] == 'CEI NINO'], 'r*',  markersize=12, label = 'CEI NINO')\n",
    "\n",
    "ax.plot(data.index[data['category'] == 'SOI NINA'], data.CEI[data['category'] == 'SOI NINA'], 'bo', label='SOI NINA')\n",
    "ax.plot(data.index[data['category'] == 'SOI NINO'], data.CEI[data['category'] == 'SOI NINO'], 'ro', label='SOI NINO')\n",
    "\n",
    "ax.plot(data.index[data['category'] == 'NINO3.4 NINA'], data.CEI[data['category'] == 'NINO3.4 NINA'], 'bv', markersize=8, label='NINO3.4 NINA')\n",
    "ax.plot(data.index[data['category'] == 'NINO3.4 NINO'], data.CEI[data['category'] == 'NINO3.4 NINO'], 'rv', markersize=8, label='NINO3.4 NINO')\n",
    "\n",
    "ax.axhline(0, color='k', ls=':')\n",
    "\n",
    "ax.legend(loc='upper left')\n",
    "\n",
    "ax.grid(color='w')\n",
    "\n",
    "bounds = ax.get_xlim()\n",
    "\n",
    "ax.set_xlim((bounds[0] - 60, bounds[1] + 60))\n",
    "\n",
    "ax.set_ylim(-6, 8);"
   ]
  },
  {
   "cell_type": "code",
   "execution_count": 72,
   "metadata": {},
   "outputs": [],
   "source": [
    "data.index.name = 'ISOdate'"
   ]
  },
  {
   "cell_type": "code",
   "execution_count": 73,
   "metadata": {},
   "outputs": [],
   "source": [
    "data['Year'] = data.index.year\n",
    "data['Month'] = data.index.month"
   ]
  },
  {
   "cell_type": "code",
   "execution_count": 74,
   "metadata": {},
   "outputs": [],
   "source": [
    "data = data[['Year','Month','soi3m','nino5m','CEI','category','code']]"
   ]
  },
  {
   "cell_type": "code",
   "execution_count": 75,
   "metadata": {},
   "outputs": [
    {
     "data": {
      "text/html": [
       "<div>\n",
       "<style scoped>\n",
       "    .dataframe tbody tr th:only-of-type {\n",
       "        vertical-align: middle;\n",
       "    }\n",
       "\n",
       "    .dataframe tbody tr th {\n",
       "        vertical-align: top;\n",
       "    }\n",
       "\n",
       "    .dataframe thead th {\n",
       "        text-align: right;\n",
       "    }\n",
       "</style>\n",
       "<table border=\"1\" class=\"dataframe\">\n",
       "  <thead>\n",
       "    <tr style=\"text-align: right;\">\n",
       "      <th></th>\n",
       "      <th>Year</th>\n",
       "      <th>Month</th>\n",
       "      <th>soi3m</th>\n",
       "      <th>nino5m</th>\n",
       "      <th>CEI</th>\n",
       "      <th>category</th>\n",
       "      <th>code</th>\n",
       "    </tr>\n",
       "    <tr>\n",
       "      <th>ISOdate</th>\n",
       "      <th></th>\n",
       "      <th></th>\n",
       "      <th></th>\n",
       "      <th></th>\n",
       "      <th></th>\n",
       "      <th></th>\n",
       "      <th></th>\n",
       "    </tr>\n",
       "  </thead>\n",
       "  <tbody>\n",
       "    <tr>\n",
       "      <th>2020-08-01</th>\n",
       "      <td>2020</td>\n",
       "      <td>8</td>\n",
       "      <td>0.466059</td>\n",
       "      <td>-0.160359</td>\n",
       "      <td>-0.626418</td>\n",
       "      <td>Neutral</td>\n",
       "      <td>0.0</td>\n",
       "    </tr>\n",
       "    <tr>\n",
       "      <th>2020-09-01</th>\n",
       "      <td>2020</td>\n",
       "      <td>9</td>\n",
       "      <td>1.064589</td>\n",
       "      <td>-0.469595</td>\n",
       "      <td>-1.534184</td>\n",
       "      <td>SOI NINA</td>\n",
       "      <td>-2.0</td>\n",
       "    </tr>\n",
       "    <tr>\n",
       "      <th>2020-10-01</th>\n",
       "      <td>2020</td>\n",
       "      <td>10</td>\n",
       "      <td>1.060964</td>\n",
       "      <td>-0.720500</td>\n",
       "      <td>-1.781464</td>\n",
       "      <td>CEI NINA</td>\n",
       "      <td>-3.0</td>\n",
       "    </tr>\n",
       "    <tr>\n",
       "      <th>2020-11-01</th>\n",
       "      <td>2020</td>\n",
       "      <td>11</td>\n",
       "      <td>0.896138</td>\n",
       "      <td>-0.989298</td>\n",
       "      <td>-1.885436</td>\n",
       "      <td>NINO3.4 NINA</td>\n",
       "      <td>-1.0</td>\n",
       "    </tr>\n",
       "    <tr>\n",
       "      <th>2020-12-01</th>\n",
       "      <td>2020</td>\n",
       "      <td>12</td>\n",
       "      <td>1.141955</td>\n",
       "      <td>-1.214505</td>\n",
       "      <td>-2.356460</td>\n",
       "      <td>CEI NINA</td>\n",
       "      <td>-3.0</td>\n",
       "    </tr>\n",
       "  </tbody>\n",
       "</table>\n",
       "</div>"
      ],
      "text/plain": [
       "            Year  Month     soi3m    nino5m       CEI      category  code\n",
       "ISOdate                                                                  \n",
       "2020-08-01  2020      8  0.466059 -0.160359 -0.626418       Neutral   0.0\n",
       "2020-09-01  2020      9  1.064589 -0.469595 -1.534184      SOI NINA  -2.0\n",
       "2020-10-01  2020     10  1.060964 -0.720500 -1.781464      CEI NINA  -3.0\n",
       "2020-11-01  2020     11  0.896138 -0.989298 -1.885436  NINO3.4 NINA  -1.0\n",
       "2020-12-01  2020     12  1.141955 -1.214505 -2.356460      CEI NINA  -3.0"
      ]
     },
     "execution_count": 75,
     "metadata": {},
     "output_type": "execute_result"
    }
   ],
   "source": [
    "data.tail()"
   ]
  },
  {
   "cell_type": "code",
   "execution_count": 76,
   "metadata": {},
   "outputs": [],
   "source": [
    "datas = data.loc['2017':,:]"
   ]
  },
  {
   "cell_type": "code",
   "execution_count": 77,
   "metadata": {},
   "outputs": [
    {
     "data": {
      "text/plain": [
       "Text(0.5, 1.0, 'CEI')"
      ]
     },
     "execution_count": 77,
     "metadata": {},
     "output_type": "execute_result"
    },
    {
     "data": {
      "image/png": "[encoded data removed]",
      "text/plain": [
       "<Figure size 432x432 with 1 Axes>"
      ]
     },
     "metadata": {},
     "output_type": "display_data"
    }
   ],
   "source": [
    "f, ax = plt.subplots(figsize=(6,6))\n",
    "\n",
    "f.subplots_adjust(bottom=0.2)\n",
    "\n",
    "ax.plot(datas.index, datas.CEI, 'k-', lw=2)\n",
    "\n",
    "ax.plot(datas.index[datas['category'] == 'CEI NINA'], datas.CEI[datas['category'] == 'CEI NINA'], 'b*', markersize=15, label='CEI NINA')\n",
    "ax.plot(datas.index[datas['category'] == 'CEI NINO'], datas.CEI[datas['category'] == 'CEI NINO'], 'r*',  markersize=15, label = 'CEI NINO')\n",
    "\n",
    "ax.plot(datas.index[datas['category'] == 'SOI NINA'], datas.CEI[datas['category'] == 'SOI NINA'], 'bo', label='SOI NINA')\n",
    "ax.plot(datas.index[datas['category'] == 'SOI NINO'], datas.CEI[datas['category'] == 'SOI NINO'], 'ro', label='SOI NINO')\n",
    "\n",
    "ax.plot(datas.index[datas['category'] == 'NINO3.4 NINA'], datas.CEI[datas['category'] == 'NINO3.4 NINA'], 'bv', markersize=10, label='NINO3.4 NINA')\n",
    "ax.plot(datas.index[datas['category'] == 'NINO3.4 NINO'], datas.CEI[datas['category'] == 'NINO3.4 NINO'], 'rv', markersize=10, label='NINO3.4 NINO')\n",
    "\n",
    "ax.axhline(0, color='k', ls=':')\n",
    "\n",
    "ax.legend(loc=3)\n",
    "\n",
    "[l.set_rotation(90) for l in ax.xaxis.get_ticklabels()]\n",
    "[l.set_fontsize(14) for l in ax.xaxis.get_ticklabels()]\n",
    "[l.set_fontsize(14) for l in ax.yaxis.get_ticklabels()]\n",
    "\n",
    "bounds = ax.get_xlim()\n",
    "\n",
    "ax.set_xlim((bounds[0] - 20, bounds[1] + 20))\n",
    "\n",
    "ax.grid(color='w')\n",
    "\n",
    "# ax.axvline('2017-1-1', color='k', zorder=0)\n",
    "\n",
    "ax.set_ylim(-6, 6)\n",
    "\n",
    "ax.set_title('CEI', fontsize=24)"
   ]
  },
  {
   "cell_type": "code",
   "execution_count": 79,
   "metadata": {},
   "outputs": [],
   "source": [
    "data.to_csv('./CEI_updated_2020-12.csv')"
   ]
  },
  {
   "cell_type": "code",
   "execution_count": 80,
   "metadata": {},
   "outputs": [
    {
     "data": {
      "text/html": [
       "<div>\n",
       "<style scoped>\n",
       "    .dataframe tbody tr th:only-of-type {\n",
       "        vertical-align: middle;\n",
       "    }\n",
       "\n",
       "    .dataframe tbody tr th {\n",
       "        vertical-align: top;\n",
       "    }\n",
       "\n",
       "    .dataframe thead th {\n",
       "        text-align: right;\n",
       "    }\n",
       "</style>\n",
       "<table border=\"1\" class=\"dataframe\">\n",
       "  <thead>\n",
       "    <tr style=\"text-align: right;\">\n",
       "      <th></th>\n",
       "      <th>Year</th>\n",
       "      <th>Month</th>\n",
       "      <th>soi3m</th>\n",
       "      <th>nino5m</th>\n",
       "      <th>CEI</th>\n",
       "      <th>category</th>\n",
       "      <th>code</th>\n",
       "    </tr>\n",
       "    <tr>\n",
       "      <th>ISOdate</th>\n",
       "      <th></th>\n",
       "      <th></th>\n",
       "      <th></th>\n",
       "      <th></th>\n",
       "      <th></th>\n",
       "      <th></th>\n",
       "      <th></th>\n",
       "    </tr>\n",
       "  </thead>\n",
       "  <tbody>\n",
       "    <tr>\n",
       "      <th>2020-08-01</th>\n",
       "      <td>2020</td>\n",
       "      <td>8</td>\n",
       "      <td>0.466059</td>\n",
       "      <td>-0.160359</td>\n",
       "      <td>-0.626418</td>\n",
       "      <td>Neutral</td>\n",
       "      <td>0.0</td>\n",
       "    </tr>\n",
       "    <tr>\n",
       "      <th>2020-09-01</th>\n",
       "      <td>2020</td>\n",
       "      <td>9</td>\n",
       "      <td>1.064589</td>\n",
       "      <td>-0.469595</td>\n",
       "      <td>-1.534184</td>\n",
       "      <td>SOI NINA</td>\n",
       "      <td>-2.0</td>\n",
       "    </tr>\n",
       "    <tr>\n",
       "      <th>2020-10-01</th>\n",
       "      <td>2020</td>\n",
       "      <td>10</td>\n",
       "      <td>1.060964</td>\n",
       "      <td>-0.720500</td>\n",
       "      <td>-1.781464</td>\n",
       "      <td>CEI NINA</td>\n",
       "      <td>-3.0</td>\n",
       "    </tr>\n",
       "    <tr>\n",
       "      <th>2020-11-01</th>\n",
       "      <td>2020</td>\n",
       "      <td>11</td>\n",
       "      <td>0.896138</td>\n",
       "      <td>-0.989298</td>\n",
       "      <td>-1.885436</td>\n",
       "      <td>NINO3.4 NINA</td>\n",
       "      <td>-1.0</td>\n",
       "    </tr>\n",
       "    <tr>\n",
       "      <th>2020-12-01</th>\n",
       "      <td>2020</td>\n",
       "      <td>12</td>\n",
       "      <td>1.141955</td>\n",
       "      <td>-1.214505</td>\n",
       "      <td>-2.356460</td>\n",
       "      <td>CEI NINA</td>\n",
       "      <td>-3.0</td>\n",
       "    </tr>\n",
       "  </tbody>\n",
       "</table>\n",
       "</div>"
      ],
      "text/plain": [
       "            Year  Month     soi3m    nino5m       CEI      category  code\n",
       "ISOdate                                                                  \n",
       "2020-08-01  2020      8  0.466059 -0.160359 -0.626418       Neutral   0.0\n",
       "2020-09-01  2020      9  1.064589 -0.469595 -1.534184      SOI NINA  -2.0\n",
       "2020-10-01  2020     10  1.060964 -0.720500 -1.781464      CEI NINA  -3.0\n",
       "2020-11-01  2020     11  0.896138 -0.989298 -1.885436  NINO3.4 NINA  -1.0\n",
       "2020-12-01  2020     12  1.141955 -1.214505 -2.356460      CEI NINA  -3.0"
      ]
     },
     "execution_count": 80,
     "metadata": {},
     "output_type": "execute_result"
    }
   ],
   "source": [
    "data.tail()"
   ]
  },
  {
   "cell_type": "code",
   "execution_count": 82,
   "metadata": {},
   "outputs": [],
   "source": [
    "f.savefig('./CEI_updated_2020-12.png', dpi=200, bbox_inches='tight', facecolor='w')"
   ]
  },
  {
   "cell_type": "code",
   "execution_count": null,
   "metadata": {},
   "outputs": [],
   "source": []
  }
 ],
 "metadata": {
  "anaconda-cloud": {},
  "kernelspec": {
   "display_name": "Python 3 (ipykernel)",
   "language": "python",
   "name": "python3"
  },
  "language_info": {
   "codemirror_mode": {
    "name": "ipython",
    "version": 3
   },
   "file_extension": ".py",
   "mimetype": "text/x-python",
   "name": "python",
   "nbconvert_exporter": "python",
   "pygments_lexer": "ipython3",
   "version": "3.9.16"
  },
  "latex_envs": {
   "bibliofile": "biblio.bib",
   "cite_by": "apalike",
   "current_citInitial": 1,
   "eqLabelWithNumbers": true,
   "eqNumInitial": 0
  },
  "nav_menu": {},
  "toc": {
   "colors": {
    "hover_highlight": "#DAA520",
    "running_highlight": "#FF0000",
    "selected_highlight": "#FFD700"
   },
   "moveMenuLeft": true,
   "nav_menu": {
    "height": "353px",
    "width": "252px"
   },
   "navigate_menu": true,
   "number_sections": true,
   "sideBar": true,
   "threshold": 4,
   "toc_cell": false,
   "toc_section_display": "block",
   "toc_window_display": false,
   "widenNotebook": false
  }
 },
 "nbformat": 4,
 "nbformat_minor": 4
}
