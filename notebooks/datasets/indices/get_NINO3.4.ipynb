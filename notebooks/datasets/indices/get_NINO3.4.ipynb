{
 "cells": [
  {
   "cell_type": "markdown",
   "id": "9d829b86-4b9b-42e3-a396-edc2002623b5",
   "metadata": {},
   "source": [
    "# Get the NINO 3.4 INDEX, based on the ERSST V5 SST dataset "
   ]
  },
  {
   "cell_type": "code",
   "execution_count": 1,
   "id": "7912367a-e8ff-45a0-b92a-b85624186a93",
   "metadata": {},
   "outputs": [],
   "source": [
    "%matplotlib inline\n",
    "from matplotlib import pyplot as plt"
   ]
  },
  {
   "cell_type": "code",
   "execution_count": 2,
   "id": "c78240ae-8216-4c59-b719-1877ca5bcbac",
   "metadata": {},
   "outputs": [],
   "source": [
    "from datetime import datetime"
   ]
  },
  {
   "cell_type": "code",
   "execution_count": 3,
   "id": "62f469be-906d-436b-a7b5-a91fb6601a65",
   "metadata": {},
   "outputs": [],
   "source": [
    "import numpy as np\n",
    "import pandas as pd"
   ]
  },
  {
   "cell_type": "code",
   "execution_count": 4,
   "id": "65a685e9-c86d-420b-8a42-45d9a4dfa2e8",
   "metadata": {},
   "outputs": [],
   "source": [
    "NINO_url = 'http://www.cpc.ncep.noaa.gov/data/indices/ersst5.nino.mth.91-20.ascii'\n",
    "opath = '/media/nicolasf/END19101/data/PICT/datasets/Indices/NINO34_monthly_1950_2021_1981_2010_Clim.csv'\n",
    "clim_start = '1981'\n",
    "clim_end = '2010'"
   ]
  },
  {
   "cell_type": "code",
   "execution_count": 5,
   "id": "7580908c-735f-4209-a885-da0162a4ce4b",
   "metadata": {},
   "outputs": [],
   "source": [
    "nino = pd.read_csv(NINO_url, sep='\\s+', engine='python')"
   ]
  },
  {
   "cell_type": "code",
   "execution_count": 6,
   "id": "eb74f12f-344a-4447-b17a-fabb02e33a5c",
   "metadata": {},
   "outputs": [
    {
     "data": {
      "text/plain": [
       "Index(['YR', 'MON', 'NINO1+2', 'ANOM', 'NINO3', 'ANOM.1', 'NINO4', 'ANOM.2',\n",
       "       'NINO3.4', 'ANOM.3'],\n",
       "      dtype='object')"
      ]
     },
     "execution_count": 6,
     "metadata": {},
     "output_type": "execute_result"
    }
   ],
   "source": [
    "nino.columns"
   ]
  },
  {
   "cell_type": "code",
   "execution_count": 7,
   "id": "6f02175e-fe23-4284-b8e2-607663af8a68",
   "metadata": {},
   "outputs": [
    {
     "data": {
      "text/html": [
       "<div>\n",
       "<style scoped>\n",
       "    .dataframe tbody tr th:only-of-type {\n",
       "        vertical-align: middle;\n",
       "    }\n",
       "\n",
       "    .dataframe tbody tr th {\n",
       "        vertical-align: top;\n",
       "    }\n",
       "\n",
       "    .dataframe thead th {\n",
       "        text-align: right;\n",
       "    }\n",
       "</style>\n",
       "<table border=\"1\" class=\"dataframe\">\n",
       "  <thead>\n",
       "    <tr style=\"text-align: right;\">\n",
       "      <th></th>\n",
       "      <th>YR</th>\n",
       "      <th>MON</th>\n",
       "      <th>NINO1+2</th>\n",
       "      <th>ANOM</th>\n",
       "      <th>NINO3</th>\n",
       "      <th>ANOM.1</th>\n",
       "      <th>NINO4</th>\n",
       "      <th>ANOM.2</th>\n",
       "      <th>NINO3.4</th>\n",
       "      <th>ANOM.3</th>\n",
       "    </tr>\n",
       "  </thead>\n",
       "  <tbody>\n",
       "    <tr>\n",
       "      <th>876</th>\n",
       "      <td>2023</td>\n",
       "      <td>1</td>\n",
       "      <td>24.00</td>\n",
       "      <td>-0.57</td>\n",
       "      <td>25.10</td>\n",
       "      <td>-0.56</td>\n",
       "      <td>27.66</td>\n",
       "      <td>-0.66</td>\n",
       "      <td>25.83</td>\n",
       "      <td>-0.71</td>\n",
       "    </tr>\n",
       "    <tr>\n",
       "      <th>877</th>\n",
       "      <td>2023</td>\n",
       "      <td>2</td>\n",
       "      <td>26.58</td>\n",
       "      <td>0.48</td>\n",
       "      <td>26.31</td>\n",
       "      <td>-0.10</td>\n",
       "      <td>27.64</td>\n",
       "      <td>-0.55</td>\n",
       "      <td>26.29</td>\n",
       "      <td>-0.46</td>\n",
       "    </tr>\n",
       "    <tr>\n",
       "      <th>878</th>\n",
       "      <td>2023</td>\n",
       "      <td>3</td>\n",
       "      <td>27.97</td>\n",
       "      <td>1.48</td>\n",
       "      <td>27.50</td>\n",
       "      <td>0.30</td>\n",
       "      <td>28.06</td>\n",
       "      <td>-0.26</td>\n",
       "      <td>27.18</td>\n",
       "      <td>-0.11</td>\n",
       "    </tr>\n",
       "    <tr>\n",
       "      <th>879</th>\n",
       "      <td>2023</td>\n",
       "      <td>4</td>\n",
       "      <td>28.16</td>\n",
       "      <td>2.62</td>\n",
       "      <td>28.05</td>\n",
       "      <td>0.47</td>\n",
       "      <td>28.75</td>\n",
       "      <td>0.12</td>\n",
       "      <td>27.96</td>\n",
       "      <td>0.14</td>\n",
       "    </tr>\n",
       "    <tr>\n",
       "      <th>880</th>\n",
       "      <td>2023</td>\n",
       "      <td>5</td>\n",
       "      <td>26.64</td>\n",
       "      <td>2.23</td>\n",
       "      <td>28.03</td>\n",
       "      <td>0.78</td>\n",
       "      <td>29.17</td>\n",
       "      <td>0.25</td>\n",
       "      <td>28.33</td>\n",
       "      <td>0.40</td>\n",
       "    </tr>\n",
       "  </tbody>\n",
       "</table>\n",
       "</div>"
      ],
      "text/plain": [
       "       YR  MON  NINO1+2  ANOM  NINO3  ANOM.1  NINO4  ANOM.2  NINO3.4  ANOM.3\n",
       "876  2023    1    24.00 -0.57  25.10   -0.56  27.66   -0.66    25.83   -0.71\n",
       "877  2023    2    26.58  0.48  26.31   -0.10  27.64   -0.55    26.29   -0.46\n",
       "878  2023    3    27.97  1.48  27.50    0.30  28.06   -0.26    27.18   -0.11\n",
       "879  2023    4    28.16  2.62  28.05    0.47  28.75    0.12    27.96    0.14\n",
       "880  2023    5    26.64  2.23  28.03    0.78  29.17    0.25    28.33    0.40"
      ]
     },
     "execution_count": 7,
     "metadata": {},
     "output_type": "execute_result"
    }
   ],
   "source": [
    "nino.tail()"
   ]
  },
  {
   "cell_type": "code",
   "execution_count": 8,
   "id": "c856dc36-8edd-49d4-ac4e-93dbec9de710",
   "metadata": {},
   "outputs": [],
   "source": [
    "nino = nino[['YR','MON','NINO3.4']]"
   ]
  },
  {
   "cell_type": "code",
   "execution_count": 9,
   "id": "2b3cf0a3-d907-4325-9ffc-4a2d3c02ac62",
   "metadata": {},
   "outputs": [
    {
     "data": {
      "text/html": [
       "<div>\n",
       "<style scoped>\n",
       "    .dataframe tbody tr th:only-of-type {\n",
       "        vertical-align: middle;\n",
       "    }\n",
       "\n",
       "    .dataframe tbody tr th {\n",
       "        vertical-align: top;\n",
       "    }\n",
       "\n",
       "    .dataframe thead th {\n",
       "        text-align: right;\n",
       "    }\n",
       "</style>\n",
       "<table border=\"1\" class=\"dataframe\">\n",
       "  <thead>\n",
       "    <tr style=\"text-align: right;\">\n",
       "      <th></th>\n",
       "      <th>YR</th>\n",
       "      <th>MON</th>\n",
       "      <th>NINO3.4</th>\n",
       "    </tr>\n",
       "  </thead>\n",
       "  <tbody>\n",
       "    <tr>\n",
       "      <th>876</th>\n",
       "      <td>2023</td>\n",
       "      <td>1</td>\n",
       "      <td>25.83</td>\n",
       "    </tr>\n",
       "    <tr>\n",
       "      <th>877</th>\n",
       "      <td>2023</td>\n",
       "      <td>2</td>\n",
       "      <td>26.29</td>\n",
       "    </tr>\n",
       "    <tr>\n",
       "      <th>878</th>\n",
       "      <td>2023</td>\n",
       "      <td>3</td>\n",
       "      <td>27.18</td>\n",
       "    </tr>\n",
       "    <tr>\n",
       "      <th>879</th>\n",
       "      <td>2023</td>\n",
       "      <td>4</td>\n",
       "      <td>27.96</td>\n",
       "    </tr>\n",
       "    <tr>\n",
       "      <th>880</th>\n",
       "      <td>2023</td>\n",
       "      <td>5</td>\n",
       "      <td>28.33</td>\n",
       "    </tr>\n",
       "  </tbody>\n",
       "</table>\n",
       "</div>"
      ],
      "text/plain": [
       "       YR  MON  NINO3.4\n",
       "876  2023    1    25.83\n",
       "877  2023    2    26.29\n",
       "878  2023    3    27.18\n",
       "879  2023    4    27.96\n",
       "880  2023    5    28.33"
      ]
     },
     "execution_count": 9,
     "metadata": {},
     "output_type": "execute_result"
    }
   ],
   "source": [
    "nino.tail()"
   ]
  },
  {
   "cell_type": "code",
   "execution_count": 10,
   "id": "abf08cba-d877-49f2-8a5b-c64ab3ac8362",
   "metadata": {},
   "outputs": [],
   "source": [
    "nino.loc[:,'DAY'] = 1"
   ]
  },
  {
   "cell_type": "code",
   "execution_count": 11,
   "id": "9a863a4f-7036-43bc-92ca-42b2f0718f42",
   "metadata": {},
   "outputs": [],
   "source": [
    "nino_clim = nino.copy()"
   ]
  },
  {
   "cell_type": "code",
   "execution_count": 12,
   "id": "2ab5fc23-6304-4cb9-b2ee-f817cc68abab",
   "metadata": {},
   "outputs": [],
   "source": [
    "nino_clim.index = nino_clim.YR"
   ]
  },
  {
   "cell_type": "code",
   "execution_count": 13,
   "id": "b0b6a8b2-2162-4978-94e2-44dc0c5f977c",
   "metadata": {},
   "outputs": [],
   "source": [
    "nino_clim = nino_clim.loc[1981:2010,:]"
   ]
  },
  {
   "cell_type": "code",
   "execution_count": 14,
   "id": "2c2e2f90-7042-46eb-b3ee-e309f133351c",
   "metadata": {},
   "outputs": [],
   "source": [
    "nino_clim = nino_clim.groupby(nino_clim.MON).mean()"
   ]
  },
  {
   "cell_type": "markdown",
   "id": "60950723-e270-4bef-850a-610a68185959",
   "metadata": {},
   "source": [
    "### get a proper datetime index from the `[['YR', 'MON', 'DAY']]` columns"
   ]
  },
  {
   "cell_type": "code",
   "execution_count": 15,
   "id": "d4a85598-3a3f-45f4-8be0-f0e1c702bb57",
   "metadata": {},
   "outputs": [],
   "source": [
    "nino.index = nino[['YR', 'MON', 'DAY']].apply(lambda d : datetime(*d), axis = 1)"
   ]
  },
  {
   "cell_type": "code",
   "execution_count": 16,
   "id": "a045fd5a-f1b4-4d54-8e10-ea7dbaf1aad2",
   "metadata": {},
   "outputs": [
    {
     "data": {
      "text/html": [
       "<div>\n",
       "<style scoped>\n",
       "    .dataframe tbody tr th:only-of-type {\n",
       "        vertical-align: middle;\n",
       "    }\n",
       "\n",
       "    .dataframe tbody tr th {\n",
       "        vertical-align: top;\n",
       "    }\n",
       "\n",
       "    .dataframe thead th {\n",
       "        text-align: right;\n",
       "    }\n",
       "</style>\n",
       "<table border=\"1\" class=\"dataframe\">\n",
       "  <thead>\n",
       "    <tr style=\"text-align: right;\">\n",
       "      <th></th>\n",
       "      <th>YR</th>\n",
       "      <th>MON</th>\n",
       "      <th>NINO3.4</th>\n",
       "      <th>DAY</th>\n",
       "    </tr>\n",
       "  </thead>\n",
       "  <tbody>\n",
       "    <tr>\n",
       "      <th>2023-01-01</th>\n",
       "      <td>2023</td>\n",
       "      <td>1</td>\n",
       "      <td>25.83</td>\n",
       "      <td>1</td>\n",
       "    </tr>\n",
       "    <tr>\n",
       "      <th>2023-02-01</th>\n",
       "      <td>2023</td>\n",
       "      <td>2</td>\n",
       "      <td>26.29</td>\n",
       "      <td>1</td>\n",
       "    </tr>\n",
       "    <tr>\n",
       "      <th>2023-03-01</th>\n",
       "      <td>2023</td>\n",
       "      <td>3</td>\n",
       "      <td>27.18</td>\n",
       "      <td>1</td>\n",
       "    </tr>\n",
       "    <tr>\n",
       "      <th>2023-04-01</th>\n",
       "      <td>2023</td>\n",
       "      <td>4</td>\n",
       "      <td>27.96</td>\n",
       "      <td>1</td>\n",
       "    </tr>\n",
       "    <tr>\n",
       "      <th>2023-05-01</th>\n",
       "      <td>2023</td>\n",
       "      <td>5</td>\n",
       "      <td>28.33</td>\n",
       "      <td>1</td>\n",
       "    </tr>\n",
       "  </tbody>\n",
       "</table>\n",
       "</div>"
      ],
      "text/plain": [
       "              YR  MON  NINO3.4  DAY\n",
       "2023-01-01  2023    1    25.83    1\n",
       "2023-02-01  2023    2    26.29    1\n",
       "2023-03-01  2023    3    27.18    1\n",
       "2023-04-01  2023    4    27.96    1\n",
       "2023-05-01  2023    5    28.33    1"
      ]
     },
     "execution_count": 16,
     "metadata": {},
     "output_type": "execute_result"
    }
   ],
   "source": [
    "nino.tail()"
   ]
  },
  {
   "cell_type": "markdown",
   "id": "93ad4644-7558-4d52-bdb1-ab1f96ec33e4",
   "metadata": {},
   "source": [
    "### anomalies WRT to the climatology defined above (1981 - 2010)"
   ]
  },
  {
   "cell_type": "code",
   "execution_count": 17,
   "id": "47ac8cd3-7050-43de-80e1-ebaab01796cb",
   "metadata": {},
   "outputs": [],
   "source": [
    "def demean(x): \n",
    "    return x - x.loc[str(clim_start):str(clim_end)].mean()"
   ]
  },
  {
   "cell_type": "code",
   "execution_count": 18,
   "id": "8c948aa1-deff-4e09-b2a9-8fe32893d324",
   "metadata": {},
   "outputs": [],
   "source": [
    "nino['anoms'] = nino.groupby(nino.MON)[['NINO3.4']].transform(demean)"
   ]
  },
  {
   "cell_type": "code",
   "execution_count": 19,
   "id": "e9b9853a-d78e-440c-a96f-0851cd2b9216",
   "metadata": {},
   "outputs": [
    {
     "data": {
      "text/plain": [
       "<AxesSubplot:>"
      ]
     },
     "execution_count": 19,
     "metadata": {},
     "output_type": "execute_result"
    },
    {
     "data": {
      "image/png": "[encoded data removed]",
      "text/plain": [
       "<Figure size 640x480 with 1 Axes>"
      ]
     },
     "metadata": {},
     "output_type": "display_data"
    }
   ],
   "source": [
    "nino.anoms.plot()"
   ]
  },
  {
   "cell_type": "code",
   "execution_count": 20,
   "id": "91b8a6cc-2c5d-49b4-85b5-b2ca92f1f8ae",
   "metadata": {},
   "outputs": [],
   "source": [
    "ninos = nino[['anoms']]\n",
    "ninos.columns = ['NINO34']"
   ]
  },
  {
   "cell_type": "code",
   "execution_count": 21,
   "id": "c98ba907-5fb0-4ce1-a87c-63579b57d55b",
   "metadata": {},
   "outputs": [
    {
     "data": {
      "text/html": [
       "<div>\n",
       "<style scoped>\n",
       "    .dataframe tbody tr th:only-of-type {\n",
       "        vertical-align: middle;\n",
       "    }\n",
       "\n",
       "    .dataframe tbody tr th {\n",
       "        vertical-align: top;\n",
       "    }\n",
       "\n",
       "    .dataframe thead th {\n",
       "        text-align: right;\n",
       "    }\n",
       "</style>\n",
       "<table border=\"1\" class=\"dataframe\">\n",
       "  <thead>\n",
       "    <tr style=\"text-align: right;\">\n",
       "      <th></th>\n",
       "      <th>NINO34</th>\n",
       "    </tr>\n",
       "  </thead>\n",
       "  <tbody>\n",
       "    <tr>\n",
       "      <th>1950-01-01</th>\n",
       "      <td>-2.002333</td>\n",
       "    </tr>\n",
       "    <tr>\n",
       "      <th>1950-02-01</th>\n",
       "      <td>-1.681667</td>\n",
       "    </tr>\n",
       "    <tr>\n",
       "      <th>1950-03-01</th>\n",
       "      <td>-1.364667</td>\n",
       "    </tr>\n",
       "    <tr>\n",
       "      <th>1950-04-01</th>\n",
       "      <td>-1.429667</td>\n",
       "    </tr>\n",
       "    <tr>\n",
       "      <th>1950-05-01</th>\n",
       "      <td>-1.632000</td>\n",
       "    </tr>\n",
       "  </tbody>\n",
       "</table>\n",
       "</div>"
      ],
      "text/plain": [
       "              NINO34\n",
       "1950-01-01 -2.002333\n",
       "1950-02-01 -1.681667\n",
       "1950-03-01 -1.364667\n",
       "1950-04-01 -1.429667\n",
       "1950-05-01 -1.632000"
      ]
     },
     "execution_count": 21,
     "metadata": {},
     "output_type": "execute_result"
    }
   ],
   "source": [
    "ninos.head()"
   ]
  },
  {
   "cell_type": "code",
   "execution_count": 22,
   "id": "28a777a4-70b0-4d3f-a93e-3b2ea6eb537d",
   "metadata": {},
   "outputs": [
    {
     "data": {
      "text/html": [
       "<div>\n",
       "<style scoped>\n",
       "    .dataframe tbody tr th:only-of-type {\n",
       "        vertical-align: middle;\n",
       "    }\n",
       "\n",
       "    .dataframe tbody tr th {\n",
       "        vertical-align: top;\n",
       "    }\n",
       "\n",
       "    .dataframe thead th {\n",
       "        text-align: right;\n",
       "    }\n",
       "</style>\n",
       "<table border=\"1\" class=\"dataframe\">\n",
       "  <thead>\n",
       "    <tr style=\"text-align: right;\">\n",
       "      <th></th>\n",
       "      <th>NINO34</th>\n",
       "    </tr>\n",
       "  </thead>\n",
       "  <tbody>\n",
       "    <tr>\n",
       "      <th>2023-01-01</th>\n",
       "      <td>-0.722333</td>\n",
       "    </tr>\n",
       "    <tr>\n",
       "      <th>2023-02-01</th>\n",
       "      <td>-0.451667</td>\n",
       "    </tr>\n",
       "    <tr>\n",
       "      <th>2023-03-01</th>\n",
       "      <td>-0.054667</td>\n",
       "    </tr>\n",
       "    <tr>\n",
       "      <th>2023-04-01</th>\n",
       "      <td>0.250333</td>\n",
       "    </tr>\n",
       "    <tr>\n",
       "      <th>2023-05-01</th>\n",
       "      <td>0.518000</td>\n",
       "    </tr>\n",
       "  </tbody>\n",
       "</table>\n",
       "</div>"
      ],
      "text/plain": [
       "              NINO34\n",
       "2023-01-01 -0.722333\n",
       "2023-02-01 -0.451667\n",
       "2023-03-01 -0.054667\n",
       "2023-04-01  0.250333\n",
       "2023-05-01  0.518000"
      ]
     },
     "execution_count": 22,
     "metadata": {},
     "output_type": "execute_result"
    }
   ],
   "source": [
    "ninos.tail()"
   ]
  },
  {
   "cell_type": "code",
   "execution_count": 23,
   "id": "6c00ad0c-3f6c-4711-b25c-dafb1d88d054",
   "metadata": {},
   "outputs": [],
   "source": [
    "ninos = ninos.loc['1950':'2021',:]"
   ]
  },
  {
   "cell_type": "code",
   "execution_count": 24,
   "id": "1662c643-ae8e-4eb7-a30f-172a6780dd1c",
   "metadata": {},
   "outputs": [
    {
     "data": {
      "text/html": [
       "<div>\n",
       "<style scoped>\n",
       "    .dataframe tbody tr th:only-of-type {\n",
       "        vertical-align: middle;\n",
       "    }\n",
       "\n",
       "    .dataframe tbody tr th {\n",
       "        vertical-align: top;\n",
       "    }\n",
       "\n",
       "    .dataframe thead th {\n",
       "        text-align: right;\n",
       "    }\n",
       "</style>\n",
       "<table border=\"1\" class=\"dataframe\">\n",
       "  <thead>\n",
       "    <tr style=\"text-align: right;\">\n",
       "      <th></th>\n",
       "      <th>NINO34</th>\n",
       "    </tr>\n",
       "  </thead>\n",
       "  <tbody>\n",
       "    <tr>\n",
       "      <th>2021-08-01</th>\n",
       "      <td>-0.514000</td>\n",
       "    </tr>\n",
       "    <tr>\n",
       "      <th>2021-09-01</th>\n",
       "      <td>-0.557333</td>\n",
       "    </tr>\n",
       "    <tr>\n",
       "      <th>2021-10-01</th>\n",
       "      <td>-0.903000</td>\n",
       "    </tr>\n",
       "    <tr>\n",
       "      <th>2021-11-01</th>\n",
       "      <td>-0.867667</td>\n",
       "    </tr>\n",
       "    <tr>\n",
       "      <th>2021-12-01</th>\n",
       "      <td>-1.021000</td>\n",
       "    </tr>\n",
       "  </tbody>\n",
       "</table>\n",
       "</div>"
      ],
      "text/plain": [
       "              NINO34\n",
       "2021-08-01 -0.514000\n",
       "2021-09-01 -0.557333\n",
       "2021-10-01 -0.903000\n",
       "2021-11-01 -0.867667\n",
       "2021-12-01 -1.021000"
      ]
     },
     "execution_count": 24,
     "metadata": {},
     "output_type": "execute_result"
    }
   ],
   "source": [
    "ninos.tail()"
   ]
  },
  {
   "cell_type": "markdown",
   "id": "5b2019fe-d025-4139-807a-0266f00ed7ed",
   "metadata": {},
   "source": [
    "### saves to disk "
   ]
  },
  {
   "cell_type": "code",
   "execution_count": 25,
   "id": "57f9c562-dd82-4601-b3d5-04fd5ed38924",
   "metadata": {},
   "outputs": [],
   "source": [
    "ninos.to_csv(opath)"
   ]
  }
 ],
 "metadata": {
  "kernelspec": {
   "display_name": "Python 3 (ipykernel)",
   "language": "python",
   "name": "python3"
  },
  "language_info": {
   "codemirror_mode": {
    "name": "ipython",
    "version": 3
   },
   "file_extension": ".py",
   "mimetype": "text/x-python",
   "name": "python",
   "nbconvert_exporter": "python",
   "pygments_lexer": "ipython3",
   "version": "3.9.16"
  }
 },
 "nbformat": 4,
 "nbformat_minor": 5
}
