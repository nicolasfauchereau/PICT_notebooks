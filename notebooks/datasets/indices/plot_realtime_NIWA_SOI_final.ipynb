{
 "cells": [
  {
   "cell_type": "markdown",
   "metadata": {},
   "source": [
    "# put together and plots the _FINAL_ SOI"
   ]
  },
  {
   "cell_type": "markdown",
   "metadata": {},
   "source": [
    "## to run on the 5th of each month, when the official monthly Tahiti and Darwin MSLP values are in "
   ]
  },
  {
   "cell_type": "code",
   "execution_count": 6,
   "metadata": {},
   "outputs": [],
   "source": [
    "import warnings\n",
    "warnings.filterwarnings('ignore', category=FutureWarning)"
   ]
  },
  {
   "cell_type": "code",
   "execution_count": 7,
   "metadata": {},
   "outputs": [],
   "source": [
    "%matplotlib inline\n",
    "from matplotlib import pyplot as plt\n",
    "import matplotlib as mpl\n",
    "from matplotlib.dates import YearLocator, MonthLocator, DateFormatter"
   ]
  },
  {
   "cell_type": "code",
   "execution_count": 8,
   "metadata": {},
   "outputs": [],
   "source": [
    "import pathlib"
   ]
  },
  {
   "cell_type": "code",
   "execution_count": 9,
   "metadata": {},
   "outputs": [],
   "source": [
    "import pandas as pd\n",
    "import numpy as np\n",
    "import requests\n",
    "import urllib.request, urllib.error, urllib.parse\n",
    "from dateutil import parser as dparser\n",
    "from datetime import datetime, timedelta\n",
    "from monthdelta import monthdelta\n",
    "from calendar import month_abbr\n",
    "import subprocess\n",
    "import sys, os"
   ]
  },
  {
   "cell_type": "code",
   "execution_count": 13,
   "metadata": {},
   "outputs": [],
   "source": [
    "clim_start = 1981\n",
    "clim_end = 2010"
   ]
  },
  {
   "cell_type": "markdown",
   "metadata": {},
   "source": [
    "### set the path to the NCC S: drive here "
   ]
  },
  {
   "cell_type": "code",
   "execution_count": 14,
   "metadata": {},
   "outputs": [],
   "source": [
    "ncc_sdrive = pathlib.Path.home() / 'drives/well_scratch/ncc'"
   ]
  },
  {
   "cell_type": "code",
   "execution_count": 15,
   "metadata": {},
   "outputs": [
    {
     "data": {
      "text/plain": [
       "PosixPath('/home/nicolasf/drives/well_scratch/ncc')"
      ]
     },
     "execution_count": 15,
     "metadata": {},
     "output_type": "execute_result"
    }
   ],
   "source": [
    "ncc_sdrive"
   ]
  },
  {
   "cell_type": "markdown",
   "metadata": {},
   "source": [
    "### get the Tahiti and Darwin MSLP 'official' values "
   ]
  },
  {
   "cell_type": "code",
   "execution_count": 16,
   "metadata": {},
   "outputs": [],
   "source": [
    "def get_BOM_MSLP(station='tahiti'):\n",
    "    \n",
    "    url = \"ftp://ftp.bom.gov.au/anon/home/ncc/www/sco/soi/{}mslp.html\".format(station)\n",
    "    \n",
    "    req = urllib.request.Request(url)\n",
    "\n",
    "    r = urllib.request.urlopen(req)\n",
    "\n",
    "    data = r.read()\n",
    "\n",
    "    data = data.splitlines()\n",
    "\n",
    "    with open('./{}_text'.format(station), 'w') as fout: \n",
    "        if station == 'tahiti':\n",
    "            data = data[15:-1]\n",
    "        else:\n",
    "            data = data[14:-1]\n",
    "\n",
    "        data = [x.decode('utf-8') for x in data]\n",
    "        data = [x+'\\n' for x in data]\n",
    "        fout.writelines(data)\n",
    "    \n",
    "    data = pd.read_table('./{}_text'.format(station),sep='\\s+', engine='python', na_values='*', index_col=['Year'])\n",
    "    \n",
    "    os.remove('./{}_text'.format(station))\n",
    "    \n",
    "    return(data)\n"
   ]
  },
  {
   "cell_type": "markdown",
   "metadata": {},
   "source": [
    "### TAHITI"
   ]
  },
  {
   "cell_type": "code",
   "execution_count": 17,
   "metadata": {},
   "outputs": [],
   "source": [
    "tahitidf = get_BOM_MSLP(station='tahiti')"
   ]
  },
  {
   "cell_type": "code",
   "execution_count": 18,
   "metadata": {},
   "outputs": [
    {
     "data": {
      "text/html": [
       "<div>\n",
       "<style scoped>\n",
       "    .dataframe tbody tr th:only-of-type {\n",
       "        vertical-align: middle;\n",
       "    }\n",
       "\n",
       "    .dataframe tbody tr th {\n",
       "        vertical-align: top;\n",
       "    }\n",
       "\n",
       "    .dataframe thead th {\n",
       "        text-align: right;\n",
       "    }\n",
       "</style>\n",
       "<table border=\"1\" class=\"dataframe\">\n",
       "  <thead>\n",
       "    <tr style=\"text-align: right;\">\n",
       "      <th></th>\n",
       "      <th>Jan</th>\n",
       "      <th>Feb</th>\n",
       "      <th>Mar</th>\n",
       "      <th>Apr</th>\n",
       "      <th>May</th>\n",
       "      <th>Jun</th>\n",
       "      <th>Jul</th>\n",
       "      <th>Aug</th>\n",
       "      <th>Sep</th>\n",
       "      <th>Oct</th>\n",
       "      <th>Nov</th>\n",
       "      <th>Dec</th>\n",
       "    </tr>\n",
       "    <tr>\n",
       "      <th>Year</th>\n",
       "      <th></th>\n",
       "      <th></th>\n",
       "      <th></th>\n",
       "      <th></th>\n",
       "      <th></th>\n",
       "      <th></th>\n",
       "      <th></th>\n",
       "      <th></th>\n",
       "      <th></th>\n",
       "      <th></th>\n",
       "      <th></th>\n",
       "      <th></th>\n",
       "    </tr>\n",
       "  </thead>\n",
       "  <tbody>\n",
       "    <tr>\n",
       "      <th>2019</th>\n",
       "      <td>1011.1</td>\n",
       "      <td>1010.7</td>\n",
       "      <td>1011.1</td>\n",
       "      <td>1012.3</td>\n",
       "      <td>1012.8</td>\n",
       "      <td>1013.7</td>\n",
       "      <td>1014.3</td>\n",
       "      <td>1015.3</td>\n",
       "      <td>1014.8</td>\n",
       "      <td>1013.4</td>\n",
       "      <td>1011.2</td>\n",
       "      <td>1010.8</td>\n",
       "    </tr>\n",
       "    <tr>\n",
       "      <th>2020</th>\n",
       "      <td>1011.9</td>\n",
       "      <td>1011.5</td>\n",
       "      <td>1012.1</td>\n",
       "      <td>1012.8</td>\n",
       "      <td>1014.4</td>\n",
       "      <td>1012.9</td>\n",
       "      <td>1014.3</td>\n",
       "      <td>1015.7</td>\n",
       "      <td>1015.7</td>\n",
       "      <td>1013.6</td>\n",
       "      <td>1013.3</td>\n",
       "      <td>1013.3</td>\n",
       "    </tr>\n",
       "    <tr>\n",
       "      <th>2021</th>\n",
       "      <td>1013.5</td>\n",
       "      <td>1012.0</td>\n",
       "      <td>1012.0</td>\n",
       "      <td>1012.3</td>\n",
       "      <td>1013.4</td>\n",
       "      <td>1014.6</td>\n",
       "      <td>1015.7</td>\n",
       "      <td>1015.7</td>\n",
       "      <td>1015.9</td>\n",
       "      <td>1013.7</td>\n",
       "      <td>1013.1</td>\n",
       "      <td>1012.7</td>\n",
       "    </tr>\n",
       "    <tr>\n",
       "      <th>2022</th>\n",
       "      <td>1011.8</td>\n",
       "      <td>1013.2</td>\n",
       "      <td>1014.0</td>\n",
       "      <td>1013.6</td>\n",
       "      <td>1014.3</td>\n",
       "      <td>1015.5</td>\n",
       "      <td>1015.4</td>\n",
       "      <td>1015.3</td>\n",
       "      <td>1016.7</td>\n",
       "      <td>1015.1</td>\n",
       "      <td>1012.2</td>\n",
       "      <td>1013.0</td>\n",
       "    </tr>\n",
       "    <tr>\n",
       "      <th>2023</th>\n",
       "      <td>1012.9</td>\n",
       "      <td>1012.1</td>\n",
       "      <td>1012.0</td>\n",
       "      <td>1011.5</td>\n",
       "      <td>1012.4</td>\n",
       "      <td>NaN</td>\n",
       "      <td>NaN</td>\n",
       "      <td>NaN</td>\n",
       "      <td>NaN</td>\n",
       "      <td>NaN</td>\n",
       "      <td>NaN</td>\n",
       "      <td>NaN</td>\n",
       "    </tr>\n",
       "  </tbody>\n",
       "</table>\n",
       "</div>"
      ],
      "text/plain": [
       "         Jan     Feb     Mar     Apr     May     Jun     Jul     Aug     Sep  \\\n",
       "Year                                                                           \n",
       "2019  1011.1  1010.7  1011.1  1012.3  1012.8  1013.7  1014.3  1015.3  1014.8   \n",
       "2020  1011.9  1011.5  1012.1  1012.8  1014.4  1012.9  1014.3  1015.7  1015.7   \n",
       "2021  1013.5  1012.0  1012.0  1012.3  1013.4  1014.6  1015.7  1015.7  1015.9   \n",
       "2022  1011.8  1013.2  1014.0  1013.6  1014.3  1015.5  1015.4  1015.3  1016.7   \n",
       "2023  1012.9  1012.1  1012.0  1011.5  1012.4     NaN     NaN     NaN     NaN   \n",
       "\n",
       "         Oct     Nov     Dec  \n",
       "Year                          \n",
       "2019  1013.4  1011.2  1010.8  \n",
       "2020  1013.6  1013.3  1013.3  \n",
       "2021  1013.7  1013.1  1012.7  \n",
       "2022  1015.1  1012.2  1013.0  \n",
       "2023     NaN     NaN     NaN  "
      ]
     },
     "execution_count": 18,
     "metadata": {},
     "output_type": "execute_result"
    }
   ],
   "source": [
    "tahitidf.tail()"
   ]
  },
  {
   "cell_type": "markdown",
   "metadata": {},
   "source": [
    "### DARWIN"
   ]
  },
  {
   "cell_type": "code",
   "execution_count": 19,
   "metadata": {},
   "outputs": [],
   "source": [
    "darwindf = get_BOM_MSLP(station='darwin')"
   ]
  },
  {
   "cell_type": "code",
   "execution_count": 20,
   "metadata": {},
   "outputs": [
    {
     "data": {
      "text/html": [
       "<div>\n",
       "<style scoped>\n",
       "    .dataframe tbody tr th:only-of-type {\n",
       "        vertical-align: middle;\n",
       "    }\n",
       "\n",
       "    .dataframe tbody tr th {\n",
       "        vertical-align: top;\n",
       "    }\n",
       "\n",
       "    .dataframe thead th {\n",
       "        text-align: right;\n",
       "    }\n",
       "</style>\n",
       "<table border=\"1\" class=\"dataframe\">\n",
       "  <thead>\n",
       "    <tr style=\"text-align: right;\">\n",
       "      <th></th>\n",
       "      <th>Jan</th>\n",
       "      <th>Feb</th>\n",
       "      <th>Mar</th>\n",
       "      <th>Apr</th>\n",
       "      <th>May</th>\n",
       "      <th>Jun</th>\n",
       "      <th>Jul</th>\n",
       "      <th>Aug</th>\n",
       "      <th>Sep</th>\n",
       "      <th>Oct</th>\n",
       "      <th>Nov</th>\n",
       "      <th>Dec</th>\n",
       "    </tr>\n",
       "    <tr>\n",
       "      <th>Year</th>\n",
       "      <th></th>\n",
       "      <th></th>\n",
       "      <th></th>\n",
       "      <th></th>\n",
       "      <th></th>\n",
       "      <th></th>\n",
       "      <th></th>\n",
       "      <th></th>\n",
       "      <th></th>\n",
       "      <th></th>\n",
       "      <th></th>\n",
       "      <th></th>\n",
       "    </tr>\n",
       "  </thead>\n",
       "  <tbody>\n",
       "    <tr>\n",
       "      <th>2019</th>\n",
       "      <td>1006.8</td>\n",
       "      <td>1009.0</td>\n",
       "      <td>1008.4</td>\n",
       "      <td>1010.1</td>\n",
       "      <td>1012.3</td>\n",
       "      <td>1013.8</td>\n",
       "      <td>1014.2</td>\n",
       "      <td>1014.3</td>\n",
       "      <td>1014.5</td>\n",
       "      <td>1011.4</td>\n",
       "      <td>1009.7</td>\n",
       "      <td>1008.4</td>\n",
       "    </tr>\n",
       "    <tr>\n",
       "      <th>2020</th>\n",
       "      <td>1007.2</td>\n",
       "      <td>1007.4</td>\n",
       "      <td>1009.1</td>\n",
       "      <td>1010.5</td>\n",
       "      <td>1012.4</td>\n",
       "      <td>1012.9</td>\n",
       "      <td>1012.7</td>\n",
       "      <td>1012.5</td>\n",
       "      <td>1011.6</td>\n",
       "      <td>1010.0</td>\n",
       "      <td>1009.0</td>\n",
       "      <td>1006.5</td>\n",
       "    </tr>\n",
       "    <tr>\n",
       "      <th>2021</th>\n",
       "      <td>1005.6</td>\n",
       "      <td>1005.0</td>\n",
       "      <td>1008.1</td>\n",
       "      <td>1009.7</td>\n",
       "      <td>1011.3</td>\n",
       "      <td>1013.1</td>\n",
       "      <td>1012.3</td>\n",
       "      <td>1013.3</td>\n",
       "      <td>1012.0</td>\n",
       "      <td>1009.7</td>\n",
       "      <td>1008.3</td>\n",
       "      <td>1006.5</td>\n",
       "    </tr>\n",
       "    <tr>\n",
       "      <th>2022</th>\n",
       "      <td>1006.5</td>\n",
       "      <td>1006.9</td>\n",
       "      <td>1007.5</td>\n",
       "      <td>1008.5</td>\n",
       "      <td>1010.4</td>\n",
       "      <td>1011.7</td>\n",
       "      <td>1013.1</td>\n",
       "      <td>1012.2</td>\n",
       "      <td>1011.3</td>\n",
       "      <td>1009.3</td>\n",
       "      <td>1008.6</td>\n",
       "      <td>1005.6</td>\n",
       "    </tr>\n",
       "    <tr>\n",
       "      <th>2023</th>\n",
       "      <td>1006.0</td>\n",
       "      <td>1005.3</td>\n",
       "      <td>1008.4</td>\n",
       "      <td>1009.1</td>\n",
       "      <td>1013.1</td>\n",
       "      <td>NaN</td>\n",
       "      <td>NaN</td>\n",
       "      <td>NaN</td>\n",
       "      <td>NaN</td>\n",
       "      <td>NaN</td>\n",
       "      <td>NaN</td>\n",
       "      <td>NaN</td>\n",
       "    </tr>\n",
       "  </tbody>\n",
       "</table>\n",
       "</div>"
      ],
      "text/plain": [
       "         Jan     Feb     Mar     Apr     May     Jun     Jul     Aug     Sep  \\\n",
       "Year                                                                           \n",
       "2019  1006.8  1009.0  1008.4  1010.1  1012.3  1013.8  1014.2  1014.3  1014.5   \n",
       "2020  1007.2  1007.4  1009.1  1010.5  1012.4  1012.9  1012.7  1012.5  1011.6   \n",
       "2021  1005.6  1005.0  1008.1  1009.7  1011.3  1013.1  1012.3  1013.3  1012.0   \n",
       "2022  1006.5  1006.9  1007.5  1008.5  1010.4  1011.7  1013.1  1012.2  1011.3   \n",
       "2023  1006.0  1005.3  1008.4  1009.1  1013.1     NaN     NaN     NaN     NaN   \n",
       "\n",
       "         Oct     Nov     Dec  \n",
       "Year                          \n",
       "2019  1011.4  1009.7  1008.4  \n",
       "2020  1010.0  1009.0  1006.5  \n",
       "2021  1009.7  1008.3  1006.5  \n",
       "2022  1009.3  1008.6  1005.6  \n",
       "2023     NaN     NaN     NaN  "
      ]
     },
     "execution_count": 20,
     "metadata": {},
     "output_type": "execute_result"
    }
   ],
   "source": [
    "darwindf.tail()"
   ]
  },
  {
   "cell_type": "code",
   "execution_count": 21,
   "metadata": {},
   "outputs": [],
   "source": [
    "\"\"\"\n",
    "climatological period\n",
    "\"\"\"\n",
    "clim_start = clim_start\n",
    "clim_end = clim_end\n",
    "clim = \"{}_{}\".format(clim_start, clim_end)"
   ]
  },
  {
   "cell_type": "markdown",
   "metadata": {},
   "source": [
    "If T and D are the monthly pressures at Tahiti and Darwin, respectively, and Tc and Dc the climatological monthly pressures, then: \n",
    "```\n",
    "SOI    =   [ (T – Tc) – (D – Dc) ]  /  [ StDev (T – D)  ]\n",
    "```\n",
    "\n",
    "The reference is: \n",
    "\n",
    "**Troup, A.J,, 1965: The Southern Oscillation. Quarterly Journal of Royal Meteorological\n",
    "Society 91, 490-506.**"
   ]
  },
  {
   "cell_type": "code",
   "execution_count": 22,
   "metadata": {},
   "outputs": [],
   "source": [
    "### ==============================================================================================================\n",
    "tahiti_cli = tahitidf.loc[clim_start:clim_end,:]\n",
    "darwin_cli = darwindf.loc[clim_start:clim_end,:]\n",
    "\n",
    "tahiti_mean = tahiti_cli.mean(0)\n",
    "darwin_mean = darwin_cli.mean(0)\n",
    "### ==============================================================================================================\n",
    "\n",
    "### ==============================================================================================================\n",
    "### Step 3: calculate the SOI\n",
    "soi = ((tahitidf - tahiti_mean) - (darwindf - darwin_mean)) / ((tahiti_cli -  darwin_cli).std(0))"
   ]
  },
  {
   "cell_type": "code",
   "execution_count": 23,
   "metadata": {},
   "outputs": [
    {
     "data": {
      "text/html": [
       "<div>\n",
       "<style scoped>\n",
       "    .dataframe tbody tr th:only-of-type {\n",
       "        vertical-align: middle;\n",
       "    }\n",
       "\n",
       "    .dataframe tbody tr th {\n",
       "        vertical-align: top;\n",
       "    }\n",
       "\n",
       "    .dataframe thead th {\n",
       "        text-align: right;\n",
       "    }\n",
       "</style>\n",
       "<table border=\"1\" class=\"dataframe\">\n",
       "  <thead>\n",
       "    <tr style=\"text-align: right;\">\n",
       "      <th></th>\n",
       "      <th>Jan</th>\n",
       "      <th>Feb</th>\n",
       "      <th>Mar</th>\n",
       "      <th>Apr</th>\n",
       "      <th>May</th>\n",
       "      <th>Jun</th>\n",
       "      <th>Jul</th>\n",
       "      <th>Aug</th>\n",
       "      <th>Sep</th>\n",
       "      <th>Oct</th>\n",
       "      <th>Nov</th>\n",
       "      <th>Dec</th>\n",
       "    </tr>\n",
       "    <tr>\n",
       "      <th>Year</th>\n",
       "      <th></th>\n",
       "      <th></th>\n",
       "      <th></th>\n",
       "      <th></th>\n",
       "      <th></th>\n",
       "      <th></th>\n",
       "      <th></th>\n",
       "      <th></th>\n",
       "      <th></th>\n",
       "      <th></th>\n",
       "      <th></th>\n",
       "      <th></th>\n",
       "    </tr>\n",
       "  </thead>\n",
       "  <tbody>\n",
       "    <tr>\n",
       "      <th>2019</th>\n",
       "      <td>-0.012422</td>\n",
       "      <td>-0.920571</td>\n",
       "      <td>-0.254408</td>\n",
       "      <td>0.146256</td>\n",
       "      <td>-0.578193</td>\n",
       "      <td>-0.660018</td>\n",
       "      <td>-0.481909</td>\n",
       "      <td>-0.130638</td>\n",
       "      <td>-1.174775</td>\n",
       "      <td>-0.366939</td>\n",
       "      <td>-0.843285</td>\n",
       "      <td>-0.482897</td>\n",
       "    </tr>\n",
       "    <tr>\n",
       "      <th>2020</th>\n",
       "      <td>0.153205</td>\n",
       "      <td>-0.039173</td>\n",
       "      <td>-0.108569</td>\n",
       "      <td>0.206361</td>\n",
       "      <td>0.578193</td>\n",
       "      <td>-0.578197</td>\n",
       "      <td>0.541011</td>\n",
       "      <td>1.216569</td>\n",
       "      <td>0.961180</td>\n",
       "      <td>0.531687</td>\n",
       "      <td>0.792649</td>\n",
       "      <td>1.593403</td>\n",
       "    </tr>\n",
       "    <tr>\n",
       "      <th>2021</th>\n",
       "      <td>1.478224</td>\n",
       "      <td>1.025850</td>\n",
       "      <td>0.328948</td>\n",
       "      <td>0.386677</td>\n",
       "      <td>0.655285</td>\n",
       "      <td>0.649108</td>\n",
       "      <td>1.768516</td>\n",
       "      <td>0.726676</td>\n",
       "      <td>0.848761</td>\n",
       "      <td>0.756344</td>\n",
       "      <td>1.084781</td>\n",
       "      <td>1.310271</td>\n",
       "    </tr>\n",
       "    <tr>\n",
       "      <th>2022</th>\n",
       "      <td>0.401646</td>\n",
       "      <td>0.768775</td>\n",
       "      <td>1.592886</td>\n",
       "      <td>1.889309</td>\n",
       "      <td>2.042948</td>\n",
       "      <td>2.530977</td>\n",
       "      <td>1.018374</td>\n",
       "      <td>1.155333</td>\n",
       "      <td>1.691901</td>\n",
       "      <td>1.767299</td>\n",
       "      <td>0.383666</td>\n",
       "      <td>1.876535</td>\n",
       "    </tr>\n",
       "    <tr>\n",
       "      <th>2023</th>\n",
       "      <td>1.064156</td>\n",
       "      <td>0.952400</td>\n",
       "      <td>0.183109</td>\n",
       "      <td>0.266467</td>\n",
       "      <td>-1.503301</td>\n",
       "      <td>NaN</td>\n",
       "      <td>NaN</td>\n",
       "      <td>NaN</td>\n",
       "      <td>NaN</td>\n",
       "      <td>NaN</td>\n",
       "      <td>NaN</td>\n",
       "      <td>NaN</td>\n",
       "    </tr>\n",
       "  </tbody>\n",
       "</table>\n",
       "</div>"
      ],
      "text/plain": [
       "           Jan       Feb       Mar       Apr       May       Jun       Jul  \\\n",
       "Year                                                                         \n",
       "2019 -0.012422 -0.920571 -0.254408  0.146256 -0.578193 -0.660018 -0.481909   \n",
       "2020  0.153205 -0.039173 -0.108569  0.206361  0.578193 -0.578197  0.541011   \n",
       "2021  1.478224  1.025850  0.328948  0.386677  0.655285  0.649108  1.768516   \n",
       "2022  0.401646  0.768775  1.592886  1.889309  2.042948  2.530977  1.018374   \n",
       "2023  1.064156  0.952400  0.183109  0.266467 -1.503301       NaN       NaN   \n",
       "\n",
       "           Aug       Sep       Oct       Nov       Dec  \n",
       "Year                                                    \n",
       "2019 -0.130638 -1.174775 -0.366939 -0.843285 -0.482897  \n",
       "2020  1.216569  0.961180  0.531687  0.792649  1.593403  \n",
       "2021  0.726676  0.848761  0.756344  1.084781  1.310271  \n",
       "2022  1.155333  1.691901  1.767299  0.383666  1.876535  \n",
       "2023       NaN       NaN       NaN       NaN       NaN  "
      ]
     },
     "execution_count": 23,
     "metadata": {},
     "output_type": "execute_result"
    }
   ],
   "source": [
    "soi.tail()"
   ]
  },
  {
   "cell_type": "markdown",
   "metadata": {},
   "source": [
    "### stack everything vertically and add a proper datetime index\n"
   ]
  },
  {
   "cell_type": "code",
   "execution_count": 24,
   "metadata": {},
   "outputs": [],
   "source": [
    "ts_soi = pd.DataFrame(soi.stack())\n",
    "\n",
    "dates = []\n",
    "for i in range(len(ts_soi)):\n",
    "    dates.append(dparser.parse(\"{}-{}-1\".format(ts_soi.index.get_level_values(0)[i], ts_soi.index.get_level_values(1)[i])))\n",
    "\n",
    "ts_soi.index = dates\n",
    "ts_soi.columns = [['SOI']]"
   ]
  },
  {
   "cell_type": "code",
   "execution_count": 25,
   "metadata": {},
   "outputs": [
    {
     "data": {
      "text/html": [
       "<div>\n",
       "<style scoped>\n",
       "    .dataframe tbody tr th:only-of-type {\n",
       "        vertical-align: middle;\n",
       "    }\n",
       "\n",
       "    .dataframe tbody tr th {\n",
       "        vertical-align: top;\n",
       "    }\n",
       "\n",
       "    .dataframe thead tr th {\n",
       "        text-align: left;\n",
       "    }\n",
       "</style>\n",
       "<table border=\"1\" class=\"dataframe\">\n",
       "  <thead>\n",
       "    <tr>\n",
       "      <th></th>\n",
       "      <th>SOI</th>\n",
       "    </tr>\n",
       "  </thead>\n",
       "  <tbody>\n",
       "    <tr>\n",
       "      <th>1876-01-01</th>\n",
       "      <td>1.022749</td>\n",
       "    </tr>\n",
       "    <tr>\n",
       "      <th>1876-02-01</th>\n",
       "      <td>0.989125</td>\n",
       "    </tr>\n",
       "    <tr>\n",
       "      <th>1876-03-01</th>\n",
       "      <td>0.377561</td>\n",
       "    </tr>\n",
       "    <tr>\n",
       "      <th>1876-04-01</th>\n",
       "      <td>0.927624</td>\n",
       "    </tr>\n",
       "    <tr>\n",
       "      <th>1876-05-01</th>\n",
       "      <td>0.963654</td>\n",
       "    </tr>\n",
       "  </tbody>\n",
       "</table>\n",
       "</div>"
      ],
      "text/plain": [
       "                 SOI\n",
       "1876-01-01  1.022749\n",
       "1876-02-01  0.989125\n",
       "1876-03-01  0.377561\n",
       "1876-04-01  0.927624\n",
       "1876-05-01  0.963654"
      ]
     },
     "execution_count": 25,
     "metadata": {},
     "output_type": "execute_result"
    }
   ],
   "source": [
    "ts_soi.head()"
   ]
  },
  {
   "cell_type": "code",
   "execution_count": 26,
   "metadata": {},
   "outputs": [
    {
     "data": {
      "text/html": [
       "<div>\n",
       "<style scoped>\n",
       "    .dataframe tbody tr th:only-of-type {\n",
       "        vertical-align: middle;\n",
       "    }\n",
       "\n",
       "    .dataframe tbody tr th {\n",
       "        vertical-align: top;\n",
       "    }\n",
       "\n",
       "    .dataframe thead tr th {\n",
       "        text-align: left;\n",
       "    }\n",
       "</style>\n",
       "<table border=\"1\" class=\"dataframe\">\n",
       "  <thead>\n",
       "    <tr>\n",
       "      <th></th>\n",
       "      <th>SOI</th>\n",
       "    </tr>\n",
       "  </thead>\n",
       "  <tbody>\n",
       "    <tr>\n",
       "      <th>2023-01-01</th>\n",
       "      <td>1.064156</td>\n",
       "    </tr>\n",
       "    <tr>\n",
       "      <th>2023-02-01</th>\n",
       "      <td>0.952400</td>\n",
       "    </tr>\n",
       "    <tr>\n",
       "      <th>2023-03-01</th>\n",
       "      <td>0.183109</td>\n",
       "    </tr>\n",
       "    <tr>\n",
       "      <th>2023-04-01</th>\n",
       "      <td>0.266467</td>\n",
       "    </tr>\n",
       "    <tr>\n",
       "      <th>2023-05-01</th>\n",
       "      <td>-1.503301</td>\n",
       "    </tr>\n",
       "  </tbody>\n",
       "</table>\n",
       "</div>"
      ],
      "text/plain": [
       "                 SOI\n",
       "2023-01-01  1.064156\n",
       "2023-02-01  0.952400\n",
       "2023-03-01  0.183109\n",
       "2023-04-01  0.266467\n",
       "2023-05-01 -1.503301"
      ]
     },
     "execution_count": 26,
     "metadata": {},
     "output_type": "execute_result"
    }
   ],
   "source": [
    "ts_soi.tail()"
   ]
  },
  {
   "cell_type": "markdown",
   "metadata": {},
   "source": [
    "### here choose the period to display "
   ]
  },
  {
   "cell_type": "code",
   "execution_count": 27,
   "metadata": {},
   "outputs": [],
   "source": [
    "# ts_soi = ts_soi.truncate(before=\"2016/1/1\")"
   ]
  },
  {
   "cell_type": "markdown",
   "metadata": {},
   "source": [
    "### calculate the 3 months rolling averages "
   ]
  },
  {
   "cell_type": "code",
   "execution_count": 28,
   "metadata": {},
   "outputs": [],
   "source": [
    "ts_soi[['SOIRM']] = ts_soi.rolling(window=3, min_periods=3, center=False).mean()"
   ]
  },
  {
   "cell_type": "code",
   "execution_count": 29,
   "metadata": {},
   "outputs": [
    {
     "data": {
      "text/html": [
       "<div>\n",
       "<style scoped>\n",
       "    .dataframe tbody tr th:only-of-type {\n",
       "        vertical-align: middle;\n",
       "    }\n",
       "\n",
       "    .dataframe tbody tr th {\n",
       "        vertical-align: top;\n",
       "    }\n",
       "\n",
       "    .dataframe thead tr th {\n",
       "        text-align: left;\n",
       "    }\n",
       "</style>\n",
       "<table border=\"1\" class=\"dataframe\">\n",
       "  <thead>\n",
       "    <tr>\n",
       "      <th></th>\n",
       "      <th>SOI</th>\n",
       "      <th>SOIRM</th>\n",
       "    </tr>\n",
       "  </thead>\n",
       "  <tbody>\n",
       "    <tr>\n",
       "      <th>1876-01-01</th>\n",
       "      <td>1.022749</td>\n",
       "      <td>NaN</td>\n",
       "    </tr>\n",
       "    <tr>\n",
       "      <th>1876-02-01</th>\n",
       "      <td>0.989125</td>\n",
       "      <td>NaN</td>\n",
       "    </tr>\n",
       "    <tr>\n",
       "      <th>1876-03-01</th>\n",
       "      <td>0.377561</td>\n",
       "      <td>0.796478</td>\n",
       "    </tr>\n",
       "    <tr>\n",
       "      <th>1876-04-01</th>\n",
       "      <td>0.927624</td>\n",
       "      <td>0.764770</td>\n",
       "    </tr>\n",
       "    <tr>\n",
       "      <th>1876-05-01</th>\n",
       "      <td>0.963654</td>\n",
       "      <td>0.756280</td>\n",
       "    </tr>\n",
       "    <tr>\n",
       "      <th>...</th>\n",
       "      <td>...</td>\n",
       "      <td>...</td>\n",
       "    </tr>\n",
       "    <tr>\n",
       "      <th>2023-01-01</th>\n",
       "      <td>1.064156</td>\n",
       "      <td>1.108119</td>\n",
       "    </tr>\n",
       "    <tr>\n",
       "      <th>2023-02-01</th>\n",
       "      <td>0.952400</td>\n",
       "      <td>1.297697</td>\n",
       "    </tr>\n",
       "    <tr>\n",
       "      <th>2023-03-01</th>\n",
       "      <td>0.183109</td>\n",
       "      <td>0.733221</td>\n",
       "    </tr>\n",
       "    <tr>\n",
       "      <th>2023-04-01</th>\n",
       "      <td>0.266467</td>\n",
       "      <td>0.467325</td>\n",
       "    </tr>\n",
       "    <tr>\n",
       "      <th>2023-05-01</th>\n",
       "      <td>-1.503301</td>\n",
       "      <td>-0.351242</td>\n",
       "    </tr>\n",
       "  </tbody>\n",
       "</table>\n",
       "<p>1769 rows × 2 columns</p>\n",
       "</div>"
      ],
      "text/plain": [
       "                 SOI     SOIRM\n",
       "1876-01-01  1.022749       NaN\n",
       "1876-02-01  0.989125       NaN\n",
       "1876-03-01  0.377561  0.796478\n",
       "1876-04-01  0.927624  0.764770\n",
       "1876-05-01  0.963654  0.756280\n",
       "...              ...       ...\n",
       "2023-01-01  1.064156  1.108119\n",
       "2023-02-01  0.952400  1.297697\n",
       "2023-03-01  0.183109  0.733221\n",
       "2023-04-01  0.266467  0.467325\n",
       "2023-05-01 -1.503301 -0.351242\n",
       "\n",
       "[1769 rows x 2 columns]"
      ]
     },
     "execution_count": 29,
     "metadata": {},
     "output_type": "execute_result"
    }
   ],
   "source": [
    "ts_soi"
   ]
  },
  {
   "cell_type": "code",
   "execution_count": 30,
   "metadata": {},
   "outputs": [
    {
     "name": "stdout",
     "output_type": "stream",
     "text": [
      "2023-05\n"
     ]
    }
   ],
   "source": [
    "print(f\"{ts_soi.index[-1]:%Y-%m}\") "
   ]
  },
  {
   "cell_type": "code",
   "execution_count": 31,
   "metadata": {},
   "outputs": [],
   "source": [
    "ts_soi.to_csv(f'./NIWA_SOI_updated_to_{ts_soi.index[-1]:%Y-%m}.csv')"
   ]
  },
  {
   "cell_type": "code",
   "execution_count": null,
   "metadata": {},
   "outputs": [],
   "source": []
  },
  {
   "cell_type": "markdown",
   "metadata": {},
   "source": [
    "### some munging to get the xticks right and the width of the bars "
   ]
  },
  {
   "cell_type": "code",
   "execution_count": 22,
   "metadata": {},
   "outputs": [],
   "source": [
    "dates = np.array(ts_soi.index.to_pydatetime())\n",
    "widths= np.array([(dates[j+1]-dates[j]).days for j in range(len(dates)-1)] + [30])"
   ]
  },
  {
   "cell_type": "markdown",
   "metadata": {},
   "source": [
    "### get the values "
   ]
  },
  {
   "cell_type": "code",
   "execution_count": 23,
   "metadata": {},
   "outputs": [
    {
     "ename": "TypeError",
     "evalue": "only integer scalar arrays can be converted to a scalar index",
     "output_type": "error",
     "traceback": [
      "\u001b[0;31m---------------------------------------------------------------------------\u001b[0m",
      "\u001b[0;31mTypeError\u001b[0m                                 Traceback (most recent call last)",
      "\u001b[0;32m<ipython-input-23-189733b5493a>\u001b[0m in \u001b[0;36m<module>\u001b[0;34m\u001b[0m\n\u001b[0;32m----> 1\u001b[0;31m \u001b[0msoi\u001b[0m \u001b[0;34m=\u001b[0m \u001b[0mts_soi\u001b[0m\u001b[0;34m[\u001b[0m\u001b[0;34m'SOI'\u001b[0m\u001b[0;34m]\u001b[0m\u001b[0;34m.\u001b[0m\u001b[0mvalues\u001b[0m\u001b[0;34m.\u001b[0m\u001b[0mflatten\u001b[0m\u001b[0;34m(\u001b[0m\u001b[0;34m)\u001b[0m\u001b[0;34m\u001b[0m\u001b[0;34m\u001b[0m\u001b[0m\n\u001b[0m\u001b[1;32m      2\u001b[0m \u001b[0msoim\u001b[0m \u001b[0;34m=\u001b[0m \u001b[0mts_soi\u001b[0m\u001b[0;34m[\u001b[0m\u001b[0;34m'SOIRM'\u001b[0m\u001b[0;34m]\u001b[0m\u001b[0;34m.\u001b[0m\u001b[0mvalues\u001b[0m\u001b[0;34m.\u001b[0m\u001b[0mflatten\u001b[0m\u001b[0;34m(\u001b[0m\u001b[0;34m)\u001b[0m\u001b[0;34m\u001b[0m\u001b[0;34m\u001b[0m\u001b[0m\n",
      "\u001b[0;32m~/anaconda3/envs/pangeo/lib/python3.8/site-packages/pandas/core/frame.py\u001b[0m in \u001b[0;36m__getitem__\u001b[0;34m(self, key)\u001b[0m\n\u001b[1;32m   2774\u001b[0m                 \u001b[0;32mif\u001b[0m \u001b[0mself\u001b[0m\u001b[0;34m.\u001b[0m\u001b[0mcolumns\u001b[0m\u001b[0;34m.\u001b[0m\u001b[0mnlevels\u001b[0m \u001b[0;34m>\u001b[0m \u001b[0;36m1\u001b[0m\u001b[0;34m:\u001b[0m\u001b[0;34m\u001b[0m\u001b[0;34m\u001b[0m\u001b[0m\n\u001b[1;32m   2775\u001b[0m                     \u001b[0;32mreturn\u001b[0m \u001b[0mself\u001b[0m\u001b[0;34m.\u001b[0m\u001b[0m_getitem_multilevel\u001b[0m\u001b[0;34m(\u001b[0m\u001b[0mkey\u001b[0m\u001b[0;34m)\u001b[0m\u001b[0;34m\u001b[0m\u001b[0;34m\u001b[0m\u001b[0m\n\u001b[0;32m-> 2776\u001b[0;31m                 \u001b[0;32mreturn\u001b[0m \u001b[0mself\u001b[0m\u001b[0;34m.\u001b[0m\u001b[0m_get_item_cache\u001b[0m\u001b[0;34m(\u001b[0m\u001b[0mkey\u001b[0m\u001b[0;34m)\u001b[0m\u001b[0;34m\u001b[0m\u001b[0;34m\u001b[0m\u001b[0m\n\u001b[0m\u001b[1;32m   2777\u001b[0m \u001b[0;34m\u001b[0m\u001b[0m\n\u001b[1;32m   2778\u001b[0m         \u001b[0;31m# Do we have a slicer (on rows)?\u001b[0m\u001b[0;34m\u001b[0m\u001b[0;34m\u001b[0m\u001b[0;34m\u001b[0m\u001b[0m\n",
      "\u001b[0;32m~/anaconda3/envs/pangeo/lib/python3.8/site-packages/pandas/core/generic.py\u001b[0m in \u001b[0;36m_get_item_cache\u001b[0;34m(self, item)\u001b[0m\n\u001b[1;32m   3584\u001b[0m         \u001b[0mres\u001b[0m \u001b[0;34m=\u001b[0m \u001b[0mcache\u001b[0m\u001b[0;34m.\u001b[0m\u001b[0mget\u001b[0m\u001b[0;34m(\u001b[0m\u001b[0mitem\u001b[0m\u001b[0;34m)\u001b[0m\u001b[0;34m\u001b[0m\u001b[0;34m\u001b[0m\u001b[0m\n\u001b[1;32m   3585\u001b[0m         \u001b[0;32mif\u001b[0m \u001b[0mres\u001b[0m \u001b[0;32mis\u001b[0m \u001b[0;32mNone\u001b[0m\u001b[0;34m:\u001b[0m\u001b[0;34m\u001b[0m\u001b[0;34m\u001b[0m\u001b[0m\n\u001b[0;32m-> 3586\u001b[0;31m             \u001b[0mvalues\u001b[0m \u001b[0;34m=\u001b[0m \u001b[0mself\u001b[0m\u001b[0;34m.\u001b[0m\u001b[0m_data\u001b[0m\u001b[0;34m.\u001b[0m\u001b[0mget\u001b[0m\u001b[0;34m(\u001b[0m\u001b[0mitem\u001b[0m\u001b[0;34m)\u001b[0m\u001b[0;34m\u001b[0m\u001b[0;34m\u001b[0m\u001b[0m\n\u001b[0m\u001b[1;32m   3587\u001b[0m             \u001b[0mres\u001b[0m \u001b[0;34m=\u001b[0m \u001b[0mself\u001b[0m\u001b[0;34m.\u001b[0m\u001b[0m_box_item_values\u001b[0m\u001b[0;34m(\u001b[0m\u001b[0mitem\u001b[0m\u001b[0;34m,\u001b[0m \u001b[0mvalues\u001b[0m\u001b[0;34m)\u001b[0m\u001b[0;34m\u001b[0m\u001b[0;34m\u001b[0m\u001b[0m\n\u001b[1;32m   3588\u001b[0m             \u001b[0mcache\u001b[0m\u001b[0;34m[\u001b[0m\u001b[0mitem\u001b[0m\u001b[0;34m]\u001b[0m \u001b[0;34m=\u001b[0m \u001b[0mres\u001b[0m\u001b[0;34m\u001b[0m\u001b[0;34m\u001b[0m\u001b[0m\n",
      "\u001b[0;32m~/anaconda3/envs/pangeo/lib/python3.8/site-packages/pandas/core/internals/managers.py\u001b[0m in \u001b[0;36mget\u001b[0;34m(self, item)\u001b[0m\n\u001b[1;32m    966\u001b[0m                         \u001b[0;32mraise\u001b[0m \u001b[0mValueError\u001b[0m\u001b[0;34m(\u001b[0m\u001b[0;34m\"cannot label index with a null key\"\u001b[0m\u001b[0;34m)\u001b[0m\u001b[0;34m\u001b[0m\u001b[0;34m\u001b[0m\u001b[0m\n\u001b[1;32m    967\u001b[0m \u001b[0;34m\u001b[0m\u001b[0m\n\u001b[0;32m--> 968\u001b[0;31m             \u001b[0;32mreturn\u001b[0m \u001b[0mself\u001b[0m\u001b[0;34m.\u001b[0m\u001b[0miget\u001b[0m\u001b[0;34m(\u001b[0m\u001b[0mloc\u001b[0m\u001b[0;34m)\u001b[0m\u001b[0;34m\u001b[0m\u001b[0;34m\u001b[0m\u001b[0m\n\u001b[0m\u001b[1;32m    969\u001b[0m         \u001b[0;32melse\u001b[0m\u001b[0;34m:\u001b[0m\u001b[0;34m\u001b[0m\u001b[0;34m\u001b[0m\u001b[0m\n\u001b[1;32m    970\u001b[0m \u001b[0;34m\u001b[0m\u001b[0m\n",
      "\u001b[0;32m~/anaconda3/envs/pangeo/lib/python3.8/site-packages/pandas/core/internals/managers.py\u001b[0m in \u001b[0;36miget\u001b[0;34m(self, i)\u001b[0m\n\u001b[1;32m    983\u001b[0m         \u001b[0mOtherwise\u001b[0m \u001b[0;32mreturn\u001b[0m \u001b[0;32mas\u001b[0m \u001b[0ma\u001b[0m \u001b[0mndarray\u001b[0m\u001b[0;34m\u001b[0m\u001b[0;34m\u001b[0m\u001b[0m\n\u001b[1;32m    984\u001b[0m         \"\"\"\n\u001b[0;32m--> 985\u001b[0;31m         \u001b[0mblock\u001b[0m \u001b[0;34m=\u001b[0m \u001b[0mself\u001b[0m\u001b[0;34m.\u001b[0m\u001b[0mblocks\u001b[0m\u001b[0;34m[\u001b[0m\u001b[0mself\u001b[0m\u001b[0;34m.\u001b[0m\u001b[0m_blknos\u001b[0m\u001b[0;34m[\u001b[0m\u001b[0mi\u001b[0m\u001b[0;34m]\u001b[0m\u001b[0;34m]\u001b[0m\u001b[0;34m\u001b[0m\u001b[0;34m\u001b[0m\u001b[0m\n\u001b[0m\u001b[1;32m    986\u001b[0m         \u001b[0mvalues\u001b[0m \u001b[0;34m=\u001b[0m \u001b[0mblock\u001b[0m\u001b[0;34m.\u001b[0m\u001b[0miget\u001b[0m\u001b[0;34m(\u001b[0m\u001b[0mself\u001b[0m\u001b[0;34m.\u001b[0m\u001b[0m_blklocs\u001b[0m\u001b[0;34m[\u001b[0m\u001b[0mi\u001b[0m\u001b[0;34m]\u001b[0m\u001b[0;34m)\u001b[0m\u001b[0;34m\u001b[0m\u001b[0;34m\u001b[0m\u001b[0m\n\u001b[1;32m    987\u001b[0m \u001b[0;34m\u001b[0m\u001b[0m\n",
      "\u001b[0;31mTypeError\u001b[0m: only integer scalar arrays can be converted to a scalar index"
     ]
    }
   ],
   "source": [
    "soi = ts_soi['SOI'].values.flatten()\n",
    "soim = ts_soi['SOIRM'].values.flatten()"
   ]
  },
  {
   "cell_type": "code",
   "execution_count": 24,
   "metadata": {},
   "outputs": [],
   "source": [
    "## ==============================================================================================================\n",
    "### plotting parameters\n",
    "years   = YearLocator()\n",
    "#months  = MonthLocator(bymonth=[1,3,5,7,9,11])\n",
    "months  = MonthLocator()\n",
    "mFMT = DateFormatter('%b')\n",
    "yFMT = DateFormatter('\\n\\n%Y')\n",
    "mpl.rcParams['xtick.labelsize'] = 12\n",
    "mpl.rcParams['ytick.labelsize'] = 12\n",
    "mpl.rcParams['axes.titlesize'] = 14\n",
    "mpl.rcParams['xtick.direction'] = 'out'\n",
    "mpl.rcParams['ytick.direction'] = 'out'\n",
    "mpl.rcParams['xtick.major.size'] = 5\n",
    "mpl.rcParams['ytick.major.size'] = 5\n",
    "mpl.rcParams['xtick.minor.size'] = 2"
   ]
  },
  {
   "cell_type": "markdown",
   "metadata": {},
   "source": [
    "### now plot the figure"
   ]
  },
  {
   "cell_type": "code",
   "execution_count": 46,
   "metadata": {},
   "outputs": [
    {
     "data": {
      "image/png": "[encoded data removed]",
      "text/plain": [
       "<Figure size 1008x504 with 1 Axes>"
      ]
     },
     "metadata": {
      "needs_background": "light"
     },
     "output_type": "display_data"
    }
   ],
   "source": [
    "fig, ax = plt.subplots(figsize=(14,7))\n",
    "fig.subplots_adjust(bottom=0.15)\n",
    "\n",
    "ax.bar(dates[soi>=0],soi[soi>=0], width=widths[soi>=0], facecolor='steelblue', alpha=.8, edgecolor='k', lw=2)\n",
    "ax.bar(dates[soi<0],soi[soi<0], width=widths[soi<0], facecolor='coral', alpha=.8, edgecolor='k', lw=2)\n",
    "\n",
    "ax.plot(dates,soim, lw=3, color='k', label='3-mth mean')\n",
    "\n",
    "ax.xaxis.set_minor_locator(months)\n",
    "ax.xaxis.set_major_locator(years)\n",
    "ax.xaxis.set_minor_formatter(mFMT)\n",
    "ax.xaxis.set_major_formatter(yFMT)\n",
    "ax.axhline(0, color='k')\n",
    "\n",
    "labels = ax.get_xminorticklabels()\n",
    "for label in labels:\n",
    "    label.set_fontsize(14)\n",
    "    label.set_rotation(90)\n",
    "labels = ax.get_xmajorticklabels()\n",
    "for label in labels:\n",
    "    label.set_fontsize(18)\n",
    "labels = ax.get_yticklabels()\n",
    "for label in labels:\n",
    "    label.set_fontsize(18)\n",
    "\n",
    "ax.grid(linestyle=':')\n",
    "ax.xaxis.grid(True, which='both', linestyle=':')\n",
    "ax.legend(loc=3, fancybox=True)\n",
    "ax.set_ylim(-3., 3.)\n",
    "ax.set_ylabel('Monthly SOI (NIWA)', fontsize=14, backgroundcolor=\"w\")\n",
    "\n",
    "ax.text(0.01,1.02,\"NIWA SOI\", fontsize=24, fontweight='bold', transform=ax.transAxes)\n",
    "\n",
    "ax.text(dates[-5], 2.8, \"%s NIWA Ltd.\" % (u'\\N{Copyright Sign}'))\n",
    "\n",
    "ax.set_xlim(dates[0] - monthdelta(1), dates[-1] + monthdelta(1))\n",
    "\n",
    "textBm = \"{:%B %Y} = {:+3.1f}\".format(dates[-1], soi[-1])\n",
    "\n",
    "textBs = \"%s to %s = %+3.1f\" % (dates[-3].strftime(\"%b %Y\"), dates[-1].strftime(\"%b %Y\"), soi[-3:].mean())\n",
    "\n",
    "ax.text(0.25,1.02,\"Latest values: {}, {}\".format(textBm, textBs), fontsize=16, transform=ax.transAxes);\n",
    "\n",
    "fig.savefig(ncc_sdrive / 'indices/figures/real_time_monthly_NIWA_SOI_1941_2010.png', dpi=200)\n",
    "fig.savefig(pathlib.Path.home() / 'Desktop/real_time_monthly_NIWA_SOI_1941_2010.png', dpi=200)"
   ]
  }
 ],
 "metadata": {
  "anaconda-cloud": {},
  "kernelspec": {
   "display_name": "Python 3 (ipykernel)",
   "language": "python",
   "name": "python3"
  },
  "language_info": {
   "codemirror_mode": {
    "name": "ipython",
    "version": 3
   },
   "file_extension": ".py",
   "mimetype": "text/x-python",
   "name": "python",
   "nbconvert_exporter": "python",
   "pygments_lexer": "ipython3",
   "version": "3.9.16"
  },
  "latex_envs": {
   "LaTeX_envs_menu_present": true,
   "autocomplete": true,
   "bibliofile": "biblio.bib",
   "cite_by": "apalike",
   "current_citInitial": 1,
   "eqLabelWithNumbers": true,
   "eqNumInitial": 0,
   "hotkeys": {
    "equation": "Ctrl-E",
    "itemize": "Ctrl-I"
   },
   "labels_anchors": false,
   "latex_user_defs": false,
   "report_style_numbering": false,
   "user_envs_cfg": false
  },
  "nav_menu": {},
  "toc": {
   "colors": {
    "hover_highlight": "#DAA520",
    "running_highlight": "#FF0000",
    "selected_highlight": "#FFD700"
   },
   "moveMenuLeft": true,
   "nav_menu": {
    "height": "12px",
    "width": "252px"
   },
   "navigate_menu": true,
   "number_sections": true,
   "sideBar": true,
   "threshold": 4,
   "toc_cell": false,
   "toc_section_display": "block",
   "toc_window_display": false,
   "widenNotebook": false
  }
 },
 "nbformat": 4,
 "nbformat_minor": 4
}
