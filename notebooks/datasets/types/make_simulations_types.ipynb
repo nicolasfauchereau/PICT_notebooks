{
 "cells": [
  {
   "cell_type": "code",
   "execution_count": 1,
   "id": "6929448d-6d6f-4c32-a272-13f3e6dec1fb",
   "metadata": {},
   "outputs": [],
   "source": [
    "%load_ext autoreload\n",
    "%autoreload 2"
   ]
  },
  {
   "cell_type": "code",
   "execution_count": 2,
   "id": "3480d9aa-edc7-413d-b67f-5d9b5b06093f",
   "metadata": {},
   "outputs": [],
   "source": [
    "import sys"
   ]
  },
  {
   "cell_type": "code",
   "execution_count": 3,
   "id": "3d7a3945-d3cb-4b0b-8b01-3cbd9ee943e6",
   "metadata": {},
   "outputs": [],
   "source": [
    "%matplotlib inline\n",
    "import matplotlib.pyplot as plt"
   ]
  },
  {
   "cell_type": "code",
   "execution_count": 4,
   "id": "325f8d39-b945-4553-8d3c-368bee14d45b",
   "metadata": {},
   "outputs": [],
   "source": [
    "import numpy as np\n",
    "import pandas as pd\n",
    "import xarray as xr"
   ]
  },
  {
   "cell_type": "code",
   "execution_count": 5,
   "id": "252cd6ab-cc75-4376-a051-cda78ecfad4b",
   "metadata": {},
   "outputs": [],
   "source": [
    "import h5py\n",
    "import json"
   ]
  },
  {
   "cell_type": "code",
   "execution_count": 6,
   "id": "596e4958-04a1-4e6f-8c93-d31e0c82609a",
   "metadata": {
    "scrolled": true
   },
   "outputs": [],
   "source": [
    "from paleopy import WR, markov"
   ]
  },
  {
   "cell_type": "code",
   "execution_count": 7,
   "id": "43b05c6c-2559-415b-8b63-39d1b6a17277",
   "metadata": {},
   "outputs": [],
   "source": [
    "def select_season(data, season='DJF', complete=True, start = 1948, end = 2021, rm_leap=False):\n",
    "    from calendar import monthrange\n",
    "    \"\"\"\n",
    "    Select a season from data\n",
    "    data must be a Pandas Series or DataFrame with a datetime index\n",
    "    \"\"\"\n",
    "        \n",
    "    seasons_params = {}\n",
    "    seasons_params['DJF'] = (12,2)\n",
    "    seasons_params['JFM'] = (1,3)\n",
    "    seasons_params['FMA'] = (2,4)\n",
    "    seasons_params['MAM'] = (3,5)\n",
    "    seasons_params['AMJ'] = (4,6)\n",
    "    seasons_params['MJJ'] = (5,7)\n",
    "    seasons_params['JJA'] = (6,8)\n",
    "    seasons_params['JAS'] = (7,9)\n",
    "    seasons_params['ASO'] = (8,10)\n",
    "    seasons_params['SON'] = (9,11)\n",
    "    seasons_params['OND'] = (10,12)\n",
    "    seasons_params['NDJ'] = (11,1)\n",
    "    seasons_params['Warm Season (Dec. - May)'] = (12, 5)\n",
    "    seasons_params['Cold Season (Jun. - Nov.)'] = (6, 11)\n",
    "    seasons_params['Year (Jan. - Dec.)'] = (1, 12)\n",
    "    seasons_params['Hydro. year (Jul. - Jun.)'] = (7, 6)    \n",
    "        \n",
    "    ### defines the selector \n",
    "    selector = ((data.index.month >= seasons_params[season][0]) | (data.index.month <= seasons_params[season][1]))\n",
    "    \n",
    "    ### selects\n",
    "    data = data[selector]\n",
    "    \n",
    "    ### if complete == True, we only select COMPLETE seasons \n",
    "    data = data.truncate(before='%s-%s-1' % (start, seasons_params[season][0]),\\\n",
    "                   after='%s-%s-%s' % (end, seasons_params[season][1], monthrange(end,seasons_params[season][1])[1] ))\n",
    "    \n",
    "    if rm_leap: \n",
    "        data[(data.index.month == 2) & (data.index.day == 29)] = np.nan\n",
    "        data.dropna(inplace=True)\n",
    "    \n",
    "    return data"
   ]
  },
  {
   "cell_type": "code",
   "execution_count": 8,
   "id": "b1cf854d-1463-44b1-a978-1ed5e26f31ed",
   "metadata": {},
   "outputs": [],
   "source": [
    "lseason = ['AMJ',\n",
    " 'ASO',\n",
    " 'DJF',\n",
    " 'FMA',\n",
    " 'JAS',\n",
    " 'JFM',\n",
    " 'JJA',\n",
    " 'MAM',\n",
    " 'MJJ',\n",
    " 'NDJ',\n",
    " 'OND',\n",
    " 'SON',\n",
    " 'Cold Season (Jun. - Nov.)',\n",
    " 'Warm Season (Dec. - May)',\n",
    " 'Hydro. year (Jul. - Jun.)',\n",
    " 'Year (Jan. - Dec.)']"
   ]
  },
  {
   "cell_type": "code",
   "execution_count": 9,
   "id": "a95bc1b7-54ee-419b-a363-7a38e0491e72",
   "metadata": {},
   "outputs": [],
   "source": [
    "with open('../../jsons/WRs.json', 'r') as f: \n",
    "    WR_config = json.load(f)"
   ]
  },
  {
   "cell_type": "markdown",
   "id": "af2a8c32-d04e-4e43-a591-c625e61374be",
   "metadata": {},
   "source": [
    "### loads the 9 NZ types "
   ]
  },
  {
   "cell_type": "markdown",
   "id": "38c915b8-70c0-4fc5-bb59-0fba2b9a9c35",
   "metadata": {},
   "source": [
    "#### see analyse_clusters_hires_ERA5.ipynb in `/home/nicolasf/research/CPP/WRs/notebooks/Weather_and_Climate_paper`"
   ]
  },
  {
   "cell_type": "code",
   "execution_count": 7,
   "id": "0356daf1-bc21-418b-a833-c9a58324d6dc",
   "metadata": {},
   "outputs": [],
   "source": [
    "nz_9_types = pd.read_csv(\"/media/nicolasf/END19101/data/PICT/datasets/Types/NZ_9_CRs_ERA5.csv\", index_col=0, parse_dates=True) "
   ]
  },
  {
   "cell_type": "code",
   "execution_count": 8,
   "id": "7b256fda-c187-49c1-8710-0b7d36ad29ca",
   "metadata": {},
   "outputs": [
    {
     "data": {
      "text/html": [
       "<div>\n",
       "<style scoped>\n",
       "    .dataframe tbody tr th:only-of-type {\n",
       "        vertical-align: middle;\n",
       "    }\n",
       "\n",
       "    .dataframe tbody tr th {\n",
       "        vertical-align: top;\n",
       "    }\n",
       "\n",
       "    .dataframe thead th {\n",
       "        text-align: right;\n",
       "    }\n",
       "</style>\n",
       "<table border=\"1\" class=\"dataframe\">\n",
       "  <thead>\n",
       "    <tr style=\"text-align: right;\">\n",
       "      <th></th>\n",
       "      <th>type</th>\n",
       "      <th>class</th>\n",
       "    </tr>\n",
       "    <tr>\n",
       "      <th>time</th>\n",
       "      <th></th>\n",
       "      <th></th>\n",
       "    </tr>\n",
       "  </thead>\n",
       "  <tbody>\n",
       "    <tr>\n",
       "      <th>1979-01-01</th>\n",
       "      <td>LSW</td>\n",
       "      <td>3</td>\n",
       "    </tr>\n",
       "    <tr>\n",
       "      <th>1979-01-02</th>\n",
       "      <td>LSW</td>\n",
       "      <td>3</td>\n",
       "    </tr>\n",
       "    <tr>\n",
       "      <th>1979-01-03</th>\n",
       "      <td>LSE</td>\n",
       "      <td>1</td>\n",
       "    </tr>\n",
       "    <tr>\n",
       "      <th>1979-01-04</th>\n",
       "      <td>LSE</td>\n",
       "      <td>1</td>\n",
       "    </tr>\n",
       "    <tr>\n",
       "      <th>1979-01-05</th>\n",
       "      <td>HS</td>\n",
       "      <td>2</td>\n",
       "    </tr>\n",
       "    <tr>\n",
       "      <th>...</th>\n",
       "      <td>...</td>\n",
       "      <td>...</td>\n",
       "    </tr>\n",
       "    <tr>\n",
       "      <th>2019-12-27</th>\n",
       "      <td>HW</td>\n",
       "      <td>7</td>\n",
       "    </tr>\n",
       "    <tr>\n",
       "      <th>2019-12-28</th>\n",
       "      <td>HW</td>\n",
       "      <td>7</td>\n",
       "    </tr>\n",
       "    <tr>\n",
       "      <th>2019-12-29</th>\n",
       "      <td>HW</td>\n",
       "      <td>7</td>\n",
       "    </tr>\n",
       "    <tr>\n",
       "      <th>2019-12-30</th>\n",
       "      <td>HS</td>\n",
       "      <td>2</td>\n",
       "    </tr>\n",
       "    <tr>\n",
       "      <th>2019-12-31</th>\n",
       "      <td>HSE</td>\n",
       "      <td>4</td>\n",
       "    </tr>\n",
       "  </tbody>\n",
       "</table>\n",
       "<p>14975 rows × 2 columns</p>\n",
       "</div>"
      ],
      "text/plain": [
       "           type  class\n",
       "time                  \n",
       "1979-01-01  LSW      3\n",
       "1979-01-02  LSW      3\n",
       "1979-01-03  LSE      1\n",
       "1979-01-04  LSE      1\n",
       "1979-01-05   HS      2\n",
       "...         ...    ...\n",
       "2019-12-27   HW      7\n",
       "2019-12-28   HW      7\n",
       "2019-12-29   HW      7\n",
       "2019-12-30   HS      2\n",
       "2019-12-31  HSE      4\n",
       "\n",
       "[14975 rows x 2 columns]"
      ]
     },
     "execution_count": 8,
     "metadata": {},
     "output_type": "execute_result"
    }
   ],
   "source": [
    "nz_9_types"
   ]
  },
  {
   "cell_type": "code",
   "execution_count": 70,
   "id": "465d70c1-609d-42e6-a470-460e12cec514",
   "metadata": {},
   "outputs": [],
   "source": [
    "types = ['LSE', 'HS', 'LSW', 'HSE', 'LNE', 'L', 'HW', 'LNW', 'H']"
   ]
  },
  {
   "cell_type": "code",
   "execution_count": 77,
   "id": "b9f77d7b-616c-4e72-9c5f-6493cb5e0da0",
   "metadata": {},
   "outputs": [
    {
     "name": "stdout",
     "output_type": "stream",
     "text": [
      "processing AMJ .... \n",
      "\n",
      "processing ASO .... \n",
      "\n",
      "processing DJF .... \n",
      "\n",
      "processing FMA .... \n",
      "\n",
      "processing JAS .... \n",
      "\n",
      "processing JFM .... \n",
      "\n",
      "processing JJA .... \n",
      "\n",
      "processing MAM .... \n",
      "\n",
      "processing MJJ .... \n",
      "\n",
      "processing NDJ .... \n",
      "\n",
      "processing OND .... \n",
      "\n",
      "processing SON .... \n",
      "\n",
      "processing Cold Season (Jun. - Nov.) .... \n",
      "\n",
      "processing Warm Season (Dec. - May) .... \n",
      "\n",
      "processing Hydro. year (Jul. - Jun.) .... \n",
      "\n",
      "processing Year (Jan. - Dec.) .... \n",
      "\n"
     ]
    }
   ],
   "source": [
    "f = h5py.File('../outputs/simulations_9_NZ_CRs.hdf5', mode='a')\n",
    "\n",
    "for season in lseason: \n",
    "    print(f\"processing {season} .... \\n\")\n",
    "    # calculates the probabilities over the climatological period (1981 - 2010)\n",
    "    kseason = select_season(nz_9_types, start=1981, end=2010, season=season, rm_leap=False)\n",
    "    probs = markov.get_probs(kseason['class'].values, np.arange(1, len(types)+1))\n",
    "    probs = pd.Series(probs, index=types)\n",
    "    classes, transition_matrix = markov.get_transition_probs(kseason['type'])\n",
    "    probs = probs.reindex(classes)\n",
    "    dict_classes, sim2D = markov.simulate_2D(classes, probs.values, transition_matrix, N=len(kseason), P=1000)\n",
    "    probs = np.empty((len(classes), sim2D.shape[1]))\n",
    "    for i in range(sim2D.shape[1]): \n",
    "        p = markov.get_probs(sim2D[:,i], np.arange(len(classes)))\n",
    "        probs[:,i] = p\n",
    "    f[\"/{}/probs\".format(season)] = probs\n",
    "    f[\"/{}/probs\".format(season)].attrs['shape'] = '(class, simulation)'\n",
    "    f[\"/{}/probs\".format(season)].attrs['classes'] = ','.join(list(dict_classes.values()))\n",
    "    del(probs, p)"
   ]
  },
  {
   "cell_type": "code",
   "execution_count": 79,
   "id": "b0a65991-d3b3-4345-858b-032f41911b69",
   "metadata": {},
   "outputs": [],
   "source": [
    "f.close()"
   ]
  },
  {
   "cell_type": "code",
   "execution_count": 80,
   "id": "dd1a8fa6-0b92-46d6-a3bf-ef0171c2b33d",
   "metadata": {},
   "outputs": [],
   "source": [
    "!cp ../outputs/simulations_9_NZ_CRs.hdf5 /media/nicolasf/END19101/data/PICT/datasets/Types/."
   ]
  },
  {
   "cell_type": "code",
   "execution_count": 81,
   "id": "c19acd3d-78dc-4e2b-9e6d-82cbda118a1e",
   "metadata": {},
   "outputs": [],
   "source": [
    "f = h5py.File(\"/media/nicolasf/END19101/data/PICT/datasets/Types/simulations_9_NZ_CRs.hdf5\")"
   ]
  },
  {
   "cell_type": "code",
   "execution_count": 82,
   "id": "9dbb21f1-e1f1-48c7-8679-5f78182bb302",
   "metadata": {},
   "outputs": [
    {
     "data": {
      "text/plain": [
       "<HDF5 file \"simulations_9_NZ_CRs.hdf5\" (mode r)>"
      ]
     },
     "execution_count": 82,
     "metadata": {},
     "output_type": "execute_result"
    }
   ],
   "source": [
    "f"
   ]
  },
  {
   "cell_type": "code",
   "execution_count": 83,
   "id": "3f1c35a4-3cfd-48e9-88a7-8c0d41d8b457",
   "metadata": {},
   "outputs": [
    {
     "data": {
      "text/plain": [
       "<KeysViewHDF5 ['AMJ', 'ASO', 'Cold Season (Jun. - Nov.)', 'DJF', 'FMA', 'Hydro. year (Jul. - Jun.)', 'JAS', 'JFM', 'JJA', 'MAM', 'MJJ', 'NDJ', 'OND', 'SON', 'Warm Season (Dec. - May)', 'Year (Jan. - Dec.)']>"
      ]
     },
     "execution_count": 83,
     "metadata": {},
     "output_type": "execute_result"
    }
   ],
   "source": [
    "f.keys()"
   ]
  },
  {
   "cell_type": "code",
   "execution_count": 84,
   "id": "acdd3d91-bde7-4932-b231-d268ef32a197",
   "metadata": {},
   "outputs": [
    {
     "data": {
      "text/plain": [
       "'H,HS,HSE,HW,L,LNE,LNW,LSE,LSW'"
      ]
     },
     "execution_count": 84,
     "metadata": {},
     "output_type": "execute_result"
    }
   ],
   "source": [
    "f['DJF']['probs'].attrs['classes']"
   ]
  },
  {
   "cell_type": "code",
   "execution_count": 85,
   "id": "9ef8e60b-432d-4014-90f6-9f1057213980",
   "metadata": {},
   "outputs": [
    {
     "data": {
      "text/plain": [
       "'H,HS,HSE,HW,L,LNE,LNW,LSE,LSW'"
      ]
     },
     "execution_count": 85,
     "metadata": {},
     "output_type": "execute_result"
    }
   ],
   "source": [
    "f['AMJ']['probs'].attrs['classes']"
   ]
  },
  {
   "cell_type": "code",
   "execution_count": 86,
   "id": "9b83f561-325f-474d-96df-9b49e0208079",
   "metadata": {},
   "outputs": [
    {
     "data": {
      "text/plain": [
       "(9, 1000)"
      ]
     },
     "execution_count": 86,
     "metadata": {},
     "output_type": "execute_result"
    }
   ],
   "source": [
    "f['DJF']['probs'][()].shape"
   ]
  },
  {
   "cell_type": "markdown",
   "id": "f03f91df-f03b-4306-9683-1818d95f8286",
   "metadata": {},
   "source": [
    "### Ross Sea Types "
   ]
  },
  {
   "cell_type": "code",
   "execution_count": 11,
   "id": "2885cc4e-da22-410e-8655-4704e2b326eb",
   "metadata": {},
   "outputs": [],
   "source": [
    "Ross_Sea_types = pd.read_csv(\"/media/nicolasf/END19101/data/PICT/datasets/Types/Ross_Sea_6_clusters_Cohen.csv\", index_col=0, parse_dates=True) "
   ]
  },
  {
   "cell_type": "code",
   "execution_count": 12,
   "id": "6622ada2-00a3-4a3b-9d6d-34f27f0afd43",
   "metadata": {},
   "outputs": [],
   "source": [
    "types = Ross_Sea_types.type.unique()"
   ]
  },
  {
   "cell_type": "code",
   "execution_count": 13,
   "id": "2bc40467-29e1-4702-9db6-d8cb7660bdbf",
   "metadata": {},
   "outputs": [
    {
     "data": {
      "text/plain": [
       "array(['R', 'L', 'LBA', 'LR', 'LA', 'Z'], dtype=object)"
      ]
     },
     "execution_count": 13,
     "metadata": {},
     "output_type": "execute_result"
    }
   ],
   "source": [
    "types"
   ]
  },
  {
   "cell_type": "code",
   "execution_count": 14,
   "id": "4b8018d8-d216-4d66-a3cc-94e235b71403",
   "metadata": {},
   "outputs": [
    {
     "data": {
      "text/html": [
       "<div>\n",
       "<style scoped>\n",
       "    .dataframe tbody tr th:only-of-type {\n",
       "        vertical-align: middle;\n",
       "    }\n",
       "\n",
       "    .dataframe tbody tr th {\n",
       "        vertical-align: top;\n",
       "    }\n",
       "\n",
       "    .dataframe thead th {\n",
       "        text-align: right;\n",
       "    }\n",
       "</style>\n",
       "<table border=\"1\" class=\"dataframe\">\n",
       "  <thead>\n",
       "    <tr style=\"text-align: right;\">\n",
       "      <th></th>\n",
       "      <th>class</th>\n",
       "      <th>type</th>\n",
       "    </tr>\n",
       "    <tr>\n",
       "      <th>time</th>\n",
       "      <th></th>\n",
       "      <th></th>\n",
       "    </tr>\n",
       "  </thead>\n",
       "  <tbody>\n",
       "    <tr>\n",
       "      <th>1979-01-01</th>\n",
       "      <td>4</td>\n",
       "      <td>R</td>\n",
       "    </tr>\n",
       "    <tr>\n",
       "      <th>1979-01-02</th>\n",
       "      <td>4</td>\n",
       "      <td>R</td>\n",
       "    </tr>\n",
       "    <tr>\n",
       "      <th>1979-01-03</th>\n",
       "      <td>5</td>\n",
       "      <td>L</td>\n",
       "    </tr>\n",
       "    <tr>\n",
       "      <th>1979-01-04</th>\n",
       "      <td>6</td>\n",
       "      <td>LBA</td>\n",
       "    </tr>\n",
       "    <tr>\n",
       "      <th>1979-01-05</th>\n",
       "      <td>4</td>\n",
       "      <td>R</td>\n",
       "    </tr>\n",
       "    <tr>\n",
       "      <th>...</th>\n",
       "      <td>...</td>\n",
       "      <td>...</td>\n",
       "    </tr>\n",
       "    <tr>\n",
       "      <th>2021-12-27</th>\n",
       "      <td>4</td>\n",
       "      <td>R</td>\n",
       "    </tr>\n",
       "    <tr>\n",
       "      <th>2021-12-28</th>\n",
       "      <td>4</td>\n",
       "      <td>R</td>\n",
       "    </tr>\n",
       "    <tr>\n",
       "      <th>2021-12-29</th>\n",
       "      <td>4</td>\n",
       "      <td>R</td>\n",
       "    </tr>\n",
       "    <tr>\n",
       "      <th>2021-12-30</th>\n",
       "      <td>4</td>\n",
       "      <td>R</td>\n",
       "    </tr>\n",
       "    <tr>\n",
       "      <th>2021-12-31</th>\n",
       "      <td>4</td>\n",
       "      <td>R</td>\n",
       "    </tr>\n",
       "  </tbody>\n",
       "</table>\n",
       "<p>15706 rows × 2 columns</p>\n",
       "</div>"
      ],
      "text/plain": [
       "            class type\n",
       "time                  \n",
       "1979-01-01      4    R\n",
       "1979-01-02      4    R\n",
       "1979-01-03      5    L\n",
       "1979-01-04      6  LBA\n",
       "1979-01-05      4    R\n",
       "...           ...  ...\n",
       "2021-12-27      4    R\n",
       "2021-12-28      4    R\n",
       "2021-12-29      4    R\n",
       "2021-12-30      4    R\n",
       "2021-12-31      4    R\n",
       "\n",
       "[15706 rows x 2 columns]"
      ]
     },
     "execution_count": 14,
     "metadata": {},
     "output_type": "execute_result"
    }
   ],
   "source": [
    "Ross_Sea_types"
   ]
  },
  {
   "cell_type": "code",
   "execution_count": 15,
   "id": "3997ec5f-3949-4457-b738-5b8c325efdb0",
   "metadata": {},
   "outputs": [
    {
     "name": "stdout",
     "output_type": "stream",
     "text": [
      "processing AMJ .... \n",
      "\n",
      "processing ASO .... \n",
      "\n",
      "processing DJF .... \n",
      "\n",
      "processing FMA .... \n",
      "\n",
      "processing JAS .... \n",
      "\n",
      "processing JFM .... \n",
      "\n",
      "processing JJA .... \n",
      "\n",
      "processing MAM .... \n",
      "\n",
      "processing MJJ .... \n",
      "\n",
      "processing NDJ .... \n",
      "\n",
      "processing OND .... \n",
      "\n",
      "processing SON .... \n",
      "\n",
      "processing Cold Season (Jun. - Nov.) .... \n",
      "\n",
      "processing Warm Season (Dec. - May) .... \n",
      "\n",
      "processing Hydro. year (Jul. - Jun.) .... \n",
      "\n",
      "processing Year (Jan. - Dec.) .... \n",
      "\n"
     ]
    }
   ],
   "source": [
    "f = h5py.File('/media/nicolasf/END19101/data/PICT/datasets/Types/simulations_Ross_Sea_6_clusters_Cohen.hdf5', mode='a')\n",
    "\n",
    "for season in lseason: \n",
    "    print(f\"processing {season} .... \\n\")\n",
    "    # calculates the probabilities over the climatological period (1981 - 2010)\n",
    "    kseason = select_season(Ross_Sea_types, start=1981, end=2010, season=season, rm_leap=False)\n",
    "    probs = markov.get_probs(kseason['class'].values, np.arange(1, len(types)+1))\n",
    "    probs = pd.Series(probs, index=types)\n",
    "    classes, transition_matrix = markov.get_transition_probs(kseason['type'])\n",
    "    probs = probs.reindex(classes)\n",
    "    dict_classes, sim2D = markov.simulate_2D(classes, probs.values, transition_matrix, N=len(kseason), P=1000)\n",
    "    probs = np.empty((len(classes), sim2D.shape[1]))\n",
    "    for i in range(sim2D.shape[1]): \n",
    "        p = markov.get_probs(sim2D[:,i], np.arange(len(classes)))\n",
    "        probs[:,i] = p\n",
    "    f[\"/{}/probs\".format(season)] = probs\n",
    "    f[\"/{}/probs\".format(season)].attrs['shape'] = '(class, simulation)'\n",
    "    f[\"/{}/probs\".format(season)].attrs['classes'] = ','.join(list(dict_classes.values()))"
   ]
  },
  {
   "cell_type": "code",
   "execution_count": 16,
   "id": "343d8d38-0eda-44b1-b15e-4556d182c45a",
   "metadata": {},
   "outputs": [],
   "source": [
    "f.close()"
   ]
  },
  {
   "cell_type": "code",
   "execution_count": null,
   "id": "dac1759d-38d3-45a4-bbac-dd1222bc70d4",
   "metadata": {},
   "outputs": [],
   "source": []
  }
 ],
 "metadata": {
  "kernelspec": {
   "display_name": "Python 3 (ipykernel)",
   "language": "python",
   "name": "python3"
  },
  "language_info": {
   "codemirror_mode": {
    "name": "ipython",
    "version": 3
   },
   "file_extension": ".py",
   "mimetype": "text/x-python",
   "name": "python",
   "nbconvert_exporter": "python",
   "pygments_lexer": "ipython3",
   "version": "3.9.16"
  }
 },
 "nbformat": 4,
 "nbformat_minor": 5
}
