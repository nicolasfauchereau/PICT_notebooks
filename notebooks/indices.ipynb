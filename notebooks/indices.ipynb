{
 "cells": [
  {
   "cell_type": "markdown",
   "metadata": {},
   "source": [
    "# illustrates the use of the `indices` class for a single proxy and an ensemble of proxies "
   ]
  },
  {
   "cell_type": "code",
   "execution_count": 1,
   "metadata": {},
   "outputs": [],
   "source": [
    "%matplotlib inline"
   ]
  },
  {
   "cell_type": "code",
   "execution_count": 2,
   "metadata": {},
   "outputs": [],
   "source": [
    "import os \n",
    "import sys\n",
    "import pathlib"
   ]
  },
  {
   "cell_type": "code",
   "execution_count": 3,
   "metadata": {
    "collapsed": true
   },
   "outputs": [],
   "source": [
    "import pandas as pd\n",
    "import numpy as np\n",
    "import matplotlib.pyplot as plt"
   ]
  },
  {
   "cell_type": "markdown",
   "metadata": {},
   "source": [
    "### import the development version of paleopy"
   ]
  },
  {
   "cell_type": "code",
   "execution_count": 4,
   "metadata": {
    "collapsed": false
   },
   "outputs": [],
   "source": [
    "sys.path.insert(0, '../')"
   ]
  },
  {
   "cell_type": "code",
   "execution_count": 5,
   "metadata": {
    "collapsed": false,
    "scrolled": true
   },
   "outputs": [],
   "source": [
    "from paleopy import proxy \n",
    "from paleopy.plotting import indices"
   ]
  },
  {
   "cell_type": "markdown",
   "metadata": {},
   "source": [
    "### determine the current working directory "
   ]
  },
  {
   "cell_type": "code",
   "execution_count": 6,
   "metadata": {},
   "outputs": [],
   "source": [
    "cwd = pathlib.Path.cwd() "
   ]
  },
  {
   "cell_type": "code",
   "execution_count": 7,
   "metadata": {},
   "outputs": [
    {
     "name": "stdout",
     "output_type": "stream",
     "text": [
      "/home/nicolasf/research/PICT_notebooks/notebooks\n"
     ]
    }
   ],
   "source": [
    "print(cwd)"
   ]
  },
  {
   "cell_type": "markdown",
   "metadata": {},
   "source": [
    "### example 1: defines one proxy"
   ]
  },
  {
   "cell_type": "markdown",
   "metadata": {},
   "source": [
    "#### defines the folder where the JSON files are (for the datasets) and where the proxy JSON files are saved "
   ]
  },
  {
   "cell_type": "code",
   "execution_count": 8,
   "metadata": {},
   "outputs": [],
   "source": [
    "djsons = cwd.parent / 'jsons'"
   ]
  },
  {
   "cell_type": "code",
   "execution_count": 9,
   "metadata": {},
   "outputs": [],
   "source": [
    "pjsons = djsons / 'proxies'"
   ]
  },
  {
   "cell_type": "markdown",
   "metadata": {},
   "source": [
    "### take the same example as in the other notebooks, instantiate a proxy instance for the Rarotonga proxy "
   ]
  },
  {
   "cell_type": "code",
   "execution_count": 10,
   "metadata": {
    "collapsed": false
   },
   "outputs": [],
   "source": [
    "p = proxy(sitename='Rarotonga', \\\n",
    "          lon = -159.82, \\\n",
    "          lat = -21.23, \\\n",
    "          djsons = djsons, \\\n",
    "          pjsons = pjsons, \\\n",
    "          pfname = 'Rarotonga.json', \\\n",
    "          dataset = 'ersst', \\\n",
    "          variable ='sst', \\\n",
    "          measurement ='delta O18', \\\n",
    "          dating_convention = 'absolute', \\\n",
    "          calendar = 'gregorian',\\\n",
    "          chronology = 'historic', \\\n",
    "          season = 'DJF', \\\n",
    "          value = 0.6, \\\n",
    "          calc_anoms = 1, \\\n",
    "          detrend = 1)"
   ]
  },
  {
   "cell_type": "markdown",
   "metadata": {},
   "source": [
    "### the first step is always to find the analog seasons, by calling the `find_analogs` method "
   ]
  },
  {
   "cell_type": "code",
   "execution_count": 11,
   "metadata": {},
   "outputs": [],
   "source": [
    "p.find_analogs()"
   ]
  },
  {
   "cell_type": "code",
   "execution_count": 12,
   "metadata": {
    "collapsed": false
   },
   "outputs": [
    {
     "data": {
      "text/html": [
       "<div>\n",
       "<style scoped>\n",
       "    .dataframe tbody tr th:only-of-type {\n",
       "        vertical-align: middle;\n",
       "    }\n",
       "\n",
       "    .dataframe tbody tr th {\n",
       "        vertical-align: top;\n",
       "    }\n",
       "\n",
       "    .dataframe thead th {\n",
       "        text-align: right;\n",
       "    }\n",
       "</style>\n",
       "<table border=\"1\" class=\"dataframe\">\n",
       "  <thead>\n",
       "    <tr style=\"text-align: right;\">\n",
       "      <th></th>\n",
       "      <th>d_anomalies</th>\n",
       "      <th>cat</th>\n",
       "      <th>weights</th>\n",
       "    </tr>\n",
       "    <tr>\n",
       "      <th>time</th>\n",
       "      <th></th>\n",
       "      <th></th>\n",
       "      <th></th>\n",
       "    </tr>\n",
       "  </thead>\n",
       "  <tbody>\n",
       "    <tr>\n",
       "      <th>1982-02-15</th>\n",
       "      <td>0.638992</td>\n",
       "      <td>WA</td>\n",
       "      <td>0.156455</td>\n",
       "    </tr>\n",
       "    <tr>\n",
       "      <th>1997-02-15</th>\n",
       "      <td>0.747619</td>\n",
       "      <td>WA</td>\n",
       "      <td>0.128005</td>\n",
       "    </tr>\n",
       "    <tr>\n",
       "      <th>1999-02-15</th>\n",
       "      <td>0.736547</td>\n",
       "      <td>WA</td>\n",
       "      <td>0.130905</td>\n",
       "    </tr>\n",
       "    <tr>\n",
       "      <th>2000-02-15</th>\n",
       "      <td>0.612678</td>\n",
       "      <td>WA</td>\n",
       "      <td>0.163346</td>\n",
       "    </tr>\n",
       "    <tr>\n",
       "      <th>2001-02-15</th>\n",
       "      <td>0.565475</td>\n",
       "      <td>WA</td>\n",
       "      <td>0.157625</td>\n",
       "    </tr>\n",
       "    <tr>\n",
       "      <th>2006-02-15</th>\n",
       "      <td>0.429462</td>\n",
       "      <td>WA</td>\n",
       "      <td>0.122003</td>\n",
       "    </tr>\n",
       "    <tr>\n",
       "      <th>2009-02-15</th>\n",
       "      <td>0.504521</td>\n",
       "      <td>WA</td>\n",
       "      <td>0.141661</td>\n",
       "    </tr>\n",
       "  </tbody>\n",
       "</table>\n",
       "</div>"
      ],
      "text/plain": [
       "            d_anomalies cat   weights\n",
       "time                                 \n",
       "1982-02-15     0.638992  WA  0.156455\n",
       "1997-02-15     0.747619  WA  0.128005\n",
       "1999-02-15     0.736547  WA  0.130905\n",
       "2000-02-15     0.612678  WA  0.163346\n",
       "2001-02-15     0.565475  WA  0.157625\n",
       "2006-02-15     0.429462  WA  0.122003\n",
       "2009-02-15     0.504521  WA  0.141661"
      ]
     },
     "execution_count": 12,
     "metadata": {},
     "output_type": "execute_result"
    }
   ],
   "source": [
    "p.analogs"
   ]
  },
  {
   "cell_type": "markdown",
   "metadata": {},
   "source": [
    "### plot the seasonal time-series of anomalies and overlays the analog years"
   ]
  },
  {
   "cell_type": "code",
   "execution_count": 13,
   "metadata": {},
   "outputs": [
    {
     "data": {
      "image/png": "[encoded data removed]",
      "text/plain": [
       "<Figure size 576x360 with 1 Axes>"
      ]
     },
     "metadata": {
      "needs_background": "light"
     },
     "output_type": "display_data"
    }
   ],
   "source": [
    "f = p.plot()"
   ]
  },
  {
   "cell_type": "code",
   "execution_count": 14,
   "metadata": {},
   "outputs": [
    {
     "data": {
      "text/html": [
       "<div>\n",
       "<style scoped>\n",
       "    .dataframe tbody tr th:only-of-type {\n",
       "        vertical-align: middle;\n",
       "    }\n",
       "\n",
       "    .dataframe tbody tr th {\n",
       "        vertical-align: top;\n",
       "    }\n",
       "\n",
       "    .dataframe thead th {\n",
       "        text-align: right;\n",
       "    }\n",
       "</style>\n",
       "<table border=\"1\" class=\"dataframe\">\n",
       "  <thead>\n",
       "    <tr style=\"text-align: right;\">\n",
       "      <th></th>\n",
       "      <th>d_anomalies</th>\n",
       "      <th>cat</th>\n",
       "      <th>weights</th>\n",
       "    </tr>\n",
       "    <tr>\n",
       "      <th>time</th>\n",
       "      <th></th>\n",
       "      <th></th>\n",
       "      <th></th>\n",
       "    </tr>\n",
       "  </thead>\n",
       "  <tbody>\n",
       "    <tr>\n",
       "      <th>1982-02-15</th>\n",
       "      <td>0.638992</td>\n",
       "      <td>WA</td>\n",
       "      <td>0.156455</td>\n",
       "    </tr>\n",
       "    <tr>\n",
       "      <th>1997-02-15</th>\n",
       "      <td>0.747619</td>\n",
       "      <td>WA</td>\n",
       "      <td>0.128005</td>\n",
       "    </tr>\n",
       "    <tr>\n",
       "      <th>1999-02-15</th>\n",
       "      <td>0.736547</td>\n",
       "      <td>WA</td>\n",
       "      <td>0.130905</td>\n",
       "    </tr>\n",
       "    <tr>\n",
       "      <th>2000-02-15</th>\n",
       "      <td>0.612678</td>\n",
       "      <td>WA</td>\n",
       "      <td>0.163346</td>\n",
       "    </tr>\n",
       "    <tr>\n",
       "      <th>2001-02-15</th>\n",
       "      <td>0.565475</td>\n",
       "      <td>WA</td>\n",
       "      <td>0.157625</td>\n",
       "    </tr>\n",
       "    <tr>\n",
       "      <th>2006-02-15</th>\n",
       "      <td>0.429462</td>\n",
       "      <td>WA</td>\n",
       "      <td>0.122003</td>\n",
       "    </tr>\n",
       "    <tr>\n",
       "      <th>2009-02-15</th>\n",
       "      <td>0.504521</td>\n",
       "      <td>WA</td>\n",
       "      <td>0.141661</td>\n",
       "    </tr>\n",
       "  </tbody>\n",
       "</table>\n",
       "</div>"
      ],
      "text/plain": [
       "            d_anomalies cat   weights\n",
       "time                                 \n",
       "1982-02-15     0.638992  WA  0.156455\n",
       "1997-02-15     0.747619  WA  0.128005\n",
       "1999-02-15     0.736547  WA  0.130905\n",
       "2000-02-15     0.612678  WA  0.163346\n",
       "2001-02-15     0.565475  WA  0.157625\n",
       "2006-02-15     0.429462  WA  0.122003\n",
       "2009-02-15     0.504521  WA  0.141661"
      ]
     },
     "execution_count": 14,
     "metadata": {},
     "output_type": "execute_result"
    }
   ],
   "source": [
    "p.analogs"
   ]
  },
  {
   "cell_type": "code",
   "execution_count": 15,
   "metadata": {},
   "outputs": [
    {
     "data": {
      "text/plain": [
       "'DJF'"
      ]
     },
     "execution_count": 15,
     "metadata": {},
     "output_type": "execute_result"
    }
   ],
   "source": [
    "p.season"
   ]
  },
  {
   "cell_type": "markdown",
   "metadata": {},
   "source": [
    "### now instanciate an instance of the `indices` class ... if no parameters, then all the indices are considered  "
   ]
  },
  {
   "cell_type": "code",
   "execution_count": 16,
   "metadata": {
    "collapsed": true
   },
   "outputs": [],
   "source": [
    "all_indices = indices(p)"
   ]
  },
  {
   "cell_type": "markdown",
   "metadata": {},
   "source": [
    "### you first need to call the `composite` method, which will calculate the composite statistics for all the indices for the analog seasons defined in the proxy class instance attributes  "
   ]
  },
  {
   "cell_type": "code",
   "execution_count": 17,
   "metadata": {
    "collapsed": true
   },
   "outputs": [],
   "source": [
    "all_indices.composite()"
   ]
  },
  {
   "cell_type": "markdown",
   "metadata": {},
   "source": [
    "### you can access the table of individual standardized anomalies for all indices by calling the `compos` attribute of the indices instance, like so"
   ]
  },
  {
   "cell_type": "code",
   "execution_count": 18,
   "metadata": {},
   "outputs": [
    {
     "data": {
      "text/html": [
       "<div>\n",
       "<style scoped>\n",
       "    .dataframe tbody tr th:only-of-type {\n",
       "        vertical-align: middle;\n",
       "    }\n",
       "\n",
       "    .dataframe tbody tr th {\n",
       "        vertical-align: top;\n",
       "    }\n",
       "\n",
       "    .dataframe thead th {\n",
       "        text-align: right;\n",
       "    }\n",
       "</style>\n",
       "<table border=\"1\" class=\"dataframe\">\n",
       "  <thead>\n",
       "    <tr style=\"text-align: right;\">\n",
       "      <th></th>\n",
       "      <th>NINO34</th>\n",
       "      <th>SOI</th>\n",
       "      <th>IOD</th>\n",
       "      <th>SAM</th>\n",
       "    </tr>\n",
       "  </thead>\n",
       "  <tbody>\n",
       "    <tr>\n",
       "      <th>1982-02-01</th>\n",
       "      <td>0.032729</td>\n",
       "      <td>0.471084</td>\n",
       "      <td>0.544804</td>\n",
       "      <td>1.001330</td>\n",
       "    </tr>\n",
       "    <tr>\n",
       "      <th>1997-02-01</th>\n",
       "      <td>-0.365314</td>\n",
       "      <td>0.813785</td>\n",
       "      <td>-0.181042</td>\n",
       "      <td>0.124978</td>\n",
       "    </tr>\n",
       "    <tr>\n",
       "      <th>1999-02-01</th>\n",
       "      <td>-1.375472</td>\n",
       "      <td>1.347353</td>\n",
       "      <td>-0.907732</td>\n",
       "      <td>1.252810</td>\n",
       "    </tr>\n",
       "    <tr>\n",
       "      <th>2000-02-01</th>\n",
       "      <td>-1.569476</td>\n",
       "      <td>1.066006</td>\n",
       "      <td>0.434085</td>\n",
       "      <td>1.533521</td>\n",
       "    </tr>\n",
       "    <tr>\n",
       "      <th>2001-02-01</th>\n",
       "      <td>-0.589422</td>\n",
       "      <td>0.970974</td>\n",
       "      <td>1.131153</td>\n",
       "      <td>-0.816528</td>\n",
       "    </tr>\n",
       "    <tr>\n",
       "      <th>2006-02-01</th>\n",
       "      <td>-0.719873</td>\n",
       "      <td>0.415971</td>\n",
       "      <td>-0.851495</td>\n",
       "      <td>-1.017501</td>\n",
       "    </tr>\n",
       "    <tr>\n",
       "      <th>2009-02-01</th>\n",
       "      <td>-0.696459</td>\n",
       "      <td>1.319047</td>\n",
       "      <td>0.418646</td>\n",
       "      <td>0.691977</td>\n",
       "    </tr>\n",
       "  </tbody>\n",
       "</table>\n",
       "</div>"
      ],
      "text/plain": [
       "              NINO34       SOI       IOD       SAM\n",
       "1982-02-01  0.032729  0.471084  0.544804  1.001330\n",
       "1997-02-01 -0.365314  0.813785 -0.181042  0.124978\n",
       "1999-02-01 -1.375472  1.347353 -0.907732  1.252810\n",
       "2000-02-01 -1.569476  1.066006  0.434085  1.533521\n",
       "2001-02-01 -0.589422  0.970974  1.131153 -0.816528\n",
       "2006-02-01 -0.719873  0.415971 -0.851495 -1.017501\n",
       "2009-02-01 -0.696459  1.319047  0.418646  0.691977"
      ]
     },
     "execution_count": 18,
     "metadata": {},
     "output_type": "execute_result"
    }
   ],
   "source": [
    "all_indices.compos"
   ]
  },
  {
   "cell_type": "markdown",
   "metadata": {},
   "source": [
    "### `compos` is a Pandas DataFrame, so you can save it to disk using the `to_csv` or 'to_excel` method, and you can calculate various column-wise statistics "
   ]
  },
  {
   "cell_type": "code",
   "execution_count": 19,
   "metadata": {
    "collapsed": false
   },
   "outputs": [
    {
     "data": {
      "text/plain": [
       "NINO34    0.555699\n",
       "SOI       0.372481\n",
       "IOD       0.760739\n",
       "SAM       1.001978\n",
       "dtype: float64"
      ]
     },
     "execution_count": 19,
     "metadata": {},
     "output_type": "execute_result"
    }
   ],
   "source": [
    "all_indices.compos.std()"
   ]
  },
  {
   "cell_type": "code",
   "execution_count": 20,
   "metadata": {},
   "outputs": [
    {
     "data": {
      "text/plain": [
       "NINO34   -0.696459\n",
       "SOI       0.970974\n",
       "IOD       0.418646\n",
       "SAM       0.691977\n",
       "dtype: float64"
      ]
     },
     "execution_count": 20,
     "metadata": {},
     "output_type": "execute_result"
    }
   ],
   "source": [
    "all_indices.compos.median()"
   ]
  },
  {
   "cell_type": "markdown",
   "metadata": {},
   "source": [
    "### and there's a plot method to the indices instance, which plots a boxplot, and highlight the anomalies significant at the 90% level (signif=0.1)"
   ]
  },
  {
   "cell_type": "code",
   "execution_count": 21,
   "metadata": {},
   "outputs": [
    {
     "data": {
      "text/plain": [
       "\u001b[0;31mSignature:\u001b[0m \u001b[0mall_indices\u001b[0m\u001b[0;34m.\u001b[0m\u001b[0mplot\u001b[0m\u001b[0;34m(\u001b[0m\u001b[0msignif\u001b[0m\u001b[0;34m=\u001b[0m\u001b[0;36m0.1\u001b[0m\u001b[0;34m)\u001b[0m\u001b[0;34m\u001b[0m\u001b[0;34m\u001b[0m\u001b[0m\n",
       "\u001b[0;31mDocstring:\u001b[0m <no docstring>\n",
       "\u001b[0;31mFile:\u001b[0m      ~/research/PICT_notebooks/paleopy/plotting/indices.py\n",
       "\u001b[0;31mType:\u001b[0m      method\n"
      ]
     },
     "metadata": {},
     "output_type": "display_data"
    }
   ],
   "source": [
    "all_indices.plot?"
   ]
  },
  {
   "cell_type": "code",
   "execution_count": 22,
   "metadata": {},
   "outputs": [
    {
     "data": {
      "image/png": "[encoded data removed]",
      "text/plain": [
       "<Figure size 288x432 with 4 Axes>"
      ]
     },
     "metadata": {
      "needs_background": "light"
     },
     "output_type": "display_data"
    }
   ],
   "source": [
    "f = all_indices.plot()"
   ]
  },
  {
   "cell_type": "markdown",
   "metadata": {},
   "source": [
    "### you can change the significance level, e.g. here 99% (alpha=0.01)"
   ]
  },
  {
   "cell_type": "code",
   "execution_count": 23,
   "metadata": {},
   "outputs": [
    {
     "data": {
      "image/png": "[encoded data removed]",
      "text/plain": [
       "<Figure size 288x432 with 4 Axes>"
      ]
     },
     "metadata": {
      "needs_background": "light"
     },
     "output_type": "display_data"
    }
   ],
   "source": [
    "f = all_indices.plot(signif=0.01)"
   ]
  },
  {
   "cell_type": "code",
   "execution_count": 24,
   "metadata": {},
   "outputs": [],
   "source": [
    "one_indice = indices(p, name = 'SOI')"
   ]
  },
  {
   "cell_type": "code",
   "execution_count": 25,
   "metadata": {},
   "outputs": [],
   "source": [
    "one_indice.composite()"
   ]
  },
  {
   "cell_type": "code",
   "execution_count": 26,
   "metadata": {},
   "outputs": [
    {
     "data": {
      "text/html": [
       "<div>\n",
       "<style scoped>\n",
       "    .dataframe tbody tr th:only-of-type {\n",
       "        vertical-align: middle;\n",
       "    }\n",
       "\n",
       "    .dataframe tbody tr th {\n",
       "        vertical-align: top;\n",
       "    }\n",
       "\n",
       "    .dataframe thead th {\n",
       "        text-align: right;\n",
       "    }\n",
       "</style>\n",
       "<table border=\"1\" class=\"dataframe\">\n",
       "  <thead>\n",
       "    <tr style=\"text-align: right;\">\n",
       "      <th></th>\n",
       "      <th>SOI</th>\n",
       "    </tr>\n",
       "  </thead>\n",
       "  <tbody>\n",
       "    <tr>\n",
       "      <th>1982-02-01</th>\n",
       "      <td>0.471084</td>\n",
       "    </tr>\n",
       "    <tr>\n",
       "      <th>1997-02-01</th>\n",
       "      <td>0.813785</td>\n",
       "    </tr>\n",
       "    <tr>\n",
       "      <th>1999-02-01</th>\n",
       "      <td>1.347353</td>\n",
       "    </tr>\n",
       "    <tr>\n",
       "      <th>2000-02-01</th>\n",
       "      <td>1.066006</td>\n",
       "    </tr>\n",
       "    <tr>\n",
       "      <th>2001-02-01</th>\n",
       "      <td>0.970974</td>\n",
       "    </tr>\n",
       "    <tr>\n",
       "      <th>2006-02-01</th>\n",
       "      <td>0.415971</td>\n",
       "    </tr>\n",
       "    <tr>\n",
       "      <th>2009-02-01</th>\n",
       "      <td>1.319047</td>\n",
       "    </tr>\n",
       "  </tbody>\n",
       "</table>\n",
       "</div>"
      ],
      "text/plain": [
       "                 SOI\n",
       "1982-02-01  0.471084\n",
       "1997-02-01  0.813785\n",
       "1999-02-01  1.347353\n",
       "2000-02-01  1.066006\n",
       "2001-02-01  0.970974\n",
       "2006-02-01  0.415971\n",
       "2009-02-01  1.319047"
      ]
     },
     "execution_count": 26,
     "metadata": {},
     "output_type": "execute_result"
    }
   ],
   "source": [
    "one_indice.compos"
   ]
  },
  {
   "cell_type": "markdown",
   "metadata": {},
   "source": [
    "### there is no plot method for a single indice though, but you can quickly plot the distribution of standardized anomalies using the pandas dataframe `boxplot` method"
   ]
  },
  {
   "cell_type": "code",
   "execution_count": 27,
   "metadata": {},
   "outputs": [
    {
     "data": {
      "text/plain": [
       "Text(0.5, 1.0, 'SOI, mean = +0.91')"
      ]
     },
     "execution_count": 27,
     "metadata": {},
     "output_type": "execute_result"
    },
    {
     "data": {
      "image/png": "[encoded data removed]",
      "text/plain": [
       "<Figure size 144x288 with 1 Axes>"
      ]
     },
     "metadata": {
      "needs_background": "light"
     },
     "output_type": "display_data"
    }
   ],
   "source": [
    "f, ax = plt.subplots(figsize=(2,4)) \n",
    "one_indice.compos.boxplot(ax=ax, grid=False)\n",
    "ax.set_ylim(-one_indice.compos.abs().max()[0] - 0.1 * one_indice.compos.abs().max()[0], \\\n",
    "            one_indice.compos.abs().max()[0] + 0.1 * one_indice.compos.abs().max()[0])\n",
    "\n",
    "# plots the mean \n",
    "ax.plot(1, one_indice.compos.mean(), 'ko')\n",
    "\n",
    "ax.axhline(0, color='k', lw=0.5, ls='-.')\n",
    "ax.set_ylabel('std.')\n",
    "ax.set_title(\"{}, mean = {:+4.2f}\".format(one_indice.name, one_indice.compos.mean().values[0]))"
   ]
  },
  {
   "cell_type": "markdown",
   "metadata": {},
   "source": [
    "### and then you can calculate the t-test statistics and p-value like so: "
   ]
  },
  {
   "cell_type": "code",
   "execution_count": 28,
   "metadata": {},
   "outputs": [],
   "source": [
    "from scipy.stats import ttest_1samp"
   ]
  },
  {
   "cell_type": "code",
   "execution_count": 29,
   "metadata": {},
   "outputs": [],
   "source": [
    "ttest, pvalue = ttest_1samp(one_indice.compos, 0)"
   ]
  },
  {
   "cell_type": "code",
   "execution_count": 30,
   "metadata": {},
   "outputs": [
    {
     "data": {
      "text/plain": [
       "array([6.49848941])"
      ]
     },
     "execution_count": 30,
     "metadata": {},
     "output_type": "execute_result"
    }
   ],
   "source": [
    "ttest"
   ]
  },
  {
   "cell_type": "code",
   "execution_count": 31,
   "metadata": {},
   "outputs": [
    {
     "data": {
      "text/plain": [
       "array([0.00063201])"
      ]
     },
     "execution_count": 31,
     "metadata": {},
     "output_type": "execute_result"
    }
   ],
   "source": [
    "pvalue"
   ]
  },
  {
   "cell_type": "markdown",
   "metadata": {},
   "source": [
    "### in the second example, we use an `ensemble` instance"
   ]
  },
  {
   "cell_type": "code",
   "execution_count": 32,
   "metadata": {
    "collapsed": false
   },
   "outputs": [],
   "source": [
    "from paleopy import ensemble"
   ]
  },
  {
   "cell_type": "markdown",
   "metadata": {},
   "source": [
    "### we need to point to the directory containing the set of individual proxy files constituting the ensemble "
   ]
  },
  {
   "cell_type": "code",
   "execution_count": 33,
   "metadata": {},
   "outputs": [],
   "source": [
    "ens_dir_name = 'LIANZSWP'"
   ]
  },
  {
   "cell_type": "code",
   "execution_count": 34,
   "metadata": {},
   "outputs": [],
   "source": [
    "ens_jsons = pjsons / ens_dir_name"
   ]
  },
  {
   "cell_type": "code",
   "execution_count": 35,
   "metadata": {},
   "outputs": [],
   "source": [
    "if not ens_jsons.exists(): \n",
    "    print(f\"ERROR, the directory {ens_jsons} doest not exists\")"
   ]
  },
  {
   "cell_type": "markdown",
   "metadata": {},
   "source": [
    "### instantiates an `ensemble` class, need to pass the season explicitely, so that we can check the consitency between the proxy definitions "
   ]
  },
  {
   "cell_type": "code",
   "execution_count": 36,
   "metadata": {
    "collapsed": false
   },
   "outputs": [],
   "source": [
    "ens = ensemble(djsons=djsons, pjsons=ens_jsons, season='DJF')"
   ]
  },
  {
   "cell_type": "markdown",
   "metadata": {},
   "source": [
    "### same thing as above, pass the ensemble object to the `indices` class "
   ]
  },
  {
   "cell_type": "code",
   "execution_count": 37,
   "metadata": {},
   "outputs": [],
   "source": [
    "all_indices_ensemble = indices(ens)"
   ]
  },
  {
   "cell_type": "markdown",
   "metadata": {},
   "source": [
    "### you calculate the composite anomalies the same way, and plot is created using the same call to the `plot` method"
   ]
  },
  {
   "cell_type": "code",
   "execution_count": 38,
   "metadata": {},
   "outputs": [],
   "source": [
    "all_indices_ensemble.composite()"
   ]
  },
  {
   "cell_type": "code",
   "execution_count": 39,
   "metadata": {},
   "outputs": [
    {
     "data": {
      "image/png": "[encoded data removed]",
      "text/plain": [
       "<Figure size 288x432 with 4 Axes>"
      ]
     },
     "metadata": {
      "needs_background": "light"
     },
     "output_type": "display_data"
    }
   ],
   "source": [
    "f = all_indices_ensemble.plot()"
   ]
  },
  {
   "cell_type": "code",
   "execution_count": null,
   "metadata": {},
   "outputs": [],
   "source": []
  }
 ],
 "metadata": {
  "kernelspec": {
   "display_name": "Python 3",
   "language": "python",
   "name": "python3"
  },
  "language_info": {
   "codemirror_mode": {
    "name": "ipython",
    "version": 3
   },
   "file_extension": ".py",
   "mimetype": "text/x-python",
   "name": "python",
   "nbconvert_exporter": "python",
   "pygments_lexer": "ipython3",
   "version": "3.6.7"
  },
  "latex_envs": {
   "bibliofile": "biblio.bib",
   "cite_by": "apalike",
   "current_citInitial": 1,
   "eqLabelWithNumbers": true,
   "eqNumInitial": 0
  }
 },
 "nbformat": 4,
 "nbformat_minor": 2
}
