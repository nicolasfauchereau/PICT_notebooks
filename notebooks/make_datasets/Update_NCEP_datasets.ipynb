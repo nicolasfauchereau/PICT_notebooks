{
 "cells": [
  {
   "cell_type": "code",
   "execution_count": 1,
   "id": "e0ca1bf5-553d-4028-823a-024edcb9cc98",
   "metadata": {},
   "outputs": [],
   "source": [
    "%load_ext autoreload\n",
    "%autoreload 2"
   ]
  },
  {
   "cell_type": "code",
   "execution_count": 2,
   "id": "87f655e6-2616-4695-aac2-f5379aef55dd",
   "metadata": {},
   "outputs": [],
   "source": [
    "%matplotlib inline\n",
    "from matplotlib import pyplot as plt"
   ]
  },
  {
   "cell_type": "code",
   "execution_count": 3,
   "id": "fcd5ee36-b7ec-4068-9a43-44f662ee3e70",
   "metadata": {},
   "outputs": [],
   "source": [
    "import pathlib"
   ]
  },
  {
   "cell_type": "code",
   "execution_count": 4,
   "id": "412a7995-97a2-4aec-a1b5-930817f95bf0",
   "metadata": {},
   "outputs": [],
   "source": [
    "import xarray as xr"
   ]
  },
  {
   "cell_type": "markdown",
   "id": "1107934b-6f16-43af-a4fe-4c75007ac036",
   "metadata": {},
   "source": [
    "### list of variables to update "
   ]
  },
  {
   "cell_type": "markdown",
   "id": "c15e1367-204c-4f4b-ba78-72987d56bc94",
   "metadata": {},
   "source": [
    "- MSLP \n",
    "- UWND \n",
    "- VWND\n",
    "- OMEGA"
   ]
  },
  {
   "cell_type": "markdown",
   "id": "87f224ab-8a43-4b0d-960b-6edf82ff46bf",
   "metadata": {},
   "source": [
    "### some parameters "
   ]
  },
  {
   "cell_type": "code",
   "execution_count": 67,
   "id": "acb770f5-0b65-40b2-8375-88c7e5c4b013",
   "metadata": {},
   "outputs": [],
   "source": [
    "time_slice = {\"time\":slice(\"1948\",\"2021\")}"
   ]
  },
  {
   "cell_type": "markdown",
   "id": "65cccab6-e03f-404d-a2f0-d165321c64b6",
   "metadata": {},
   "source": [
    "### first check the current datasets format and metadata using one dataset "
   ]
  },
  {
   "cell_type": "code",
   "execution_count": 72,
   "id": "98eb43ad-1cd6-425e-ba1c-444dbe126464",
   "metadata": {},
   "outputs": [],
   "source": [
    "dset = xr.open_dataset('/media/nicolasf/END19101/data/PICT/datasets/NCEP/NCEP1_monthly_wind_1948_2014.nc') "
   ]
  },
  {
   "cell_type": "code",
   "execution_count": 73,
   "id": "29cf1973-ec92-4e3a-b0ad-35ab520bed1d",
   "metadata": {},
   "outputs": [
    {
     "data": {
      "text/html": [
       "<div><svg style=\"position: absolute; width: 0; height: 0; overflow: hidden\">\n",
       "<defs>\n",
       "<symbol id=\"icon-database\" viewBox=\"0 0 32 32\">\n",
       "<path d=\"M16 0c-8.837 0-16 2.239-16 5v4c0 2.761 7.163 5 16 5s16-2.239 16-5v-4c0-2.761-7.163-5-16-5z\"></path>\n",
       "<path d=\"M16 17c-8.837 0-16-2.239-16-5v6c0 2.761 7.163 5 16 5s16-2.239 16-5v-6c0 2.761-7.163 5-16 5z\"></path>\n",
       "<path d=\"M16 26c-8.837 0-16-2.239-16-5v6c0 2.761 7.163 5 16 5s16-2.239 16-5v-6c0 2.761-7.163 5-16 5z\"></path>\n",
       "</symbol>\n",
       "<symbol id=\"icon-file-text2\" viewBox=\"0 0 32 32\">\n",
       "<path d=\"M28.681 7.159c-0.694-0.947-1.662-2.053-2.724-3.116s-2.169-2.030-3.116-2.724c-1.612-1.182-2.393-1.319-2.841-1.319h-15.5c-1.378 0-2.5 1.121-2.5 2.5v27c0 1.378 1.122 2.5 2.5 2.5h23c1.378 0 2.5-1.122 2.5-2.5v-19.5c0-0.448-0.137-1.23-1.319-2.841zM24.543 5.457c0.959 0.959 1.712 1.825 2.268 2.543h-4.811v-4.811c0.718 0.556 1.584 1.309 2.543 2.268zM28 29.5c0 0.271-0.229 0.5-0.5 0.5h-23c-0.271 0-0.5-0.229-0.5-0.5v-27c0-0.271 0.229-0.5 0.5-0.5 0 0 15.499-0 15.5 0v7c0 0.552 0.448 1 1 1h7v19.5z\"></path>\n",
       "<path d=\"M23 26h-14c-0.552 0-1-0.448-1-1s0.448-1 1-1h14c0.552 0 1 0.448 1 1s-0.448 1-1 1z\"></path>\n",
       "<path d=\"M23 22h-14c-0.552 0-1-0.448-1-1s0.448-1 1-1h14c0.552 0 1 0.448 1 1s-0.448 1-1 1z\"></path>\n",
       "<path d=\"M23 18h-14c-0.552 0-1-0.448-1-1s0.448-1 1-1h14c0.552 0 1 0.448 1 1s-0.448 1-1 1z\"></path>\n",
       "</symbol>\n",
       "</defs>\n",
       "</svg>\n",
       "<style>/* CSS stylesheet for displaying xarray objects in jupyterlab.\n",
       " *\n",
       " */\n",
       "\n",
       ":root {\n",
       "  --xr-font-color0: var(--jp-content-font-color0, rgba(0, 0, 0, 1));\n",
       "  --xr-font-color2: var(--jp-content-font-color2, rgba(0, 0, 0, 0.54));\n",
       "  --xr-font-color3: var(--jp-content-font-color3, rgba(0, 0, 0, 0.38));\n",
       "  --xr-border-color: var(--jp-border-color2, #e0e0e0);\n",
       "  --xr-disabled-color: var(--jp-layout-color3, #bdbdbd);\n",
       "  --xr-background-color: var(--jp-layout-color0, white);\n",
       "  --xr-background-color-row-even: var(--jp-layout-color1, white);\n",
       "  --xr-background-color-row-odd: var(--jp-layout-color2, #eeeeee);\n",
       "}\n",
       "\n",
       "html[theme=dark],\n",
       "body[data-theme=dark],\n",
       "body.vscode-dark {\n",
       "  --xr-font-color0: rgba(255, 255, 255, 1);\n",
       "  --xr-font-color2: rgba(255, 255, 255, 0.54);\n",
       "  --xr-font-color3: rgba(255, 255, 255, 0.38);\n",
       "  --xr-border-color: #1F1F1F;\n",
       "  --xr-disabled-color: #515151;\n",
       "  --xr-background-color: #111111;\n",
       "  --xr-background-color-row-even: #111111;\n",
       "  --xr-background-color-row-odd: #313131;\n",
       "}\n",
       "\n",
       ".xr-wrap {\n",
       "  display: block !important;\n",
       "  min-width: 300px;\n",
       "  max-width: 700px;\n",
       "}\n",
       "\n",
       ".xr-text-repr-fallback {\n",
       "  /* fallback to plain text repr when CSS is not injected (untrusted notebook) */\n",
       "  display: none;\n",
       "}\n",
       "\n",
       ".xr-header {\n",
       "  padding-top: 6px;\n",
       "  padding-bottom: 6px;\n",
       "  margin-bottom: 4px;\n",
       "  border-bottom: solid 1px var(--xr-border-color);\n",
       "}\n",
       "\n",
       ".xr-header > div,\n",
       ".xr-header > ul {\n",
       "  display: inline;\n",
       "  margin-top: 0;\n",
       "  margin-bottom: 0;\n",
       "}\n",
       "\n",
       ".xr-obj-type,\n",
       ".xr-array-name {\n",
       "  margin-left: 2px;\n",
       "  margin-right: 10px;\n",
       "}\n",
       "\n",
       ".xr-obj-type {\n",
       "  color: var(--xr-font-color2);\n",
       "}\n",
       "\n",
       ".xr-sections {\n",
       "  padding-left: 0 !important;\n",
       "  display: grid;\n",
       "  grid-template-columns: 150px auto auto 1fr 20px 20px;\n",
       "}\n",
       "\n",
       ".xr-section-item {\n",
       "  display: contents;\n",
       "}\n",
       "\n",
       ".xr-section-item input {\n",
       "  display: none;\n",
       "}\n",
       "\n",
       ".xr-section-item input + label {\n",
       "  color: var(--xr-disabled-color);\n",
       "}\n",
       "\n",
       ".xr-section-item input:enabled + label {\n",
       "  cursor: pointer;\n",
       "  color: var(--xr-font-color2);\n",
       "}\n",
       "\n",
       ".xr-section-item input:enabled + label:hover {\n",
       "  color: var(--xr-font-color0);\n",
       "}\n",
       "\n",
       ".xr-section-summary {\n",
       "  grid-column: 1;\n",
       "  color: var(--xr-font-color2);\n",
       "  font-weight: 500;\n",
       "}\n",
       "\n",
       ".xr-section-summary > span {\n",
       "  display: inline-block;\n",
       "  padding-left: 0.5em;\n",
       "}\n",
       "\n",
       ".xr-section-summary-in:disabled + label {\n",
       "  color: var(--xr-font-color2);\n",
       "}\n",
       "\n",
       ".xr-section-summary-in + label:before {\n",
       "  display: inline-block;\n",
       "  content: '►';\n",
       "  font-size: 11px;\n",
       "  width: 15px;\n",
       "  text-align: center;\n",
       "}\n",
       "\n",
       ".xr-section-summary-in:disabled + label:before {\n",
       "  color: var(--xr-disabled-color);\n",
       "}\n",
       "\n",
       ".xr-section-summary-in:checked + label:before {\n",
       "  content: '▼';\n",
       "}\n",
       "\n",
       ".xr-section-summary-in:checked + label > span {\n",
       "  display: none;\n",
       "}\n",
       "\n",
       ".xr-section-summary,\n",
       ".xr-section-inline-details {\n",
       "  padding-top: 4px;\n",
       "  padding-bottom: 4px;\n",
       "}\n",
       "\n",
       ".xr-section-inline-details {\n",
       "  grid-column: 2 / -1;\n",
       "}\n",
       "\n",
       ".xr-section-details {\n",
       "  display: none;\n",
       "  grid-column: 1 / -1;\n",
       "  margin-bottom: 5px;\n",
       "}\n",
       "\n",
       ".xr-section-summary-in:checked ~ .xr-section-details {\n",
       "  display: contents;\n",
       "}\n",
       "\n",
       ".xr-array-wrap {\n",
       "  grid-column: 1 / -1;\n",
       "  display: grid;\n",
       "  grid-template-columns: 20px auto;\n",
       "}\n",
       "\n",
       ".xr-array-wrap > label {\n",
       "  grid-column: 1;\n",
       "  vertical-align: top;\n",
       "}\n",
       "\n",
       ".xr-preview {\n",
       "  color: var(--xr-font-color3);\n",
       "}\n",
       "\n",
       ".xr-array-preview,\n",
       ".xr-array-data {\n",
       "  padding: 0 5px !important;\n",
       "  grid-column: 2;\n",
       "}\n",
       "\n",
       ".xr-array-data,\n",
       ".xr-array-in:checked ~ .xr-array-preview {\n",
       "  display: none;\n",
       "}\n",
       "\n",
       ".xr-array-in:checked ~ .xr-array-data,\n",
       ".xr-array-preview {\n",
       "  display: inline-block;\n",
       "}\n",
       "\n",
       ".xr-dim-list {\n",
       "  display: inline-block !important;\n",
       "  list-style: none;\n",
       "  padding: 0 !important;\n",
       "  margin: 0;\n",
       "}\n",
       "\n",
       ".xr-dim-list li {\n",
       "  display: inline-block;\n",
       "  padding: 0;\n",
       "  margin: 0;\n",
       "}\n",
       "\n",
       ".xr-dim-list:before {\n",
       "  content: '(';\n",
       "}\n",
       "\n",
       ".xr-dim-list:after {\n",
       "  content: ')';\n",
       "}\n",
       "\n",
       ".xr-dim-list li:not(:last-child):after {\n",
       "  content: ',';\n",
       "  padding-right: 5px;\n",
       "}\n",
       "\n",
       ".xr-has-index {\n",
       "  font-weight: bold;\n",
       "}\n",
       "\n",
       ".xr-var-list,\n",
       ".xr-var-item {\n",
       "  display: contents;\n",
       "}\n",
       "\n",
       ".xr-var-item > div,\n",
       ".xr-var-item label,\n",
       ".xr-var-item > .xr-var-name span {\n",
       "  background-color: var(--xr-background-color-row-even);\n",
       "  margin-bottom: 0;\n",
       "}\n",
       "\n",
       ".xr-var-item > .xr-var-name:hover span {\n",
       "  padding-right: 5px;\n",
       "}\n",
       "\n",
       ".xr-var-list > li:nth-child(odd) > div,\n",
       ".xr-var-list > li:nth-child(odd) > label,\n",
       ".xr-var-list > li:nth-child(odd) > .xr-var-name span {\n",
       "  background-color: var(--xr-background-color-row-odd);\n",
       "}\n",
       "\n",
       ".xr-var-name {\n",
       "  grid-column: 1;\n",
       "}\n",
       "\n",
       ".xr-var-dims {\n",
       "  grid-column: 2;\n",
       "}\n",
       "\n",
       ".xr-var-dtype {\n",
       "  grid-column: 3;\n",
       "  text-align: right;\n",
       "  color: var(--xr-font-color2);\n",
       "}\n",
       "\n",
       ".xr-var-preview {\n",
       "  grid-column: 4;\n",
       "}\n",
       "\n",
       ".xr-var-name,\n",
       ".xr-var-dims,\n",
       ".xr-var-dtype,\n",
       ".xr-preview,\n",
       ".xr-attrs dt {\n",
       "  white-space: nowrap;\n",
       "  overflow: hidden;\n",
       "  text-overflow: ellipsis;\n",
       "  padding-right: 10px;\n",
       "}\n",
       "\n",
       ".xr-var-name:hover,\n",
       ".xr-var-dims:hover,\n",
       ".xr-var-dtype:hover,\n",
       ".xr-attrs dt:hover {\n",
       "  overflow: visible;\n",
       "  width: auto;\n",
       "  z-index: 1;\n",
       "}\n",
       "\n",
       ".xr-var-attrs,\n",
       ".xr-var-data {\n",
       "  display: none;\n",
       "  background-color: var(--xr-background-color) !important;\n",
       "  padding-bottom: 5px !important;\n",
       "}\n",
       "\n",
       ".xr-var-attrs-in:checked ~ .xr-var-attrs,\n",
       ".xr-var-data-in:checked ~ .xr-var-data {\n",
       "  display: block;\n",
       "}\n",
       "\n",
       ".xr-var-data > table {\n",
       "  float: right;\n",
       "}\n",
       "\n",
       ".xr-var-name span,\n",
       ".xr-var-data,\n",
       ".xr-attrs {\n",
       "  padding-left: 25px !important;\n",
       "}\n",
       "\n",
       ".xr-attrs,\n",
       ".xr-var-attrs,\n",
       ".xr-var-data {\n",
       "  grid-column: 1 / -1;\n",
       "}\n",
       "\n",
       "dl.xr-attrs {\n",
       "  padding: 0;\n",
       "  margin: 0;\n",
       "  display: grid;\n",
       "  grid-template-columns: 125px auto;\n",
       "}\n",
       "\n",
       ".xr-attrs dt,\n",
       ".xr-attrs dd {\n",
       "  padding: 0;\n",
       "  margin: 0;\n",
       "  float: left;\n",
       "  padding-right: 10px;\n",
       "  width: auto;\n",
       "}\n",
       "\n",
       ".xr-attrs dt {\n",
       "  font-weight: normal;\n",
       "  grid-column: 1;\n",
       "}\n",
       "\n",
       ".xr-attrs dt:hover span {\n",
       "  display: inline-block;\n",
       "  background: var(--xr-background-color);\n",
       "  padding-right: 10px;\n",
       "}\n",
       "\n",
       ".xr-attrs dd {\n",
       "  grid-column: 2;\n",
       "  white-space: pre-wrap;\n",
       "  word-break: break-all;\n",
       "}\n",
       "\n",
       ".xr-icon-database,\n",
       ".xr-icon-file-text2 {\n",
       "  display: inline-block;\n",
       "  vertical-align: middle;\n",
       "  width: 1em;\n",
       "  height: 1.5em !important;\n",
       "  stroke-width: 0;\n",
       "  stroke: currentColor;\n",
       "  fill: currentColor;\n",
       "}\n",
       "</style><pre class='xr-text-repr-fallback'>&lt;xarray.Dataset&gt;\n",
       "Dimensions:     (time: 804, latitudes: 73, longitudes: 144)\n",
       "Coordinates:\n",
       "  * longitudes  (longitudes) float32 0.0 2.5 5.0 7.5 ... 350.0 352.5 355.0 357.5\n",
       "  * time        (time) datetime64[ns] 1948-01-01 1948-02-01 ... 2014-12-01\n",
       "  * latitudes   (latitudes) float32 90.0 87.5 85.0 82.5 ... -85.0 -87.5 -90.0\n",
       "Data variables:\n",
       "    vwnd_1000   (time, latitudes, longitudes) float64 ...\n",
       "    vwnd_200    (time, latitudes, longitudes) float64 ...\n",
       "    uwnd_850    (time, latitudes, longitudes) float64 ...\n",
       "    uwnd_1000   (time, latitudes, longitudes) float64 ...\n",
       "    vwnd_850    (time, latitudes, longitudes) float64 ...\n",
       "    uwnd_200    (time, latitudes, longitudes) float64 ...</pre><div class='xr-wrap' style='display:none'><div class='xr-header'><div class='xr-obj-type'>xarray.Dataset</div></div><ul class='xr-sections'><li class='xr-section-item'><input id='section-79b6d16e-7296-4767-9155-5991dd435782' class='xr-section-summary-in' type='checkbox' disabled ><label for='section-79b6d16e-7296-4767-9155-5991dd435782' class='xr-section-summary'  title='Expand/collapse section'>Dimensions:</label><div class='xr-section-inline-details'><ul class='xr-dim-list'><li><span class='xr-has-index'>time</span>: 804</li><li><span class='xr-has-index'>latitudes</span>: 73</li><li><span class='xr-has-index'>longitudes</span>: 144</li></ul></div><div class='xr-section-details'></div></li><li class='xr-section-item'><input id='section-13562e08-d5d4-48d4-8fd9-ec0357f769d0' class='xr-section-summary-in' type='checkbox'  checked><label for='section-13562e08-d5d4-48d4-8fd9-ec0357f769d0' class='xr-section-summary' >Coordinates: <span>(3)</span></label><div class='xr-section-inline-details'></div><div class='xr-section-details'><ul class='xr-var-list'><li class='xr-var-item'><div class='xr-var-name'><span class='xr-has-index'>longitudes</span></div><div class='xr-var-dims'>(longitudes)</div><div class='xr-var-dtype'>float32</div><div class='xr-var-preview xr-preview'>0.0 2.5 5.0 ... 352.5 355.0 357.5</div><input id='attrs-668de699-db0f-4dc2-a90d-43302ff2decb' class='xr-var-attrs-in' type='checkbox' disabled><label for='attrs-668de699-db0f-4dc2-a90d-43302ff2decb' title='Show/Hide attributes'><svg class='icon xr-icon-file-text2'><use xlink:href='#icon-file-text2'></use></svg></label><input id='data-e74591db-70a2-46d9-8944-5e9f59fc6cf0' class='xr-var-data-in' type='checkbox'><label for='data-e74591db-70a2-46d9-8944-5e9f59fc6cf0' title='Show/Hide data repr'><svg class='icon xr-icon-database'><use xlink:href='#icon-database'></use></svg></label><div class='xr-var-attrs'><dl class='xr-attrs'></dl></div><div class='xr-var-data'><pre>array([  0. ,   2.5,   5. ,   7.5,  10. ,  12.5,  15. ,  17.5,  20. ,  22.5,\n",
       "        25. ,  27.5,  30. ,  32.5,  35. ,  37.5,  40. ,  42.5,  45. ,  47.5,\n",
       "        50. ,  52.5,  55. ,  57.5,  60. ,  62.5,  65. ,  67.5,  70. ,  72.5,\n",
       "        75. ,  77.5,  80. ,  82.5,  85. ,  87.5,  90. ,  92.5,  95. ,  97.5,\n",
       "       100. , 102.5, 105. , 107.5, 110. , 112.5, 115. , 117.5, 120. , 122.5,\n",
       "       125. , 127.5, 130. , 132.5, 135. , 137.5, 140. , 142.5, 145. , 147.5,\n",
       "       150. , 152.5, 155. , 157.5, 160. , 162.5, 165. , 167.5, 170. , 172.5,\n",
       "       175. , 177.5, 180. , 182.5, 185. , 187.5, 190. , 192.5, 195. , 197.5,\n",
       "       200. , 202.5, 205. , 207.5, 210. , 212.5, 215. , 217.5, 220. , 222.5,\n",
       "       225. , 227.5, 230. , 232.5, 235. , 237.5, 240. , 242.5, 245. , 247.5,\n",
       "       250. , 252.5, 255. , 257.5, 260. , 262.5, 265. , 267.5, 270. , 272.5,\n",
       "       275. , 277.5, 280. , 282.5, 285. , 287.5, 290. , 292.5, 295. , 297.5,\n",
       "       300. , 302.5, 305. , 307.5, 310. , 312.5, 315. , 317.5, 320. , 322.5,\n",
       "       325. , 327.5, 330. , 332.5, 335. , 337.5, 340. , 342.5, 345. , 347.5,\n",
       "       350. , 352.5, 355. , 357.5], dtype=float32)</pre></div></li><li class='xr-var-item'><div class='xr-var-name'><span class='xr-has-index'>time</span></div><div class='xr-var-dims'>(time)</div><div class='xr-var-dtype'>datetime64[ns]</div><div class='xr-var-preview xr-preview'>1948-01-01 ... 2014-12-01</div><input id='attrs-c3bec37c-eedf-4a1b-afd7-a2b065752bf0' class='xr-var-attrs-in' type='checkbox' disabled><label for='attrs-c3bec37c-eedf-4a1b-afd7-a2b065752bf0' title='Show/Hide attributes'><svg class='icon xr-icon-file-text2'><use xlink:href='#icon-file-text2'></use></svg></label><input id='data-9ce69bb2-a083-4f87-aaac-fb93f3e2b24f' class='xr-var-data-in' type='checkbox'><label for='data-9ce69bb2-a083-4f87-aaac-fb93f3e2b24f' title='Show/Hide data repr'><svg class='icon xr-icon-database'><use xlink:href='#icon-database'></use></svg></label><div class='xr-var-attrs'><dl class='xr-attrs'></dl></div><div class='xr-var-data'><pre>array([&#x27;1948-01-01T00:00:00.000000000&#x27;, &#x27;1948-02-01T00:00:00.000000000&#x27;,\n",
       "       &#x27;1948-03-01T00:00:00.000000000&#x27;, ..., &#x27;2014-10-01T00:00:00.000000000&#x27;,\n",
       "       &#x27;2014-11-01T00:00:00.000000000&#x27;, &#x27;2014-12-01T00:00:00.000000000&#x27;],\n",
       "      dtype=&#x27;datetime64[ns]&#x27;)</pre></div></li><li class='xr-var-item'><div class='xr-var-name'><span class='xr-has-index'>latitudes</span></div><div class='xr-var-dims'>(latitudes)</div><div class='xr-var-dtype'>float32</div><div class='xr-var-preview xr-preview'>90.0 87.5 85.0 ... -87.5 -90.0</div><input id='attrs-fbcba6a0-6306-4df5-aca7-146584fbabc1' class='xr-var-attrs-in' type='checkbox' disabled><label for='attrs-fbcba6a0-6306-4df5-aca7-146584fbabc1' title='Show/Hide attributes'><svg class='icon xr-icon-file-text2'><use xlink:href='#icon-file-text2'></use></svg></label><input id='data-463adfff-7e67-4bf6-b217-44041ad821a0' class='xr-var-data-in' type='checkbox'><label for='data-463adfff-7e67-4bf6-b217-44041ad821a0' title='Show/Hide data repr'><svg class='icon xr-icon-database'><use xlink:href='#icon-database'></use></svg></label><div class='xr-var-attrs'><dl class='xr-attrs'></dl></div><div class='xr-var-data'><pre>array([ 90. ,  87.5,  85. ,  82.5,  80. ,  77.5,  75. ,  72.5,  70. ,  67.5,\n",
       "        65. ,  62.5,  60. ,  57.5,  55. ,  52.5,  50. ,  47.5,  45. ,  42.5,\n",
       "        40. ,  37.5,  35. ,  32.5,  30. ,  27.5,  25. ,  22.5,  20. ,  17.5,\n",
       "        15. ,  12.5,  10. ,   7.5,   5. ,   2.5,   0. ,  -2.5,  -5. ,  -7.5,\n",
       "       -10. , -12.5, -15. , -17.5, -20. , -22.5, -25. , -27.5, -30. , -32.5,\n",
       "       -35. , -37.5, -40. , -42.5, -45. , -47.5, -50. , -52.5, -55. , -57.5,\n",
       "       -60. , -62.5, -65. , -67.5, -70. , -72.5, -75. , -77.5, -80. , -82.5,\n",
       "       -85. , -87.5, -90. ], dtype=float32)</pre></div></li></ul></div></li><li class='xr-section-item'><input id='section-5ae36578-d509-4116-8512-0f33c89c2d68' class='xr-section-summary-in' type='checkbox'  checked><label for='section-5ae36578-d509-4116-8512-0f33c89c2d68' class='xr-section-summary' >Data variables: <span>(6)</span></label><div class='xr-section-inline-details'></div><div class='xr-section-details'><ul class='xr-var-list'><li class='xr-var-item'><div class='xr-var-name'><span>vwnd_1000</span></div><div class='xr-var-dims'>(time, latitudes, longitudes)</div><div class='xr-var-dtype'>float64</div><div class='xr-var-preview xr-preview'>...</div><input id='attrs-541fd5e9-0adc-4e45-b79b-365eda35f9ab' class='xr-var-attrs-in' type='checkbox' disabled><label for='attrs-541fd5e9-0adc-4e45-b79b-365eda35f9ab' title='Show/Hide attributes'><svg class='icon xr-icon-file-text2'><use xlink:href='#icon-file-text2'></use></svg></label><input id='data-918bba92-21d4-433d-b4aa-fdf8f1052ceb' class='xr-var-data-in' type='checkbox'><label for='data-918bba92-21d4-433d-b4aa-fdf8f1052ceb' title='Show/Hide data repr'><svg class='icon xr-icon-database'><use xlink:href='#icon-database'></use></svg></label><div class='xr-var-attrs'><dl class='xr-attrs'></dl></div><div class='xr-var-data'><pre>[8451648 values with dtype=float64]</pre></div></li><li class='xr-var-item'><div class='xr-var-name'><span>vwnd_200</span></div><div class='xr-var-dims'>(time, latitudes, longitudes)</div><div class='xr-var-dtype'>float64</div><div class='xr-var-preview xr-preview'>...</div><input id='attrs-1e6235aa-fb95-44c3-bd99-ef3b778e0f3e' class='xr-var-attrs-in' type='checkbox' disabled><label for='attrs-1e6235aa-fb95-44c3-bd99-ef3b778e0f3e' title='Show/Hide attributes'><svg class='icon xr-icon-file-text2'><use xlink:href='#icon-file-text2'></use></svg></label><input id='data-9691abac-f154-42e0-9299-982a966fc7ef' class='xr-var-data-in' type='checkbox'><label for='data-9691abac-f154-42e0-9299-982a966fc7ef' title='Show/Hide data repr'><svg class='icon xr-icon-database'><use xlink:href='#icon-database'></use></svg></label><div class='xr-var-attrs'><dl class='xr-attrs'></dl></div><div class='xr-var-data'><pre>[8451648 values with dtype=float64]</pre></div></li><li class='xr-var-item'><div class='xr-var-name'><span>uwnd_850</span></div><div class='xr-var-dims'>(time, latitudes, longitudes)</div><div class='xr-var-dtype'>float64</div><div class='xr-var-preview xr-preview'>...</div><input id='attrs-9c194aab-6ca4-450a-a315-7454004825b2' class='xr-var-attrs-in' type='checkbox' disabled><label for='attrs-9c194aab-6ca4-450a-a315-7454004825b2' title='Show/Hide attributes'><svg class='icon xr-icon-file-text2'><use xlink:href='#icon-file-text2'></use></svg></label><input id='data-a7626c9d-b6f2-4b30-a2dd-de699f27ed20' class='xr-var-data-in' type='checkbox'><label for='data-a7626c9d-b6f2-4b30-a2dd-de699f27ed20' title='Show/Hide data repr'><svg class='icon xr-icon-database'><use xlink:href='#icon-database'></use></svg></label><div class='xr-var-attrs'><dl class='xr-attrs'></dl></div><div class='xr-var-data'><pre>[8451648 values with dtype=float64]</pre></div></li><li class='xr-var-item'><div class='xr-var-name'><span>uwnd_1000</span></div><div class='xr-var-dims'>(time, latitudes, longitudes)</div><div class='xr-var-dtype'>float64</div><div class='xr-var-preview xr-preview'>...</div><input id='attrs-ea59a39e-fe18-47c9-b533-dda1af7889b3' class='xr-var-attrs-in' type='checkbox' disabled><label for='attrs-ea59a39e-fe18-47c9-b533-dda1af7889b3' title='Show/Hide attributes'><svg class='icon xr-icon-file-text2'><use xlink:href='#icon-file-text2'></use></svg></label><input id='data-1f086d42-9869-4a1f-9fe3-41786ac9ea2b' class='xr-var-data-in' type='checkbox'><label for='data-1f086d42-9869-4a1f-9fe3-41786ac9ea2b' title='Show/Hide data repr'><svg class='icon xr-icon-database'><use xlink:href='#icon-database'></use></svg></label><div class='xr-var-attrs'><dl class='xr-attrs'></dl></div><div class='xr-var-data'><pre>[8451648 values with dtype=float64]</pre></div></li><li class='xr-var-item'><div class='xr-var-name'><span>vwnd_850</span></div><div class='xr-var-dims'>(time, latitudes, longitudes)</div><div class='xr-var-dtype'>float64</div><div class='xr-var-preview xr-preview'>...</div><input id='attrs-9d68c03d-9a44-497c-8f0d-e62dd50d7ff2' class='xr-var-attrs-in' type='checkbox' disabled><label for='attrs-9d68c03d-9a44-497c-8f0d-e62dd50d7ff2' title='Show/Hide attributes'><svg class='icon xr-icon-file-text2'><use xlink:href='#icon-file-text2'></use></svg></label><input id='data-ab569055-4b03-4ccb-81a5-4e8bfb8617ff' class='xr-var-data-in' type='checkbox'><label for='data-ab569055-4b03-4ccb-81a5-4e8bfb8617ff' title='Show/Hide data repr'><svg class='icon xr-icon-database'><use xlink:href='#icon-database'></use></svg></label><div class='xr-var-attrs'><dl class='xr-attrs'></dl></div><div class='xr-var-data'><pre>[8451648 values with dtype=float64]</pre></div></li><li class='xr-var-item'><div class='xr-var-name'><span>uwnd_200</span></div><div class='xr-var-dims'>(time, latitudes, longitudes)</div><div class='xr-var-dtype'>float64</div><div class='xr-var-preview xr-preview'>...</div><input id='attrs-bd2cad13-b794-402a-be65-ef33f352d328' class='xr-var-attrs-in' type='checkbox' disabled><label for='attrs-bd2cad13-b794-402a-be65-ef33f352d328' title='Show/Hide attributes'><svg class='icon xr-icon-file-text2'><use xlink:href='#icon-file-text2'></use></svg></label><input id='data-f170c4d8-7b32-480e-af64-df79cf2438e4' class='xr-var-data-in' type='checkbox'><label for='data-f170c4d8-7b32-480e-af64-df79cf2438e4' title='Show/Hide data repr'><svg class='icon xr-icon-database'><use xlink:href='#icon-database'></use></svg></label><div class='xr-var-attrs'><dl class='xr-attrs'></dl></div><div class='xr-var-data'><pre>[8451648 values with dtype=float64]</pre></div></li></ul></div></li><li class='xr-section-item'><input id='section-765917ed-4e91-43fc-ae99-70c74c65eee4' class='xr-section-summary-in' type='checkbox' disabled ><label for='section-765917ed-4e91-43fc-ae99-70c74c65eee4' class='xr-section-summary'  title='Expand/collapse section'>Attributes: <span>(0)</span></label><div class='xr-section-inline-details'></div><div class='xr-section-details'><dl class='xr-attrs'></dl></div></li></ul></div></div>"
      ],
      "text/plain": [
       "<xarray.Dataset>\n",
       "Dimensions:     (time: 804, latitudes: 73, longitudes: 144)\n",
       "Coordinates:\n",
       "  * longitudes  (longitudes) float32 0.0 2.5 5.0 7.5 ... 350.0 352.5 355.0 357.5\n",
       "  * time        (time) datetime64[ns] 1948-01-01 1948-02-01 ... 2014-12-01\n",
       "  * latitudes   (latitudes) float32 90.0 87.5 85.0 82.5 ... -85.0 -87.5 -90.0\n",
       "Data variables:\n",
       "    vwnd_1000   (time, latitudes, longitudes) float64 ...\n",
       "    vwnd_200    (time, latitudes, longitudes) float64 ...\n",
       "    uwnd_850    (time, latitudes, longitudes) float64 ...\n",
       "    uwnd_1000   (time, latitudes, longitudes) float64 ...\n",
       "    vwnd_850    (time, latitudes, longitudes) float64 ...\n",
       "    uwnd_200    (time, latitudes, longitudes) float64 ..."
      ]
     },
     "execution_count": 73,
     "metadata": {},
     "output_type": "execute_result"
    }
   ],
   "source": [
    "dset"
   ]
  },
  {
   "cell_type": "markdown",
   "id": "a4a4f651-1b25-426d-991d-8bb9dd568ace",
   "metadata": {},
   "source": [
    "### list of URLs from the PSL "
   ]
  },
  {
   "cell_type": "markdown",
   "id": "6bf3d4fb-63b4-4017-977d-7c72a0ccd969",
   "metadata": {},
   "source": [
    "- MSLP: https://psl.noaa.gov/thredds/dodsC/Datasets/ncep.reanalysis.derived/surface/slp.mon.mean.nc.html \n",
    "  \n",
    " - u-wind: https://psl.noaa.gov/thredds/dodsC/Datasets/ncep.reanalysis.derived/pressure/uwnd.mon.mean.nc.html \n",
    "  \n",
    "- vector wind: https://psl.noaa.gov/thredds/dodsC/Datasets/ncep.reanalysis.derived/pressure/uwnd.mon.mean.nc.html and https://psl.noaa.gov/thredds/dodsC/Datasets/ncep.reanalysis.derived/pressure/vwnd.mon.mean.nc.html \n",
    "\n",
    "in one dataset (NCEP1_monthly_wind_1948_2021.nc), levels 1000, 850, 200 \n",
    "\n",
    "- HGT: https://psl.noaa.gov/thredds/dodsC/Datasets/ncep.reanalysis.derived/pressure/hgt.mon.mean.nc.html \n",
    "\n",
    "    levels: 1000, 850, 200 \n",
    "\n",
    "- Omega: https://psl.noaa.gov/thredds/dodsC/Datasets/ncep.reanalysis.derived/pressure/omega.mon.mean.nc.html\n",
    "\n",
    "    levels: 500 (variable name: 'omega_500')"
   ]
  },
  {
   "cell_type": "markdown",
   "id": "6be66c51-2a80-41fc-a633-7739243b435d",
   "metadata": {},
   "source": [
    "### MSLP "
   ]
  },
  {
   "cell_type": "code",
   "execution_count": 21,
   "id": "5b13ab55-4053-479e-b6ea-e1128e641750",
   "metadata": {},
   "outputs": [],
   "source": [
    "mslp = xr.open_dataset(\"https://psl.noaa.gov/thredds/dodsC/Datasets/ncep.reanalysis.derived/surface/slp.mon.mean.nc\")"
   ]
  },
  {
   "cell_type": "code",
   "execution_count": 22,
   "id": "480ba7d8-46c6-46fa-9744-d761db3adaf0",
   "metadata": {},
   "outputs": [],
   "source": [
    "dict_rename = {'lat':'latitudes', 'lon':'longitudes'}"
   ]
  },
  {
   "cell_type": "code",
   "execution_count": 23,
   "id": "9dddd252-f760-4299-9c9c-9de9268102a3",
   "metadata": {},
   "outputs": [],
   "source": [
    "mslp = mslp.rename(dict_rename)"
   ]
  },
  {
   "cell_type": "code",
   "execution_count": 24,
   "id": "c251d835-9c86-476f-b545-9f16660a202b",
   "metadata": {},
   "outputs": [],
   "source": [
    "mslp = mslp.sel(time_slice) "
   ]
  },
  {
   "cell_type": "code",
   "execution_count": 25,
   "id": "cbda44b1-5bd2-497e-9f1c-bd28a143cf53",
   "metadata": {},
   "outputs": [],
   "source": [
    "mslp.to_netcdf(\"/media/nicolasf/END19101/data/PICT/datasets/NCEP/NCEP1_monthly_mslp_1948_2021.nc\") "
   ]
  },
  {
   "cell_type": "markdown",
   "id": "ee4273af-6bdd-4cb3-9aa2-656351094a7a",
   "metadata": {},
   "source": [
    "### HGT "
   ]
  },
  {
   "cell_type": "code",
   "execution_count": 26,
   "id": "f983aa1a-45fc-4f69-8252-be464cf3279d",
   "metadata": {},
   "outputs": [],
   "source": [
    "hgt = xr.open_dataset(\"https://psl.noaa.gov/thredds/dodsC/Datasets/ncep.reanalysis.derived/pressure/hgt.mon.mean.nc\")"
   ]
  },
  {
   "cell_type": "code",
   "execution_count": 27,
   "id": "d9414bb9-9db1-4823-b59e-df7b0f878394",
   "metadata": {},
   "outputs": [],
   "source": [
    "dict_rename = {'lat':'latitudes', 'lon':'longitudes'}"
   ]
  },
  {
   "cell_type": "code",
   "execution_count": 28,
   "id": "fe3a5a06-ccd2-4e8a-b43e-3366b8a2f2fe",
   "metadata": {},
   "outputs": [],
   "source": [
    "hgt = hgt.rename(dict_rename)"
   ]
  },
  {
   "cell_type": "code",
   "execution_count": 29,
   "id": "a07f83a8-bcc4-4692-bc8f-61b25981419d",
   "metadata": {},
   "outputs": [],
   "source": [
    "hgt = hgt.sel(time_slice) "
   ]
  },
  {
   "cell_type": "code",
   "execution_count": 41,
   "id": "adbdabe4-1e65-4745-b8cb-d06b05766e5d",
   "metadata": {},
   "outputs": [],
   "source": [
    "outfile = hgt[['time','latitudes','longitudes']]"
   ]
  },
  {
   "cell_type": "code",
   "execution_count": 42,
   "id": "b1d09a1c-dbcf-472b-a15e-542bad64ff22",
   "metadata": {},
   "outputs": [],
   "source": [
    "for level in [1000, 850, 200]: \n",
    "    \n",
    "    outfile[f\"hgt_{level}\"] = hgt.sel(level=level)['hgt']"
   ]
  },
  {
   "cell_type": "code",
   "execution_count": 45,
   "id": "72c4e9db-fbbf-4192-9702-34f91b92e594",
   "metadata": {},
   "outputs": [],
   "source": [
    "outfile.to_netcdf(\"/media/nicolasf/END19101/data/PICT/datasets/NCEP/NCEP1_monthly_hgt_1948_2021.nc\")"
   ]
  },
  {
   "cell_type": "markdown",
   "id": "b89369aa-044c-4405-b3df-6139738160a1",
   "metadata": {},
   "source": [
    "### Omega "
   ]
  },
  {
   "cell_type": "code",
   "execution_count": 46,
   "id": "ae329631-1041-4f61-a7e0-8d82256e2c63",
   "metadata": {},
   "outputs": [],
   "source": [
    "omega = xr.open_dataset(\"https://psl.noaa.gov/thredds/dodsC/Datasets/ncep.reanalysis.derived/pressure/omega.mon.mean.nc\")"
   ]
  },
  {
   "cell_type": "code",
   "execution_count": 50,
   "id": "310d099c-ff19-4913-b76e-2d98fca0af00",
   "metadata": {},
   "outputs": [],
   "source": [
    "omega = omega.rename(dict_rename)"
   ]
  },
  {
   "cell_type": "code",
   "execution_count": 51,
   "id": "79243388-3c9a-49ef-97e7-228704320890",
   "metadata": {},
   "outputs": [],
   "source": [
    "omega = omega.sel(time_slice) "
   ]
  },
  {
   "cell_type": "code",
   "execution_count": 55,
   "id": "eb17ebae-4bc5-4c7d-95ff-1aacd193b4ec",
   "metadata": {},
   "outputs": [],
   "source": [
    "outfile = omega[['time','latitudes','longitudes']]"
   ]
  },
  {
   "cell_type": "code",
   "execution_count": 56,
   "id": "9c862eef-06a3-4803-90f6-b48c6824f000",
   "metadata": {},
   "outputs": [],
   "source": [
    "outfile['omega_500'] = omega.sel(level=500)['omega']"
   ]
  },
  {
   "cell_type": "code",
   "execution_count": 57,
   "id": "768402f8-fcbb-44b6-98f5-f98f36c36c98",
   "metadata": {},
   "outputs": [],
   "source": [
    "outfile.to_netcdf(\"/media/nicolasf/END19101/data/PICT/datasets/NCEP/NCEP1_monthly_omega_1948_2021.nc\")"
   ]
  },
  {
   "cell_type": "markdown",
   "id": "86041c49-bbb4-4d36-961c-5d485c15cd34",
   "metadata": {},
   "source": [
    "### Vector winds "
   ]
  },
  {
   "cell_type": "markdown",
   "id": "8ba44ac8-cab6-4e03-9c34-0a2e8b1d45d4",
   "metadata": {},
   "source": [
    "## take from uwnd and vwnd, then merge "
   ]
  },
  {
   "cell_type": "code",
   "execution_count": 62,
   "id": "64318dba-e1cf-422b-91b3-09bc9d616138",
   "metadata": {},
   "outputs": [],
   "source": [
    "uwnd = xr.open_dataset(\"https://psl.noaa.gov/thredds/dodsC/Datasets/ncep.reanalysis.derived/pressure/uwnd.mon.mean.nc\")"
   ]
  },
  {
   "cell_type": "code",
   "execution_count": 63,
   "id": "186e7ac7-d5b5-4c18-a2f8-151c53b461a7",
   "metadata": {},
   "outputs": [],
   "source": [
    "vwnd = xr.open_dataset(\"https://psl.noaa.gov/thredds/dodsC/Datasets/ncep.reanalysis.derived/pressure/vwnd.mon.mean.nc\")"
   ]
  },
  {
   "cell_type": "code",
   "execution_count": 64,
   "id": "6caf2b9d-64b5-4693-891b-5c6d0e898d49",
   "metadata": {},
   "outputs": [],
   "source": [
    "uwnd = uwnd.rename(dict_rename)"
   ]
  },
  {
   "cell_type": "code",
   "execution_count": 65,
   "id": "a0261259-7495-48be-b088-6052ba87946e",
   "metadata": {},
   "outputs": [],
   "source": [
    "vwnd = vwnd.rename(dict_rename)"
   ]
  },
  {
   "cell_type": "code",
   "execution_count": 68,
   "id": "dbe9c64d-0de1-4c09-8c94-fc2e7ca83feb",
   "metadata": {},
   "outputs": [],
   "source": [
    "uwnd = uwnd.sel(time_slice)"
   ]
  },
  {
   "cell_type": "code",
   "execution_count": 69,
   "id": "443a0eb9-dc1a-40e2-add7-0a1e6fcc446e",
   "metadata": {},
   "outputs": [],
   "source": [
    "vwnd = vwnd.sel(time_slice)"
   ]
  },
  {
   "cell_type": "markdown",
   "id": "a7468a2b-815b-4f2b-911d-0a775e98e982",
   "metadata": {},
   "source": [
    "### template for wind outfile "
   ]
  },
  {
   "cell_type": "code",
   "execution_count": 71,
   "id": "94386955-46bf-41b3-b369-5eb06e6614fa",
   "metadata": {},
   "outputs": [],
   "source": [
    "outfile = uwnd[['time','latitudes','longitudes']]"
   ]
  },
  {
   "cell_type": "code",
   "execution_count": 74,
   "id": "4620604f-0eae-4776-9aad-d93c00c5d0c7",
   "metadata": {},
   "outputs": [],
   "source": [
    "for level in [1000, 850, 200]: \n",
    "    \n",
    "    outfile[f\"uwnd_{level}\"] = uwnd.sel(level=level)['uwnd']\n",
    "    outfile[f\"vwnd_{level}\"] = vwnd.sel(level=level)['vwnd']"
   ]
  },
  {
   "cell_type": "code",
   "execution_count": null,
   "id": "d320c51d-1b6c-4911-81d8-acaf7b0bb136",
   "metadata": {},
   "outputs": [],
   "source": []
  },
  {
   "cell_type": "code",
   "execution_count": null,
   "id": "e19f4cf8-b5bc-4cc5-aa27-dceb9b7076b1",
   "metadata": {},
   "outputs": [],
   "source": []
  }
 ],
 "metadata": {
  "kernelspec": {
   "display_name": "Python 3 (ipykernel)",
   "language": "python",
   "name": "python3"
  },
  "language_info": {
   "codemirror_mode": {
    "name": "ipython",
    "version": 3
   },
   "file_extension": ".py",
   "mimetype": "text/x-python",
   "name": "python",
   "nbconvert_exporter": "python",
   "pygments_lexer": "ipython3",
   "version": "3.8.13"
  }
 },
 "nbformat": 4,
 "nbformat_minor": 5
}
