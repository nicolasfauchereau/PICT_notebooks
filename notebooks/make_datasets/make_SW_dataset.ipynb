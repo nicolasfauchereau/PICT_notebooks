{
 "cells": [
  {
   "cell_type": "markdown",
   "metadata": {},
   "source": [
    "### prepare the dataset for the SW Pacific regimes"
   ]
  },
  {
   "cell_type": "code",
   "execution_count": 23,
   "metadata": {
    "collapsed": true
   },
   "outputs": [],
   "source": [
    "%matplotlib inline"
   ]
  },
  {
   "cell_type": "code",
   "execution_count": 24,
   "metadata": {
    "collapsed": true
   },
   "outputs": [],
   "source": [
    "import sys, os\n",
    "import numpy as np \n",
    "import pandas as pd\n",
    "from matplotlib import pyplot as plt\n",
    "from scipy.io.matlab import loadmat\n",
    "import h5py\n",
    "\n",
    "# date and time stuff\n",
    "from datetime import datetime, timedelta\n",
    "from dateutil import parser, relativedelta\n",
    "\n",
    "import xray\n",
    "import seaborn as sns"
   ]
  },
  {
   "cell_type": "code",
   "execution_count": 25,
   "metadata": {
    "collapsed": true
   },
   "outputs": [],
   "source": [
    "import sys\n",
    "sys.path.append('/Users/nicolasf/CODE/paleopy/')"
   ]
  },
  {
   "cell_type": "code",
   "execution_count": 26,
   "metadata": {
    "collapsed": false
   },
   "outputs": [],
   "source": [
    "from paleopy import markov"
   ]
  },
  {
   "cell_type": "code",
   "execution_count": 27,
   "metadata": {
    "collapsed": true
   },
   "outputs": [],
   "source": [
    "types = ['SW1','SW2', 'SW3', 'SW4', 'SW5', 'SW6']"
   ]
  },
  {
   "cell_type": "code",
   "execution_count": 28,
   "metadata": {
    "collapsed": true
   },
   "outputs": [],
   "source": [
    "dict_types = dict(zip(types,range(1,len(types)+14 )))\n",
    "inv_dict_types = {v: k for k, v in dict_types.items()}"
   ]
  },
  {
   "cell_type": "code",
   "execution_count": 29,
   "metadata": {
    "collapsed": false
   },
   "outputs": [
    {
     "data": {
      "text/plain": [
       "{1: 'SW1', 2: 'SW2', 3: 'SW3', 4: 'SW4', 5: 'SW5', 6: 'SW6'}"
      ]
     },
     "execution_count": 29,
     "metadata": {},
     "output_type": "execute_result"
    }
   ],
   "source": [
    "inv_dict_types"
   ]
  },
  {
   "cell_type": "code",
   "execution_count": 30,
   "metadata": {
    "collapsed": false
   },
   "outputs": [],
   "source": [
    "# %%writefile \n",
    "def select_season(data, season='DJF', complete=True, start = 1948, end = 2014, rm_leap=False):\n",
    "    from calendar import monthrange\n",
    "    \"\"\"\n",
    "    Select a season from data\n",
    "    data must be a Pandas Series or DataFrame with a datetime index\n",
    "    \"\"\"\n",
    "        \n",
    "    seasons_params = {}\n",
    "    seasons_params['DJF'] = (12,2)\n",
    "    seasons_params['JFM'] = (1,3)\n",
    "    seasons_params['FMA'] = (2,4)\n",
    "    seasons_params['MAM'] = (3,5)\n",
    "    seasons_params['AMJ'] = (4,6)\n",
    "    seasons_params['MJJ'] = (5,7)\n",
    "    seasons_params['JJA'] = (6,8)\n",
    "    seasons_params['JAS'] = (7,9)\n",
    "    seasons_params['ASO'] = (8,10)\n",
    "    seasons_params['SON'] = (9,11)\n",
    "    seasons_params['OND'] = (10,12)\n",
    "    seasons_params['NDJ'] = (11,1)\n",
    "    seasons_params['Warm Season (Dec. - May)'] = (12, 5)\n",
    "    seasons_params['Cold Season (Jun. - Nov.)'] = (6, 11)\n",
    "    seasons_params['Year (Jan. - Dec.)'] = (1, 12)\n",
    "    seasons_params['Hydro. year (Jul. - Jun.)'] = (7, 6)    \n",
    "        \n",
    "    ### defines the selector \n",
    "    selector = ((data.index.month >= seasons_params[season][0]) | (data.index.month <= seasons_params[season][1]))\n",
    "    \n",
    "    ### selects\n",
    "    data = data[selector]\n",
    "    \n",
    "    ### if complete == True, we only select COMPLETE seasons \n",
    "    data = data.truncate(before='%s-%s-1' % (start, seasons_params[season][0]),\\\n",
    "                   after='%s-%s-%s' % (end, seasons_params[season][1], monthrange(end,seasons_params[season][1])[1] ))\n",
    "    \n",
    "    if rm_leap: \n",
    "        data[(data.index.month == 2) & (data.index.day == 29)] = np.nan\n",
    "        data.dropna(inplace=True)\n",
    "    \n",
    "    return data"
   ]
  },
  {
   "cell_type": "code",
   "execution_count": 31,
   "metadata": {
    "collapsed": true
   },
   "outputs": [],
   "source": [
    "fname = '/Users/nicolasf/research/NIWA/paleo/Agent_based/data/kmeans_6_class_clusters_TS_Ldomain.csv'"
   ]
  },
  {
   "cell_type": "code",
   "execution_count": 32,
   "metadata": {
    "collapsed": true
   },
   "outputs": [],
   "source": [
    "sw_types = pd.read_csv(fname, parse_dates=True, index_col=0, names=['class'], header=None, skiprows=1)"
   ]
  },
  {
   "cell_type": "code",
   "execution_count": 33,
   "metadata": {
    "collapsed": false
   },
   "outputs": [
    {
     "data": {
      "text/html": [
       "<div>\n",
       "<table border=\"1\" class=\"dataframe\">\n",
       "  <thead>\n",
       "    <tr style=\"text-align: right;\">\n",
       "      <th></th>\n",
       "      <th>class</th>\n",
       "    </tr>\n",
       "  </thead>\n",
       "  <tbody>\n",
       "    <tr>\n",
       "      <th>1948-01-01</th>\n",
       "      <td>0</td>\n",
       "    </tr>\n",
       "    <tr>\n",
       "      <th>1948-01-02</th>\n",
       "      <td>0</td>\n",
       "    </tr>\n",
       "    <tr>\n",
       "      <th>1948-01-03</th>\n",
       "      <td>0</td>\n",
       "    </tr>\n",
       "    <tr>\n",
       "      <th>1948-01-04</th>\n",
       "      <td>0</td>\n",
       "    </tr>\n",
       "    <tr>\n",
       "      <th>1948-01-05</th>\n",
       "      <td>0</td>\n",
       "    </tr>\n",
       "  </tbody>\n",
       "</table>\n",
       "</div>"
      ],
      "text/plain": [
       "            class\n",
       "1948-01-01      0\n",
       "1948-01-02      0\n",
       "1948-01-03      0\n",
       "1948-01-04      0\n",
       "1948-01-05      0"
      ]
     },
     "execution_count": 33,
     "metadata": {},
     "output_type": "execute_result"
    }
   ],
   "source": [
    "sw_types.head()"
   ]
  },
  {
   "cell_type": "code",
   "execution_count": 34,
   "metadata": {
    "collapsed": true
   },
   "outputs": [],
   "source": [
    "# sw_types = sw_types.ix['1981':'2010']"
   ]
  },
  {
   "cell_type": "code",
   "execution_count": 35,
   "metadata": {
    "collapsed": false
   },
   "outputs": [
    {
     "data": {
      "text/plain": [
       "['SW1', 'SW2', 'SW3', 'SW4', 'SW5', 'SW6']"
      ]
     },
     "execution_count": 35,
     "metadata": {},
     "output_type": "execute_result"
    }
   ],
   "source": [
    "types"
   ]
  },
  {
   "cell_type": "code",
   "execution_count": 36,
   "metadata": {
    "collapsed": false
   },
   "outputs": [],
   "source": [
    "dict_types = dict(zip(types,range(0,len(types)+1)))\n",
    "inv_dict_types = {v: k for k, v in dict_types.items()}\n",
    "\n",
    "maptypes = lambda x: inv_dict_types[x]"
   ]
  },
  {
   "cell_type": "code",
   "execution_count": 37,
   "metadata": {
    "collapsed": false
   },
   "outputs": [],
   "source": [
    "sw_types['type'] =  sw_types.applymap(maptypes)"
   ]
  },
  {
   "cell_type": "code",
   "execution_count": 38,
   "metadata": {
    "collapsed": false
   },
   "outputs": [
    {
     "data": {
      "text/html": [
       "<div>\n",
       "<table border=\"1\" class=\"dataframe\">\n",
       "  <thead>\n",
       "    <tr style=\"text-align: right;\">\n",
       "      <th></th>\n",
       "      <th>class</th>\n",
       "      <th>type</th>\n",
       "    </tr>\n",
       "  </thead>\n",
       "  <tbody>\n",
       "    <tr>\n",
       "      <th>2014-12-27</th>\n",
       "      <td>5</td>\n",
       "      <td>SW6</td>\n",
       "    </tr>\n",
       "    <tr>\n",
       "      <th>2014-12-28</th>\n",
       "      <td>5</td>\n",
       "      <td>SW6</td>\n",
       "    </tr>\n",
       "    <tr>\n",
       "      <th>2014-12-29</th>\n",
       "      <td>4</td>\n",
       "      <td>SW5</td>\n",
       "    </tr>\n",
       "    <tr>\n",
       "      <th>2014-12-30</th>\n",
       "      <td>2</td>\n",
       "      <td>SW3</td>\n",
       "    </tr>\n",
       "    <tr>\n",
       "      <th>2014-12-31</th>\n",
       "      <td>5</td>\n",
       "      <td>SW6</td>\n",
       "    </tr>\n",
       "  </tbody>\n",
       "</table>\n",
       "</div>"
      ],
      "text/plain": [
       "            class type\n",
       "2014-12-27      5  SW6\n",
       "2014-12-28      5  SW6\n",
       "2014-12-29      4  SW5\n",
       "2014-12-30      2  SW3\n",
       "2014-12-31      5  SW6"
      ]
     },
     "execution_count": 38,
     "metadata": {},
     "output_type": "execute_result"
    }
   ],
   "source": [
    "sw_types.tail()"
   ]
  },
  {
   "cell_type": "code",
   "execution_count": 39,
   "metadata": {
    "collapsed": true
   },
   "outputs": [],
   "source": [
    "sw_types.to_csv('../data/SWPac_Types.csv')"
   ]
  },
  {
   "cell_type": "markdown",
   "metadata": {},
   "source": [
    "### selects the season"
   ]
  },
  {
   "cell_type": "code",
   "execution_count": 40,
   "metadata": {
    "collapsed": true
   },
   "outputs": [],
   "source": [
    "lseason = ['AMJ',\n",
    " 'ASO',\n",
    " 'DJF',\n",
    " 'FMA',\n",
    " 'JAS',\n",
    " 'JFM',\n",
    " 'JJA',\n",
    " 'MAM',\n",
    " 'MJJ',\n",
    " 'NDJ',\n",
    " 'OND',\n",
    " 'SON',\n",
    " 'Cold Season (Jun. - Nov.)',\n",
    " 'Warm Season (Dec. - May)',\n",
    " 'Hydro. year (Jul. - Jun.)',\n",
    " 'Year (Jan. - Dec.)']"
   ]
  },
  {
   "cell_type": "code",
   "execution_count": 42,
   "metadata": {
    "collapsed": false
   },
   "outputs": [],
   "source": [
    "if os.path.exists('../data/simulations_SWPac_types.hdf5'): \n",
    "    os.remove('../data/simulations_SWPac_types.hdf5')"
   ]
  },
  {
   "cell_type": "code",
   "execution_count": 53,
   "metadata": {
    "collapsed": false
   },
   "outputs": [],
   "source": [
    "f = h5py.File('../data/simulations_SWPac_types.hdf5', mode='a')\n",
    "\n",
    "for season in lseason: \n",
    "    # calculates the probabilities over the climatological period (1981 - 2010)\n",
    "    kseason = select_season(sw_types, start=1981, end=2010, season=season, rm_leap=False)\n",
    "    probs = markov.get_probs(kseason['type'].values, types)\n",
    "    probs = pd.Series(probs, index=types)\n",
    "    classes, transition_matrix = markov.get_transition_probs(kseason['type'])\n",
    "    probs = probs.reindex(classes)\n",
    "    dict_classes, sim2D = markov.simulate_2D(classes, probs.values, transition_matrix, N=len(kseason), P=1000)\n",
    "    probs = np.empty((len(classes), sim2D.shape[1]))\n",
    "    for i in range(sim2D.shape[1]): \n",
    "        p = markov.get_probs(sim2D[:,i], np.arange(len(classes)))\n",
    "        probs[:,i] = p\n",
    "    f[\"/{}/probs\".format(season)] = probs\n",
    "    f[\"/{}/probs\".format(season)].attrs['shape'] = '(class, simulation)'\n",
    "    f[\"/{}/probs\".format(season)].attrs['classes'] = ','.join(list(dict_classes.values()))\n",
    "    del(probs, p)"
   ]
  },
  {
   "cell_type": "code",
   "execution_count": 33,
   "metadata": {
    "collapsed": false
   },
   "outputs": [],
   "source": [
    "f.close()"
   ]
  },
  {
   "cell_type": "code",
   "execution_count": 34,
   "metadata": {
    "collapsed": false
   },
   "outputs": [
    {
     "data": {
      "text/plain": [
       "KeysViewWithLock(<Closed HDF5 file>)"
      ]
     },
     "execution_count": 34,
     "metadata": {},
     "output_type": "execute_result"
    }
   ],
   "source": [
    "f.keys()"
   ]
  },
  {
   "cell_type": "code",
   "execution_count": 5,
   "metadata": {
    "collapsed": true
   },
   "outputs": [],
   "source": [
    "f = h5py.File('../outputs/simulations_SWPac_types.hdf5', mode='r')"
   ]
  },
  {
   "cell_type": "code",
   "execution_count": 6,
   "metadata": {
    "collapsed": false
   },
   "outputs": [],
   "source": [
    "probs = f['DJF']['probs'].value * 100"
   ]
  },
  {
   "cell_type": "code",
   "execution_count": 8,
   "metadata": {
    "collapsed": false
   },
   "outputs": [
    {
     "data": {
      "text/plain": [
       "(6, 1000)"
      ]
     },
     "execution_count": 8,
     "metadata": {},
     "output_type": "execute_result"
    }
   ],
   "source": [
    "probs.shape"
   ]
  },
  {
   "cell_type": "code",
   "execution_count": 12,
   "metadata": {
    "collapsed": false
   },
   "outputs": [
    {
     "data": {
      "text/plain": [
       "['AMJ',\n",
       " 'ASO',\n",
       " 'DJF',\n",
       " 'FMA',\n",
       " 'JAS',\n",
       " 'JFM',\n",
       " 'JJA',\n",
       " 'MAM',\n",
       " 'MJJ',\n",
       " 'NDJ',\n",
       " 'OND',\n",
       " 'SON',\n",
       " 'Cold Season (Jun. - Nov.)',\n",
       " 'Warm Season (Dec. - May)',\n",
       " 'Hydro. year (Jul. - Jun.)',\n",
       " 'Year (Jan. - Dec.)']"
      ]
     },
     "execution_count": 12,
     "metadata": {},
     "output_type": "execute_result"
    }
   ],
   "source": [
    "lseason"
   ]
  },
  {
   "cell_type": "code",
   "execution_count": 21,
   "metadata": {
    "collapsed": false
   },
   "outputs": [
    {
     "data": {
      "text/plain": [
       "{1: 'SW1', 2: 'SW2', 3: 'SW3', 4: 'SW4', 5: 'SW5', 6: 'SW6'}"
      ]
     },
     "execution_count": 21,
     "metadata": {},
     "output_type": "execute_result"
    }
   ],
   "source": [
    "inv_dict_types"
   ]
  },
  {
   "cell_type": "code",
   "execution_count": 22,
   "metadata": {
    "collapsed": false
   },
   "outputs": [
    {
     "name": "stdout",
     "output_type": "stream",
     "text": [
      "AMJ\n",
      "ASO\n",
      "DJF\n",
      "FMA\n",
      "JAS\n",
      "JFM\n",
      "JJA\n",
      "MAM\n",
      "MJJ\n",
      "NDJ\n",
      "OND\n",
      "SON\n",
      "Cold Season (Jun. - Nov.)\n",
      "Warm Season (Dec. - May)\n",
      "Hydro. year (Jul. - Jun.)\n",
      "Year (Jan. - Dec.)\n"
     ]
    }
   ],
   "source": [
    "sc = ['-',' ','(',')','.']\n",
    "for season in lseason: \n",
    "    print(season)\n",
    "    season_title = season\n",
    "    for c in sc: \n",
    "        season_title = season_title.replace(c,'_')\n",
    "    probs = f[season]['probs'].value * 100\n",
    "    fig, axes = plt.subplots(nrows=2, ncols=3, figsize=(17,11))\n",
    "    fig.subplots_adjust(wspace=0.3, hspace=0.3)\n",
    "    axes = axes.flatten()\n",
    "    for i in range(6): \n",
    "        ax = axes[i]\n",
    "        p = probs[i,:]\n",
    "        mp = p.mean()\n",
    "        pu = np.percentile(p, 97.5)\n",
    "        pl = np.percentile(p, 2.5)\n",
    "\n",
    "        sns.distplot(p, ax=ax, color='#1B216B', kde_kws={'color':'coral'})\n",
    "        ax.set_title(inv_dict_types[i+1],fontdict={'weight':'bold'})\n",
    "        ax.axvline(mp, color='#1B216B')\n",
    "        ax.axvline(pu, color='#13680D')\n",
    "        ax.axvline(pl, color='#13680D')\n",
    "        ax.text(0.01, 0.9, \"mean = {:3.1f}\\nu. perc. = {:3.1f}\\nl. perc. = {:3.1f}\".format(mp,pu,pl),\\\n",
    "               transform=ax.transAxes, bbox=dict(facecolor ='w'))\n",
    "        [l.set_rotation(90) for l in ax.xaxis.get_ticklabels()]\n",
    "    fig.savefig('/Users/nicolasf/Desktop/distr_SWPac_simus_{}.png'.format(season_title), dpi=200)\n",
    "    plt.close(fig)\n",
    "    "
   ]
  },
  {
   "cell_type": "code",
   "execution_count": null,
   "metadata": {
    "collapsed": true
   },
   "outputs": [],
   "source": [
    "f.close()"
   ]
  },
  {
   "cell_type": "code",
   "execution_count": null,
   "metadata": {
    "collapsed": true
   },
   "outputs": [],
   "source": []
  }
 ],
 "metadata": {
  "kernelspec": {
   "display_name": "Python 3",
   "language": "python",
   "name": "python3"
  },
  "language_info": {
   "codemirror_mode": {
    "name": "ipython",
    "version": 3
   },
   "file_extension": ".py",
   "mimetype": "text/x-python",
   "name": "python",
   "nbconvert_exporter": "python",
   "pygments_lexer": "ipython3",
   "version": "3.4.3"
  }
 },
 "nbformat": 4,
 "nbformat_minor": 0
}
