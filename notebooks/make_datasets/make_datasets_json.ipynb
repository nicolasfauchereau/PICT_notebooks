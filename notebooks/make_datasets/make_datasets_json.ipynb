{
 "cells": [
  {
   "cell_type": "markdown",
   "metadata": {},
   "source": [
    "# defines the datasets"
   ]
  },
  {
   "cell_type": "code",
   "execution_count": 2,
   "metadata": {},
   "outputs": [],
   "source": [
    "import os\n",
    "import sys\n",
    "\n",
    "import pathlib"
   ]
  },
  {
   "cell_type": "code",
   "execution_count": 3,
   "metadata": {
    "tags": []
   },
   "outputs": [],
   "source": [
    "import json"
   ]
  },
  {
   "cell_type": "code",
   "execution_count": 4,
   "metadata": {
    "collapsed": false,
    "jupyter": {
     "outputs_hidden": false
    }
   },
   "outputs": [],
   "source": [
    "pwd = pathlib.Path.cwd()"
   ]
  },
  {
   "cell_type": "code",
   "execution_count": 5,
   "metadata": {},
   "outputs": [
    {
     "data": {
      "text/plain": [
       "PosixPath('/home/nicolasf/research/PICT_notebooks/notebooks/make_datasets')"
      ]
     },
     "execution_count": 5,
     "metadata": {},
     "output_type": "execute_result"
    }
   ],
   "source": [
    "pwd"
   ]
  },
  {
   "cell_type": "code",
   "execution_count": 6,
   "metadata": {},
   "outputs": [],
   "source": [
    "root = \"/home/nicolasf/drives/auck_projects/CAOA2301/Working/PICT/datasets\" "
   ]
  },
  {
   "cell_type": "code",
   "execution_count": 7,
   "metadata": {},
   "outputs": [],
   "source": [
    "root = pathlib.Path(root)"
   ]
  },
  {
   "cell_type": "code",
   "execution_count": 8,
   "metadata": {},
   "outputs": [],
   "source": [
    "dpath_vcsn = root.joinpath(\"VCSN\")\n",
    "dpath_ersst = root.joinpath(\"ERSST\")\n",
    "dpath_gpcp = root.joinpath(\"GPCP\")\n",
    "dpath_ncep = root.joinpath(\"NCEP\")\n",
    "dpath_awap = root.joinpath(\"AWAP\")\n",
    "dpath_agcd = root.joinpath(\"AGCD\")\n",
    "dpath_bet = root.joinpath(\"BET\")"
   ]
  },
  {
   "cell_type": "code",
   "execution_count": 9,
   "metadata": {},
   "outputs": [],
   "source": [
    "djsons = pwd.parents[1] / 'jsons'"
   ]
  },
  {
   "cell_type": "code",
   "execution_count": 11,
   "metadata": {
    "collapsed": false,
    "jupyter": {
     "outputs_hidden": false
    }
   },
   "outputs": [],
   "source": [
    "datasets = {}\n",
    "\n",
    "# vcsn: TMean and Rain\n",
    "datasets['vcsn'] = {}\n",
    "\n",
    "datasets['vcsn']['TMean'] = {}\n",
    "datasets['vcsn']['TMean']['path'] = '{}/VCSN_monthly_TMean_1972_2021_grid.nc'.format(dpath_vcsn)\n",
    "datasets['vcsn']['TMean']['description'] = 'Mean temperature'\n",
    "datasets['vcsn']['TMean']['units'] = 'degrees C.'\n",
    "datasets['vcsn']['TMean']['valid_period'] = (1972, 2021)\n",
    "datasets['vcsn']['TMean']['domain'] = [166.4, 178.5, -47.4, -34.4]\n",
    "datasets['vcsn']['TMean']['plot'] = {}\n",
    "datasets['vcsn']['TMean']['plot']['cmap'] = 'palettable.colorbrewer.diverging.RdBu_11_r.mpl_colormap'\n",
    "\n",
    "\n",
    "datasets['vcsn']['Rain'] = {}\n",
    "datasets['vcsn']['Rain']['path'] = '{}/VCSN_monthly_Rain_1972_2021_grid.nc'.format(dpath_vcsn)\n",
    "datasets['vcsn']['Rain']['description'] = 'cumulative seasonal precipitation'\n",
    "datasets['vcsn']['Rain']['units'] = 'mm'\n",
    "datasets['vcsn']['Rain']['valid_period'] = (1972, 2021)\n",
    "datasets['vcsn']['Rain']['domain'] = [166.4, 178.5, -47.4, -34.4]\n",
    "datasets['vcsn']['Rain']['plot'] = {}\n",
    "datasets['vcsn']['Rain']['plot']['cmap'] = 'palettable.colorbrewer.diverging.BrBG_11.mpl_colormap'\n",
    "\n",
    "datasets['vcsn']['Rain_bc'] = {}\n",
    "datasets['vcsn']['Rain_bc']['path'] = '{}/VCSN_monthly_Rain_bc_1972_2021_grid.nc'.format(dpath_vcsn)\n",
    "datasets['vcsn']['Rain_bc']['description'] = 'cumulative seasonal precipitation'\n",
    "datasets['vcsn']['Rain_bc']['units'] = 'mm'\n",
    "datasets['vcsn']['Rain_bc']['valid_period'] = (1972, 2021)\n",
    "datasets['vcsn']['Rain_bc']['domain'] = [166.4, 178.5, -47.4, -34.4]\n",
    "datasets['vcsn']['Rain_bc']['plot'] = {}\n",
    "datasets['vcsn']['Rain_bc']['plot']['cmap'] = 'palettable.colorbrewer.diverging.BrBG_11.mpl_colormap'\n",
    "\n",
    "# ersst: sst\n",
    "datasets['ersst'] = {}\n",
    "datasets['ersst']['sst'] = {}\n",
    "datasets['ersst']['sst']['path'] = '{}/ERSST_monthly_SST_1948_2021.nc'.format(dpath_ersst)\n",
    "datasets['ersst']['sst']['description'] = 'Sea Surface Temperature (SST)'\n",
    "datasets['ersst']['sst']['short_description'] = 'SST'\n",
    "datasets['ersst']['sst']['units'] = 'degrees C.'\n",
    "datasets['ersst']['sst']['valid_period'] = (1948, 2021)\n",
    "datasets['ersst']['sst']['domain'] = [0, 360, -90, 90]\n",
    "datasets['ersst']['sst']['plot'] = {}\n",
    "datasets['ersst']['sst']['plot']['cmap'] = 'palettable.colorbrewer.diverging.RdBu_11_r.mpl_colormap'\n",
    "\n",
    "# gpcp: Rain\n",
    "datasets['gpcp'] = {}\n",
    "datasets['gpcp']['Rain'] = {}\n",
    "datasets['gpcp']['Rain']['path'] = '{}/GPCP_monthly_Rain_1979_2021.nc'.format(dpath_gpcp)\n",
    "datasets['gpcp']['Rain']['description'] = 'Average Monthly Rate of Precipitation'\n",
    "datasets['gpcp']['Rain']['short_description'] = 'GPCP Rain'\n",
    "datasets['gpcp']['Rain']['units'] = 'mm/day'\n",
    "datasets['gpcp']['Rain']['valid_period'] = (1979, 2021)\n",
    "datasets['gpcp']['Rain']['domain'] = [0, 360, -90, 90]\n",
    "datasets['gpcp']['Rain']['plot'] = {}\n",
    "datasets['gpcp']['Rain']['plot']['cmap'] = 'palettable.colorbrewer.diverging.BrBG_11.mpl_colormap'\n",
    "\n",
    "\n",
    "# NCEP: HGT_1000\n",
    "datasets['ncep'] = {}\n",
    "datasets['ncep']['hgt_1000'] = {}\n",
    "datasets['ncep']['hgt_1000']['path'] = '{}/NCEP1_monthly_hgt_1948_2021.nc'.format(dpath_ncep)\n",
    "datasets['ncep']['hgt_1000']['description'] = 'geopotential at 1000 hPa'\n",
    "datasets['ncep']['hgt_1000']['short_description'] = 'Z1000'\n",
    "datasets['ncep']['hgt_1000']['units'] = 'meters'\n",
    "datasets['ncep']['hgt_1000']['valid_period'] = (1948, 2021)\n",
    "datasets['ncep']['hgt_1000']['domain'] = [0, 360, -90, 90]\n",
    "datasets['ncep']['hgt_1000']['plot'] = {}\n",
    "datasets['ncep']['hgt_1000']['plot']['cmap'] = 'palettable.colorbrewer.diverging.RdYlBu_11_r.mpl_colormap'\n",
    "\n",
    "\n",
    "# NCEP: HGT_850\n",
    "datasets['ncep']['hgt_850'] = {}\n",
    "datasets['ncep']['hgt_850']['path'] = '{}/NCEP1_monthly_hgt_1948_2021.nc'.format(dpath_ncep)\n",
    "datasets['ncep']['hgt_850']['description'] = 'geopotential at 800 hPa'\n",
    "datasets['ncep']['hgt_850']['short_description'] = 'Z850'\n",
    "datasets['ncep']['hgt_850']['units'] = 'meters'\n",
    "datasets['ncep']['hgt_850']['valid_period'] = (1948, 2021)\n",
    "datasets['ncep']['hgt_850']['domain'] = [0, 360, -90, 90]\n",
    "datasets['ncep']['hgt_850']['plot'] = {}\n",
    "datasets['ncep']['hgt_850']['plot']['cmap'] = 'palettable.colorbrewer.diverging.RdYlBu_11_r.mpl_colormap'\n",
    "\n",
    "# NCEP: HGT_850\n",
    "datasets['ncep']['hgt_200'] = {}\n",
    "datasets['ncep']['hgt_200']['path'] = '{}/NCEP1_monthly_hgt_1948_2021.nc'.format(dpath_ncep)\n",
    "datasets['ncep']['hgt_200']['description'] = 'geopotential at 200 hPa'\n",
    "datasets['ncep']['hgt_200']['short_description'] = 'Z200'\n",
    "datasets['ncep']['hgt_200']['units'] = 'meters'\n",
    "datasets['ncep']['hgt_200']['valid_period'] = (1948, 2021)\n",
    "datasets['ncep']['hgt_200']['domain'] = [0, 360, -90, 90]\n",
    "datasets['ncep']['hgt_200']['plot'] = {}\n",
    "datasets['ncep']['hgt_200']['plot']['cmap'] = 'palettable.colorbrewer.diverging.RdYlBu_11_r.mpl_colormap'\n",
    "\n",
    "# NCEP: Omega\n",
    "datasets['ncep']['omega_500'] = {}\n",
    "datasets['ncep']['omega_500']['path'] = '{}/NCEP1_monthly_omega_1948_2021.nc'.format(dpath_ncep)\n",
    "datasets['ncep']['omega_500']['description'] = 'Omega at 500 hPa'\n",
    "datasets['ncep']['omega_500']['short description'] = 'Om. 500'\n",
    "datasets['ncep']['omega_500']['units'] = 'm/s'\n",
    "datasets['ncep']['omega_500']['valid_period'] = (1948, 2021)\n",
    "datasets['ncep']['omega_500']['domain'] = [0, 360, -90, 90]\n",
    "datasets['ncep']['omega_500']['plot'] = {}\n",
    "datasets['ncep']['omega_500']['plot']['cmap'] = 'palettable.colorbrewer.diverging.PuOr_11.mpl_colormap'\n",
    "\n",
    "# NCEP: uwnd 1000\n",
    "datasets['ncep']['uwnd_1000'] = {}\n",
    "datasets['ncep']['uwnd_1000']['path'] = '{}/NCEP1_monthly_wind_1948_2021.nc'.format(dpath_ncep)\n",
    "datasets['ncep']['uwnd_1000']['description'] = 'zonal wind at 1000 hPa'\n",
    "datasets['ncep']['uwnd_1000']['short_description'] = 'uwnd1000'\n",
    "datasets['ncep']['uwnd_1000']['units'] = 'm/s'\n",
    "datasets['ncep']['uwnd_1000']['valid_period'] = (1948, 2021)\n",
    "datasets['ncep']['uwnd_1000']['domain'] = [0, 360, -90, 90]\n",
    "datasets['ncep']['uwnd_1000']['plot'] = {}\n",
    "datasets['ncep']['uwnd_1000']['plot']['cmap'] = 'palettable.colorbrewer.diverging.PRGn_11.mpl_colormap'\n",
    "\n",
    "# NCEP: uwnd 850\n",
    "datasets['ncep']['uwnd_850'] = {}\n",
    "datasets['ncep']['uwnd_850']['path'] = '{}/NCEP1_monthly_wind_1948_2021.nc'.format(dpath_ncep)\n",
    "datasets['ncep']['uwnd_850']['description'] = 'zonal wind at 850 hPa'\n",
    "datasets['ncep']['uwnd_850']['short_description'] = 'uwnd850'\n",
    "datasets['ncep']['uwnd_850']['units'] = 'm/s'\n",
    "datasets['ncep']['uwnd_850']['valid_period'] = (1948, 2021)\n",
    "datasets['ncep']['uwnd_850']['domain'] = [0, 360, -90, 90]\n",
    "datasets['ncep']['uwnd_850']['plot'] = {}\n",
    "datasets['ncep']['uwnd_850']['plot']['cmap'] = 'palettable.colorbrewer.diverging.PRGn_11.mpl_colormap'\n",
    "\n",
    "# NCEP: uwnd 200\n",
    "datasets['ncep']['uwnd_200'] = {}\n",
    "datasets['ncep']['uwnd_200']['path'] = '{}/NCEP1_monthly_wind_1948_2021.nc'.format(dpath_ncep)\n",
    "datasets['ncep']['uwnd_200']['description'] = 'zonal wind at 200 hPa'\n",
    "datasets['ncep']['uwnd_200']['short_description'] = 'unwd200'\n",
    "datasets['ncep']['uwnd_200']['units'] = 'm/s'\n",
    "datasets['ncep']['uwnd_200']['valid_period'] = (1948, 2021)\n",
    "datasets['ncep']['uwnd_200']['domain'] = [0, 360, -90, 90]\n",
    "datasets['ncep']['uwnd_200']['plot'] = {}\n",
    "datasets['ncep']['uwnd_200']['plot']['cmap'] = 'palettable.colorbrewer.diverging.PRGn_11.mpl_colormap'\n",
    "\n",
    "# NCEP: vwnd 1000\n",
    "datasets['ncep']['vwnd_1000'] = {}\n",
    "datasets['ncep']['vwnd_1000']['path'] = '{}/NCEP1_monthly_wind_1948_2021.nc'.format(dpath_ncep)\n",
    "datasets['ncep']['vwnd_1000']['description'] = 'meridional wind at 1000 hPa'\n",
    "datasets['ncep']['vwnd_1000']['short_description'] = 'vwnd1000'\n",
    "datasets['ncep']['vwnd_1000']['units'] = 'm/s'\n",
    "datasets['ncep']['vwnd_1000']['valid_period'] = (1948, 2021)\n",
    "datasets['ncep']['vwnd_1000']['domain'] = [0, 360, -90, 90]\n",
    "datasets['ncep']['vwnd_1000']['plot'] = {}\n",
    "datasets['ncep']['vwnd_1000']['plot']['cmap'] = 'palettable.colorbrewer.diverging.PRGn_11.mpl_colormap'\n",
    "\n",
    "# NCEP: vwnd 850\n",
    "datasets['ncep']['vwnd_850'] = {}\n",
    "datasets['ncep']['vwnd_850']['path'] = '{}/NCEP1_monthly_wind_1948_2021.nc'.format(dpath_ncep)\n",
    "datasets['ncep']['vwnd_850']['description'] = 'meridional wind at 850 hPa'\n",
    "datasets['ncep']['vwnd_850']['short_description'] = 'vwnd850'\n",
    "datasets['ncep']['vwnd_850']['units'] = 'm/s'\n",
    "datasets['ncep']['vwnd_850']['valid_period'] = (1948, 2021)\n",
    "datasets['ncep']['vwnd_850']['domain'] = [0, 360, -90, 90]\n",
    "datasets['ncep']['vwnd_850']['plot'] = {}\n",
    "datasets['ncep']['vwnd_850']['plot']['cmap'] = 'palettable.colorbrewer.diverging.PRGn_11.mpl_colormap'\n",
    "\n",
    "# NCEP: vwnd 200\n",
    "datasets['ncep']['vwnd_200'] = {}\n",
    "datasets['ncep']['vwnd_200']['path'] = '{}/NCEP1_monthly_wind_1948_2021.nc'.format(dpath_ncep)\n",
    "datasets['ncep']['vwnd_200']['description'] = 'meridional wind at 200 hPa'\n",
    "datasets['ncep']['vwnd_200']['short_description'] = 'vwnd200'\n",
    "datasets['ncep']['vwnd_200']['units'] = 'm/s'\n",
    "datasets['ncep']['vwnd_200']['valid_period'] = (1948, 2021)\n",
    "datasets['ncep']['vwnd_200']['domain'] = [0, 360, -90, 90]\n",
    "datasets['ncep']['vwnd_200']['plot'] = {}\n",
    "datasets['ncep']['vwnd_200']['plot']['cmap'] = 'palettable.colorbrewer.diverging.PRGn_11.mpl_colormap'\n",
    "\n",
    "# NCEP: TMean\n",
    "datasets['ncep']['TMean'] = {}\n",
    "datasets['ncep']['TMean']['path'] = '{}/NCEP1_monthly_Tmean_1948_2021.nc'.format(dpath_ncep)\n",
    "datasets['ncep']['TMean']['description'] = 'Mean Temperature at 2m.'\n",
    "datasets['ncep']['TMean']['short_description'] = 'T2m'\n",
    "datasets['ncep']['TMean']['units'] = 'degrees C.'\n",
    "datasets['ncep']['TMean']['valid_period'] = (1948, 2021)\n",
    "datasets['ncep']['TMean']['domain'] = [0, 360, -90, 90]\n",
    "datasets['ncep']['TMean']['plot'] = {}\n",
    "datasets['ncep']['TMean']['plot']['cmap'] = 'palettable.colorbrewer.diverging.RdBu_11_r.mpl_colormap'\n",
    "\n",
    "# NCEP: TMean\n",
    "datasets['ncep']['Precip_water'] = {}\n",
    "datasets['ncep']['Precip_water']['path'] = '{}/NCEP1_monthly_Tmean_1948_2021.nc'.format(dpath_ncep)\n",
    "datasets['ncep']['Precip_water']['description'] = 'Mean Temperature at 2m.'\n",
    "datasets['ncep']['Precip_water']['short_description'] = 'T2m'\n",
    "datasets['ncep']['Precip_water']['units'] = 'degrees C.'\n",
    "datasets['ncep']['Precip_water']['valid_period'] = (1948, 2021)\n",
    "datasets['ncep']['Precip_water']['domain'] = [0, 360, -90, 90]\n",
    "datasets['ncep']['Precip_water']['plot'] = {}\n",
    "datasets['ncep']['Precip_water']['plot']['cmap'] = 'palettable.colorbrewer.diverging.RdBu_11_r.mpl_colormap'\n",
    "\n",
    "# AWAP: TMean\n",
    "datasets['awap'] = {}\n",
    "datasets['awap']['TMean'] = {}\n",
    "datasets['awap']['TMean']['path'] = '{}/AWAP_monthly_TMean_1972_2014.nc'.format(dpath_awap)\n",
    "datasets['awap']['TMean']['description'] = 'Mean Temperature'\n",
    "datasets['awap']['TMean']['short_description'] = 'TMean'\n",
    "datasets['awap']['TMean']['units'] = 'degrees C.'\n",
    "datasets['awap']['TMean']['valid_period'] = (1972, 2021)\n",
    "datasets['awap']['TMean']['domain'] = [112., 156.25, -44.5, -10.]\n",
    "datasets['awap']['TMean']['plot'] = {}\n",
    "datasets['awap']['TMean']['plot']['cmap'] = 'palettable.colorbrewer.diverging.RdBu_11_r.mpl_colormap'\n",
    "\n",
    "# AWAP: Rain\n",
    "datasets['awap']['Rain'] = {}\n",
    "datasets['awap']['Rain']['path'] = '{}/AWAP_monthly_Rain_1972_2014.nc'.format(dpath_awap)\n",
    "datasets['awap']['Rain']['description'] = 'cumulative seasonal precipitation'\n",
    "datasets['awap']['Rain']['short_description'] = 'Rain'\n",
    "datasets['awap']['Rain']['units'] = 'mm'\n",
    "datasets['awap']['Rain']['valid_period'] = (1972, 2014)\n",
    "datasets['awap']['Rain']['domain'] = [112., 156.25, -44.5, -10.]\n",
    "datasets['awap']['Rain']['plot'] = {}\n",
    "datasets['awap']['Rain']['plot']['cmap'] = 'palettable.colorbrewer.diverging.RdBu_11_r.mpl_colormap'\n",
    "\n",
    "# AGCD: Rain\n",
    "datasets['agcd'] = {}\n",
    "datasets['agcd']['Rain'] = {}\n",
    "datasets['agcd']['Rain']['path'] = '{}/AGCD_monthly_Rain_1948_2019.nc'.format(dpath_agcd)\n",
    "datasets['agcd']['Rain']['description'] = 'cumulative seasonal precipitation'\n",
    "datasets['agcd']['Rain']['short_description'] = 'Rain'\n",
    "datasets['agcd']['Rain']['units'] = 'mm'\n",
    "datasets['agcd']['Rain']['valid_period'] = (1948, 2019)\n",
    "datasets['agcd']['Rain']['domain'] = [112., 156.25, -44.5, -10.]\n",
    "datasets['agcd']['Rain']['plot'] = {}\n",
    "datasets['agcd']['Rain']['plot']['cmap'] = 'palettable.colorbrewer.diverging.RdBu_11_r.mpl_colormap'\n",
    "\n",
    "# AGCD: TMin\n",
    "datasets['agcd']['TMin'] = {}\n",
    "datasets['agcd']['TMin']['path'] = '{}/AGCD_monthly_TMin_1948_2019.nc'.format(dpath_agcd)\n",
    "datasets['agcd']['TMin']['description'] = 'Mean seasonal minimum temperature'\n",
    "datasets['agcd']['TMin']['short_description'] = 'TMin'\n",
    "datasets['agcd']['TMin']['units'] = 'degrees C.'\n",
    "datasets['agcd']['TMin']['valid_period'] = (1948, 2019)\n",
    "datasets['agcd']['TMin']['domain'] = [112., 156.25, -44.5, -10.]\n",
    "datasets['agcd']['TMin']['plot'] = {}\n",
    "datasets['agcd']['TMin']['plot']['cmap'] = 'palettable.colorbrewer.diverging.RdBu_11_r.mpl_colormap'\n",
    "\n",
    "# AGCD: TMax\n",
    "datasets['agcd']['TMax'] = {}\n",
    "datasets['agcd']['TMax']['path'] = '{}/AGCD_monthly_TMax_1948_2019.nc'.format(dpath_agcd)\n",
    "datasets['agcd']['TMax']['description'] = 'Mean seasonal maximum temperature'\n",
    "datasets['agcd']['TMax']['short_description'] = 'TMax'\n",
    "datasets['agcd']['TMax']['units'] = 'degrees C.'\n",
    "datasets['agcd']['TMax']['valid_period'] = (1948, 2019)\n",
    "datasets['agcd']['TMax']['domain'] = [112., 156.25, -44.5, -10.]\n",
    "datasets['agcd']['TMax']['plot'] = {}\n",
    "datasets['agcd']['TMax']['plot']['cmap'] = 'palettable.colorbrewer.diverging.RdBu_11_r.mpl_colormap'\n",
    "\n",
    "# Berkeley Earth Temperature: temperature\n",
    "datasets['bet'] = {}\n",
    "datasets['bet']['temperature'] = {}\n",
    "datasets['bet']['temperature']['path'] = '{}/BET_monthly_temperature_1850_2021.nc'.format(dpath_bet)\n",
    "datasets['bet']['temperature']['description'] = 'land and ocean temperature'\n",
    "datasets['bet']['temperature']['short_description'] = 'temperature'\n",
    "datasets['bet']['temperature']['units'] = 'degrees C.'\n",
    "datasets['bet']['temperature']['valid_period'] = (1850, 2021)\n",
    "datasets['bet']['temperature']['domain'] = [0, 360, -90, 90]\n",
    "datasets['bet']['temperature']['plot'] = {}\n",
    "datasets['bet']['temperature']['plot']['cmap'] = 'palettable.colorbrewer.diverging.RdBu_11_r.mpl_colormap'\n"
   ]
  },
  {
   "cell_type": "code",
   "execution_count": 12,
   "metadata": {
    "collapsed": false,
    "jupyter": {
     "outputs_hidden": false
    }
   },
   "outputs": [],
   "source": [
    "with open(djsons / 'datasets.json', 'w') as f: \n",
    "    json.dump(datasets, f)"
   ]
  },
  {
   "cell_type": "markdown",
   "metadata": {},
   "source": [
    "### makes the JSON file for the Weather Regimes"
   ]
  },
  {
   "cell_type": "code",
   "execution_count": 13,
   "metadata": {},
   "outputs": [],
   "source": [
    "dpath_types = root.joinpath(\"Types\")"
   ]
  },
  {
   "cell_type": "code",
   "execution_count": 19,
   "metadata": {
    "collapsed": false,
    "jupyter": {
     "outputs_hidden": false
    }
   },
   "outputs": [],
   "source": [
    "d = {}\n",
    "d['New Zealand (Kidson 2000)'] = {}\n",
    "d['New Zealand (Kidson 2000)']['Markov Chains'] = '{}/simulations_Kidson_types.hdf5'.format(dpath_types)\n",
    "d['New Zealand (Kidson 2000)']['WR_TS'] = '{}/Kidson_Types.csv'.format(dpath_types)\n",
    "d['New Zealand (Kidson 2000)']['types'] = ['T', 'SW', 'TNW', 'TSW', 'H', 'HNW', 'W', 'HSE', 'HE', 'NE', 'HW', 'R']\n",
    "d['New Zealand (Kidson 2000)']['groups'] = {'Trough': ['T', 'SW', 'TNW', 'TSW'], 'Zonal': ['H', 'HNW', 'W'], 'Blocking':['HSE', 'HE', 'NE', 'HW', 'R']}\n",
    "\n",
    "d['SW Pacific (Lorrey and Fauchereau 2018)'] = {}\n",
    "d['SW Pacific (Lorrey and Fauchereau 2018)']['Markov Chains'] = '{}/simulations_SWPac_types.hdf5'.format(dpath_types)\n",
    "d['SW Pacific (Lorrey and Fauchereau 2018)']['WR_TS'] = '{}/SWPac_Types.csv'.format(dpath_types)\n",
    "d['SW Pacific (Lorrey and Fauchereau 2018)']['types'] = ['SW1', 'SW2', 'SW3', 'SW4', 'SW5', 'SW6']\n",
    "d['SW Pacific (Lorrey and Fauchereau 2018)']['groups'] = None\n",
    "\n",
    "d['New Zealand (Rampal et al. 2022)'] = {}\n",
    "d['New Zealand (Rampal et al. 2022)']['Markov Chains'] = '{}/simulations_9_NZ_CRs.hdf5'.format(dpath_types)\n",
    "d['New Zealand (Rampal et al. 2022)']['WR_TS'] = '{}/NZ_9_CRs_ERA5.csv'.format(dpath_types)\n",
    "d['New Zealand (Rampal et al. 2022)']['types'] = ['LSE', 'HS', 'LSW', 'HSE', 'LNE', 'L', 'HW', 'LNW', 'H']\n",
    "d['New Zealand (Rampal et al. 2022)']['groups'] = None\n",
    "\n",
    "d['Ross Sea (Cohen et al. 2013)'] = {}\n",
    "d['Ross Sea (Cohen et al. 2013)']['Markov Chains'] = '{}/simulations_Ross_Sea_6_clusters_Cohen.hdf5'.format(dpath_types)\n",
    "d['Ross Sea (Cohen et al. 2013)']['WR_TS'] = '{}/Ross_Sea_6_clusters_Cohen.csv'.format(dpath_types)\n",
    "d['Ross Sea (Cohen et al. 2013)']['types'] = ['Low Amundsen', 'Zonal', 'Low Ross', 'Ridge', 'Low', 'Low Bellingshausen Amundsen']\n",
    "d['Ross Sea (Cohen et al. 2013)']['groups'] = None"
   ]
  },
  {
   "cell_type": "code",
   "execution_count": 20,
   "metadata": {
    "tags": []
   },
   "outputs": [],
   "source": [
    "with open(djsons / 'WRs.json', 'w') as f: \n",
    "    json.dump(d, f)"
   ]
  },
  {
   "cell_type": "markdown",
   "metadata": {},
   "source": [
    "### makes the JSON file for the climate indices"
   ]
  },
  {
   "cell_type": "code",
   "execution_count": 16,
   "metadata": {},
   "outputs": [],
   "source": [
    "dpath_indices = root.joinpath(\"Indices/\")"
   ]
  },
  {
   "cell_type": "code",
   "execution_count": 17,
   "metadata": {
    "collapsed": false,
    "jupyter": {
     "outputs_hidden": false
    }
   },
   "outputs": [],
   "source": [
    "d = {}\n",
    "d['NINO 3.4'] = {}\n",
    "d['NINO 3.4']['path'] = '{}/NINO34_monthly_1950_2015_1981_2010_Clim.csv'.format(dpath_indices)\n",
    "d['NINO 3.4']['units'] = 'degrees C.'\n",
    "d['NINO 3.4']['period'] = (1948, 2014)\n",
    "d['NINO 3.4']['source'] = 'ERSST NINO3.4 from the Climate Prediction Center'\n",
    "\n",
    "d['SOI'] = {}\n",
    "d['SOI']['path'] = '{}/SOI_monthly_1876_2015_1981_2010_Clim.csv'.format(dpath_indices)\n",
    "d['SOI']['units'] = 'std.'\n",
    "d['SOI']['period'] = (1948, 2014)\n",
    "d['SOI']['source'] = 'NIWA SOI'\n",
    "\n",
    "d['IOD'] = {}\n",
    "d['IOD']['path'] = '{}/IOD_1900_2014_1981_2010_Clim.csv'.format(dpath_indices)\n",
    "d['IOD']['units'] = 'std.'\n",
    "d['IOD']['period'] = (1948, 2014)\n",
    "d['IOD']['source'] = 'ERSST IOD (NIWA)'\n",
    "\n",
    "d['SAM'] = {}\n",
    "d['SAM']['path'] = '{}/SAM_index_1948_2014_1981_2010_Clim.csv'.format(dpath_indices)\n",
    "d['SAM']['units'] = 'std.'\n",
    "d['SAM']['period'] = (1948, 2014)\n",
    "d['SAM']['source'] = 'HGT700 EOF (NIWA)'"
   ]
  },
  {
   "cell_type": "code",
   "execution_count": 18,
   "metadata": {
    "collapsed": false,
    "jupyter": {
     "outputs_hidden": false
    }
   },
   "outputs": [],
   "source": [
    "with open(djsons / 'indices.json', 'w') as f: \n",
    "    json.dump(d, f)"
   ]
  }
 ],
 "metadata": {
  "kernelspec": {
   "display_name": "Python 3 (ipykernel)",
   "language": "python",
   "name": "python3"
  },
  "language_info": {
   "codemirror_mode": {
    "name": "ipython",
    "version": 3
   },
   "file_extension": ".py",
   "mimetype": "text/x-python",
   "name": "python",
   "nbconvert_exporter": "python",
   "pygments_lexer": "ipython3",
   "version": "3.9.16"
  },
  "latex_envs": {
   "bibliofile": "biblio.bib",
   "cite_by": "apalike",
   "current_citInitial": 1,
   "eqLabelWithNumbers": true,
   "eqNumInitial": 0
  }
 },
 "nbformat": 4,
 "nbformat_minor": 4
}
