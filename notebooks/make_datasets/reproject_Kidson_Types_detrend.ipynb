{
 "cells": [
  {
   "cell_type": "markdown",
   "metadata": {},
   "source": [
    "### reprojects the Kidson types in a detrended version of the NCEP / NCAR dataset"
   ]
  },
  {
   "cell_type": "code",
   "execution_count": 1,
   "metadata": {
    "tags": []
   },
   "outputs": [],
   "source": [
    "%matplotlib inline"
   ]
  },
  {
   "cell_type": "code",
   "execution_count": 2,
   "metadata": {
    "tags": []
   },
   "outputs": [],
   "source": [
    "import os, sys\n",
    "import numpy as np\n",
    "from numpy import ma\n",
    "from matplotlib import pyplot as plt\n",
    "from scipy.stats import zscore\n",
    "from scipy.io.matlab import loadmat, whosmat\n",
    "from matplotlib.mlab import detrend_linear\n",
    "import pandas as pd\n",
    "from datetime import datetime"
   ]
  },
  {
   "cell_type": "code",
   "execution_count": 3,
   "metadata": {},
   "outputs": [],
   "source": [
    "import pathlib"
   ]
  },
  {
   "cell_type": "code",
   "execution_count": 4,
   "metadata": {},
   "outputs": [],
   "source": [
    "dpath = pathlib.Path('/media/nicolasf/END19101/data/Kidson')"
   ]
  },
  {
   "cell_type": "code",
   "execution_count": 5,
   "metadata": {
    "tags": []
   },
   "outputs": [],
   "source": [
    "def euclid(v1,v2):\n",
    "    from scipy.stats import zscore\n",
    "    '''Squared Euclidean Distance between two scalars or equally matched vectors\n",
    "    \n",
    "       USAGE: d = euclid(v1,v2)'''\n",
    "    v1 = zscore(v1.flatten())\n",
    "    v2 = zscore(v2.flatten())\n",
    "    d2= np.sqrt(np.sum((v1-v2)**2))                                                                                                                                                                               \n",
    "    return d2\n",
    "\n",
    "def find_cluster(list_clus, dict_clus, X):\n",
    "    \"\"\"\n",
    "    must return a list with \n",
    "    indice (time)\n",
    "    name of attributed cluster\n",
    "    position in list (indice)\n",
    "    distance \n",
    "    difference with closest distance (separation index)\n",
    "    \"\"\"\n",
    "    data_list = []\n",
    "    for t in range(X.shape[0]):\n",
    "        dlist = []\n",
    "        for clus_name in list_clus:\n",
    "            dlist.append(euclid(dict_clus[clus_name], X[t,...]))\n",
    "            ranks = np.argsort(dlist)\n",
    "            index = np.argmin(dlist)\n",
    "        data_list.append([t, list_clus[index], index, dlist])\n",
    "    return data_list"
   ]
  },
  {
   "cell_type": "code",
   "execution_count": 6,
   "metadata": {
    "tags": []
   },
   "outputs": [],
   "source": [
    "fname = \"clusters_daily.mat\"\n",
    "\n",
    "matfile = loadmat(dpath.joinpath(fname), struct_as_record=False)\n",
    "\n",
    "clusters = matfile['clusters'][0,0]\n",
    "\n",
    "tclus = clusters.time"
   ]
  },
  {
   "cell_type": "code",
   "execution_count": 7,
   "metadata": {},
   "outputs": [],
   "source": [
    "name = clusters.name"
   ]
  },
  {
   "cell_type": "code",
   "execution_count": 8,
   "metadata": {},
   "outputs": [],
   "source": [
    "dates = [datetime(*x) for x in tclus]"
   ]
  },
  {
   "cell_type": "code",
   "execution_count": 9,
   "metadata": {},
   "outputs": [],
   "source": [
    "names = [x[0][0] for x in name]"
   ]
  },
  {
   "cell_type": "code",
   "execution_count": 10,
   "metadata": {},
   "outputs": [],
   "source": [
    "df_KT = pd.DataFrame(names, index=dates, columns=['type'])"
   ]
  },
  {
   "cell_type": "code",
   "execution_count": 11,
   "metadata": {},
   "outputs": [],
   "source": [
    "df_KT = df_KT.loc[df_KT.index.hour == 0,:]"
   ]
  },
  {
   "cell_type": "code",
   "execution_count": 12,
   "metadata": {},
   "outputs": [
    {
     "data": {
      "text/html": [
       "<div>\n",
       "<style scoped>\n",
       "    .dataframe tbody tr th:only-of-type {\n",
       "        vertical-align: middle;\n",
       "    }\n",
       "\n",
       "    .dataframe tbody tr th {\n",
       "        vertical-align: top;\n",
       "    }\n",
       "\n",
       "    .dataframe thead th {\n",
       "        text-align: right;\n",
       "    }\n",
       "</style>\n",
       "<table border=\"1\" class=\"dataframe\">\n",
       "  <thead>\n",
       "    <tr style=\"text-align: right;\">\n",
       "      <th></th>\n",
       "      <th>type</th>\n",
       "    </tr>\n",
       "  </thead>\n",
       "  <tbody>\n",
       "    <tr>\n",
       "      <th>1948-01-01</th>\n",
       "      <td>TNW</td>\n",
       "    </tr>\n",
       "    <tr>\n",
       "      <th>1948-01-02</th>\n",
       "      <td>NE</td>\n",
       "    </tr>\n",
       "    <tr>\n",
       "      <th>1948-01-03</th>\n",
       "      <td>NE</td>\n",
       "    </tr>\n",
       "    <tr>\n",
       "      <th>1948-01-04</th>\n",
       "      <td>NE</td>\n",
       "    </tr>\n",
       "    <tr>\n",
       "      <th>1948-01-05</th>\n",
       "      <td>NE</td>\n",
       "    </tr>\n",
       "  </tbody>\n",
       "</table>\n",
       "</div>"
      ],
      "text/plain": [
       "           type\n",
       "1948-01-01  TNW\n",
       "1948-01-02   NE\n",
       "1948-01-03   NE\n",
       "1948-01-04   NE\n",
       "1948-01-05   NE"
      ]
     },
     "execution_count": 12,
     "metadata": {},
     "output_type": "execute_result"
    }
   ],
   "source": [
    "df_KT.head()"
   ]
  },
  {
   "cell_type": "code",
   "execution_count": 13,
   "metadata": {
    "tags": []
   },
   "outputs": [],
   "source": [
    "a = np.where( tclus[:,0] >= 1948)[0][0]\n",
    "z = np.where( tclus[:,0] <= 2021)[0][-1] + 1 "
   ]
  },
  {
   "cell_type": "code",
   "execution_count": 14,
   "metadata": {
    "tags": []
   },
   "outputs": [],
   "source": [
    "tclus = tclus[a:z,...]"
   ]
  },
  {
   "cell_type": "code",
   "execution_count": 15,
   "metadata": {
    "tags": []
   },
   "outputs": [],
   "source": [
    "name = clusters.name\n",
    "name = name[a:z,...]\n",
    "\n",
    "### makes the names and types flat for lookup \n",
    "names = []\n",
    "for nm in name:\n",
    "    names.append(str(nm[0][0]))\n",
    "names = np.array(names)\n",
    "del(name)"
   ]
  },
  {
   "cell_type": "code",
   "execution_count": 16,
   "metadata": {},
   "outputs": [
    {
     "data": {
      "text/plain": [
       "54058"
      ]
     },
     "execution_count": 16,
     "metadata": {},
     "output_type": "execute_result"
    }
   ],
   "source": [
    "len(names)"
   ]
  },
  {
   "cell_type": "code",
   "execution_count": 17,
   "metadata": {
    "tags": []
   },
   "outputs": [],
   "source": [
    "### ==============================================================================================================\n",
    "### that above for comparison with the recalculated Kidson's types '\n",
    "\n",
    "x = loadmat(dpath.joinpath(\"h1000_clus.mat\"), struct_as_record=False)\n",
    "x = x['h1000']\n",
    "x = x[0,0]\n",
    "x.data.shape\n",
    "\n",
    "# restrict the dataset to 1972 - 2010\n",
    "\n",
    "a = np.where( (x.time[:,0] >= 1948) )[0][0]\n",
    "z = np.where( (x.time[:,0] <= 2021) )[0][-1] + 1\n",
    "\n",
    "x.time = x.time[a:z,...]\n",
    "x.data = x.data[a:z,...]"
   ]
  },
  {
   "cell_type": "code",
   "execution_count": 18,
   "metadata": {
    "collapsed": false,
    "jupyter": {
     "outputs_hidden": false
    }
   },
   "outputs": [],
   "source": [
    "### ==============================================================================================================\n",
    "### detrend the data itself ?\n",
    "\n",
    "datad = np.empty(x.data.shape)\n",
    "\n",
    "for i in range(x.data.shape[1]):\n",
    "    datad[:,i] = detrend_linear(x.data[:,i])\n",
    "\n",
    "x.data = datad\n",
    "\n",
    "clus_eof_file = loadmat(os.path.join(dpath, \"clus_eof.mat\"), struct_as_record=False)\n",
    "clus_eof = clus_eof_file['clus_eof'][0,0]\n",
    "\n",
    "### normalize \n",
    "za = x.data -  np.tile(clus_eof.mean.T, (x.data.shape[0],1))\n",
    "\n",
    "### multiply by the EOFs to get the Principal components \n",
    "pc = np.dot(za,clus_eof.vect)\n",
    "\n",
    "pc_mean = clus_eof_file['pc_mean']\n",
    "\n",
    "### normalize by the mean of the original PCs \n",
    "pc = pc - pc_mean\n",
    "\n",
    "# detrend the PRINCIPAL COMPONENTS \n",
    "pcd = np.empty_like(pc)\n",
    "for i in range(pc.shape[1]):\n",
    "    pcd[:,i] = detrend_linear(pc[:,i])\n",
    "\n",
    "### standardize by row \n",
    "\n",
    "pc = zscore(pc, axis=1)"
   ]
  },
  {
   "cell_type": "code",
   "execution_count": 19,
   "metadata": {
    "tags": []
   },
   "outputs": [],
   "source": [
    "### ==============================================================================================================\n",
    "### from James's code \n",
    "# clusname={'TSW','T','SW','NE','R','HW','HE','W','HNW','TNW','HSE','H'};                                                                                                                                       \n",
    "# regimes={{'TSW','T','SW','TNW'},{'W','HNW','H'},{'NE','R','HW','HE','HSE'}};\n",
    "# regname={'Trough','Zonal','Blocking'};\n",
    "\n",
    "list_clus = ['TSW','T','SW','NE','R','HW','HE','W','HNW','TNW','HSE','H']\n",
    "\n",
    "dict_clus = {}\n",
    "for i, k in enumerate(list_clus):\n",
    "    dict_clus[k] = clus_eof.clusmean[i,...]"
   ]
  },
  {
   "cell_type": "code",
   "execution_count": 20,
   "metadata": {
    "tags": []
   },
   "outputs": [],
   "source": [
    "data_list = find_cluster(list_clus, dict_clus, pc)\n",
    "data_listd = find_cluster(list_clus, dict_clus, pcd)"
   ]
  },
  {
   "cell_type": "code",
   "execution_count": 21,
   "metadata": {
    "tags": []
   },
   "outputs": [],
   "source": [
    "cluster_names_recalc = [data_list[i][1] for i in range(data_list.__len__())]\n",
    "cluster_names_recalcd = [data_listd[i][1] for i in range(data_listd.__len__())]"
   ]
  },
  {
   "cell_type": "code",
   "execution_count": 22,
   "metadata": {
    "collapsed": false,
    "jupyter": {
     "outputs_hidden": false
    }
   },
   "outputs": [
    {
     "data": {
      "text/plain": [
       "3403"
      ]
     },
     "execution_count": 22,
     "metadata": {},
     "output_type": "execute_result"
    }
   ],
   "source": [
    "### and see if it matches to the ones calculated previously by James \n",
    "matches = []\n",
    "for i in range(len(names)):\n",
    "    if names[i] == cluster_names_recalcd[i]:\n",
    "        matches.append(1)\n",
    "    else:\n",
    "        matches.append(0)\n",
    "\n",
    "matches.count(1)\n",
    "matches.count(0)"
   ]
  },
  {
   "cell_type": "code",
   "execution_count": 23,
   "metadata": {
    "collapsed": false,
    "jupyter": {
     "outputs_hidden": false
    }
   },
   "outputs": [],
   "source": [
    "# clim_kid_rec = [ float(cluster_names_recalcd.count(nm)) / cluster_names_recalcd.__len__() for nm in list_clus]\n",
    "# clim_kid_orig = [ float(names.tolist().count(nm)) / names.tolist().__len__() for nm in list_clus]\n",
    "\n",
    "### ==============================================================================================================\n",
    "### plot the CLIMATOLOGICAL distribution of kidson types for the given SEASON \n",
    "# fig = plt.figure()\n",
    "# ax = fig.add_subplot(111)\n",
    "# ax.set_title(\"Kidson types distribution\")\n",
    "# ax.bar(np.arange(0, 12), np.array(clim_kid_orig), color=\"0.8\", width=1.)\n",
    "# plt.axvline(4,color=\"r\", linewidth=2)\n",
    "# plt.axvline(7,color=\"r\", linewidth=2)\n",
    "# plt.text(0.08,0.9,\"Trough\",transform = ax.transAxes, bbox=dict(facecolor='w', alpha=0.5), fontsize=18)\n",
    "# plt.text(0.38,0.9,\"Zonal\",transform = ax.transAxes, bbox=dict(facecolor='w', alpha=0.5), fontsize=18)\n",
    "# plt.text(0.7,0.9,\"Blocking\",transform = ax.transAxes, bbox=dict(facecolor='w', alpha=0.5), fontsize=18)\n",
    "# ax.set_xticks(np.arange(0.5, 12.5))\n",
    "# ax.set_xticklabels(list_clus, rotation=\"vertical\", size='small')\n",
    "# ax.set_ylim(0, max(clim_kid_orig))\n",
    "# plt.ylabel(\"%\")\n",
    "# plt.grid()\n",
    "# plt.savefig(os.path.join(fpath,\"Kidson_types_clim_distrib_\"+season+\".png\"),dpi=300)\n",
    "# plt.close()\n",
    "\n",
    "### ==============================================================================================================\n",
    "### save the clusters \n",
    "\n",
    "### select one value per day (12 UTC)\n",
    "\n",
    "### ==============================================================================================================\n",
    "### indice for 12:00 UCT\n",
    "i12 = np.where(tclus[:,-1] == 0)[0]\n",
    "\n",
    "### select only 12 UTC, so one regime per day !\n",
    "tclus = tclus[i12,...]\n",
    "\n",
    "cluster_names_recalcd = np.array(cluster_names_recalcd)\n",
    "\n",
    "cluster_names_recalcd = cluster_names_recalcd[i12,]\n",
    "\n",
    "# calendar, ifeb = remove_leap(tclus)\n",
    "\n",
    "# cluster_names_recalcd = np.delete(cluster_names_recalcd, ifeb)\n",
    "\n",
    "data = zip(tclus, cluster_names_recalcd)\n",
    "\n",
    "# f = open(\"/home/nicolasf/research/NIWA/paleo/data/cluster_names_recalcd.txt\", \"w\")\n",
    "# \n",
    "# for l in data:\n",
    "#     f.write( str(l[0]).strip('[]') + \" \" + l[1]  + \"\\n\")\n",
    "# f.close()\n",
    "# \n",
    "# ess = np.loadtxt(\"/home/nicolasf/research/NIWA/paleo/data/cluster_names_recalcd.txt\", dtype={'names': ('years', 'month', 'day', 'time', 'regime'),'formats': ('i4', 'i4', 'i4', 'i4', 'S4')})\n"
   ]
  },
  {
   "cell_type": "code",
   "execution_count": 24,
   "metadata": {
    "collapsed": false,
    "jupyter": {
     "outputs_hidden": false
    }
   },
   "outputs": [
    {
     "data": {
      "text/plain": [
       "array(['HE', 'NE', 'NE', ..., 'TSW', 'TSW', 'TNW'], dtype='<U3')"
      ]
     },
     "execution_count": 24,
     "metadata": {},
     "output_type": "execute_result"
    }
   ],
   "source": [
    "cluster_names_recalcd"
   ]
  },
  {
   "cell_type": "code",
   "execution_count": 25,
   "metadata": {
    "collapsed": false,
    "jupyter": {
     "outputs_hidden": false
    }
   },
   "outputs": [
    {
     "data": {
      "text/plain": [
       "array([[1948,    1,    1,    0],\n",
       "       [1948,    1,    2,    0],\n",
       "       [1948,    1,    3,    0],\n",
       "       ...,\n",
       "       [2021,   12,   29,    0],\n",
       "       [2021,   12,   30,    0],\n",
       "       [2021,   12,   31,    0]], dtype=uint16)"
      ]
     },
     "execution_count": 25,
     "metadata": {},
     "output_type": "execute_result"
    }
   ],
   "source": [
    "tclus"
   ]
  },
  {
   "cell_type": "markdown",
   "metadata": {},
   "source": [
    "### create a dataframe with the same format as the original Kidson Types then saves in csv"
   ]
  },
  {
   "cell_type": "code",
   "execution_count": 26,
   "metadata": {
    "tags": []
   },
   "outputs": [],
   "source": [
    "types = ['T', 'SW', 'TNW', 'TSW', 'H', 'HNW', 'W', 'HSE', 'HE', 'NE', 'HW', 'R']"
   ]
  },
  {
   "cell_type": "code",
   "execution_count": 27,
   "metadata": {
    "tags": []
   },
   "outputs": [],
   "source": [
    "dict_types = dict(zip(types,range(1,len(types)+14 )))\n",
    "inv_dict_types = {v: k for k, v in dict_types.items()}"
   ]
  },
  {
   "cell_type": "code",
   "execution_count": 28,
   "metadata": {
    "collapsed": false,
    "jupyter": {
     "outputs_hidden": false
    }
   },
   "outputs": [
    {
     "data": {
      "text/plain": [
       "(27029,)"
      ]
     },
     "execution_count": 28,
     "metadata": {},
     "output_type": "execute_result"
    }
   ],
   "source": [
    "cluster_names_recalcd.shape"
   ]
  },
  {
   "cell_type": "code",
   "execution_count": 29,
   "metadata": {
    "collapsed": false,
    "jupyter": {
     "outputs_hidden": false
    }
   },
   "outputs": [],
   "source": [
    "K_Types = pd.DataFrame(cluster_names_recalcd, index=[datetime(*d[:-1]) for d in tclus], columns=[['type']])\n",
    "\n",
    "dict_types = dict(zip(types,range(1,len(types)+14 )))\n",
    "inv_dict_types = {v: k for k, v in dict_types.items()}\n",
    "\n",
    "maptypes = lambda x: dict_types[x]\n",
    "\n",
    "K_Types['class'] =  K_Types.applymap(maptypes)"
   ]
  },
  {
   "cell_type": "code",
   "execution_count": 36,
   "metadata": {
    "collapsed": false,
    "jupyter": {
     "outputs_hidden": false
    }
   },
   "outputs": [],
   "source": [
    "K_Types.to_csv('./Kidson_Types_detrend.csv')"
   ]
  },
  {
   "cell_type": "code",
   "execution_count": 31,
   "metadata": {},
   "outputs": [
    {
     "data": {
      "text/html": [
       "<div>\n",
       "<style scoped>\n",
       "    .dataframe tbody tr th:only-of-type {\n",
       "        vertical-align: middle;\n",
       "    }\n",
       "\n",
       "    .dataframe tbody tr th {\n",
       "        vertical-align: top;\n",
       "    }\n",
       "\n",
       "    .dataframe thead tr th {\n",
       "        text-align: left;\n",
       "    }\n",
       "</style>\n",
       "<table border=\"1\" class=\"dataframe\">\n",
       "  <thead>\n",
       "    <tr>\n",
       "      <th></th>\n",
       "      <th>type</th>\n",
       "      <th>class</th>\n",
       "    </tr>\n",
       "  </thead>\n",
       "  <tbody>\n",
       "    <tr>\n",
       "      <th>1948-01-01</th>\n",
       "      <td>HE</td>\n",
       "      <td>9</td>\n",
       "    </tr>\n",
       "    <tr>\n",
       "      <th>1948-01-02</th>\n",
       "      <td>NE</td>\n",
       "      <td>10</td>\n",
       "    </tr>\n",
       "    <tr>\n",
       "      <th>1948-01-03</th>\n",
       "      <td>NE</td>\n",
       "      <td>10</td>\n",
       "    </tr>\n",
       "    <tr>\n",
       "      <th>1948-01-04</th>\n",
       "      <td>NE</td>\n",
       "      <td>10</td>\n",
       "    </tr>\n",
       "    <tr>\n",
       "      <th>1948-01-05</th>\n",
       "      <td>HE</td>\n",
       "      <td>9</td>\n",
       "    </tr>\n",
       "    <tr>\n",
       "      <th>...</th>\n",
       "      <td>...</td>\n",
       "      <td>...</td>\n",
       "    </tr>\n",
       "    <tr>\n",
       "      <th>2021-12-27</th>\n",
       "      <td>TSW</td>\n",
       "      <td>4</td>\n",
       "    </tr>\n",
       "    <tr>\n",
       "      <th>2021-12-28</th>\n",
       "      <td>TSW</td>\n",
       "      <td>4</td>\n",
       "    </tr>\n",
       "    <tr>\n",
       "      <th>2021-12-29</th>\n",
       "      <td>TSW</td>\n",
       "      <td>4</td>\n",
       "    </tr>\n",
       "    <tr>\n",
       "      <th>2021-12-30</th>\n",
       "      <td>TSW</td>\n",
       "      <td>4</td>\n",
       "    </tr>\n",
       "    <tr>\n",
       "      <th>2021-12-31</th>\n",
       "      <td>TNW</td>\n",
       "      <td>3</td>\n",
       "    </tr>\n",
       "  </tbody>\n",
       "</table>\n",
       "<p>27029 rows × 2 columns</p>\n",
       "</div>"
      ],
      "text/plain": [
       "           type class\n",
       "1948-01-01   HE     9\n",
       "1948-01-02   NE    10\n",
       "1948-01-03   NE    10\n",
       "1948-01-04   NE    10\n",
       "1948-01-05   HE     9\n",
       "...         ...   ...\n",
       "2021-12-27  TSW     4\n",
       "2021-12-28  TSW     4\n",
       "2021-12-29  TSW     4\n",
       "2021-12-30  TSW     4\n",
       "2021-12-31  TNW     3\n",
       "\n",
       "[27029 rows x 2 columns]"
      ]
     },
     "execution_count": 31,
     "metadata": {},
     "output_type": "execute_result"
    }
   ],
   "source": [
    "K_Types"
   ]
  },
  {
   "cell_type": "code",
   "execution_count": 32,
   "metadata": {},
   "outputs": [
    {
     "data": {
      "text/html": [
       "<div>\n",
       "<style scoped>\n",
       "    .dataframe tbody tr th:only-of-type {\n",
       "        vertical-align: middle;\n",
       "    }\n",
       "\n",
       "    .dataframe tbody tr th {\n",
       "        vertical-align: top;\n",
       "    }\n",
       "\n",
       "    .dataframe thead th {\n",
       "        text-align: right;\n",
       "    }\n",
       "</style>\n",
       "<table border=\"1\" class=\"dataframe\">\n",
       "  <thead>\n",
       "    <tr style=\"text-align: right;\">\n",
       "      <th></th>\n",
       "      <th>type</th>\n",
       "    </tr>\n",
       "  </thead>\n",
       "  <tbody>\n",
       "    <tr>\n",
       "      <th>1948-01-01</th>\n",
       "      <td>TNW</td>\n",
       "    </tr>\n",
       "    <tr>\n",
       "      <th>1948-01-02</th>\n",
       "      <td>NE</td>\n",
       "    </tr>\n",
       "    <tr>\n",
       "      <th>1948-01-03</th>\n",
       "      <td>NE</td>\n",
       "    </tr>\n",
       "    <tr>\n",
       "      <th>1948-01-04</th>\n",
       "      <td>NE</td>\n",
       "    </tr>\n",
       "    <tr>\n",
       "      <th>1948-01-05</th>\n",
       "      <td>NE</td>\n",
       "    </tr>\n",
       "    <tr>\n",
       "      <th>...</th>\n",
       "      <td>...</td>\n",
       "    </tr>\n",
       "    <tr>\n",
       "      <th>2022-08-27</th>\n",
       "      <td>H</td>\n",
       "    </tr>\n",
       "    <tr>\n",
       "      <th>2022-08-28</th>\n",
       "      <td>H</td>\n",
       "    </tr>\n",
       "    <tr>\n",
       "      <th>2022-08-29</th>\n",
       "      <td>HSE</td>\n",
       "    </tr>\n",
       "    <tr>\n",
       "      <th>2022-08-30</th>\n",
       "      <td>HSE</td>\n",
       "    </tr>\n",
       "    <tr>\n",
       "      <th>2022-08-31</th>\n",
       "      <td>HE</td>\n",
       "    </tr>\n",
       "  </tbody>\n",
       "</table>\n",
       "<p>27272 rows × 1 columns</p>\n",
       "</div>"
      ],
      "text/plain": [
       "           type\n",
       "1948-01-01  TNW\n",
       "1948-01-02   NE\n",
       "1948-01-03   NE\n",
       "1948-01-04   NE\n",
       "1948-01-05   NE\n",
       "...         ...\n",
       "2022-08-27    H\n",
       "2022-08-28    H\n",
       "2022-08-29  HSE\n",
       "2022-08-30  HSE\n",
       "2022-08-31   HE\n",
       "\n",
       "[27272 rows x 1 columns]"
      ]
     },
     "execution_count": 32,
     "metadata": {},
     "output_type": "execute_result"
    }
   ],
   "source": [
    "df_KT"
   ]
  },
  {
   "cell_type": "code",
   "execution_count": 33,
   "metadata": {},
   "outputs": [],
   "source": [
    "df_KT.loc[:,'class'] =  df_KT.applymap(maptypes)"
   ]
  },
  {
   "cell_type": "code",
   "execution_count": 37,
   "metadata": {},
   "outputs": [],
   "source": [
    "df_KT.to_csv('./Kidson_Types.csv')"
   ]
  }
 ],
 "metadata": {
  "kernelspec": {
   "display_name": "Python 3 (ipykernel)",
   "language": "python",
   "name": "python3"
  },
  "language_info": {
   "codemirror_mode": {
    "name": "ipython",
    "version": 3
   },
   "file_extension": ".py",
   "mimetype": "text/x-python",
   "name": "python",
   "nbconvert_exporter": "python",
   "pygments_lexer": "ipython3",
   "version": "3.9.16"
  }
 },
 "nbformat": 4,
 "nbformat_minor": 4
}
