{
 "cells": [
  {
   "cell_type": "markdown",
   "metadata": {},
   "source": [
    "# notebook to just initialise a proxy and create a proxy JSON file"
   ]
  },
  {
   "cell_type": "code",
   "execution_count": 1,
   "metadata": {},
   "outputs": [],
   "source": [
    "%matplotlib inline"
   ]
  },
  {
   "cell_type": "code",
   "execution_count": 2,
   "metadata": {},
   "outputs": [],
   "source": [
    "import os \n",
    "import sys\n",
    "import pathlib"
   ]
  },
  {
   "cell_type": "code",
   "execution_count": 3,
   "metadata": {
    "collapsed": true
   },
   "outputs": [],
   "source": [
    "import pandas as pd\n",
    "import numpy as np\n",
    "import matplotlib.pyplot as plt"
   ]
  },
  {
   "cell_type": "markdown",
   "metadata": {},
   "source": [
    "### import the development version of paleopy"
   ]
  },
  {
   "cell_type": "code",
   "execution_count": 4,
   "metadata": {
    "collapsed": false
   },
   "outputs": [],
   "source": [
    "sys.path.insert(0, '../')"
   ]
  },
  {
   "cell_type": "code",
   "execution_count": 5,
   "metadata": {
    "collapsed": false,
    "scrolled": true
   },
   "outputs": [],
   "source": [
    "from paleopy import proxy \n",
    "from paleopy import analogs\n",
    "from paleopy.plotting import scalar_plot"
   ]
  },
  {
   "cell_type": "markdown",
   "metadata": {},
   "source": [
    "### determine the current working directory "
   ]
  },
  {
   "cell_type": "code",
   "execution_count": 6,
   "metadata": {},
   "outputs": [],
   "source": [
    "cwd = pathlib.Path.cwd() "
   ]
  },
  {
   "cell_type": "code",
   "execution_count": 7,
   "metadata": {},
   "outputs": [
    {
     "name": "stdout",
     "output_type": "stream",
     "text": [
      "/home/nicolasf/research/PICT_notebooks/notebooks\n"
     ]
    }
   ],
   "source": [
    "print(cwd)"
   ]
  },
  {
   "cell_type": "markdown",
   "metadata": {},
   "source": [
    "### example 1: defines one proxy"
   ]
  },
  {
   "cell_type": "markdown",
   "metadata": {},
   "source": [
    "#### defines the folder where the JSON files are (for the datasets) and where to save the proxy JSON files"
   ]
  },
  {
   "cell_type": "code",
   "execution_count": 8,
   "metadata": {},
   "outputs": [],
   "source": [
    "djsons = cwd.parent / 'jsons'"
   ]
  },
  {
   "cell_type": "code",
   "execution_count": 9,
   "metadata": {},
   "outputs": [],
   "source": [
    "pjsons = djsons / 'proxies'"
   ]
  },
  {
   "cell_type": "code",
   "execution_count": 10,
   "metadata": {},
   "outputs": [],
   "source": [
    "if not djsons.exists(): \n",
    "    djsons.mkdir()"
   ]
  },
  {
   "cell_type": "code",
   "execution_count": 11,
   "metadata": {},
   "outputs": [],
   "source": [
    "if not pjsons.exists(): \n",
    "    pjsons.mkdir()"
   ]
  },
  {
   "cell_type": "markdown",
   "metadata": {},
   "source": [
    "### instantiates a proxy instance, the list of valid datasets + variables is below"
   ]
  },
  {
   "cell_type": "markdown",
   "metadata": {},
   "source": [
    "+ **vcsn**: \n",
    "    + TMean \n",
    "    + Rain\n",
    "+ **ersst**: \n",
    "    + sst\n",
    "+ **gpcp**: \n",
    "    + Rain\n",
    "+ **ncep**: \n",
    "    + hgt_1000\n",
    "    + hgt_850\n",
    "    + hgt_200\n",
    "    + omega_500 \n",
    "    + uwnd_1000\n",
    "    + vwnd_1000 \n",
    "    + uwnd_850\n",
    "    + vwnd_850 \n",
    "    + uwnd_200\n",
    "    + vwnd_200"
   ]
  },
  {
   "cell_type": "markdown",
   "metadata": {},
   "source": [
    "## the list of valid attributes is defined in the help of the proxy class "
   ]
  },
  {
   "cell_type": "code",
   "execution_count": 12,
   "metadata": {},
   "outputs": [
    {
     "name": "stdout",
     "output_type": "stream",
     "text": [
      "\n",
      "    base class for a single proxy\n",
      "\n",
      "    Parameters\n",
      "    ----------\n",
      "\n",
      "    sitename : string\n",
      "            The name of the proxy site\n",
      "            user-defined, no default\n",
      "\n",
      "    proxy_type : string\n",
      "            the type of proxy\n",
      "            can be e.g.:\n",
      "            \"Tree-ring\"\n",
      "            \"Speleotheme\"\n",
      "            \"Coral core\"\n",
      "            user-defined, no default\n",
      "\n",
      "    lon : float\n",
      "            The longitude (in decimal degrees) of the site\n",
      "            user-defined, no default\n",
      "\n",
      "    lat : float\n",
      "            The latitude (in decimal degrees) of the site\n",
      "            user-defined, no default\n",
      "\n",
      "    djsons : string\n",
      "            The path to the json files defining the paths\n",
      "            and parameters arrached to each dataset + variable\n",
      "            defined by the frontend in PICT, default is ./jsons\n",
      "\n",
      "    pjsons : string\n",
      "            The path where to save the individual proxy json files\n",
      "            defined by the frontend in PICT, default is ./jsons/proxies\n",
      "\n",
      "    pfname : string\n",
      "            the name of the JSON file containing the information\n",
      "            for a single proxy, no default\n",
      "\n",
      "    dataset : string\n",
      "            The dataset to load to look for analogs, see\n",
      "            the `datasets.json` file for a list of the available\n",
      "            datasets (e.g. `ersst`, 'ncep', `gpcp`)\n",
      "            user-defined, default is `ersst`\n",
      "\n",
      "    variable : string\n",
      "            The variable to extract from the dataset to look for analogs, see\n",
      "            the `datasets.json` file for a list of variables available for\n",
      "            each dataset (e.g. for `ncep` dataset: `hgt_1000, hgt_850` etc\n",
      "            user-defined, default is `sst`\n",
      "\n",
      "    season : string\n",
      "            The season to which the proxy is sensitive, can be:\n",
      "            - any of `DJF`, `JFM`, `FMA`, ..\n",
      "            - `Warm Season (Dec. - May)`\n",
      "            - `Cold Season (Jun. - Nov.)`\n",
      "            - `Year (Jan. - Dec.)`\n",
      "            - `Hydro. year (Jul. - Jun.)`\n",
      "            user-defined, default is `DJF`\n",
      "\n",
      "    value : float or integer or string\n",
      "            The value attached to the proxy\n",
      "            if string, must be in ['WB', 'B', 'N', 'A', 'WA']\n",
      "            for Well-Below, Below, etc and will be taken\n",
      "            as the category of anomalies WRT to present conditions\n",
      "            user-defined, no default\n",
      "\n",
      "    period : string\n",
      "            The period from which the analogs can be taken in a\n",
      "            given dataset. Default is \"1979-2014\"\n",
      "            user-defined, default is full period for the dataset\n",
      "            interogated\n",
      "\n",
      "    climatology : string\n",
      "            The climatological period with respect to which the\n",
      "            anomalies (if `calc_anoms == True`) are calculated\n",
      "            user-defined, default is \"1981-2010\"\n",
      "\n",
      "    calc_anoms : boolean\n",
      "            If `True`, the anomalies are calculated before the analog\n",
      "            years are determined: The `value` parameter needs to represent\n",
      "            an *anomaly* with respect to present condition\n",
      "            If `False`, the analog years are determined from the raw seasonal\n",
      "            time-series: The `value` parameter needs to represent a raw value\n",
      "            (i.e. a rainfall amount, a mean temperature)\n",
      "            user-defined, default is True\n",
      "\n",
      "    detrend : boolean\n",
      "            If `True` the linear trend is removed from the time-series\n",
      "            before the analog years are determined, if `False`, nothing is\n",
      "            done\n",
      "            user-defined, default is True\n",
      "\n",
      "    method : string\n",
      "            can be either 'closest 8' or 'quintiles'\n",
      "            to specicify the method employed to choose\n",
      "            the analog seasons\n",
      "\n",
      "    aspect : float\n",
      "            The aspect of the proxy site (in degrees from 0 to 360)\n",
      "            user-defined, no default\n",
      "\n",
      "    elevation : float\n",
      "            The elevation of the proxy site (in meters)\n",
      "            user-defined, no default\n",
      "\n",
      "    dating_convention : string\n",
      "            the dating convention\n",
      "            user-defined, no default\n",
      "\n",
      "    calendar : string\n",
      "            calendar year\n",
      "            user-defined, no default\n",
      "\n",
      "    chronology : string\n",
      "            the chronology control (i.e. 14C, Historic, Dendrochronology, etc)\n",
      "            user-defined, no default\n",
      "\n",
      "    measurement : string\n",
      "            the proxy measurement type (e.g. width for tree rings)\n",
      "            user-defined, no default\n",
      "\n",
      "    Attributes\n",
      "    ----------\n",
      "    \n"
     ]
    }
   ],
   "source": [
    "print(proxy.__doc__)"
   ]
  },
  {
   "cell_type": "markdown",
   "metadata": {},
   "source": [
    "### the cell below instantiates a correct proxy instance by passing all the relevant parameters "
   ]
  },
  {
   "cell_type": "code",
   "execution_count": 13,
   "metadata": {
    "collapsed": false
   },
   "outputs": [],
   "source": [
    "p = proxy(sitename='Rarotonga', \\\n",
    "          lon = -159.82, \\\n",
    "          lat = -21.23, \\\n",
    "          djsons = djsons, \\\n",
    "          pjsons = pjsons, \\\n",
    "          pfname = 'Rarotonga.json', \\\n",
    "          dataset = 'ersst', \\\n",
    "          variable ='sst', \\\n",
    "          measurement ='delta O18', \\\n",
    "          dating_convention = 'absolute', \\\n",
    "          calendar = 'gregorian',\\\n",
    "          chronology = 'historic', \\\n",
    "          season = 'DJF', \\\n",
    "          value = 0.6, \\\n",
    "          qualitative = 0, \\\n",
    "          calc_anoms = 1, \\\n",
    "          detrend = 1, \\\n",
    "        method = 'quintiles')"
   ]
  },
  {
   "cell_type": "markdown",
   "metadata": {},
   "source": [
    "### find the analog seasons, by calling the `find_analogs` method "
   ]
  },
  {
   "cell_type": "code",
   "execution_count": 14,
   "metadata": {
    "collapsed": false
   },
   "outputs": [],
   "source": [
    "p.find_analogs()"
   ]
  },
  {
   "cell_type": "markdown",
   "metadata": {},
   "source": [
    "### now the proxy instance `p` contains attributes that hold the results of the `find_analogs` method, and we can print the information about the proxy and the derived information related to the extraction"
   ]
  },
  {
   "cell_type": "code",
   "execution_count": 15,
   "metadata": {
    "collapsed": false
   },
   "outputs": [
    {
     "name": "stdout",
     "output_type": "stream",
     "text": [
      "{\n",
      "sitename:Rarotonga\n",
      "proxy_type:None\n",
      "measurement:delta O18\n",
      "dating_convention:absolute\n",
      "calendar:gregorian\n",
      "chronology:historic\n",
      "coords:(200.18, -21.23)\n",
      "aspect:None\n",
      "elevation:None\n",
      "season:DJF\n",
      "dataset:ersst\n",
      "variable:sst\n",
      "calc_anoms:True\n",
      "detrend:True\n",
      "value:0.6\n",
      "climatology:(1981, 2010)\n",
      "period:(1979, 2014)\n",
      "extracted_coords:[200.0, -22.0]\n",
      "distance_point:87.56368858840081\n",
      "trend_params:{'slope': 0.030535947029886677, 'intercept': -60.96501637775516}\n",
      "category:WA\n",
      "analog_years:[1982, 1997, 1999, 2000, 2001, 2006, 2009]\n",
      "weights:[0.15645480307020584, 0.12800536294956205, 0.13090508326029401, 0.16334634614636281, 0.15762466128135916, 0.1220029495538857, 0.1416607937383304]\n",
      "}\n"
     ]
    }
   ],
   "source": [
    "p.proxy_repr(pprint=True)"
   ]
  },
  {
   "cell_type": "markdown",
   "metadata": {},
   "source": [
    "### Adding `outfile=True` creates the json file containing the proxy information, with filename `self.pfname`, this needs to be executed if you want to persist the proxy metadata and e.g. use it in an ensemble  "
   ]
  },
  {
   "cell_type": "code",
   "execution_count": 16,
   "metadata": {
    "collapsed": false
   },
   "outputs": [],
   "source": [
    "p.proxy_repr(pprint=False, outfile=True)"
   ]
  },
  {
   "cell_type": "code",
   "execution_count": 17,
   "metadata": {
    "collapsed": false
   },
   "outputs": [
    {
     "name": "stdout",
     "output_type": "stream",
     "text": [
      "-rw-rw-r-- 1 nicolasf nicolasf 771 Jun 24 09:39 ../jsons/proxies/Rarotonga.json\n"
     ]
    }
   ],
   "source": [
    "!ls -lt ../jsons/proxies/Rarotonga.json"
   ]
  },
  {
   "cell_type": "code",
   "execution_count": null,
   "metadata": {},
   "outputs": [],
   "source": []
  }
 ],
 "metadata": {
  "kernelspec": {
   "display_name": "Python 3",
   "language": "python",
   "name": "python3"
  },
  "language_info": {
   "codemirror_mode": {
    "name": "ipython",
    "version": 3
   },
   "file_extension": ".py",
   "mimetype": "text/x-python",
   "name": "python",
   "nbconvert_exporter": "python",
   "pygments_lexer": "ipython3",
   "version": "3.6.7"
  },
  "latex_envs": {
   "bibliofile": "biblio.bib",
   "cite_by": "apalike",
   "current_citInitial": 1,
   "eqLabelWithNumbers": true,
   "eqNumInitial": 0
  }
 },
 "nbformat": 4,
 "nbformat_minor": 2
}
