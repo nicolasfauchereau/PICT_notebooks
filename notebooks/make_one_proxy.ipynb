{
 "cells": [
  {
   "cell_type": "markdown",
   "metadata": {},
   "source": [
    "# notebook to just initialise a proxy and create a proxy JSON file"
   ]
  },
  {
   "cell_type": "code",
   "execution_count": 1,
   "metadata": {},
   "outputs": [],
   "source": [
    "%load_ext autoreload\n",
    "%autoreload 2"
   ]
  },
  {
   "cell_type": "code",
   "execution_count": 2,
   "metadata": {},
   "outputs": [],
   "source": [
    "%matplotlib inline"
   ]
  },
  {
   "cell_type": "code",
   "execution_count": 3,
   "metadata": {},
   "outputs": [],
   "source": [
    "import os \n",
    "import sys\n",
    "import pathlib\n",
    "import json "
   ]
  },
  {
   "cell_type": "code",
   "execution_count": 4,
   "metadata": {},
   "outputs": [],
   "source": [
    "import pandas as pd\n",
    "import numpy as np\n",
    "import matplotlib.pyplot as plt"
   ]
  },
  {
   "cell_type": "markdown",
   "metadata": {},
   "source": [
    "### import the development version of paleopy"
   ]
  },
  {
   "cell_type": "code",
   "execution_count": 5,
   "metadata": {
    "scrolled": true
   },
   "outputs": [],
   "source": [
    "from paleopy import proxy \n",
    "from paleopy import analogs\n",
    "from paleopy.plotting import scalar_plot"
   ]
  },
  {
   "cell_type": "markdown",
   "metadata": {},
   "source": [
    "### determine the current working directory "
   ]
  },
  {
   "cell_type": "code",
   "execution_count": 6,
   "metadata": {},
   "outputs": [],
   "source": [
    "cwd = pathlib.Path.cwd() "
   ]
  },
  {
   "cell_type": "code",
   "execution_count": 7,
   "metadata": {},
   "outputs": [
    {
     "name": "stdout",
     "output_type": "stream",
     "text": [
      "/home/nicolasf/research/PICT_notebooks/notebooks\n"
     ]
    }
   ],
   "source": [
    "print(cwd)"
   ]
  },
  {
   "cell_type": "markdown",
   "metadata": {},
   "source": [
    "### example 1: defines one proxy"
   ]
  },
  {
   "cell_type": "markdown",
   "metadata": {},
   "source": [
    "#### defines the folder where the JSON files are (for the datasets) and where to save the proxy JSON files"
   ]
  },
  {
   "cell_type": "code",
   "execution_count": 8,
   "metadata": {},
   "outputs": [],
   "source": [
    "djsons = cwd.parent.joinpath('jsons')"
   ]
  },
  {
   "cell_type": "code",
   "execution_count": 9,
   "metadata": {},
   "outputs": [],
   "source": [
    "pjsons = djsons.joinpath('proxies')"
   ]
  },
  {
   "cell_type": "code",
   "execution_count": 10,
   "metadata": {},
   "outputs": [],
   "source": [
    "djsons.mkdir(parents=True, exist_ok=True) "
   ]
  },
  {
   "cell_type": "code",
   "execution_count": 11,
   "metadata": {},
   "outputs": [],
   "source": [
    "pjsons.mkdir(parents=True, exist_ok=True) "
   ]
  },
  {
   "cell_type": "markdown",
   "metadata": {},
   "source": [
    "### list of datasets and variables "
   ]
  },
  {
   "cell_type": "code",
   "execution_count": 12,
   "metadata": {},
   "outputs": [],
   "source": [
    "with open(djsons.joinpath('datasets.json')) as f:\n",
    "    datasets = json.load(f)"
   ]
  },
  {
   "cell_type": "code",
   "execution_count": 13,
   "metadata": {},
   "outputs": [
    {
     "data": {
      "text/plain": [
       "dict_keys(['vcsn', 'ersst', 'gpcp', 'ncep', 'awap', 'agcd', 'bet'])"
      ]
     },
     "execution_count": 13,
     "metadata": {},
     "output_type": "execute_result"
    }
   ],
   "source": [
    "datasets.keys()"
   ]
  },
  {
   "cell_type": "code",
   "execution_count": 14,
   "metadata": {},
   "outputs": [
    {
     "data": {
      "text/plain": [
       "dict_keys(['hgt_1000', 'hgt_850', 'hgt_200', 'omega_500', 'uwnd_1000', 'uwnd_850', 'uwnd_200', 'vwnd_1000', 'vwnd_850', 'vwnd_200', 'TMean', 'Precip_water'])"
      ]
     },
     "execution_count": 14,
     "metadata": {},
     "output_type": "execute_result"
    }
   ],
   "source": [
    "datasets['ncep'].keys()"
   ]
  },
  {
   "cell_type": "code",
   "execution_count": 15,
   "metadata": {},
   "outputs": [
    {
     "name": "stdout",
     "output_type": "stream",
     "text": [
      "vcsn: Tmean_n, Tmax_n, Tmin_n, Rain_bc, Rh\n",
      "ersst: sst\n",
      "gpcp: Rain\n",
      "ncep: hgt_1000, hgt_850, hgt_200, omega_500, uwnd_1000, uwnd_850, uwnd_200, vwnd_1000, vwnd_850, vwnd_200, TMean, Precip_water\n",
      "awap: TMean, Rain\n",
      "agcd: Rain, TMin, TMax\n",
      "bet: temperature\n"
     ]
    }
   ],
   "source": [
    "for k in datasets.keys(): \n",
    "    print(f\"{k}: {', '.join(datasets[k].keys())}\")"
   ]
  },
  {
   "cell_type": "markdown",
   "metadata": {},
   "source": [
    "## the list of valid attributes is defined in the help of the proxy class "
   ]
  },
  {
   "cell_type": "code",
   "execution_count": 16,
   "metadata": {},
   "outputs": [
    {
     "name": "stdout",
     "output_type": "stream",
     "text": [
      "\n",
      "    base class for a single proxy\n",
      "\n",
      "    Parameters\n",
      "    ----------\n",
      "\n",
      "    sitename : string\n",
      "            The name of the proxy site\n",
      "            user-defined, no default\n",
      "\n",
      "    proxy_type : string\n",
      "            the type of proxy\n",
      "            can be e.g.:\n",
      "            \"Tree-ring\"\n",
      "            \"Speleotheme\"\n",
      "            \"Coral core\"\n",
      "            user-defined, no default\n",
      "\n",
      "    lon : float\n",
      "            The longitude (in decimal degrees) of the site\n",
      "            user-defined, no default\n",
      "\n",
      "    lat : float\n",
      "            The latitude (in decimal degrees) of the site\n",
      "            user-defined, no default\n",
      "\n",
      "    djsons : string\n",
      "            The path to the json files defining the paths\n",
      "            and parameters arrached to each dataset + variable\n",
      "            defined by the frontend in PICT, default is ./jsons\n",
      "\n",
      "    pjsons : string\n",
      "            The path where to save the individual proxy json files\n",
      "            defined by the frontend in PICT, default is ./jsons/proxies\n",
      "\n",
      "    pfname : string\n",
      "            the name of the JSON file containing the information\n",
      "            for a single proxy, no default\n",
      "\n",
      "    dataset : string\n",
      "            The dataset to load to look for analogs, see\n",
      "            the `datasets.json` file for a list of the available\n",
      "            datasets (e.g. `ersst`, 'ncep', `gpcp`)\n",
      "            user-defined, default is `ersst`\n",
      "\n",
      "    variable : string\n",
      "            The variable to extract from the dataset to look for analogs, see\n",
      "            the `datasets.json` file for a list of variables available for\n",
      "            each dataset (e.g. for `ncep` dataset: `hgt_1000, hgt_850` etc\n",
      "            user-defined, default is `sst`\n",
      "\n",
      "    season : string\n",
      "            The season to which the proxy is sensitive, can be:\n",
      "            - any of `DJF`, `JFM`, `FMA`, ..\n",
      "            - `Warm Season (Dec. - May)`\n",
      "            - `Cold Season (Jun. - Nov.)`\n",
      "            - `Year (Jan. - Dec.)`\n",
      "            - `Hydro. year (Jul. - Jun.)`\n",
      "            user-defined, default is `DJF`\n",
      "\n",
      "    value : float or integer or string\n",
      "            The value attached to the proxy\n",
      "            if string, must be in ['WB', 'B', 'N', 'A', 'WA']\n",
      "            for Well-Below, Below, etc and will be taken\n",
      "            as the category of anomalies WRT to present conditions\n",
      "            user-defined, no default\n",
      "\n",
      "    period : string\n",
      "            The period from which the analogs can be taken in a\n",
      "            given dataset. Default is \"1979-2014\"\n",
      "            user-defined, default is full period for the dataset\n",
      "            interogated\n",
      "\n",
      "    climatology : string\n",
      "            The climatological period with respect to which the\n",
      "            anomalies (if `calc_anoms == True`) are calculated\n",
      "            user-defined, default is \"1981-2010\"\n",
      "\n",
      "    calc_anoms : boolean\n",
      "            If `True`, the anomalies are calculated before the analog\n",
      "            years are determined: The `value` parameter needs to represent\n",
      "            an *anomaly* with respect to present condition\n",
      "            If `False`, the analog years are determined from the raw seasonal\n",
      "            time-series: The `value` parameter needs to represent a raw value\n",
      "            (i.e. a rainfall amount, a mean temperature)\n",
      "            user-defined, default is True\n",
      "\n",
      "    detrend : boolean\n",
      "            If `True` the linear trend is removed from the time-series\n",
      "            before the analog years are determined, if `False`, nothing is\n",
      "            done\n",
      "            user-defined, default is True\n",
      "\n",
      "    method : string\n",
      "            can be either 'closest 8' or 'quintiles'\n",
      "            to specicify the method employed to choose\n",
      "            the analog seasons\n",
      "\n",
      "    aspect : float\n",
      "            The aspect of the proxy site (in degrees from 0 to 360)\n",
      "            user-defined, no default\n",
      "\n",
      "    elevation : float\n",
      "            The elevation of the proxy site (in meters)\n",
      "            user-defined, no default\n",
      "\n",
      "    dating_convention : string\n",
      "            the dating convention\n",
      "            user-defined, no default\n",
      "\n",
      "    calendar : string\n",
      "            calendar year\n",
      "            user-defined, no default\n",
      "\n",
      "    chronology : string\n",
      "            the chronology control (i.e. 14C, Historic, Dendrochronology, etc)\n",
      "            user-defined, no default\n",
      "\n",
      "    measurement : string\n",
      "            the proxy measurement type (e.g. width for tree rings)\n",
      "            user-defined, no default\n",
      "\n",
      "    Attributes\n",
      "    ----------\n",
      "    \n"
     ]
    }
   ],
   "source": [
    "print(proxy.__doc__)"
   ]
  },
  {
   "cell_type": "markdown",
   "metadata": {},
   "source": [
    "### the cell below instantiates a correct proxy instance by passing all the relevant parameters "
   ]
  },
  {
   "cell_type": "code",
   "execution_count": 17,
   "metadata": {},
   "outputs": [],
   "source": [
    "p = proxy(sitename='Rarotonga', \\\n",
    "          lon = -159.82, \\\n",
    "          lat = -21.23, \\\n",
    "          djsons = djsons, \\\n",
    "          pjsons = pjsons, \\\n",
    "          pfname = 'Rarotonga.json', \\\n",
    "          dataset = 'ersst', \\\n",
    "          variable = 'sst', \\\n",
    "          period = '1979-2021', \\\n",
    "          climatology = '1981-2010', \\\n",
    "          measurement ='delta O18', \\\n",
    "          dating_convention = 'absolute', \\\n",
    "          calendar = 'gregorian',\\\n",
    "          chronology = 'historic', \\\n",
    "          season = 'DJF', \\\n",
    "          value = 0.6, \\\n",
    "          qualitative = 0, \\\n",
    "          calc_anoms = 1, \\\n",
    "          detrend = 1, \\\n",
    "        method = 'quintiles')"
   ]
  },
  {
   "cell_type": "markdown",
   "metadata": {},
   "source": [
    "### find the analog seasons, by calling the `find_analogs` method "
   ]
  },
  {
   "cell_type": "code",
   "execution_count": 18,
   "metadata": {},
   "outputs": [],
   "source": [
    "p.find_analogs()"
   ]
  },
  {
   "cell_type": "markdown",
   "metadata": {},
   "source": [
    "### now the proxy instance `p` contains attributes that hold the results of the `find_analogs` method, and we can print the information about the proxy and the derived information related to the extraction"
   ]
  },
  {
   "cell_type": "code",
   "execution_count": 19,
   "metadata": {},
   "outputs": [
    {
     "name": "stdout",
     "output_type": "stream",
     "text": [
      "{\n",
      "sitename:Rarotonga\n",
      "proxy_type:None\n",
      "measurement:delta O18\n",
      "dating_convention:absolute\n",
      "calendar:gregorian\n",
      "chronology:historic\n",
      "coords:(200.18, -21.23)\n",
      "aspect:None\n",
      "elevation:None\n",
      "season:DJF\n",
      "dataset:ersst\n",
      "variable:sst\n",
      "calc_anoms:True\n",
      "detrend:True\n",
      "value:0.6\n",
      "climatology:(1981, 2010)\n",
      "period:(1979, 2021)\n",
      "extracted_coords:[200.0, -22.0]\n",
      "distance_point:87.56368858840081\n",
      "trend_params:{'slope': 0.023224646991750055, 'intercept': -46.408357934818135}\n",
      "category:WA\n",
      "analog_years:[1982, 1988, 1994, 1997, 1999, 2000, 2001, 2006, 2009]\n",
      "weights:[0.12181229616564422, 0.1195807473560998, 0.12434793750364227, 0.11584689791244138, 0.0912861850766994, 0.10080095706097328, 0.11470423375719224, 0.10564786172517596, 0.10597288344213156]\n",
      "}\n"
     ]
    }
   ],
   "source": [
    "p.proxy_repr(pprint=True)"
   ]
  },
  {
   "cell_type": "markdown",
   "metadata": {},
   "source": [
    "### Adding `outfile=True` creates the json file containing the proxy information, with filename `self.pfname`, this needs to be executed if you want to persist the proxy metadata and e.g. use it in an ensemble  "
   ]
  },
  {
   "cell_type": "code",
   "execution_count": 20,
   "metadata": {},
   "outputs": [],
   "source": [
    "p.proxy_repr(pprint=False, outfile=True)"
   ]
  },
  {
   "cell_type": "code",
   "execution_count": 21,
   "metadata": {},
   "outputs": [
    {
     "name": "stdout",
     "output_type": "stream",
     "text": [
      "-rw-r--r-- 1 nicolasf nicolasf 826 Jun  6 13:51 ../jsons/proxies/Rarotonga.json\n"
     ]
    }
   ],
   "source": [
    "!ls -lt ../jsons/proxies/Rarotonga.json"
   ]
  },
  {
   "cell_type": "code",
   "execution_count": 22,
   "metadata": {},
   "outputs": [
    {
     "name": "stdout",
     "output_type": "stream",
     "text": [
      "{\n",
      "    \"analog_years\": [\n",
      "        1982,\n",
      "        1988,\n",
      "        1994,\n",
      "        1997,\n",
      "        1999,\n",
      "        2000,\n",
      "        2001,\n",
      "        2006,\n",
      "        2009\n",
      "    ],\n",
      "    \"aspect\": null,\n",
      "    \"calc_anoms\": true,\n",
      "    \"calendar\": \"gregorian\",\n",
      "    \"category\": \"WA\",\n",
      "    \"chronology\": \"historic\",\n",
      "    \"climatology\": [\n",
      "        1981,\n",
      "        2010\n",
      "    ],\n",
      "    \"coords\": [\n",
      "        200.18,\n",
      "        -21.23\n",
      "    ],\n",
      "    \"dataset\": \"ersst\",\n",
      "    \"dating_convention\": \"absolute\",\n",
      "    \"detrend\": true,\n",
      "    \"distance_point\": 87.56368858840081,\n",
      "    \"elevation\": null,\n",
      "    \"extracted_coords\": [\n",
      "        200.0,\n",
      "        -22.0\n",
      "    ],\n",
      "    \"measurement\": \"delta O18\",\n",
      "    \"period\": [\n",
      "        1979,\n",
      "        2021\n",
      "    ],\n",
      "    \"proxy_type\": null,\n",
      "    \"season\": \"DJF\",\n",
      "    \"sitename\": \"Rarotonga\",\n",
      "    \"trend_params\": {\n",
      "        \"intercept\": -46.408357934818135,\n",
      "        \"slope\": 0.023224646991750055\n",
      "    },\n",
      "    \"value\": 0.6,\n",
      "    \"variable\": \"sst\",\n",
      "    \"weights\": [\n",
      "        0.12181229616564422,\n",
      "        0.1195807473560998,\n",
      "        0.12434793750364227,\n",
      "        0.11584689791244138,\n",
      "        0.0912861850766994,\n",
      "        0.10080095706097328,\n",
      "        0.11470423375719224,\n",
      "        0.10564786172517596,\n",
      "        0.10597288344213156\n",
      "    ]\n",
      "}\n"
     ]
    }
   ],
   "source": [
    "!python -m json.tool --sort-keys --json-lines < ../jsons/proxies/Rarotonga.json"
   ]
  },
  {
   "cell_type": "code",
   "execution_count": null,
   "metadata": {},
   "outputs": [],
   "source": []
  }
 ],
 "metadata": {
  "kernelspec": {
   "display_name": "Python 3 (ipykernel)",
   "language": "python",
   "name": "python3"
  },
  "language_info": {
   "codemirror_mode": {
    "name": "ipython",
    "version": 3
   },
   "file_extension": ".py",
   "mimetype": "text/x-python",
   "name": "python",
   "nbconvert_exporter": "python",
   "pygments_lexer": "ipython3",
   "version": "3.9.16"
  },
  "latex_envs": {
   "bibliofile": "biblio.bib",
   "cite_by": "apalike",
   "current_citInitial": 1,
   "eqLabelWithNumbers": true,
   "eqNumInitial": 0
  }
 },
 "nbformat": 4,
 "nbformat_minor": 4
}
