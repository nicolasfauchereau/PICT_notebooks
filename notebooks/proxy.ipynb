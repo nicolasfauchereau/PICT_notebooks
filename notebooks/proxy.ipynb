{
 "cells": [
  {
   "cell_type": "markdown",
   "metadata": {},
   "source": [
    "# illustrates the use of the `proxy`, `analogs` and `scalar_plot` classes"
   ]
  },
  {
   "cell_type": "code",
   "execution_count": 42,
   "metadata": {},
   "outputs": [],
   "source": [
    "%matplotlib inline"
   ]
  },
  {
   "cell_type": "code",
   "execution_count": 43,
   "metadata": {},
   "outputs": [],
   "source": [
    "import os \n",
    "import sys\n",
    "import pathlib"
   ]
  },
  {
   "cell_type": "code",
   "execution_count": 44,
   "metadata": {
    "collapsed": true
   },
   "outputs": [],
   "source": [
    "import pandas as pd\n",
    "import numpy as np\n",
    "import matplotlib.pyplot as plt"
   ]
  },
  {
   "cell_type": "markdown",
   "metadata": {},
   "source": [
    "### import the development version of paleopy"
   ]
  },
  {
   "cell_type": "code",
   "execution_count": 45,
   "metadata": {
    "collapsed": false
   },
   "outputs": [],
   "source": [
    "sys.path.insert(0, '../')"
   ]
  },
  {
   "cell_type": "code",
   "execution_count": 46,
   "metadata": {
    "collapsed": false,
    "scrolled": true
   },
   "outputs": [],
   "source": [
    "from paleopy import proxy \n",
    "from paleopy import analogs\n",
    "from paleopy.plotting import scalar_plot"
   ]
  },
  {
   "cell_type": "markdown",
   "metadata": {},
   "source": [
    "### determine the current working directory "
   ]
  },
  {
   "cell_type": "code",
   "execution_count": 47,
   "metadata": {},
   "outputs": [],
   "source": [
    "cwd = pathlib.Path.cwd() "
   ]
  },
  {
   "cell_type": "code",
   "execution_count": 48,
   "metadata": {},
   "outputs": [
    {
     "name": "stdout",
     "output_type": "stream",
     "text": [
      "/home/nicolasf/research/PICT_notebooks/notebooks\n"
     ]
    }
   ],
   "source": [
    "print(cwd)"
   ]
  },
  {
   "cell_type": "markdown",
   "metadata": {},
   "source": [
    "### example 1: defines one proxy"
   ]
  },
  {
   "cell_type": "markdown",
   "metadata": {},
   "source": [
    "#### defines the folder where the JSON files are (for the datasets) and where to save the proxy JSON files"
   ]
  },
  {
   "cell_type": "code",
   "execution_count": 49,
   "metadata": {},
   "outputs": [],
   "source": [
    "djsons = cwd.parent / 'jsons'"
   ]
  },
  {
   "cell_type": "code",
   "execution_count": 50,
   "metadata": {},
   "outputs": [],
   "source": [
    "pjsons = djsons / 'proxies'"
   ]
  },
  {
   "cell_type": "code",
   "execution_count": 51,
   "metadata": {},
   "outputs": [],
   "source": [
    "if not djsons.exists(): \n",
    "    djsons.mkdir()"
   ]
  },
  {
   "cell_type": "code",
   "execution_count": 52,
   "metadata": {},
   "outputs": [],
   "source": [
    "if not pjsons.exists(): \n",
    "    pjsons.mkdir()"
   ]
  },
  {
   "cell_type": "markdown",
   "metadata": {},
   "source": [
    "### instantiates a proxy instance, the list of valid datasets + variables is below"
   ]
  },
  {
   "cell_type": "markdown",
   "metadata": {},
   "source": [
    "+ **vcsn**: \n",
    "    + TMean \n",
    "    + Rain\n",
    "+ **ersst**: \n",
    "    + sst\n",
    "+ **gpcp**: \n",
    "    + Rain\n",
    "+ **ncep**: \n",
    "    + hgt_1000\n",
    "    + hgt_850\n",
    "    + hgt_200\n",
    "    + omega_500 \n",
    "    + uwnd_1000\n",
    "    + vwnd_1000 \n",
    "    + uwnd_850\n",
    "    + vwnd_850 \n",
    "    + uwnd_200\n",
    "    + vwnd_200"
   ]
  },
  {
   "cell_type": "markdown",
   "metadata": {},
   "source": [
    "## the list of valid attributes are defined in the help of the proxy class "
   ]
  },
  {
   "cell_type": "code",
   "execution_count": 53,
   "metadata": {},
   "outputs": [
    {
     "name": "stdout",
     "output_type": "stream",
     "text": [
      "\n",
      "    base class for a single proxy\n",
      "\n",
      "    Parameters\n",
      "    ----------\n",
      "\n",
      "    sitename : string\n",
      "            The name of the proxy site\n",
      "            user-defined, no default\n",
      "\n",
      "    proxy_type : string\n",
      "            the type of proxy\n",
      "            can be e.g.:\n",
      "            \"Tree-ring\"\n",
      "            \"Speleotheme\"\n",
      "            \"Coral core\"\n",
      "            user-defined, no default\n",
      "\n",
      "    lon : float\n",
      "            The longitude (in decimal degrees) of the site\n",
      "            user-defined, no default\n",
      "\n",
      "    lat : float\n",
      "            The latitude (in decimal degrees) of the site\n",
      "            user-defined, no default\n",
      "\n",
      "    djsons : string\n",
      "            The path to the json files defining the paths\n",
      "            and parameters arrached to each dataset + variable\n",
      "            defined by the frontend in PICT, default is ./jsons\n",
      "\n",
      "    pjsons : string\n",
      "            The path where to save the individual proxy json files\n",
      "            defined by the frontend in PICT, default is ./jsons/proxies\n",
      "\n",
      "    pfname : string\n",
      "            the name of the JSON file containing the information\n",
      "            for a single proxy, no default\n",
      "\n",
      "    dataset : string\n",
      "            The dataset to load to look for analogs, see\n",
      "            the `datasets.json` file for a list of the available\n",
      "            datasets (e.g. `ersst`, 'ncep', `gpcp`)\n",
      "            user-defined, default is `ersst`\n",
      "\n",
      "    variable : string\n",
      "            The variable to extract from the dataset to look for analogs, see\n",
      "            the `datasets.json` file for a list of variables available for\n",
      "            each dataset (e.g. for `ncep` dataset: `hgt_1000, hgt_850` etc\n",
      "            user-defined, default is `sst`\n",
      "\n",
      "    season : string\n",
      "            The season to which the proxy is sensitive, can be:\n",
      "            - any of `DJF`, `JFM`, `FMA`, ..\n",
      "            - `Warm Season (Dec. - May)`\n",
      "            - `Cold Season (Jun. - Nov.)`\n",
      "            - `Year (Jan. - Dec.)`\n",
      "            - `Hydro. year (Jul. - Jun.)`\n",
      "            user-defined, default is `DJF`\n",
      "\n",
      "    value : float or integer or string\n",
      "            The value attached to the proxy\n",
      "            if string, must be in ['WB', 'B', 'N', 'A', 'WA']\n",
      "            for Well-Below, Below, etc and will be taken\n",
      "            as the category of anomalies WRT to present conditions\n",
      "            user-defined, no default\n",
      "\n",
      "    period : string\n",
      "            The period from which the analogs can be taken in a\n",
      "            given dataset. Default is \"1979-2014\"\n",
      "            user-defined, default is full period for the dataset\n",
      "            interogated\n",
      "\n",
      "    climatology : string\n",
      "            The climatological period with respect to which the\n",
      "            anomalies (if `calc_anoms == True`) are calculated\n",
      "            user-defined, default is \"1981-2010\"\n",
      "\n",
      "    calc_anoms : boolean\n",
      "            If `True`, the anomalies are calculated before the analog\n",
      "            years are determined: The `value` parameter needs to represent\n",
      "            an *anomaly* with respect to present condition\n",
      "            If `False`, the analog years are determined from the raw seasonal\n",
      "            time-series: The `value` parameter needs to represent a raw value\n",
      "            (i.e. a rainfall amount, a mean temperature)\n",
      "            user-defined, default is True\n",
      "\n",
      "    detrend : boolean\n",
      "            If `True` the linear trend is removed from the time-series\n",
      "            before the analog years are determined, if `False`, nothing is\n",
      "            done\n",
      "            user-defined, default is True\n",
      "\n",
      "    method : string\n",
      "            can be either 'closest 8' or 'quintiles'\n",
      "            to specicify the method employed to choose\n",
      "            the analog seasons\n",
      "\n",
      "    aspect : float\n",
      "            The aspect of the proxy site (in degrees from 0 to 360)\n",
      "            user-defined, no default\n",
      "\n",
      "    elevation : float\n",
      "            The elevation of the proxy site (in meters)\n",
      "            user-defined, no default\n",
      "\n",
      "    dating_convention : string\n",
      "            the dating convention\n",
      "            user-defined, no default\n",
      "\n",
      "    calendar : string\n",
      "            calendar year\n",
      "            user-defined, no default\n",
      "\n",
      "    chronology : string\n",
      "            the chronology control (i.e. 14C, Historic, Dendrochronology, etc)\n",
      "            user-defined, no default\n",
      "\n",
      "    measurement : string\n",
      "            the proxy measurement type (e.g. width for tree rings)\n",
      "            user-defined, no default\n",
      "\n",
      "    Attributes\n",
      "    ----------\n",
      "    \n"
     ]
    }
   ],
   "source": [
    "print(proxy.__doc__)"
   ]
  },
  {
   "cell_type": "markdown",
   "metadata": {},
   "source": [
    "### the cell below instantiates a correct proxy instance by passing all the relevant parameters "
   ]
  },
  {
   "cell_type": "code",
   "execution_count": 54,
   "metadata": {
    "collapsed": false
   },
   "outputs": [],
   "source": [
    "p = proxy(sitename='Rarotonga', \\\n",
    "          lon = -159.82, \\\n",
    "          lat = -21.23, \\\n",
    "          djsons = djsons, \\\n",
    "          pjsons = pjsons, \\\n",
    "          pfname = 'Rarotonga.json', \\\n",
    "          dataset = 'ersst', \\\n",
    "          variable ='sst', \\\n",
    "          measurement ='delta O18', \\\n",
    "          dating_convention = 'absolute', \\\n",
    "          calendar = 'gregorian',\\\n",
    "          chronology = 'historic', \\\n",
    "          season = 'DJF', \\\n",
    "          value = 0.6, \\\n",
    "          qualitative = 0, \\\n",
    "          calc_anoms = 1, \\\n",
    "          detrend = 1, \\\n",
    "        method = 'quintiles')"
   ]
  },
  {
   "cell_type": "markdown",
   "metadata": {},
   "source": [
    "### the first step is to find the analog seasons, by calling the `find_analogs` method "
   ]
  },
  {
   "cell_type": "code",
   "execution_count": 55,
   "metadata": {
    "collapsed": false
   },
   "outputs": [],
   "source": [
    "p.find_analogs()"
   ]
  },
  {
   "cell_type": "markdown",
   "metadata": {},
   "source": [
    "### now the proxy instance `p` contains attributes that hold the results of the `find_analogs` method, and we can print the information about the proxy and the derived information related to the extraction"
   ]
  },
  {
   "cell_type": "code",
   "execution_count": 56,
   "metadata": {
    "collapsed": false
   },
   "outputs": [
    {
     "name": "stdout",
     "output_type": "stream",
     "text": [
      "{\n",
      "sitename:Rarotonga\n",
      "proxy_type:None\n",
      "measurement:delta O18\n",
      "dating_convention:absolute\n",
      "calendar:gregorian\n",
      "chronology:historic\n",
      "coords:(200.18, -21.23)\n",
      "aspect:None\n",
      "elevation:None\n",
      "season:DJF\n",
      "dataset:ersst\n",
      "variable:sst\n",
      "calc_anoms:True\n",
      "detrend:True\n",
      "value:0.6\n",
      "climatology:(1981, 2010)\n",
      "period:(1979, 2014)\n",
      "extracted_coords:[200.0, -22.0]\n",
      "distance_point:87.56368858840081\n",
      "trend_params:{'slope': 0.030535947029886677, 'intercept': -60.96501637775516}\n",
      "category:WA\n",
      "analog_years:[1982, 1997, 1999, 2000, 2001, 2006, 2009]\n",
      "weights:[0.15645480307020584, 0.12800536294956205, 0.13090508326029401, 0.16334634614636281, 0.15762466128135916, 0.1220029495538857, 0.1416607937383304]\n",
      "}\n"
     ]
    }
   ],
   "source": [
    "p.proxy_repr(pprint=True)"
   ]
  },
  {
   "cell_type": "markdown",
   "metadata": {},
   "source": [
    "### you can access any of these attributes individually, e.g. those are the extracted analog years"
   ]
  },
  {
   "cell_type": "code",
   "execution_count": 57,
   "metadata": {
    "collapsed": false
   },
   "outputs": [
    {
     "data": {
      "text/plain": [
       "Int64Index([1982, 1997, 1999, 2000, 2001, 2006, 2009], dtype='int64', name='time')"
      ]
     },
     "execution_count": 57,
     "metadata": {},
     "output_type": "execute_result"
    }
   ],
   "source": [
    "p.analog_years"
   ]
  },
  {
   "cell_type": "markdown",
   "metadata": {},
   "source": [
    "### and these are the weights associated with each analog year "
   ]
  },
  {
   "cell_type": "code",
   "execution_count": 58,
   "metadata": {},
   "outputs": [
    {
     "data": {
      "text/plain": [
       "array([0.1564548 , 0.12800536, 0.13090508, 0.16334635, 0.15762466,\n",
       "       0.12200295, 0.14166079])"
      ]
     },
     "execution_count": 58,
     "metadata": {},
     "output_type": "execute_result"
    }
   ],
   "source": [
    "p.weights"
   ]
  },
  {
   "cell_type": "code",
   "execution_count": 59,
   "metadata": {},
   "outputs": [
    {
     "data": {
      "text/plain": [
       "0.9999999999999999"
      ]
     },
     "execution_count": 59,
     "metadata": {},
     "output_type": "execute_result"
    }
   ],
   "source": [
    "p.weights.sum()"
   ]
  },
  {
   "cell_type": "markdown",
   "metadata": {},
   "source": [
    "### `analogs` is an attribute of the proxy: it's a `pandas` dataframe containing info about the analog years "
   ]
  },
  {
   "cell_type": "code",
   "execution_count": 60,
   "metadata": {
    "collapsed": false
   },
   "outputs": [
    {
     "data": {
      "text/html": [
       "<div>\n",
       "<style scoped>\n",
       "    .dataframe tbody tr th:only-of-type {\n",
       "        vertical-align: middle;\n",
       "    }\n",
       "\n",
       "    .dataframe tbody tr th {\n",
       "        vertical-align: top;\n",
       "    }\n",
       "\n",
       "    .dataframe thead th {\n",
       "        text-align: right;\n",
       "    }\n",
       "</style>\n",
       "<table border=\"1\" class=\"dataframe\">\n",
       "  <thead>\n",
       "    <tr style=\"text-align: right;\">\n",
       "      <th></th>\n",
       "      <th>d_anomalies</th>\n",
       "      <th>cat</th>\n",
       "      <th>weights</th>\n",
       "    </tr>\n",
       "    <tr>\n",
       "      <th>time</th>\n",
       "      <th></th>\n",
       "      <th></th>\n",
       "      <th></th>\n",
       "    </tr>\n",
       "  </thead>\n",
       "  <tbody>\n",
       "    <tr>\n",
       "      <th>1982-02-15</th>\n",
       "      <td>0.638992</td>\n",
       "      <td>WA</td>\n",
       "      <td>0.156455</td>\n",
       "    </tr>\n",
       "    <tr>\n",
       "      <th>1997-02-15</th>\n",
       "      <td>0.747619</td>\n",
       "      <td>WA</td>\n",
       "      <td>0.128005</td>\n",
       "    </tr>\n",
       "    <tr>\n",
       "      <th>1999-02-15</th>\n",
       "      <td>0.736547</td>\n",
       "      <td>WA</td>\n",
       "      <td>0.130905</td>\n",
       "    </tr>\n",
       "    <tr>\n",
       "      <th>2000-02-15</th>\n",
       "      <td>0.612678</td>\n",
       "      <td>WA</td>\n",
       "      <td>0.163346</td>\n",
       "    </tr>\n",
       "    <tr>\n",
       "      <th>2001-02-15</th>\n",
       "      <td>0.565475</td>\n",
       "      <td>WA</td>\n",
       "      <td>0.157625</td>\n",
       "    </tr>\n",
       "    <tr>\n",
       "      <th>2006-02-15</th>\n",
       "      <td>0.429462</td>\n",
       "      <td>WA</td>\n",
       "      <td>0.122003</td>\n",
       "    </tr>\n",
       "    <tr>\n",
       "      <th>2009-02-15</th>\n",
       "      <td>0.504521</td>\n",
       "      <td>WA</td>\n",
       "      <td>0.141661</td>\n",
       "    </tr>\n",
       "  </tbody>\n",
       "</table>\n",
       "</div>"
      ],
      "text/plain": [
       "            d_anomalies cat   weights\n",
       "time                                 \n",
       "1982-02-15     0.638992  WA  0.156455\n",
       "1997-02-15     0.747619  WA  0.128005\n",
       "1999-02-15     0.736547  WA  0.130905\n",
       "2000-02-15     0.612678  WA  0.163346\n",
       "2001-02-15     0.565475  WA  0.157625\n",
       "2006-02-15     0.429462  WA  0.122003\n",
       "2009-02-15     0.504521  WA  0.141661"
      ]
     },
     "execution_count": 60,
     "metadata": {},
     "output_type": "execute_result"
    }
   ],
   "source": [
    "p.analogs"
   ]
  },
  {
   "cell_type": "markdown",
   "metadata": {},
   "source": [
    "### you can save this if you want into a csv file, by calling the `to_csv` method of a pandas dataframe"
   ]
  },
  {
   "cell_type": "code",
   "execution_count": 61,
   "metadata": {},
   "outputs": [
    {
     "data": {
      "text/plain": [
       "'Rarotonga'"
      ]
     },
     "execution_count": 61,
     "metadata": {},
     "output_type": "execute_result"
    }
   ],
   "source": [
    "p.sitename"
   ]
  },
  {
   "cell_type": "code",
   "execution_count": 62,
   "metadata": {},
   "outputs": [],
   "source": [
    "filename = cwd.parent / (p.sitename + '_analogs.csv')"
   ]
  },
  {
   "cell_type": "code",
   "execution_count": 63,
   "metadata": {},
   "outputs": [
    {
     "data": {
      "text/plain": [
       "PosixPath('/home/nicolasf/research/PICT_notebooks/Rarotonga_analogs.csv')"
      ]
     },
     "execution_count": 63,
     "metadata": {},
     "output_type": "execute_result"
    }
   ],
   "source": [
    "filename"
   ]
  },
  {
   "cell_type": "code",
   "execution_count": 64,
   "metadata": {},
   "outputs": [],
   "source": [
    "p.analogs.to_csv(filename)"
   ]
  },
  {
   "cell_type": "code",
   "execution_count": 65,
   "metadata": {},
   "outputs": [
    {
     "name": "stdout",
     "output_type": "stream",
     "text": [
      "-rw-rw-r-- 1 nicolasf nicolasf 397 Jun 21 09:01 /home/nicolasf/research/PICT_notebooks/Rarotonga_analogs.csv\n"
     ]
    }
   ],
   "source": [
    "!ls -lt {filename}"
   ]
  },
  {
   "cell_type": "markdown",
   "metadata": {},
   "source": [
    "### Adding `outfile=True` creates the json file containing the proxy information, with filename `self.pfname`, this needs to be executed if you want to persist the proxy metadata and e.g. use it in an ensemble  "
   ]
  },
  {
   "cell_type": "code",
   "execution_count": 66,
   "metadata": {
    "collapsed": false
   },
   "outputs": [],
   "source": [
    "p.proxy_repr(pprint=False, outfile=True)"
   ]
  },
  {
   "cell_type": "code",
   "execution_count": 67,
   "metadata": {
    "collapsed": false
   },
   "outputs": [
    {
     "name": "stdout",
     "output_type": "stream",
     "text": [
      "-rw-rw-r-- 1 nicolasf nicolasf 771 Jun 21 09:01 ../jsons/proxies/Rarotonga.json\n"
     ]
    }
   ],
   "source": [
    "!ls -lt ../jsons/proxies/Rarotonga.json"
   ]
  },
  {
   "cell_type": "markdown",
   "metadata": {},
   "source": [
    "### plot the seasonal time-series of anomalies and overlays the analog years"
   ]
  },
  {
   "cell_type": "code",
   "execution_count": 68,
   "metadata": {},
   "outputs": [
    {
     "data": {
      "image/png": "[encoded data removed]",
      "text/plain": [
       "<Figure size 576x360 with 1 Axes>"
      ]
     },
     "metadata": {
      "needs_background": "light"
     },
     "output_type": "display_data"
    }
   ],
   "source": [
    "f = p.plot()"
   ]
  },
  {
   "cell_type": "markdown",
   "metadata": {},
   "source": [
    "### if you want to save the figure, provide a directory and filename, let's create a 'figures' directory in the 'PICT_notebooks' directory "
   ]
  },
  {
   "cell_type": "code",
   "execution_count": 69,
   "metadata": {},
   "outputs": [],
   "source": [
    "fpath = cwd.parent / 'figures'"
   ]
  },
  {
   "cell_type": "code",
   "execution_count": 70,
   "metadata": {},
   "outputs": [],
   "source": [
    "if not fpath.exists(): \n",
    "    fpath.mkdir()"
   ]
  },
  {
   "cell_type": "code",
   "execution_count": 71,
   "metadata": {},
   "outputs": [],
   "source": [
    "filename = fpath / (p.sitename + '_proxy_time_series.png')"
   ]
  },
  {
   "cell_type": "code",
   "execution_count": 72,
   "metadata": {},
   "outputs": [],
   "source": [
    "f.savefig(filename)"
   ]
  },
  {
   "cell_type": "code",
   "execution_count": 73,
   "metadata": {},
   "outputs": [
    {
     "name": "stdout",
     "output_type": "stream",
     "text": [
      "-rw-rw-r-- 1 nicolasf nicolasf 62312 Jun 21 09:01 /home/nicolasf/research/PICT_notebooks/figures/Rarotonga_proxy_time_series.png\n"
     ]
    }
   ],
   "source": [
    "!ls -ltr {filename}"
   ]
  },
  {
   "cell_type": "markdown",
   "metadata": {},
   "source": [
    "### Now you can instantiate an object of the class 'analog', by passing the dataset and variable you want to calculate the composite anomalies for "
   ]
  },
  {
   "cell_type": "code",
   "execution_count": 74,
   "metadata": {},
   "outputs": [
    {
     "name": "stdout",
     "output_type": "stream",
     "text": [
      "\n",
      "    base class for analogs calculations,\n",
      "    takes either a `proxy` or `ensemble` instance\n",
      "\n",
      "    Parameters\n",
      "    ----------\n",
      "\n",
      "    dataset : string\n",
      "            The name of the dataset for which the composite are to be calculated\n",
      "            e.g. ['ersst','ncep','vcsn','gpcp']\n",
      "\n",
      "    variable : string\n",
      "            The name of the variable to consider for calculing the composite\n",
      "            e.g. for 'ersst', it's 'sst', for 'ncep', can be ['hgt_1000',\n",
      "            'hgt_850', etc]\n",
      "    \n"
     ]
    }
   ],
   "source": [
    "print(analogs.__doc__)"
   ]
  },
  {
   "cell_type": "code",
   "execution_count": 75,
   "metadata": {
    "collapsed": true
   },
   "outputs": [],
   "source": [
    "compos = analogs(p, 'ncep', 'hgt_1000')"
   ]
  },
  {
   "cell_type": "markdown",
   "metadata": {},
   "source": [
    "### once it is instantiated, the object `compos` inherit some of the attributes of the proxy defined above "
   ]
  },
  {
   "cell_type": "code",
   "execution_count": 76,
   "metadata": {},
   "outputs": [
    {
     "data": {
      "text/plain": [
       "Int64Index([1982, 1997, 1999, 2000, 2001, 2006, 2009], dtype='int64', name='time')"
      ]
     },
     "execution_count": 76,
     "metadata": {},
     "output_type": "execute_result"
    }
   ],
   "source": [
    "compos.analog_years"
   ]
  },
  {
   "cell_type": "code",
   "execution_count": 77,
   "metadata": {},
   "outputs": [
    {
     "data": {
      "text/plain": [
       "'DJF'"
      ]
     },
     "execution_count": 77,
     "metadata": {},
     "output_type": "execute_result"
    }
   ],
   "source": [
    "compos.season"
   ]
  },
  {
   "cell_type": "markdown",
   "metadata": {},
   "source": [
    "### you can the call the `composite` method, which will do all the calculations in order to get the composite anomalies associated with  the analog years, this method can be called without any parameters, in which case they will take the defaults "
   ]
  },
  {
   "cell_type": "markdown",
   "metadata": {},
   "source": [
    "### note that by default the anomalies for each year are **NOT** weighted, if you want the weights calculated from the proxy to be applied, then you need to pass `weighting = True`"
   ]
  },
  {
   "cell_type": "code",
   "execution_count": 78,
   "metadata": {},
   "outputs": [
    {
     "data": {
      "text/plain": [
       "\u001b[0;31mSignature:\u001b[0m\n",
       "\u001b[0mcompos\u001b[0m\u001b[0;34m.\u001b[0m\u001b[0mcomposite\u001b[0m\u001b[0;34m(\u001b[0m\u001b[0;34m\u001b[0m\n",
       "\u001b[0;34m\u001b[0m    \u001b[0mclimatology\u001b[0m\u001b[0;34m=\u001b[0m\u001b[0;34m(\u001b[0m\u001b[0;36m1981\u001b[0m\u001b[0;34m,\u001b[0m \u001b[0;36m2010\u001b[0m\u001b[0;34m)\u001b[0m\u001b[0;34m,\u001b[0m\u001b[0;34m\u001b[0m\n",
       "\u001b[0;34m\u001b[0m    \u001b[0mtest\u001b[0m\u001b[0;34m=\u001b[0m\u001b[0;32mTrue\u001b[0m\u001b[0;34m,\u001b[0m\u001b[0;34m\u001b[0m\n",
       "\u001b[0;34m\u001b[0m    \u001b[0mrepeats\u001b[0m\u001b[0;34m=\u001b[0m\u001b[0;32mTrue\u001b[0m\u001b[0;34m,\u001b[0m\u001b[0;34m\u001b[0m\n",
       "\u001b[0;34m\u001b[0m    \u001b[0mweighting\u001b[0m\u001b[0;34m=\u001b[0m\u001b[0;32mFalse\u001b[0m\u001b[0;34m,\u001b[0m\u001b[0;34m\u001b[0m\n",
       "\u001b[0;34m\u001b[0m\u001b[0;34m)\u001b[0m\u001b[0;34m\u001b[0m\u001b[0;34m\u001b[0m\u001b[0m\n",
       "\u001b[0;31mDocstring:\u001b[0m\n",
       "calculates the composite anomalies (and the Student t-test)\n",
       "from the seasonal values\n",
       "\n",
       "Parameters\n",
       "----------\n",
       "\n",
       "climatology : tuple (start_year, end_year)\n",
       "        The climatological period\n",
       "\n",
       "test : Boolean (default = True)\n",
       "        Whether to calculate the Student T-test (p-value)\n",
       "\n",
       "repeats : Boolean (default = False)\n",
       "        whether to include the repeated years\n",
       "        only applies when an `ensemble` object is passed to\n",
       "        the analog class, where some years can be sampled\n",
       "        repeatedly\n",
       "\n",
       "weigthing : Boolean (default = False)\n",
       "        if True, calculate the composite anomaly\n",
       "        weigthed by the inverse absolute difference between\n",
       "        the proxy value and the analog seasons values\n",
       "\u001b[0;31mFile:\u001b[0m      ~/research/PICT_notebooks/paleopy/core/analogs.py\n",
       "\u001b[0;31mType:\u001b[0m      method\n"
      ]
     },
     "metadata": {},
     "output_type": "display_data"
    }
   ],
   "source": [
    "compos.composite?"
   ]
  },
  {
   "cell_type": "code",
   "execution_count": 79,
   "metadata": {},
   "outputs": [
    {
     "data": {
      "text/plain": [
       "<paleopy.core.analogs.analogs at 0x7f024fcdb390>"
      ]
     },
     "execution_count": 79,
     "metadata": {},
     "output_type": "execute_result"
    }
   ],
   "source": [
    "compos.composite()"
   ]
  },
  {
   "cell_type": "code",
   "execution_count": 80,
   "metadata": {},
   "outputs": [
    {
     "data": {
      "text/plain": [
       "<paleopy.core.analogs.analogs at 0x7f024fcdb390>"
      ]
     },
     "execution_count": 80,
     "metadata": {},
     "output_type": "execute_result"
    }
   ],
   "source": [
    "compos.composite(weighting=True)"
   ]
  },
  {
   "cell_type": "markdown",
   "metadata": {},
   "source": [
    "### now there is a `dset` attribute associated to the `compos` instance, which contains the "
   ]
  },
  {
   "cell_type": "code",
   "execution_count": null,
   "metadata": {},
   "outputs": [],
   "source": [
    "compos.dset"
   ]
  },
  {
   "cell_type": "code",
   "execution_count": null,
   "metadata": {},
   "outputs": [],
   "source": [
    "compos.dset['composite_anomalies'].plot()"
   ]
  },
  {
   "cell_type": "code",
   "execution_count": null,
   "metadata": {},
   "outputs": [],
   "source": [
    "from cartopy import crs as ccrs"
   ]
  },
  {
   "cell_type": "code",
   "execution_count": null,
   "metadata": {},
   "outputs": [],
   "source": [
    "from cartopy.util import add_cyclic_point"
   ]
  },
  {
   "cell_type": "code",
   "execution_count": null,
   "metadata": {},
   "outputs": [],
   "source": [
    "from cartopy.mpl.ticker import LongitudeFormatter, LatitudeFormatter"
   ]
  },
  {
   "cell_type": "markdown",
   "metadata": {},
   "source": [
    "### if the field is global, you might need to wrap the longitudes "
   ]
  },
  {
   "cell_type": "code",
   "execution_count": 86,
   "metadata": {},
   "outputs": [],
   "source": [
    "def wrap_longitudes(data_array):\n",
    "    import xarray as xr\n",
    "    from cartopy.util import add_cyclic_point\n",
    "    lat = data_array.coords['latitudes']\n",
    "    lon = data_array.coords['longitudes']\n",
    "    data = data_array.data\n",
    "    wrap_data, wrap_lon = add_cyclic_point(data, coord=lon)\n",
    "    data_array = xr.DataArray(wrap_data, dims=('latitudes','longitudes'), coords=[lat, wrap_lon])\n",
    "    return data_array"
   ]
  },
  {
   "cell_type": "markdown",
   "metadata": {},
   "source": [
    "### wraps the longitudes "
   ]
  },
  {
   "cell_type": "code",
   "execution_count": 87,
   "metadata": {},
   "outputs": [],
   "source": [
    "composite_anomalies = wrap_longitudes(compos.dset['composite_anomalies'])"
   ]
  },
  {
   "cell_type": "code",
   "execution_count": 88,
   "metadata": {},
   "outputs": [],
   "source": [
    "pvalues = wrap_longitudes(compos.dset['pvalues'])"
   ]
  },
  {
   "cell_type": "code",
   "execution_count": 91,
   "metadata": {},
   "outputs": [],
   "source": [
    "import cartopy\n",
    "from cartopy import crs as ccrs"
   ]
  },
  {
   "cell_type": "code",
   "execution_count": 98,
   "metadata": {},
   "outputs": [],
   "source": [
    "import palettable"
   ]
  },
  {
   "cell_type": "code",
   "execution_count": 99,
   "metadata": {},
   "outputs": [],
   "source": [
    "cmap = eval(compos.dset_dict['plot']['cmap'])"
   ]
  },
  {
   "cell_type": "code",
   "execution_count": 134,
   "metadata": {},
   "outputs": [
    {
     "data": {
      "image/png": "[encoded data removed]",
      "text/plain": [
       "<Figure size 720x576 with 2 Axes>"
      ]
     },
     "metadata": {
      "needs_background": "light"
     },
     "output_type": "display_data"
    }
   ],
   "source": [
    "f, ax = plt.subplots(figsize=(10, 8), subplot_kw={'projection':ccrs.PlateCarree(central_longitude=180)})\n",
    "\n",
    "composite_anomalies.plot.contourf(ax=ax, levels=20, transform=ccrs.PlateCarree(central_longitude=0), cmap=cmap, cbar_kwargs={'shrink':0.5})\n",
    "\n",
    "pvalues.plot.contour(levels=[0.05], transform=ccrs.PlateCarree(central_longitude=0))\n",
    "\n",
    "ax.coastlines(resolution='50m')\n",
    "\n",
    "# ax.set_extent([165, 180, -50., -30])\n",
    "\n",
    "gl = ax.gridlines(linestyle=\":\", draw_labels=True, crs=ccrs.PlateCarree(central_longitude=0), xlocs=np.arange(-180, 180, 40))\n",
    "\n",
    "gl.xlabels_top = False\n",
    "gl.ylabels_right = False"
   ]
  },
  {
   "cell_type": "markdown",
   "metadata": {},
   "source": [
    "### saves the dataset containing all the field composite results to file "
   ]
  },
  {
   "cell_type": "code",
   "execution_count": 136,
   "metadata": {},
   "outputs": [],
   "source": [
    "ncpath = cwd.parent / 'netcdfs'"
   ]
  },
  {
   "cell_type": "code",
   "execution_count": 137,
   "metadata": {},
   "outputs": [],
   "source": [
    "if not ncpath.exists(): \n",
    "    ncpath.mkdir()"
   ]
  },
  {
   "cell_type": "code",
   "execution_count": 138,
   "metadata": {},
   "outputs": [],
   "source": [
    "filename = ncpath / (p.sitename + '_proxy_composite.nc')"
   ]
  },
  {
   "cell_type": "code",
   "execution_count": 139,
   "metadata": {},
   "outputs": [],
   "source": [
    "compos.save_to_file(filename)"
   ]
  },
  {
   "cell_type": "code",
   "execution_count": 140,
   "metadata": {},
   "outputs": [
    {
     "name": "stdout",
     "output_type": "stream",
     "text": [
      "-rw-rw-r-- 1 nicolasf nicolasf 766488 Jun 21 09:30 /home/nicolasf/research/PICT_notebooks/netcdfs/Rarotonga_proxy_composite.nc\n"
     ]
    }
   ],
   "source": [
    "!ls -ltr {filename}"
   ]
  }
 ],
 "metadata": {
  "kernelspec": {
   "display_name": "Python 3",
   "language": "python",
   "name": "python3"
  },
  "language_info": {
   "codemirror_mode": {
    "name": "ipython",
    "version": 3
   },
   "file_extension": ".py",
   "mimetype": "text/x-python",
   "name": "python",
   "nbconvert_exporter": "python",
   "pygments_lexer": "ipython3",
   "version": "3.6.7"
  },
  "latex_envs": {
   "bibliofile": "biblio.bib",
   "cite_by": "apalike",
   "current_citInitial": 1,
   "eqLabelWithNumbers": true,
   "eqNumInitial": 0
  }
 },
 "nbformat": 4,
 "nbformat_minor": 2
}
